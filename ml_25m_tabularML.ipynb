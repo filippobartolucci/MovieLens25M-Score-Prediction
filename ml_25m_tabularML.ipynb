{
 "cells": [
  {
   "cell_type": "code",
   "execution_count": 1,
   "metadata": {},
   "outputs": [],
   "source": [
    "import os\n",
    "import torch\n",
    "import copy\n",
    "import random\n",
    "import itertools\n",
    "import numpy as np\n",
    "import pandas as pd\n",
    "import seaborn as sns\n",
    "import matplotlib.pyplot as plt\n",
    "from torch.utils.tensorboard import SummaryWriter\n",
    "from sklearn.model_selection import train_test_split\n",
    "from pytorch_tabnet.tab_model import TabNetRegressor\n",
    "from sklearn.metrics import r2_score, mean_squared_error\n",
    "\n",
    "def fix_random(seed: int) -> None:\n",
    "    np.random.seed(seed)\n",
    "    random.seed(seed)\n",
    "    torch.manual_seed(seed)\n",
    "    torch.cuda.manual_seed(seed)\n",
    "\n",
    "    torch.backends.cudnn.benchmark = False\n",
    "    torch.backends.cudnn.deterministic = True  # slower\n",
    "\n",
    "fix_random(42)\n",
    "\n",
    "# check if tabular ML folder exists\n",
    "if not os.path.exists('tabularML'):\n",
    "    os.makedirs('tabularML')"
   ]
  },
  {
   "cell_type": "code",
   "execution_count": 2,
   "metadata": {},
   "outputs": [
    {
     "name": "stdout",
     "output_type": "stream",
     "text": [
      "Using device: mps\n"
     ]
    }
   ],
   "source": [
    "df = pd.read_csv('dataset.csv')\n",
    "\n",
    "# PyTorch Device\n",
    "if torch.cuda.is_available():\n",
    "    device = torch.device('cuda')\n",
    "elif torch.backends.mps.is_available():\n",
    "    device = torch.device('mps')\n",
    "else:\n",
    "    device = torch.device('cpu')\n",
    "\n",
    "print('Using device:', device)"
   ]
  },
  {
   "cell_type": "code",
   "execution_count": 3,
   "metadata": {},
   "outputs": [
    {
     "name": "stdout",
     "output_type": "stream",
     "text": [
      "Number of training samples: 9946\n",
      "Number of validation samples: 1106\n",
      "Number of testing samples: 2764\n",
      "\n",
      "Number of features: 1128\n"
     ]
    }
   ],
   "source": [
    "X = df.drop('rating', axis=1)\n",
    "Y = df['rating']\n",
    "\n",
    "X_train, X_test, Y_train, Y_test = train_test_split(X, Y, test_size=0.2, random_state=42)\n",
    "X_train, X_val, Y_train, Y_val = train_test_split(X_train, Y_train, test_size=0.1, random_state=42)\n",
    "\n",
    "X_train = X_train.to_numpy()\n",
    "X_val = X_val.to_numpy()\n",
    "X_test = X_test.to_numpy()\n",
    "\n",
    "Y_train = Y_train.to_numpy()\n",
    "Y_val = Y_val.to_numpy()\n",
    "Y_test = Y_test.to_numpy()\n",
    "\n",
    "Y_train = Y_train.reshape(-1, 1)\n",
    "Y_val = Y_val.reshape(-1, 1)\n",
    "\n",
    "print(f'Number of training samples: {X_train.shape[0]}')\n",
    "print(f'Number of validation samples: {X_val.shape[0]}')\n",
    "print(f'Number of testing samples: {X_test.shape[0]}')\n",
    "print(f'\\nNumber of features: {X_train.shape[1]}')"
   ]
  },
  {
   "cell_type": "code",
   "execution_count": 4,
   "metadata": {},
   "outputs": [
    {
     "name": "stdout",
     "output_type": "stream",
     "text": [
      "Number of hyperparameter combinations: 72\n"
     ]
    }
   ],
   "source": [
    "# hyperparameters\n",
    "nums_epochs = [200]\n",
    "batch_sizes = [32,64,128]\n",
    "patience = [10]\n",
    "n_d_a = [16,32,64]\n",
    "n_shared = [2,3]\n",
    "n_indipendent = [2,3]\n",
    "n_step = [6,7]\n",
    "gamma = [1.3]\n",
    "epsilon = [1e-8]\n",
    "\n",
    "hyperparameters = itertools.product(n_d_a, n_step,n_indipendent,n_shared, gamma, epsilon,nums_epochs, batch_sizes)\n",
    "n_comb = len(n_d_a)*len(n_step)*len(n_indipendent)*len(n_shared)*len(gamma)*len(epsilon)*len(nums_epochs)*len(batch_sizes)\n",
    "print (f'Number of hyperparameter combinations: {n_comb}')"
   ]
  },
  {
   "cell_type": "code",
   "execution_count": 5,
   "metadata": {},
   "outputs": [],
   "source": [
    "def get_model(n_d_a, n_step,n_indipendent,n_shared, gamma, epsilon):\n",
    "    model = TabNetRegressor(\n",
    "        # n_d: the dimensionality of the output space of the feature transformer network (default 64)\n",
    "        n_d=n_d_a,\n",
    "        # n_a: the dimensionality of the output space of the attention network (default 64)\n",
    "        n_a=n_d_a,\n",
    "        # n_steps: the number of sequential steps in the attention mechanism (default 3)\n",
    "        n_steps=n_step,\n",
    "        # gamma: the scaling factor for the feature transformer network (default 1.3)\n",
    "        gamma=gamma,\n",
    "        # optimizerm name of optimizer to use (default Adam)\n",
    "        optimizer_fn=torch.optim.Adam,\n",
    "        # n_independent: the number of independent feature transformer networks to use (default 2)\n",
    "        n_independent=n_indipendent,\n",
    "        # n_shared: the number of shared feature transformer networks to use (default 2)\n",
    "        n_shared=n_shared,\n",
    "        # epsilon: a small value to add to the denominator of the feature importance calculation to avoid division by zero (default 1e-15)\n",
    "        epsilon=epsilon,\n",
    "        # seed: the random seed to use for reproducibility (default None)\n",
    "        seed=42    \n",
    "    )\n",
    "    return model"
   ]
  },
  {
   "cell_type": "code",
   "execution_count": 6,
   "metadata": {},
   "outputs": [
    {
     "name": "stdout",
     "output_type": "stream",
     "text": [
      "\n",
      "Iterations 1/72 - Hyperparameters:  batch_sizes=32, nums_epochs=200, n_d=16, n_a=16, n_step=6, n_indipendent=2, n_shared=2, gamma=1.3, epsilon=1e-08\n"
     ]
    },
    {
     "name": "stderr",
     "output_type": "stream",
     "text": [
      "/opt/homebrew/Caskroom/miniforge/base/envs/mlp/lib/python3.10/site-packages/pytorch_tabnet/abstract_model.py:75: UserWarning: Device used : cpu\n",
      "  warnings.warn(f\"Device used : {self.device}\")\n"
     ]
    },
    {
     "name": "stdout",
     "output_type": "stream",
     "text": [
      "epoch 0  | loss: 1.00997 | val_0_mse: 0.24733 |  0:00:25s\n",
      "epoch 1  | loss: 0.15776 | val_0_mse: 0.09191 |  0:00:49s\n",
      "epoch 2  | loss: 0.10763 | val_0_mse: 0.07695 |  0:01:13s\n",
      "epoch 3  | loss: 0.08941 | val_0_mse: 0.06675 |  0:01:37s\n",
      "epoch 4  | loss: 0.08342 | val_0_mse: 0.06043 |  0:02:01s\n",
      "epoch 5  | loss: 0.08122 | val_0_mse: 0.08044 |  0:02:25s\n",
      "epoch 6  | loss: 0.08239 | val_0_mse: 0.05855 |  0:02:48s\n",
      "epoch 7  | loss: 0.06124 | val_0_mse: 0.04539 |  0:03:12s\n",
      "epoch 8  | loss: 0.04985 | val_0_mse: 0.09366 |  0:03:35s\n",
      "epoch 9  | loss: 0.03844 | val_0_mse: 0.03029 |  0:04:00s\n",
      "epoch 10 | loss: 0.04035 | val_0_mse: 0.05782 |  0:04:23s\n",
      "epoch 11 | loss: 0.06321 | val_0_mse: 0.06593 |  0:04:49s\n",
      "epoch 12 | loss: 0.04534 | val_0_mse: 0.09602 |  0:05:13s\n",
      "epoch 13 | loss: 0.03425 | val_0_mse: 0.06167 |  0:05:36s\n",
      "epoch 14 | loss: 0.02985 | val_0_mse: 0.02868 |  0:06:00s\n",
      "epoch 15 | loss: 0.03722 | val_0_mse: 0.03081 |  0:06:24s\n",
      "epoch 16 | loss: 0.03283 | val_0_mse: 0.02466 |  0:06:47s\n",
      "epoch 17 | loss: 0.03639 | val_0_mse: 0.02275 |  0:07:11s\n",
      "epoch 18 | loss: 0.02953 | val_0_mse: 0.02718 |  0:07:34s\n",
      "epoch 19 | loss: 0.02693 | val_0_mse: 0.03947 |  0:07:58s\n",
      "epoch 20 | loss: 0.02856 | val_0_mse: 0.03062 |  0:08:21s\n",
      "epoch 21 | loss: 0.02859 | val_0_mse: 0.02644 |  0:08:45s\n",
      "epoch 22 | loss: 0.02669 | val_0_mse: 0.01406 |  0:09:09s\n",
      "epoch 23 | loss: 0.02591 | val_0_mse: 0.02492 |  0:09:32s\n",
      "epoch 24 | loss: 0.02703 | val_0_mse: 0.03038 |  0:09:56s\n",
      "epoch 25 | loss: 0.02375 | val_0_mse: 0.01268 |  0:10:19s\n",
      "epoch 26 | loss: 0.02473 | val_0_mse: 0.01506 |  0:10:43s\n",
      "epoch 27 | loss: 0.02642 | val_0_mse: 0.02    |  0:11:06s\n",
      "epoch 28 | loss: 0.02475 | val_0_mse: 0.02036 |  0:11:30s\n",
      "epoch 29 | loss: 0.02618 | val_0_mse: 0.18904 |  0:11:53s\n",
      "epoch 30 | loss: 0.02284 | val_0_mse: 0.19401 |  0:12:17s\n",
      "epoch 31 | loss: 0.02116 | val_0_mse: 0.10408 |  0:12:40s\n",
      "epoch 32 | loss: 0.02863 | val_0_mse: 0.08389 |  0:13:04s\n",
      "epoch 33 | loss: 0.02659 | val_0_mse: 0.01657 |  0:13:27s\n",
      "epoch 34 | loss: 0.02927 | val_0_mse: 0.12107 |  0:13:51s\n",
      "epoch 35 | loss: 0.02434 | val_0_mse: 0.09883 |  0:14:14s\n",
      "\n",
      "Early stopping occurred at epoch 35 with best_epoch = 25 and best_val_0_mse = 0.01268\n"
     ]
    },
    {
     "name": "stderr",
     "output_type": "stream",
     "text": [
      "/opt/homebrew/Caskroom/miniforge/base/envs/mlp/lib/python3.10/site-packages/pytorch_tabnet/callbacks.py:172: UserWarning: Best weights from best epoch are automatically used!\n",
      "  warnings.warn(wrn_msg)\n"
     ]
    },
    {
     "name": "stdout",
     "output_type": "stream",
     "text": [
      "Model MSE: 0.011893 - Best MSE: 0.011893\n",
      "Model R2 Score: 0.946349 - Best R2 Score: 0.946349\n",
      "\n",
      "Iterations 2/72 - Hyperparameters:  batch_sizes=64, nums_epochs=200, n_d=16, n_a=16, n_step=6, n_indipendent=2, n_shared=2, gamma=1.3, epsilon=1e-08\n"
     ]
    },
    {
     "name": "stderr",
     "output_type": "stream",
     "text": [
      "/opt/homebrew/Caskroom/miniforge/base/envs/mlp/lib/python3.10/site-packages/pytorch_tabnet/abstract_model.py:75: UserWarning: Device used : cpu\n",
      "  warnings.warn(f\"Device used : {self.device}\")\n"
     ]
    },
    {
     "name": "stdout",
     "output_type": "stream",
     "text": [
      "epoch 0  | loss: 1.7093  | val_0_mse: 0.37873 |  0:00:14s\n",
      "epoch 1  | loss: 0.15427 | val_0_mse: 0.07799 |  0:00:28s\n",
      "epoch 2  | loss: 0.12662 | val_0_mse: 0.06026 |  0:00:42s\n",
      "epoch 3  | loss: 0.07315 | val_0_mse: 0.05746 |  0:00:56s\n",
      "epoch 4  | loss: 0.05737 | val_0_mse: 0.04832 |  0:01:10s\n",
      "epoch 5  | loss: 0.05401 | val_0_mse: 0.05017 |  0:01:24s\n",
      "epoch 6  | loss: 0.0546  | val_0_mse: 0.05135 |  0:01:38s\n",
      "epoch 7  | loss: 0.04039 | val_0_mse: 0.0338  |  0:01:52s\n",
      "epoch 8  | loss: 0.03876 | val_0_mse: 0.03004 |  0:02:07s\n",
      "epoch 9  | loss: 0.02885 | val_0_mse: 0.03211 |  0:02:21s\n",
      "epoch 10 | loss: 0.03377 | val_0_mse: 0.01753 |  0:02:35s\n",
      "epoch 11 | loss: 0.03244 | val_0_mse: 0.01978 |  0:02:49s\n",
      "epoch 12 | loss: 0.02772 | val_0_mse: 0.04663 |  0:03:03s\n",
      "epoch 13 | loss: 0.02567 | val_0_mse: 0.02291 |  0:03:17s\n",
      "epoch 14 | loss: 0.02084 | val_0_mse: 0.01934 |  0:03:31s\n",
      "epoch 15 | loss: 0.02543 | val_0_mse: 0.01246 |  0:03:46s\n",
      "epoch 16 | loss: 0.02112 | val_0_mse: 0.01094 |  0:04:00s\n",
      "epoch 17 | loss: 0.02431 | val_0_mse: 0.01585 |  0:04:14s\n",
      "epoch 18 | loss: 0.01642 | val_0_mse: 0.05235 |  0:04:28s\n",
      "epoch 19 | loss: 0.01902 | val_0_mse: 0.01058 |  0:04:42s\n",
      "epoch 20 | loss: 0.02356 | val_0_mse: 0.04549 |  0:04:57s\n",
      "epoch 21 | loss: 0.02096 | val_0_mse: 0.02539 |  0:05:11s\n",
      "epoch 22 | loss: 0.02213 | val_0_mse: 0.01349 |  0:05:25s\n",
      "epoch 23 | loss: 0.01845 | val_0_mse: 0.02009 |  0:05:39s\n",
      "epoch 24 | loss: 0.01936 | val_0_mse: 0.01111 |  0:05:53s\n",
      "epoch 25 | loss: 0.01846 | val_0_mse: 0.00689 |  0:06:07s\n",
      "epoch 26 | loss: 0.01642 | val_0_mse: 0.04493 |  0:06:22s\n",
      "epoch 27 | loss: 0.01848 | val_0_mse: 0.00714 |  0:06:36s\n",
      "epoch 28 | loss: 0.02112 | val_0_mse: 0.0101  |  0:06:50s\n",
      "epoch 29 | loss: 0.01617 | val_0_mse: 0.01222 |  0:07:04s\n",
      "epoch 30 | loss: 0.01535 | val_0_mse: 0.01117 |  0:07:18s\n",
      "epoch 31 | loss: 0.01968 | val_0_mse: 0.02382 |  0:07:32s\n",
      "epoch 32 | loss: 0.0206  | val_0_mse: 0.03169 |  0:07:46s\n",
      "epoch 33 | loss: 0.01816 | val_0_mse: 0.02857 |  0:08:01s\n",
      "epoch 34 | loss: 0.01512 | val_0_mse: 0.0163  |  0:08:15s\n",
      "epoch 35 | loss: 0.01508 | val_0_mse: 0.01823 |  0:08:29s\n",
      "\n",
      "Early stopping occurred at epoch 35 with best_epoch = 25 and best_val_0_mse = 0.00689\n"
     ]
    },
    {
     "name": "stderr",
     "output_type": "stream",
     "text": [
      "/opt/homebrew/Caskroom/miniforge/base/envs/mlp/lib/python3.10/site-packages/pytorch_tabnet/callbacks.py:172: UserWarning: Best weights from best epoch are automatically used!\n",
      "  warnings.warn(wrn_msg)\n"
     ]
    },
    {
     "name": "stdout",
     "output_type": "stream",
     "text": [
      "Model MSE: 0.007046 - Best MSE: 0.007046\n",
      "Model R2 Score: 0.968212 - Best R2 Score: 0.968212\n",
      "\n",
      "Iterations 3/72 - Hyperparameters:  batch_sizes=128, nums_epochs=200, n_d=16, n_a=16, n_step=6, n_indipendent=2, n_shared=2, gamma=1.3, epsilon=1e-08\n"
     ]
    },
    {
     "name": "stderr",
     "output_type": "stream",
     "text": [
      "/opt/homebrew/Caskroom/miniforge/base/envs/mlp/lib/python3.10/site-packages/pytorch_tabnet/abstract_model.py:75: UserWarning: Device used : cpu\n",
      "  warnings.warn(f\"Device used : {self.device}\")\n"
     ]
    },
    {
     "name": "stdout",
     "output_type": "stream",
     "text": [
      "epoch 0  | loss: 2.60696 | val_0_mse: 0.70206 |  0:00:08s\n",
      "epoch 1  | loss: 0.23767 | val_0_mse: 0.41681 |  0:00:16s\n",
      "epoch 2  | loss: 0.15    | val_0_mse: 0.13363 |  0:00:25s\n",
      "epoch 3  | loss: 0.11714 | val_0_mse: 0.12192 |  0:00:33s\n",
      "epoch 4  | loss: 0.1159  | val_0_mse: 0.08962 |  0:00:42s\n",
      "epoch 5  | loss: 0.09512 | val_0_mse: 0.0757  |  0:00:51s\n",
      "epoch 6  | loss: 0.10113 | val_0_mse: 0.08143 |  0:00:59s\n",
      "epoch 7  | loss: 0.09179 | val_0_mse: 0.07778 |  0:01:08s\n",
      "epoch 8  | loss: 0.08172 | val_0_mse: 0.0692  |  0:01:16s\n",
      "epoch 9  | loss: 0.07743 | val_0_mse: 0.06641 |  0:01:25s\n",
      "epoch 10 | loss: 0.07181 | val_0_mse: 0.05605 |  0:01:33s\n",
      "epoch 11 | loss: 0.06347 | val_0_mse: 0.05821 |  0:01:42s\n",
      "epoch 12 | loss: 0.07167 | val_0_mse: 0.06324 |  0:01:50s\n",
      "epoch 13 | loss: 0.05859 | val_0_mse: 0.0554  |  0:01:59s\n",
      "epoch 14 | loss: 0.05291 | val_0_mse: 0.04466 |  0:02:07s\n",
      "epoch 15 | loss: 0.05939 | val_0_mse: 0.04134 |  0:02:16s\n",
      "epoch 16 | loss: 0.06154 | val_0_mse: 0.04655 |  0:02:24s\n",
      "epoch 17 | loss: 0.05499 | val_0_mse: 0.04923 |  0:02:33s\n",
      "epoch 18 | loss: 0.06104 | val_0_mse: 0.0389  |  0:02:41s\n",
      "epoch 19 | loss: 0.04602 | val_0_mse: 0.04498 |  0:02:50s\n",
      "epoch 20 | loss: 0.0479  | val_0_mse: 0.03708 |  0:02:58s\n",
      "epoch 21 | loss: 0.04526 | val_0_mse: 0.0479  |  0:03:07s\n",
      "epoch 22 | loss: 0.04874 | val_0_mse: 0.03994 |  0:03:15s\n",
      "epoch 23 | loss: 0.04977 | val_0_mse: 0.05077 |  0:03:24s\n",
      "epoch 24 | loss: 0.04126 | val_0_mse: 0.03789 |  0:03:33s\n",
      "epoch 25 | loss: 0.04032 | val_0_mse: 0.03815 |  0:03:41s\n",
      "epoch 26 | loss: 0.03652 | val_0_mse: 0.0321  |  0:03:50s\n",
      "epoch 27 | loss: 0.04104 | val_0_mse: 0.02758 |  0:03:58s\n",
      "epoch 28 | loss: 0.03751 | val_0_mse: 0.02331 |  0:04:07s\n",
      "epoch 29 | loss: 0.03026 | val_0_mse: 0.05476 |  0:04:15s\n",
      "epoch 30 | loss: 0.03243 | val_0_mse: 0.02604 |  0:04:24s\n",
      "epoch 31 | loss: 0.02931 | val_0_mse: 0.04413 |  0:04:32s\n",
      "epoch 32 | loss: 0.03064 | val_0_mse: 0.03979 |  0:04:41s\n",
      "epoch 33 | loss: 0.04123 | val_0_mse: 0.0381  |  0:04:49s\n",
      "epoch 34 | loss: 0.03379 | val_0_mse: 0.03218 |  0:04:58s\n",
      "epoch 35 | loss: 0.02378 | val_0_mse: 0.01964 |  0:05:06s\n",
      "epoch 36 | loss: 0.01972 | val_0_mse: 0.01507 |  0:05:15s\n",
      "epoch 37 | loss: 0.01752 | val_0_mse: 0.01231 |  0:05:23s\n",
      "epoch 38 | loss: 0.02098 | val_0_mse: 0.01976 |  0:05:32s\n",
      "epoch 39 | loss: 0.01601 | val_0_mse: 0.01852 |  0:05:40s\n",
      "epoch 40 | loss: 0.01715 | val_0_mse: 0.00939 |  0:05:49s\n",
      "epoch 41 | loss: 0.01798 | val_0_mse: 0.01602 |  0:05:57s\n",
      "epoch 42 | loss: 0.01464 | val_0_mse: 0.0089  |  0:06:05s\n",
      "epoch 43 | loss: 0.01373 | val_0_mse: 0.03395 |  0:06:14s\n",
      "epoch 44 | loss: 0.01218 | val_0_mse: 0.01796 |  0:06:22s\n",
      "epoch 45 | loss: 0.01188 | val_0_mse: 0.0083  |  0:06:31s\n",
      "epoch 46 | loss: 0.01241 | val_0_mse: 0.01612 |  0:06:39s\n",
      "epoch 47 | loss: 0.01227 | val_0_mse: 0.01801 |  0:06:48s\n",
      "epoch 48 | loss: 0.01205 | val_0_mse: 0.01769 |  0:06:56s\n",
      "epoch 49 | loss: 0.01395 | val_0_mse: 0.04819 |  0:07:04s\n",
      "epoch 50 | loss: 0.01329 | val_0_mse: 0.02785 |  0:07:13s\n",
      "epoch 51 | loss: 0.02109 | val_0_mse: 0.04723 |  0:07:21s\n",
      "epoch 52 | loss: 0.02501 | val_0_mse: 0.01948 |  0:07:29s\n",
      "epoch 53 | loss: 0.01988 | val_0_mse: 0.01551 |  0:07:37s\n",
      "epoch 54 | loss: 0.02413 | val_0_mse: 0.02483 |  0:07:45s\n",
      "epoch 55 | loss: 0.01718 | val_0_mse: 0.01111 |  0:07:54s\n",
      "\n",
      "Early stopping occurred at epoch 55 with best_epoch = 45 and best_val_0_mse = 0.0083\n"
     ]
    },
    {
     "name": "stderr",
     "output_type": "stream",
     "text": [
      "/opt/homebrew/Caskroom/miniforge/base/envs/mlp/lib/python3.10/site-packages/pytorch_tabnet/callbacks.py:172: UserWarning: Best weights from best epoch are automatically used!\n",
      "  warnings.warn(wrn_msg)\n"
     ]
    },
    {
     "name": "stdout",
     "output_type": "stream",
     "text": [
      "Model MSE: 0.008292 - Best MSE: 0.007046\n",
      "Model R2 Score: 0.962594 - Best R2 Score: 0.968212\n",
      "\n",
      "Iterations 4/72 - Hyperparameters:  batch_sizes=32, nums_epochs=200, n_d=16, n_a=16, n_step=6, n_indipendent=2, n_shared=3, gamma=1.3, epsilon=1e-08\n"
     ]
    },
    {
     "name": "stderr",
     "output_type": "stream",
     "text": [
      "/opt/homebrew/Caskroom/miniforge/base/envs/mlp/lib/python3.10/site-packages/pytorch_tabnet/abstract_model.py:75: UserWarning: Device used : cpu\n",
      "  warnings.warn(f\"Device used : {self.device}\")\n"
     ]
    },
    {
     "name": "stdout",
     "output_type": "stream",
     "text": [
      "epoch 0  | loss: 1.0322  | val_0_mse: 0.12472 |  0:00:26s\n",
      "epoch 1  | loss: 0.10677 | val_0_mse: 0.11044 |  0:00:53s\n",
      "epoch 2  | loss: 0.07857 | val_0_mse: 0.06037 |  0:01:19s\n",
      "epoch 3  | loss: 0.06924 | val_0_mse: 0.05551 |  0:01:46s\n",
      "epoch 4  | loss: 0.07492 | val_0_mse: 0.06128 |  0:02:13s\n",
      "epoch 5  | loss: 0.0674  | val_0_mse: 0.04948 |  0:02:39s\n",
      "epoch 6  | loss: 0.06394 | val_0_mse: 0.03717 |  0:03:06s\n",
      "epoch 7  | loss: 0.0513  | val_0_mse: 0.03261 |  0:03:33s\n",
      "epoch 8  | loss: 0.04545 | val_0_mse: 0.03265 |  0:04:00s\n",
      "epoch 9  | loss: 0.03961 | val_0_mse: 0.03605 |  0:04:26s\n",
      "epoch 10 | loss: 0.03393 | val_0_mse: 0.0216  |  0:04:53s\n",
      "epoch 11 | loss: 0.03863 | val_0_mse: 0.01199 |  0:05:20s\n",
      "epoch 12 | loss: 0.03133 | val_0_mse: 0.03793 |  0:05:46s\n",
      "epoch 13 | loss: 0.02908 | val_0_mse: 0.02137 |  0:06:13s\n",
      "epoch 14 | loss: 0.03417 | val_0_mse: 0.01094 |  0:06:39s\n",
      "epoch 15 | loss: 0.02653 | val_0_mse: 0.02428 |  0:07:06s\n",
      "epoch 16 | loss: 0.03111 | val_0_mse: 0.0193  |  0:07:33s\n",
      "epoch 17 | loss: 0.03087 | val_0_mse: 0.02434 |  0:07:59s\n",
      "epoch 18 | loss: 0.03277 | val_0_mse: 0.03177 |  0:08:26s\n",
      "epoch 19 | loss: 0.0306  | val_0_mse: 0.01985 |  0:08:53s\n",
      "epoch 20 | loss: 0.02789 | val_0_mse: 0.01734 |  0:09:19s\n",
      "epoch 21 | loss: 0.02511 | val_0_mse: 0.01276 |  0:09:46s\n",
      "epoch 22 | loss: 0.02528 | val_0_mse: 0.02562 |  0:10:13s\n",
      "epoch 23 | loss: 0.02275 | val_0_mse: 0.02545 |  0:10:39s\n",
      "epoch 24 | loss: 0.02436 | val_0_mse: 0.02339 |  0:11:06s\n",
      "\n",
      "Early stopping occurred at epoch 24 with best_epoch = 14 and best_val_0_mse = 0.01094\n"
     ]
    },
    {
     "name": "stderr",
     "output_type": "stream",
     "text": [
      "/opt/homebrew/Caskroom/miniforge/base/envs/mlp/lib/python3.10/site-packages/pytorch_tabnet/callbacks.py:172: UserWarning: Best weights from best epoch are automatically used!\n",
      "  warnings.warn(wrn_msg)\n"
     ]
    },
    {
     "name": "stdout",
     "output_type": "stream",
     "text": [
      "Model MSE: 0.011311 - Best MSE: 0.007046\n",
      "Model R2 Score: 0.948971 - Best R2 Score: 0.968212\n",
      "\n",
      "Iterations 5/72 - Hyperparameters:  batch_sizes=64, nums_epochs=200, n_d=16, n_a=16, n_step=6, n_indipendent=2, n_shared=3, gamma=1.3, epsilon=1e-08\n"
     ]
    },
    {
     "name": "stderr",
     "output_type": "stream",
     "text": [
      "/opt/homebrew/Caskroom/miniforge/base/envs/mlp/lib/python3.10/site-packages/pytorch_tabnet/abstract_model.py:75: UserWarning: Device used : cpu\n",
      "  warnings.warn(f\"Device used : {self.device}\")\n"
     ]
    },
    {
     "name": "stdout",
     "output_type": "stream",
     "text": [
      "epoch 0  | loss: 1.7142  | val_0_mse: 0.1814  |  0:00:15s\n",
      "epoch 1  | loss: 0.13812 | val_0_mse: 0.0845  |  0:00:31s\n",
      "epoch 2  | loss: 0.11543 | val_0_mse: 0.06948 |  0:00:46s\n",
      "epoch 3  | loss: 0.10758 | val_0_mse: 0.10935 |  0:01:01s\n",
      "epoch 4  | loss: 0.08517 | val_0_mse: 0.08425 |  0:01:16s\n",
      "epoch 5  | loss: 0.07983 | val_0_mse: 0.06571 |  0:01:31s\n",
      "epoch 6  | loss: 0.07952 | val_0_mse: 0.07978 |  0:01:47s\n",
      "epoch 7  | loss: 0.07274 | val_0_mse: 0.0548  |  0:02:02s\n",
      "epoch 8  | loss: 0.05006 | val_0_mse: 0.04219 |  0:02:17s\n",
      "epoch 9  | loss: 0.03913 | val_0_mse: 0.02871 |  0:02:32s\n",
      "epoch 10 | loss: 0.03112 | val_0_mse: 0.0176  |  0:02:47s\n",
      "epoch 11 | loss: 0.032   | val_0_mse: 0.01909 |  0:03:02s\n",
      "epoch 12 | loss: 0.02665 | val_0_mse: 0.02744 |  0:03:17s\n",
      "epoch 13 | loss: 0.0249  | val_0_mse: 0.01158 |  0:03:33s\n",
      "epoch 14 | loss: 0.02881 | val_0_mse: 0.02354 |  0:03:48s\n",
      "epoch 15 | loss: 0.03064 | val_0_mse: 0.0286  |  0:04:02s\n",
      "epoch 16 | loss: 0.02257 | val_0_mse: 0.01607 |  0:04:18s\n",
      "epoch 17 | loss: 0.02007 | val_0_mse: 0.02816 |  0:04:33s\n",
      "epoch 18 | loss: 0.02109 | val_0_mse: 0.01081 |  0:04:48s\n",
      "epoch 19 | loss: 0.01773 | val_0_mse: 0.02044 |  0:05:03s\n",
      "epoch 20 | loss: 0.01736 | val_0_mse: 0.01522 |  0:05:18s\n",
      "epoch 21 | loss: 0.02062 | val_0_mse: 0.01019 |  0:05:33s\n",
      "epoch 22 | loss: 0.01657 | val_0_mse: 0.00959 |  0:05:48s\n",
      "epoch 23 | loss: 0.01553 | val_0_mse: 0.01018 |  0:06:03s\n",
      "epoch 24 | loss: 0.01699 | val_0_mse: 0.00977 |  0:06:18s\n",
      "epoch 25 | loss: 0.01834 | val_0_mse: 0.01812 |  0:06:33s\n",
      "epoch 26 | loss: 0.01789 | val_0_mse: 0.01105 |  0:06:48s\n",
      "epoch 27 | loss: 0.01538 | val_0_mse: 0.01165 |  0:07:03s\n",
      "epoch 28 | loss: 0.01749 | val_0_mse: 0.02114 |  0:07:19s\n",
      "epoch 29 | loss: 0.01789 | val_0_mse: 0.01691 |  0:07:34s\n",
      "epoch 30 | loss: 0.02016 | val_0_mse: 0.01089 |  0:07:49s\n",
      "epoch 31 | loss: 0.02051 | val_0_mse: 0.02041 |  0:08:05s\n",
      "epoch 32 | loss: 0.01468 | val_0_mse: 0.00824 |  0:08:19s\n",
      "epoch 33 | loss: 0.01572 | val_0_mse: 0.01547 |  0:08:35s\n",
      "epoch 34 | loss: 0.01546 | val_0_mse: 0.00874 |  0:08:50s\n",
      "epoch 35 | loss: 0.01388 | val_0_mse: 0.01579 |  0:09:05s\n",
      "epoch 36 | loss: 0.01404 | val_0_mse: 0.00675 |  0:09:20s\n",
      "epoch 37 | loss: 0.0171  | val_0_mse: 0.0251  |  0:09:35s\n",
      "epoch 38 | loss: 0.02278 | val_0_mse: 0.01054 |  0:09:50s\n",
      "epoch 39 | loss: 0.01768 | val_0_mse: 0.02502 |  0:10:05s\n",
      "epoch 40 | loss: 0.01556 | val_0_mse: 0.01265 |  0:10:20s\n",
      "epoch 41 | loss: 0.0151  | val_0_mse: 0.00896 |  0:10:35s\n",
      "epoch 42 | loss: 0.0154  | val_0_mse: 0.01151 |  0:10:50s\n",
      "epoch 43 | loss: 0.01392 | val_0_mse: 0.00905 |  0:11:05s\n",
      "epoch 44 | loss: 0.01656 | val_0_mse: 0.02071 |  0:11:20s\n",
      "epoch 45 | loss: 0.0167  | val_0_mse: 0.00964 |  0:11:35s\n",
      "epoch 46 | loss: 0.01399 | val_0_mse: 0.01499 |  0:11:50s\n",
      "\n",
      "Early stopping occurred at epoch 46 with best_epoch = 36 and best_val_0_mse = 0.00675\n"
     ]
    },
    {
     "name": "stderr",
     "output_type": "stream",
     "text": [
      "/opt/homebrew/Caskroom/miniforge/base/envs/mlp/lib/python3.10/site-packages/pytorch_tabnet/callbacks.py:172: UserWarning: Best weights from best epoch are automatically used!\n",
      "  warnings.warn(wrn_msg)\n"
     ]
    },
    {
     "name": "stdout",
     "output_type": "stream",
     "text": [
      "Model MSE: 0.006991 - Best MSE: 0.006991\n",
      "Model R2 Score: 0.968461 - Best R2 Score: 0.968461\n",
      "\n",
      "Iterations 6/72 - Hyperparameters:  batch_sizes=128, nums_epochs=200, n_d=16, n_a=16, n_step=6, n_indipendent=2, n_shared=3, gamma=1.3, epsilon=1e-08\n"
     ]
    },
    {
     "name": "stderr",
     "output_type": "stream",
     "text": [
      "/opt/homebrew/Caskroom/miniforge/base/envs/mlp/lib/python3.10/site-packages/pytorch_tabnet/abstract_model.py:75: UserWarning: Device used : cpu\n",
      "  warnings.warn(f\"Device used : {self.device}\")\n"
     ]
    },
    {
     "name": "stdout",
     "output_type": "stream",
     "text": [
      "epoch 0  | loss: 2.91501 | val_0_mse: 0.57152 |  0:00:08s\n",
      "epoch 1  | loss: 0.2539  | val_0_mse: 0.13418 |  0:00:17s\n",
      "epoch 2  | loss: 0.12859 | val_0_mse: 0.10908 |  0:00:26s\n",
      "epoch 3  | loss: 0.08605 | val_0_mse: 0.09569 |  0:00:35s\n",
      "epoch 4  | loss: 0.0788  | val_0_mse: 0.06572 |  0:00:44s\n",
      "epoch 5  | loss: 0.07673 | val_0_mse: 0.07612 |  0:00:53s\n",
      "epoch 6  | loss: 0.06845 | val_0_mse: 0.06675 |  0:01:01s\n",
      "epoch 7  | loss: 0.07048 | val_0_mse: 0.05866 |  0:01:10s\n",
      "epoch 8  | loss: 0.06467 | val_0_mse: 0.05762 |  0:01:19s\n",
      "epoch 9  | loss: 0.05798 | val_0_mse: 0.05584 |  0:01:28s\n",
      "epoch 10 | loss: 0.05276 | val_0_mse: 0.04129 |  0:01:36s\n",
      "epoch 11 | loss: 0.04961 | val_0_mse: 0.03993 |  0:01:45s\n",
      "epoch 12 | loss: 0.04385 | val_0_mse: 0.03242 |  0:01:54s\n",
      "epoch 13 | loss: 0.03967 | val_0_mse: 0.04237 |  0:02:03s\n",
      "epoch 14 | loss: 0.03521 | val_0_mse: 0.02485 |  0:02:12s\n",
      "epoch 15 | loss: 0.03295 | val_0_mse: 0.05112 |  0:02:20s\n",
      "epoch 16 | loss: 0.03206 | val_0_mse: 0.05616 |  0:02:29s\n",
      "epoch 17 | loss: 0.03756 | val_0_mse: 0.09204 |  0:02:38s\n",
      "epoch 18 | loss: 0.03219 | val_0_mse: 0.04809 |  0:02:47s\n",
      "epoch 19 | loss: 0.04205 | val_0_mse: 0.0333  |  0:02:56s\n",
      "epoch 20 | loss: 0.03512 | val_0_mse: 0.0245  |  0:03:05s\n",
      "epoch 21 | loss: 0.02674 | val_0_mse: 0.03153 |  0:03:13s\n",
      "epoch 22 | loss: 0.02641 | val_0_mse: 0.03194 |  0:03:22s\n",
      "epoch 23 | loss: 0.02238 | val_0_mse: 0.01356 |  0:03:31s\n",
      "epoch 24 | loss: 0.02075 | val_0_mse: 0.01844 |  0:03:40s\n",
      "epoch 25 | loss: 0.01826 | val_0_mse: 0.0241  |  0:03:48s\n",
      "epoch 26 | loss: 0.01957 | val_0_mse: 0.03284 |  0:03:58s\n",
      "epoch 27 | loss: 0.01638 | val_0_mse: 0.01472 |  0:04:06s\n",
      "epoch 28 | loss: 0.01537 | val_0_mse: 0.0103  |  0:04:15s\n",
      "epoch 29 | loss: 0.01453 | val_0_mse: 0.01091 |  0:04:24s\n",
      "epoch 30 | loss: 0.01493 | val_0_mse: 0.00885 |  0:04:33s\n",
      "epoch 31 | loss: 0.01548 | val_0_mse: 0.02515 |  0:04:42s\n",
      "epoch 32 | loss: 0.01605 | val_0_mse: 0.01341 |  0:04:51s\n",
      "epoch 33 | loss: 0.01393 | val_0_mse: 0.01235 |  0:05:00s\n",
      "epoch 34 | loss: 0.01251 | val_0_mse: 0.00849 |  0:05:08s\n",
      "epoch 35 | loss: 0.01243 | val_0_mse: 0.01438 |  0:05:17s\n",
      "epoch 36 | loss: 0.01252 | val_0_mse: 0.02539 |  0:05:26s\n",
      "epoch 37 | loss: 0.01113 | val_0_mse: 0.01965 |  0:05:35s\n",
      "epoch 38 | loss: 0.01251 | val_0_mse: 0.00739 |  0:05:43s\n",
      "epoch 39 | loss: 0.01229 | val_0_mse: 0.00737 |  0:05:52s\n",
      "epoch 40 | loss: 0.01127 | val_0_mse: 0.00729 |  0:06:01s\n",
      "epoch 41 | loss: 0.01094 | val_0_mse: 0.00739 |  0:06:10s\n",
      "epoch 42 | loss: 0.0128  | val_0_mse: 0.00741 |  0:06:19s\n",
      "epoch 43 | loss: 0.01222 | val_0_mse: 0.01261 |  0:06:28s\n",
      "epoch 44 | loss: 0.01159 | val_0_mse: 0.00991 |  0:06:36s\n",
      "epoch 45 | loss: 0.01147 | val_0_mse: 0.0118  |  0:06:45s\n",
      "epoch 46 | loss: 0.00953 | val_0_mse: 0.01007 |  0:06:54s\n",
      "epoch 47 | loss: 0.01346 | val_0_mse: 0.01701 |  0:07:03s\n",
      "epoch 48 | loss: 0.01314 | val_0_mse: 0.02405 |  0:07:12s\n",
      "epoch 49 | loss: 0.01489 | val_0_mse: 0.01229 |  0:07:20s\n",
      "epoch 50 | loss: 0.02239 | val_0_mse: 0.02391 |  0:07:29s\n",
      "\n",
      "Early stopping occurred at epoch 50 with best_epoch = 40 and best_val_0_mse = 0.00729\n"
     ]
    },
    {
     "name": "stderr",
     "output_type": "stream",
     "text": [
      "/opt/homebrew/Caskroom/miniforge/base/envs/mlp/lib/python3.10/site-packages/pytorch_tabnet/callbacks.py:172: UserWarning: Best weights from best epoch are automatically used!\n",
      "  warnings.warn(wrn_msg)\n"
     ]
    },
    {
     "name": "stdout",
     "output_type": "stream",
     "text": [
      "Model MSE: 0.007125 - Best MSE: 0.006991\n",
      "Model R2 Score: 0.967859 - Best R2 Score: 0.968461\n",
      "\n",
      "Iterations 7/72 - Hyperparameters:  batch_sizes=32, nums_epochs=200, n_d=16, n_a=16, n_step=6, n_indipendent=3, n_shared=2, gamma=1.3, epsilon=1e-08\n"
     ]
    },
    {
     "name": "stderr",
     "output_type": "stream",
     "text": [
      "/opt/homebrew/Caskroom/miniforge/base/envs/mlp/lib/python3.10/site-packages/pytorch_tabnet/abstract_model.py:75: UserWarning: Device used : cpu\n",
      "  warnings.warn(f\"Device used : {self.device}\")\n"
     ]
    },
    {
     "name": "stdout",
     "output_type": "stream",
     "text": [
      "epoch 0  | loss: 0.57458 | val_0_mse: 0.08801 |  0:00:26s\n",
      "epoch 1  | loss: 0.11498 | val_0_mse: 0.09463 |  0:01:02s\n",
      "epoch 2  | loss: 0.10294 | val_0_mse: 0.07755 |  0:01:29s\n",
      "epoch 3  | loss: 0.07634 | val_0_mse: 0.06462 |  0:01:56s\n",
      "epoch 4  | loss: 0.07245 | val_0_mse: 0.08461 |  0:02:23s\n",
      "epoch 5  | loss: 0.06152 | val_0_mse: 0.04136 |  0:02:51s\n",
      "epoch 6  | loss: 0.05607 | val_0_mse: 0.04155 |  0:03:17s\n",
      "epoch 7  | loss: 0.04351 | val_0_mse: 0.02981 |  0:03:44s\n",
      "epoch 8  | loss: 0.03557 | val_0_mse: 0.0274  |  0:04:11s\n",
      "epoch 9  | loss: 0.03435 | val_0_mse: 0.03241 |  0:04:38s\n",
      "epoch 10 | loss: 0.03005 | val_0_mse: 0.038   |  0:05:04s\n",
      "epoch 11 | loss: 0.02778 | val_0_mse: 0.01356 |  0:05:31s\n",
      "epoch 12 | loss: 0.03125 | val_0_mse: 0.01034 |  0:05:58s\n",
      "epoch 13 | loss: 0.02934 | val_0_mse: 0.02493 |  0:06:25s\n",
      "epoch 14 | loss: 0.02635 | val_0_mse: 0.02422 |  0:06:51s\n",
      "epoch 15 | loss: 0.02744 | val_0_mse: 0.02278 |  0:07:18s\n",
      "epoch 16 | loss: 0.03245 | val_0_mse: 0.04373 |  0:07:45s\n",
      "epoch 17 | loss: 0.02914 | val_0_mse: 0.0205  |  0:08:11s\n",
      "epoch 18 | loss: 0.02579 | val_0_mse: 0.01454 |  0:08:38s\n",
      "epoch 19 | loss: 0.02583 | val_0_mse: 0.02778 |  0:09:05s\n",
      "epoch 20 | loss: 0.02584 | val_0_mse: 0.01189 |  0:09:31s\n",
      "epoch 21 | loss: 0.02601 | val_0_mse: 0.01341 |  0:09:58s\n",
      "epoch 22 | loss: 0.0273  | val_0_mse: 0.04138 |  0:10:25s\n",
      "\n",
      "Early stopping occurred at epoch 22 with best_epoch = 12 and best_val_0_mse = 0.01034\n"
     ]
    },
    {
     "name": "stderr",
     "output_type": "stream",
     "text": [
      "/opt/homebrew/Caskroom/miniforge/base/envs/mlp/lib/python3.10/site-packages/pytorch_tabnet/callbacks.py:172: UserWarning: Best weights from best epoch are automatically used!\n",
      "  warnings.warn(wrn_msg)\n"
     ]
    },
    {
     "name": "stdout",
     "output_type": "stream",
     "text": [
      "Model MSE: 0.009202 - Best MSE: 0.006991\n",
      "Model R2 Score: 0.958487 - Best R2 Score: 0.968461\n",
      "\n",
      "Iterations 8/72 - Hyperparameters:  batch_sizes=64, nums_epochs=200, n_d=16, n_a=16, n_step=6, n_indipendent=3, n_shared=2, gamma=1.3, epsilon=1e-08\n"
     ]
    },
    {
     "name": "stderr",
     "output_type": "stream",
     "text": [
      "/opt/homebrew/Caskroom/miniforge/base/envs/mlp/lib/python3.10/site-packages/pytorch_tabnet/abstract_model.py:75: UserWarning: Device used : cpu\n",
      "  warnings.warn(f\"Device used : {self.device}\")\n"
     ]
    },
    {
     "name": "stdout",
     "output_type": "stream",
     "text": [
      "epoch 0  | loss: 0.95835 | val_0_mse: 0.2774  |  0:00:15s\n",
      "epoch 1  | loss: 0.17963 | val_0_mse: 0.37709 |  0:00:30s\n",
      "epoch 2  | loss: 0.15211 | val_0_mse: 0.13126 |  0:00:45s\n",
      "epoch 3  | loss: 0.12996 | val_0_mse: 0.11091 |  0:01:00s\n",
      "epoch 4  | loss: 0.12344 | val_0_mse: 0.09099 |  0:01:15s\n",
      "epoch 5  | loss: 0.10379 | val_0_mse: 0.1475  |  0:01:30s\n",
      "epoch 6  | loss: 0.09153 | val_0_mse: 0.12902 |  0:01:45s\n",
      "epoch 7  | loss: 0.09364 | val_0_mse: 0.12619 |  0:02:00s\n",
      "epoch 8  | loss: 0.06799 | val_0_mse: 0.10843 |  0:02:15s\n",
      "epoch 9  | loss: 0.07063 | val_0_mse: 0.06796 |  0:02:30s\n",
      "epoch 10 | loss: 0.04943 | val_0_mse: 0.04951 |  0:02:45s\n",
      "epoch 11 | loss: 0.04957 | val_0_mse: 0.06802 |  0:03:00s\n",
      "epoch 12 | loss: 0.03922 | val_0_mse: 0.03433 |  0:03:15s\n",
      "epoch 13 | loss: 0.03162 | val_0_mse: 0.04463 |  0:03:30s\n",
      "epoch 14 | loss: 0.03157 | val_0_mse: 0.01472 |  0:03:45s\n",
      "epoch 15 | loss: 0.03133 | val_0_mse: 0.04755 |  0:04:00s\n",
      "epoch 16 | loss: 0.03436 | val_0_mse: 0.01717 |  0:04:15s\n",
      "epoch 17 | loss: 0.03302 | val_0_mse: 0.03313 |  0:04:30s\n",
      "epoch 18 | loss: 0.03486 | val_0_mse: 0.08982 |  0:04:45s\n",
      "epoch 19 | loss: 0.03197 | val_0_mse: 0.04613 |  0:05:00s\n",
      "epoch 20 | loss: 0.03236 | val_0_mse: 0.01608 |  0:05:15s\n",
      "epoch 21 | loss: 0.02266 | val_0_mse: 0.01456 |  0:05:30s\n",
      "epoch 22 | loss: 0.02378 | val_0_mse: 0.0429  |  0:05:45s\n",
      "epoch 23 | loss: 0.02337 | val_0_mse: 0.02939 |  0:06:00s\n",
      "epoch 24 | loss: 0.02254 | val_0_mse: 0.00988 |  0:06:15s\n",
      "epoch 25 | loss: 0.02495 | val_0_mse: 0.00787 |  0:06:30s\n",
      "epoch 26 | loss: 0.01742 | val_0_mse: 0.0127  |  0:06:45s\n",
      "epoch 27 | loss: 0.01993 | val_0_mse: 0.01289 |  0:07:01s\n",
      "epoch 28 | loss: 0.01647 | val_0_mse: 0.01282 |  0:07:16s\n",
      "epoch 29 | loss: 0.01962 | val_0_mse: 0.01997 |  0:07:31s\n",
      "epoch 30 | loss: 0.01492 | val_0_mse: 0.00661 |  0:07:46s\n",
      "epoch 31 | loss: 0.01716 | val_0_mse: 0.0293  |  0:08:01s\n",
      "epoch 32 | loss: 0.01831 | val_0_mse: 0.00875 |  0:08:16s\n",
      "epoch 33 | loss: 0.01949 | val_0_mse: 0.03067 |  0:08:31s\n",
      "epoch 34 | loss: 0.01745 | val_0_mse: 0.01868 |  0:08:46s\n",
      "epoch 35 | loss: 0.01969 | val_0_mse: 0.00658 |  0:09:01s\n",
      "epoch 36 | loss: 0.01768 | val_0_mse: 0.01545 |  0:09:16s\n",
      "epoch 37 | loss: 0.01714 | val_0_mse: 0.01687 |  0:09:31s\n",
      "epoch 38 | loss: 0.01506 | val_0_mse: 0.01517 |  0:09:46s\n",
      "epoch 39 | loss: 0.01991 | val_0_mse: 0.02535 |  0:10:01s\n",
      "epoch 40 | loss: 0.01628 | val_0_mse: 0.00736 |  0:10:16s\n",
      "epoch 41 | loss: 0.01472 | val_0_mse: 0.00711 |  0:10:31s\n",
      "epoch 42 | loss: 0.01713 | val_0_mse: 0.01246 |  0:10:46s\n",
      "epoch 43 | loss: 0.01607 | val_0_mse: 0.0241  |  0:11:01s\n",
      "epoch 44 | loss: 0.01656 | val_0_mse: 0.00807 |  0:11:16s\n",
      "epoch 45 | loss: 0.02036 | val_0_mse: 0.0679  |  0:11:31s\n",
      "\n",
      "Early stopping occurred at epoch 45 with best_epoch = 35 and best_val_0_mse = 0.00658\n"
     ]
    },
    {
     "name": "stderr",
     "output_type": "stream",
     "text": [
      "/opt/homebrew/Caskroom/miniforge/base/envs/mlp/lib/python3.10/site-packages/pytorch_tabnet/callbacks.py:172: UserWarning: Best weights from best epoch are automatically used!\n",
      "  warnings.warn(wrn_msg)\n"
     ]
    },
    {
     "name": "stdout",
     "output_type": "stream",
     "text": [
      "Model MSE: 0.006324 - Best MSE: 0.006324\n",
      "Model R2 Score: 0.971470 - Best R2 Score: 0.971470\n",
      "\n",
      "Iterations 9/72 - Hyperparameters:  batch_sizes=128, nums_epochs=200, n_d=16, n_a=16, n_step=6, n_indipendent=3, n_shared=2, gamma=1.3, epsilon=1e-08\n"
     ]
    },
    {
     "name": "stderr",
     "output_type": "stream",
     "text": [
      "/opt/homebrew/Caskroom/miniforge/base/envs/mlp/lib/python3.10/site-packages/pytorch_tabnet/abstract_model.py:75: UserWarning: Device used : cpu\n",
      "  warnings.warn(f\"Device used : {self.device}\")\n"
     ]
    },
    {
     "name": "stdout",
     "output_type": "stream",
     "text": [
      "epoch 0  | loss: 1.57674 | val_0_mse: 0.90057 |  0:00:08s\n",
      "epoch 1  | loss: 0.29655 | val_0_mse: 0.16383 |  0:00:17s\n",
      "epoch 2  | loss: 0.09866 | val_0_mse: 0.15316 |  0:00:26s\n",
      "epoch 3  | loss: 0.07353 | val_0_mse: 0.1626  |  0:00:35s\n",
      "epoch 4  | loss: 0.06237 | val_0_mse: 0.11498 |  0:00:44s\n",
      "epoch 5  | loss: 0.0645  | val_0_mse: 0.08086 |  0:00:52s\n",
      "epoch 6  | loss: 0.06669 | val_0_mse: 0.05456 |  0:01:01s\n",
      "epoch 7  | loss: 0.05303 | val_0_mse: 0.05651 |  0:01:10s\n",
      "epoch 8  | loss: 0.0517  | val_0_mse: 0.03983 |  0:01:19s\n",
      "epoch 9  | loss: 0.0523  | val_0_mse: 0.04055 |  0:01:28s\n",
      "epoch 10 | loss: 0.04953 | val_0_mse: 0.04454 |  0:01:36s\n",
      "epoch 11 | loss: 0.05329 | val_0_mse: 0.04533 |  0:01:45s\n",
      "epoch 12 | loss: 0.0493  | val_0_mse: 0.03455 |  0:01:54s\n",
      "epoch 13 | loss: 0.05018 | val_0_mse: 0.04229 |  0:02:03s\n",
      "epoch 14 | loss: 0.04707 | val_0_mse: 0.03728 |  0:02:11s\n",
      "epoch 15 | loss: 0.05235 | val_0_mse: 0.03635 |  0:02:20s\n",
      "epoch 16 | loss: 0.0452  | val_0_mse: 0.03557 |  0:02:29s\n",
      "epoch 17 | loss: 0.05567 | val_0_mse: 0.05267 |  0:02:38s\n",
      "epoch 18 | loss: 0.05058 | val_0_mse: 0.04266 |  0:02:47s\n",
      "epoch 19 | loss: 0.04394 | val_0_mse: 0.03491 |  0:02:55s\n",
      "epoch 20 | loss: 0.04379 | val_0_mse: 0.04429 |  0:03:04s\n",
      "epoch 21 | loss: 0.0396  | val_0_mse: 0.03468 |  0:03:13s\n",
      "epoch 22 | loss: 0.04493 | val_0_mse: 0.03235 |  0:03:22s\n",
      "epoch 23 | loss: 0.04055 | val_0_mse: 0.04852 |  0:03:31s\n",
      "epoch 24 | loss: 0.03883 | val_0_mse: 0.03572 |  0:03:42s\n",
      "epoch 25 | loss: 0.03846 | val_0_mse: 0.02793 |  0:03:51s\n",
      "epoch 26 | loss: 0.04397 | val_0_mse: 0.02781 |  0:04:00s\n",
      "epoch 27 | loss: 0.03364 | val_0_mse: 0.02743 |  0:04:09s\n",
      "epoch 28 | loss: 0.03286 | val_0_mse: 0.02442 |  0:04:18s\n",
      "epoch 29 | loss: 0.03534 | val_0_mse: 0.05142 |  0:04:27s\n",
      "epoch 30 | loss: 0.02721 | val_0_mse: 0.021   |  0:04:35s\n",
      "epoch 31 | loss: 0.02557 | val_0_mse: 0.02773 |  0:04:44s\n",
      "epoch 32 | loss: 0.02603 | val_0_mse: 0.01574 |  0:04:55s\n",
      "epoch 33 | loss: 0.02191 | val_0_mse: 0.01619 |  0:05:03s\n",
      "epoch 34 | loss: 0.02013 | val_0_mse: 0.01761 |  0:05:12s\n",
      "epoch 35 | loss: 0.01568 | val_0_mse: 0.01566 |  0:05:21s\n",
      "epoch 36 | loss: 0.02196 | val_0_mse: 0.02252 |  0:05:30s\n",
      "epoch 37 | loss: 0.01968 | val_0_mse: 0.01073 |  0:05:38s\n",
      "epoch 38 | loss: 0.01698 | val_0_mse: 0.00923 |  0:05:47s\n",
      "epoch 39 | loss: 0.01478 | val_0_mse: 0.01397 |  0:05:56s\n",
      "epoch 40 | loss: 0.01574 | val_0_mse: 0.00869 |  0:06:05s\n",
      "epoch 41 | loss: 0.01398 | val_0_mse: 0.01043 |  0:06:15s\n",
      "epoch 42 | loss: 0.01363 | val_0_mse: 0.01357 |  0:06:24s\n",
      "epoch 43 | loss: 0.01941 | val_0_mse: 0.02117 |  0:06:33s\n",
      "epoch 44 | loss: 0.01021 | val_0_mse: 0.0071  |  0:06:41s\n",
      "epoch 45 | loss: 0.01143 | val_0_mse: 0.00719 |  0:06:50s\n",
      "epoch 46 | loss: 0.01388 | val_0_mse: 0.02635 |  0:06:59s\n",
      "epoch 47 | loss: 0.01307 | val_0_mse: 0.01666 |  0:07:08s\n",
      "epoch 48 | loss: 0.01171 | val_0_mse: 0.00595 |  0:07:17s\n",
      "epoch 49 | loss: 0.01557 | val_0_mse: 0.01037 |  0:07:26s\n",
      "epoch 50 | loss: 0.01414 | val_0_mse: 0.00847 |  0:07:35s\n",
      "epoch 51 | loss: 0.00975 | val_0_mse: 0.03731 |  0:07:44s\n",
      "epoch 52 | loss: 0.01533 | val_0_mse: 0.00721 |  0:07:53s\n",
      "epoch 53 | loss: 0.01133 | val_0_mse: 0.00506 |  0:08:02s\n",
      "epoch 54 | loss: 0.01048 | val_0_mse: 0.00766 |  0:08:11s\n",
      "epoch 55 | loss: 0.00959 | val_0_mse: 0.00667 |  0:08:19s\n",
      "epoch 56 | loss: 0.01012 | val_0_mse: 0.01365 |  0:08:28s\n",
      "epoch 57 | loss: 0.01199 | val_0_mse: 0.00519 |  0:08:37s\n",
      "epoch 58 | loss: 0.01026 | val_0_mse: 0.00788 |  0:08:47s\n",
      "epoch 59 | loss: 0.00984 | val_0_mse: 0.02385 |  0:08:56s\n",
      "epoch 60 | loss: 0.01108 | val_0_mse: 0.00617 |  0:09:05s\n",
      "epoch 61 | loss: 0.01356 | val_0_mse: 0.00673 |  0:09:14s\n",
      "epoch 62 | loss: 0.00909 | val_0_mse: 0.00528 |  0:09:23s\n",
      "epoch 63 | loss: 0.01111 | val_0_mse: 0.00665 |  0:09:31s\n",
      "\n",
      "Early stopping occurred at epoch 63 with best_epoch = 53 and best_val_0_mse = 0.00506\n"
     ]
    },
    {
     "name": "stderr",
     "output_type": "stream",
     "text": [
      "/opt/homebrew/Caskroom/miniforge/base/envs/mlp/lib/python3.10/site-packages/pytorch_tabnet/callbacks.py:172: UserWarning: Best weights from best epoch are automatically used!\n",
      "  warnings.warn(wrn_msg)\n"
     ]
    },
    {
     "name": "stdout",
     "output_type": "stream",
     "text": [
      "Model MSE: 0.005215 - Best MSE: 0.005215\n",
      "Model R2 Score: 0.976475 - Best R2 Score: 0.976475\n",
      "\n",
      "Iterations 10/72 - Hyperparameters:  batch_sizes=32, nums_epochs=200, n_d=16, n_a=16, n_step=6, n_indipendent=3, n_shared=3, gamma=1.3, epsilon=1e-08\n"
     ]
    },
    {
     "name": "stderr",
     "output_type": "stream",
     "text": [
      "/opt/homebrew/Caskroom/miniforge/base/envs/mlp/lib/python3.10/site-packages/pytorch_tabnet/abstract_model.py:75: UserWarning: Device used : cpu\n",
      "  warnings.warn(f\"Device used : {self.device}\")\n"
     ]
    },
    {
     "name": "stdout",
     "output_type": "stream",
     "text": [
      "epoch 0  | loss: 0.77684 | val_0_mse: 0.16572 |  0:00:28s\n",
      "epoch 1  | loss: 0.15538 | val_0_mse: 0.14652 |  0:00:58s\n",
      "epoch 2  | loss: 0.12942 | val_0_mse: 0.08875 |  0:01:26s\n",
      "epoch 3  | loss: 0.10484 | val_0_mse: 0.08114 |  0:01:55s\n",
      "epoch 4  | loss: 0.09092 | val_0_mse: 0.06871 |  0:02:23s\n",
      "epoch 5  | loss: 0.08896 | val_0_mse: 0.07984 |  0:02:51s\n",
      "epoch 6  | loss: 0.08475 | val_0_mse: 0.05646 |  0:03:18s\n",
      "epoch 7  | loss: 0.08076 | val_0_mse: 0.13423 |  0:03:46s\n",
      "epoch 8  | loss: 0.07998 | val_0_mse: 0.06609 |  0:04:14s\n",
      "epoch 9  | loss: 0.07397 | val_0_mse: 0.05166 |  0:04:42s\n",
      "epoch 10 | loss: 0.06369 | val_0_mse: 0.07347 |  0:05:09s\n",
      "epoch 11 | loss: 0.04542 | val_0_mse: 0.02641 |  0:05:37s\n",
      "epoch 12 | loss: 0.04136 | val_0_mse: 0.03779 |  0:06:05s\n",
      "epoch 13 | loss: 0.03367 | val_0_mse: 0.02761 |  0:06:33s\n",
      "epoch 14 | loss: 0.03374 | val_0_mse: 0.02465 |  0:07:01s\n",
      "epoch 15 | loss: 0.03606 | val_0_mse: 0.01356 |  0:07:28s\n",
      "epoch 16 | loss: 0.0289  | val_0_mse: 0.01632 |  0:07:56s\n",
      "epoch 17 | loss: 0.03189 | val_0_mse: 0.02028 |  0:08:24s\n",
      "epoch 18 | loss: 0.02501 | val_0_mse: 0.03795 |  0:08:51s\n",
      "epoch 19 | loss: 0.02489 | val_0_mse: 0.01356 |  0:09:19s\n",
      "epoch 20 | loss: 0.0264  | val_0_mse: 0.0184  |  0:09:47s\n",
      "epoch 21 | loss: 0.02325 | val_0_mse: 0.01325 |  0:10:14s\n",
      "epoch 22 | loss: 0.02125 | val_0_mse: 0.01152 |  0:10:42s\n",
      "epoch 23 | loss: 0.02195 | val_0_mse: 0.01594 |  0:11:10s\n",
      "epoch 24 | loss: 0.02213 | val_0_mse: 0.01651 |  0:11:38s\n",
      "epoch 25 | loss: 0.01991 | val_0_mse: 0.02478 |  0:12:05s\n",
      "epoch 26 | loss: 0.02244 | val_0_mse: 0.0307  |  0:12:33s\n",
      "epoch 27 | loss: 0.02193 | val_0_mse: 0.01811 |  0:13:01s\n",
      "epoch 28 | loss: 0.02128 | val_0_mse: 0.01297 |  0:13:29s\n",
      "epoch 29 | loss: 0.02184 | val_0_mse: 0.02038 |  0:13:57s\n",
      "epoch 30 | loss: 0.02348 | val_0_mse: 0.01472 |  0:14:24s\n",
      "epoch 31 | loss: 0.021   | val_0_mse: 0.01072 |  0:14:52s\n",
      "epoch 32 | loss: 0.02242 | val_0_mse: 0.01332 |  0:15:20s\n",
      "epoch 33 | loss: 0.02075 | val_0_mse: 0.01513 |  0:15:49s\n",
      "epoch 34 | loss: 0.01805 | val_0_mse: 0.02034 |  0:16:16s\n",
      "epoch 35 | loss: 0.02219 | val_0_mse: 0.01812 |  0:16:44s\n",
      "epoch 36 | loss: 0.0207  | val_0_mse: 0.01748 |  0:17:12s\n",
      "epoch 37 | loss: 0.01839 | val_0_mse: 0.03985 |  0:17:40s\n",
      "epoch 38 | loss: 0.01833 | val_0_mse: 0.05485 |  0:18:07s\n",
      "epoch 39 | loss: 0.0178  | val_0_mse: 0.03515 |  0:18:35s\n",
      "epoch 40 | loss: 0.01927 | val_0_mse: 0.03976 |  0:19:02s\n",
      "epoch 41 | loss: 0.01947 | val_0_mse: 0.01593 |  0:19:30s\n",
      "\n",
      "Early stopping occurred at epoch 41 with best_epoch = 31 and best_val_0_mse = 0.01072\n"
     ]
    },
    {
     "name": "stderr",
     "output_type": "stream",
     "text": [
      "/opt/homebrew/Caskroom/miniforge/base/envs/mlp/lib/python3.10/site-packages/pytorch_tabnet/callbacks.py:172: UserWarning: Best weights from best epoch are automatically used!\n",
      "  warnings.warn(wrn_msg)\n"
     ]
    },
    {
     "name": "stdout",
     "output_type": "stream",
     "text": [
      "Model MSE: 0.011109 - Best MSE: 0.005215\n",
      "Model R2 Score: 0.949884 - Best R2 Score: 0.976475\n",
      "\n",
      "Iterations 11/72 - Hyperparameters:  batch_sizes=64, nums_epochs=200, n_d=16, n_a=16, n_step=6, n_indipendent=3, n_shared=3, gamma=1.3, epsilon=1e-08\n"
     ]
    },
    {
     "name": "stderr",
     "output_type": "stream",
     "text": [
      "/opt/homebrew/Caskroom/miniforge/base/envs/mlp/lib/python3.10/site-packages/pytorch_tabnet/abstract_model.py:75: UserWarning: Device used : cpu\n",
      "  warnings.warn(f\"Device used : {self.device}\")\n"
     ]
    },
    {
     "name": "stdout",
     "output_type": "stream",
     "text": [
      "epoch 0  | loss: 1.03858 | val_0_mse: 0.33545 |  0:00:15s\n",
      "epoch 1  | loss: 0.21911 | val_0_mse: 0.17263 |  0:00:30s\n",
      "epoch 2  | loss: 0.13633 | val_0_mse: 0.19298 |  0:00:45s\n",
      "epoch 3  | loss: 0.10738 | val_0_mse: 0.08744 |  0:01:00s\n",
      "epoch 4  | loss: 0.09541 | val_0_mse: 0.08825 |  0:01:16s\n",
      "epoch 5  | loss: 0.08832 | val_0_mse: 0.23743 |  0:01:31s\n",
      "epoch 6  | loss: 0.08394 | val_0_mse: 0.0633  |  0:01:47s\n",
      "epoch 7  | loss: 0.06788 | val_0_mse: 0.05263 |  0:02:02s\n",
      "epoch 8  | loss: 0.07118 | val_0_mse: 0.05793 |  0:02:17s\n",
      "epoch 9  | loss: 0.07517 | val_0_mse: 0.10175 |  0:02:32s\n",
      "epoch 10 | loss: 0.06307 | val_0_mse: 0.06452 |  0:02:48s\n",
      "epoch 11 | loss: 0.06699 | val_0_mse: 0.05366 |  0:03:03s\n",
      "epoch 12 | loss: 0.04518 | val_0_mse: 0.03876 |  0:03:18s\n",
      "epoch 13 | loss: 0.03653 | val_0_mse: 0.04301 |  0:03:33s\n",
      "epoch 14 | loss: 0.03546 | val_0_mse: 0.02548 |  0:03:49s\n",
      "epoch 15 | loss: 0.03388 | val_0_mse: 0.01884 |  0:04:04s\n",
      "epoch 16 | loss: 0.02752 | val_0_mse: 0.01777 |  0:04:19s\n",
      "epoch 17 | loss: 0.02824 | val_0_mse: 0.05791 |  0:04:34s\n",
      "epoch 18 | loss: 0.02695 | val_0_mse: 0.01624 |  0:04:50s\n",
      "epoch 19 | loss: 0.02586 | val_0_mse: 0.03922 |  0:05:05s\n",
      "epoch 20 | loss: 0.0243  | val_0_mse: 0.01226 |  0:05:20s\n",
      "epoch 21 | loss: 0.01864 | val_0_mse: 0.01129 |  0:05:36s\n",
      "epoch 22 | loss: 0.02207 | val_0_mse: 0.01369 |  0:05:51s\n",
      "epoch 23 | loss: 0.01896 | val_0_mse: 0.01427 |  0:06:06s\n",
      "epoch 24 | loss: 0.01913 | val_0_mse: 0.00943 |  0:06:21s\n",
      "epoch 25 | loss: 0.01885 | val_0_mse: 0.05413 |  0:06:36s\n",
      "epoch 26 | loss: 0.02015 | val_0_mse: 0.01162 |  0:06:52s\n",
      "epoch 27 | loss: 0.01911 | val_0_mse: 0.01516 |  0:07:07s\n",
      "epoch 28 | loss: 0.01599 | val_0_mse: 0.02552 |  0:07:22s\n",
      "epoch 29 | loss: 0.01685 | val_0_mse: 0.01007 |  0:07:37s\n",
      "epoch 30 | loss: 0.01604 | val_0_mse: 0.00792 |  0:07:53s\n",
      "epoch 31 | loss: 0.01497 | val_0_mse: 0.01106 |  0:08:08s\n",
      "epoch 32 | loss: 0.01607 | val_0_mse: 0.01079 |  0:08:23s\n",
      "epoch 33 | loss: 0.01665 | val_0_mse: 1.53804 |  0:08:39s\n",
      "epoch 34 | loss: 0.01454 | val_0_mse: 0.02465 |  0:08:54s\n",
      "epoch 35 | loss: 0.01809 | val_0_mse: 0.00869 |  0:09:09s\n",
      "epoch 36 | loss: 0.01268 | val_0_mse: 0.01481 |  0:09:25s\n",
      "epoch 37 | loss: 0.01507 | val_0_mse: 0.00954 |  0:09:40s\n",
      "epoch 38 | loss: 0.0161  | val_0_mse: 0.02945 |  0:09:55s\n",
      "epoch 39 | loss: 0.01749 | val_0_mse: 0.00896 |  0:10:11s\n",
      "epoch 40 | loss: 0.01653 | val_0_mse: 0.00817 |  0:10:26s\n",
      "\n",
      "Early stopping occurred at epoch 40 with best_epoch = 30 and best_val_0_mse = 0.00792\n"
     ]
    },
    {
     "name": "stderr",
     "output_type": "stream",
     "text": [
      "/opt/homebrew/Caskroom/miniforge/base/envs/mlp/lib/python3.10/site-packages/pytorch_tabnet/callbacks.py:172: UserWarning: Best weights from best epoch are automatically used!\n",
      "  warnings.warn(wrn_msg)\n"
     ]
    },
    {
     "name": "stdout",
     "output_type": "stream",
     "text": [
      "Model MSE: 0.008784 - Best MSE: 0.005215\n",
      "Model R2 Score: 0.960373 - Best R2 Score: 0.976475\n",
      "\n",
      "Iterations 12/72 - Hyperparameters:  batch_sizes=128, nums_epochs=200, n_d=16, n_a=16, n_step=6, n_indipendent=3, n_shared=3, gamma=1.3, epsilon=1e-08\n"
     ]
    },
    {
     "name": "stderr",
     "output_type": "stream",
     "text": [
      "/opt/homebrew/Caskroom/miniforge/base/envs/mlp/lib/python3.10/site-packages/pytorch_tabnet/abstract_model.py:75: UserWarning: Device used : cpu\n",
      "  warnings.warn(f\"Device used : {self.device}\")\n"
     ]
    },
    {
     "name": "stdout",
     "output_type": "stream",
     "text": [
      "epoch 0  | loss: 1.70208 | val_0_mse: 0.33373 |  0:00:09s\n",
      "epoch 1  | loss: 0.27153 | val_0_mse: 0.19291 |  0:00:18s\n",
      "epoch 2  | loss: 0.1464  | val_0_mse: 0.12456 |  0:00:27s\n",
      "epoch 3  | loss: 0.12291 | val_0_mse: 0.12573 |  0:00:37s\n",
      "epoch 4  | loss: 0.12575 | val_0_mse: 0.13644 |  0:00:46s\n",
      "epoch 5  | loss: 0.10203 | val_0_mse: 0.07834 |  0:00:55s\n",
      "epoch 6  | loss: 0.08805 | val_0_mse: 0.06289 |  0:01:04s\n",
      "epoch 7  | loss: 0.06833 | val_0_mse: 0.06506 |  0:01:14s\n",
      "epoch 8  | loss: 0.05757 | val_0_mse: 0.04269 |  0:01:23s\n",
      "epoch 9  | loss: 0.04947 | val_0_mse: 0.04623 |  0:01:32s\n",
      "epoch 10 | loss: 0.04715 | val_0_mse: 0.05258 |  0:01:41s\n",
      "epoch 11 | loss: 0.04492 | val_0_mse: 0.04439 |  0:01:51s\n",
      "epoch 12 | loss: 0.03883 | val_0_mse: 0.02361 |  0:02:00s\n",
      "epoch 13 | loss: 0.03618 | val_0_mse: 0.03027 |  0:02:09s\n",
      "epoch 14 | loss: 0.02902 | val_0_mse: 0.0197  |  0:02:18s\n",
      "epoch 15 | loss: 0.03057 | val_0_mse: 0.08094 |  0:02:28s\n",
      "epoch 16 | loss: 0.02436 | val_0_mse: 0.01842 |  0:02:37s\n",
      "epoch 17 | loss: 0.01885 | val_0_mse: 0.0117  |  0:02:46s\n",
      "epoch 18 | loss: 0.01797 | val_0_mse: 0.01177 |  0:02:56s\n",
      "epoch 19 | loss: 0.01752 | val_0_mse: 0.01198 |  0:03:05s\n",
      "epoch 20 | loss: 0.01776 | val_0_mse: 0.01027 |  0:03:14s\n",
      "epoch 21 | loss: 0.01512 | val_0_mse: 0.01108 |  0:03:23s\n",
      "epoch 22 | loss: 0.01723 | val_0_mse: 0.00854 |  0:03:33s\n",
      "epoch 23 | loss: 0.01772 | val_0_mse: 0.01251 |  0:03:42s\n",
      "epoch 24 | loss: 0.01507 | val_0_mse: 0.00959 |  0:03:51s\n",
      "epoch 25 | loss: 0.0142  | val_0_mse: 0.01096 |  0:04:00s\n",
      "epoch 26 | loss: 0.02184 | val_0_mse: 0.01839 |  0:04:09s\n",
      "epoch 27 | loss: 0.01783 | val_0_mse: 0.01244 |  0:04:19s\n",
      "epoch 28 | loss: 0.01414 | val_0_mse: 0.02047 |  0:04:28s\n",
      "epoch 29 | loss: 0.01562 | val_0_mse: 0.02231 |  0:04:37s\n",
      "epoch 30 | loss: 0.01541 | val_0_mse: 0.01843 |  0:04:46s\n",
      "epoch 31 | loss: 0.01411 | val_0_mse: 0.00982 |  0:04:56s\n",
      "epoch 32 | loss: 0.01303 | val_0_mse: 0.01328 |  0:05:05s\n",
      "\n",
      "Early stopping occurred at epoch 32 with best_epoch = 22 and best_val_0_mse = 0.00854\n"
     ]
    },
    {
     "name": "stderr",
     "output_type": "stream",
     "text": [
      "/opt/homebrew/Caskroom/miniforge/base/envs/mlp/lib/python3.10/site-packages/pytorch_tabnet/callbacks.py:172: UserWarning: Best weights from best epoch are automatically used!\n",
      "  warnings.warn(wrn_msg)\n"
     ]
    },
    {
     "name": "stdout",
     "output_type": "stream",
     "text": [
      "Model MSE: 0.008087 - Best MSE: 0.005215\n",
      "Model R2 Score: 0.963515 - Best R2 Score: 0.976475\n",
      "\n",
      "Iterations 13/72 - Hyperparameters:  batch_sizes=32, nums_epochs=200, n_d=16, n_a=16, n_step=7, n_indipendent=2, n_shared=2, gamma=1.3, epsilon=1e-08\n"
     ]
    },
    {
     "name": "stderr",
     "output_type": "stream",
     "text": [
      "/opt/homebrew/Caskroom/miniforge/base/envs/mlp/lib/python3.10/site-packages/pytorch_tabnet/abstract_model.py:75: UserWarning: Device used : cpu\n",
      "  warnings.warn(f\"Device used : {self.device}\")\n"
     ]
    },
    {
     "name": "stdout",
     "output_type": "stream",
     "text": [
      "epoch 0  | loss: 0.92862 | val_0_mse: 0.1558  |  0:00:28s\n",
      "epoch 1  | loss: 0.17521 | val_0_mse: 0.11275 |  0:00:56s\n",
      "epoch 2  | loss: 0.15096 | val_0_mse: 0.1426  |  0:01:23s\n",
      "epoch 3  | loss: 0.12381 | val_0_mse: 0.10549 |  0:01:51s\n",
      "epoch 4  | loss: 0.11287 | val_0_mse: 0.09214 |  0:02:19s\n",
      "epoch 5  | loss: 0.08751 | val_0_mse: 0.06267 |  0:02:47s\n",
      "epoch 6  | loss: 0.0751  | val_0_mse: 0.11381 |  0:03:15s\n",
      "epoch 7  | loss: 0.05774 | val_0_mse: 0.06954 |  0:03:43s\n",
      "epoch 8  | loss: 0.0513  | val_0_mse: 0.03898 |  0:04:11s\n",
      "epoch 9  | loss: 0.0449  | val_0_mse: 0.04111 |  0:04:39s\n",
      "epoch 10 | loss: 0.03598 | val_0_mse: 0.04594 |  0:05:07s\n",
      "epoch 11 | loss: 0.03631 | val_0_mse: 0.0235  |  0:05:35s\n",
      "epoch 12 | loss: 0.03405 | val_0_mse: 0.02016 |  0:06:03s\n",
      "epoch 13 | loss: 0.03132 | val_0_mse: 0.0127  |  0:06:30s\n",
      "epoch 14 | loss: 0.03114 | val_0_mse: 0.07809 |  0:06:59s\n",
      "epoch 15 | loss: 0.0284  | val_0_mse: 0.03705 |  0:07:26s\n",
      "epoch 16 | loss: 0.0273  | val_0_mse: 0.03615 |  0:07:55s\n",
      "epoch 17 | loss: 0.0237  | val_0_mse: 0.01757 |  0:08:23s\n",
      "epoch 18 | loss: 0.02403 | val_0_mse: 0.02497 |  0:08:51s\n",
      "epoch 19 | loss: 0.02511 | val_0_mse: 0.01291 |  0:09:18s\n",
      "epoch 20 | loss: 0.02309 | val_0_mse: 0.01949 |  0:09:47s\n",
      "epoch 21 | loss: 0.02445 | val_0_mse: 0.00837 |  0:10:15s\n",
      "epoch 22 | loss: 0.02325 | val_0_mse: 0.0265  |  0:10:42s\n",
      "epoch 23 | loss: 0.02349 | val_0_mse: 0.04883 |  0:11:11s\n",
      "epoch 24 | loss: 0.02685 | val_0_mse: 0.03903 |  0:11:39s\n",
      "epoch 25 | loss: 0.02228 | val_0_mse: 0.15422 |  0:12:07s\n",
      "epoch 26 | loss: 0.02564 | val_0_mse: 0.01308 |  0:12:35s\n",
      "epoch 27 | loss: 0.02148 | val_0_mse: 0.01516 |  0:13:03s\n",
      "epoch 28 | loss: 0.02587 | val_0_mse: 0.03286 |  0:13:31s\n",
      "epoch 29 | loss: 0.02122 | val_0_mse: 0.03564 |  0:13:59s\n",
      "epoch 30 | loss: 0.02023 | val_0_mse: 0.02937 |  0:14:27s\n",
      "epoch 31 | loss: 0.02052 | val_0_mse: 0.0375  |  0:14:55s\n",
      "\n",
      "Early stopping occurred at epoch 31 with best_epoch = 21 and best_val_0_mse = 0.00837\n"
     ]
    },
    {
     "name": "stderr",
     "output_type": "stream",
     "text": [
      "/opt/homebrew/Caskroom/miniforge/base/envs/mlp/lib/python3.10/site-packages/pytorch_tabnet/callbacks.py:172: UserWarning: Best weights from best epoch are automatically used!\n",
      "  warnings.warn(wrn_msg)\n"
     ]
    },
    {
     "name": "stdout",
     "output_type": "stream",
     "text": [
      "Model MSE: 0.008739 - Best MSE: 0.005215\n",
      "Model R2 Score: 0.960574 - Best R2 Score: 0.976475\n",
      "\n",
      "Iterations 14/72 - Hyperparameters:  batch_sizes=64, nums_epochs=200, n_d=16, n_a=16, n_step=7, n_indipendent=2, n_shared=2, gamma=1.3, epsilon=1e-08\n"
     ]
    },
    {
     "name": "stderr",
     "output_type": "stream",
     "text": [
      "/opt/homebrew/Caskroom/miniforge/base/envs/mlp/lib/python3.10/site-packages/pytorch_tabnet/abstract_model.py:75: UserWarning: Device used : cpu\n",
      "  warnings.warn(f\"Device used : {self.device}\")\n"
     ]
    },
    {
     "name": "stdout",
     "output_type": "stream",
     "text": [
      "epoch 0  | loss: 1.27267 | val_0_mse: 0.31029 |  0:00:15s\n",
      "epoch 1  | loss: 0.21974 | val_0_mse: 0.10839 |  0:00:31s\n",
      "epoch 2  | loss: 0.14867 | val_0_mse: 0.15091 |  0:00:47s\n",
      "epoch 3  | loss: 0.12714 | val_0_mse: 0.11786 |  0:01:02s\n",
      "epoch 4  | loss: 0.11872 | val_0_mse: 0.10839 |  0:01:18s\n",
      "epoch 5  | loss: 0.11483 | val_0_mse: 0.14104 |  0:01:34s\n",
      "epoch 6  | loss: 0.09993 | val_0_mse: 0.06989 |  0:01:50s\n",
      "epoch 7  | loss: 0.08131 | val_0_mse: 0.04972 |  0:02:06s\n",
      "epoch 8  | loss: 0.05689 | val_0_mse: 0.03506 |  0:02:21s\n",
      "epoch 9  | loss: 0.04504 | val_0_mse: 0.03274 |  0:02:37s\n",
      "epoch 10 | loss: 0.04428 | val_0_mse: 0.05904 |  0:02:53s\n",
      "epoch 11 | loss: 0.03294 | val_0_mse: 0.02413 |  0:03:09s\n",
      "epoch 12 | loss: 0.03063 | val_0_mse: 0.09421 |  0:03:25s\n",
      "epoch 13 | loss: 0.03308 | val_0_mse: 0.02046 |  0:03:40s\n",
      "epoch 14 | loss: 0.04861 | val_0_mse: 0.05171 |  0:03:56s\n",
      "epoch 15 | loss: 0.03294 | val_0_mse: 0.01498 |  0:04:12s\n",
      "epoch 16 | loss: 0.02549 | val_0_mse: 0.01154 |  0:04:28s\n",
      "epoch 17 | loss: 0.02434 | val_0_mse: 0.02388 |  0:04:44s\n",
      "epoch 18 | loss: 0.03516 | val_0_mse: 0.01774 |  0:04:59s\n",
      "epoch 19 | loss: 0.02109 | val_0_mse: 0.02936 |  0:05:15s\n",
      "epoch 20 | loss: 0.02128 | val_0_mse: 0.01111 |  0:05:31s\n",
      "epoch 21 | loss: 0.02467 | val_0_mse: 0.01133 |  0:05:47s\n",
      "epoch 22 | loss: 0.02078 | val_0_mse: 0.07707 |  0:06:03s\n",
      "epoch 23 | loss: 0.02484 | val_0_mse: 0.02154 |  0:06:18s\n",
      "epoch 24 | loss: 0.01967 | val_0_mse: 0.0273  |  0:06:34s\n",
      "epoch 25 | loss: 0.01949 | val_0_mse: 0.00944 |  0:06:50s\n",
      "epoch 26 | loss: 0.0187  | val_0_mse: 0.00969 |  0:07:06s\n",
      "epoch 27 | loss: 0.02216 | val_0_mse: 0.03389 |  0:07:22s\n",
      "epoch 28 | loss: 0.02442 | val_0_mse: 0.00991 |  0:07:37s\n",
      "epoch 29 | loss: 0.01772 | val_0_mse: 0.00791 |  0:07:53s\n",
      "epoch 30 | loss: 0.01608 | val_0_mse: 0.0077  |  0:08:09s\n",
      "epoch 31 | loss: 0.01872 | val_0_mse: 0.07864 |  0:08:25s\n",
      "epoch 32 | loss: 0.0261  | val_0_mse: 0.01164 |  0:08:40s\n",
      "epoch 33 | loss: 0.01612 | val_0_mse: 0.01016 |  0:08:56s\n",
      "epoch 34 | loss: 0.02016 | val_0_mse: 0.01182 |  0:09:12s\n",
      "epoch 35 | loss: 0.01963 | val_0_mse: 0.01451 |  0:09:28s\n",
      "epoch 36 | loss: 0.01916 | val_0_mse: 0.01246 |  0:09:44s\n",
      "epoch 37 | loss: 0.02045 | val_0_mse: 0.03477 |  0:09:59s\n",
      "epoch 38 | loss: 0.02059 | val_0_mse: 0.04619 |  0:10:17s\n",
      "epoch 39 | loss: 0.01651 | val_0_mse: 0.01222 |  0:10:33s\n",
      "epoch 40 | loss: 0.01896 | val_0_mse: 0.01551 |  0:10:49s\n",
      "\n",
      "Early stopping occurred at epoch 40 with best_epoch = 30 and best_val_0_mse = 0.0077\n"
     ]
    },
    {
     "name": "stderr",
     "output_type": "stream",
     "text": [
      "/opt/homebrew/Caskroom/miniforge/base/envs/mlp/lib/python3.10/site-packages/pytorch_tabnet/callbacks.py:172: UserWarning: Best weights from best epoch are automatically used!\n",
      "  warnings.warn(wrn_msg)\n"
     ]
    },
    {
     "name": "stdout",
     "output_type": "stream",
     "text": [
      "Model MSE: 0.008062 - Best MSE: 0.005215\n",
      "Model R2 Score: 0.963632 - Best R2 Score: 0.976475\n",
      "\n",
      "Iterations 15/72 - Hyperparameters:  batch_sizes=128, nums_epochs=200, n_d=16, n_a=16, n_step=7, n_indipendent=2, n_shared=2, gamma=1.3, epsilon=1e-08\n"
     ]
    },
    {
     "name": "stderr",
     "output_type": "stream",
     "text": [
      "/opt/homebrew/Caskroom/miniforge/base/envs/mlp/lib/python3.10/site-packages/pytorch_tabnet/abstract_model.py:75: UserWarning: Device used : cpu\n",
      "  warnings.warn(f\"Device used : {self.device}\")\n"
     ]
    },
    {
     "name": "stdout",
     "output_type": "stream",
     "text": [
      "epoch 0  | loss: 1.66981 | val_0_mse: 0.86477 |  0:00:09s\n",
      "epoch 1  | loss: 0.38589 | val_0_mse: 0.25358 |  0:00:19s\n",
      "epoch 2  | loss: 0.1645  | val_0_mse: 0.21094 |  0:00:28s\n",
      "epoch 3  | loss: 0.1114  | val_0_mse: 0.10149 |  0:00:38s\n",
      "epoch 4  | loss: 0.0882  | val_0_mse: 0.11674 |  0:00:48s\n",
      "epoch 5  | loss: 0.0838  | val_0_mse: 0.06493 |  0:00:57s\n",
      "epoch 6  | loss: 0.08127 | val_0_mse: 0.08925 |  0:01:07s\n",
      "epoch 7  | loss: 0.07583 | val_0_mse: 0.05426 |  0:01:16s\n",
      "epoch 8  | loss: 0.06728 | val_0_mse: 0.05249 |  0:01:26s\n",
      "epoch 9  | loss: 0.06524 | val_0_mse: 0.04116 |  0:01:35s\n",
      "epoch 10 | loss: 0.05436 | val_0_mse: 0.04276 |  0:01:45s\n",
      "epoch 11 | loss: 0.05185 | val_0_mse: 0.03525 |  0:01:55s\n",
      "epoch 12 | loss: 0.0446  | val_0_mse: 0.03386 |  0:02:04s\n",
      "epoch 13 | loss: 0.04312 | val_0_mse: 0.03407 |  0:02:14s\n",
      "epoch 14 | loss: 0.04295 | val_0_mse: 0.03411 |  0:02:23s\n",
      "epoch 15 | loss: 0.03221 | val_0_mse: 0.02796 |  0:02:33s\n",
      "epoch 16 | loss: 0.03354 | val_0_mse: 0.0251  |  0:02:42s\n",
      "epoch 17 | loss: 0.03225 | val_0_mse: 0.0268  |  0:02:52s\n",
      "epoch 18 | loss: 0.03712 | val_0_mse: 0.02791 |  0:03:02s\n",
      "epoch 19 | loss: 0.02528 | val_0_mse: 0.02689 |  0:03:12s\n",
      "epoch 20 | loss: 0.03182 | val_0_mse: 0.02795 |  0:03:21s\n",
      "epoch 21 | loss: 0.03336 | val_0_mse: 0.02355 |  0:03:31s\n",
      "epoch 22 | loss: 0.02849 | val_0_mse: 0.03091 |  0:03:41s\n",
      "epoch 23 | loss: 0.02669 | val_0_mse: 0.02031 |  0:03:50s\n",
      "epoch 24 | loss: 0.02486 | val_0_mse: 0.01963 |  0:04:02s\n",
      "epoch 25 | loss: 0.02291 | val_0_mse: 0.0195  |  0:04:12s\n",
      "epoch 26 | loss: 0.02369 | val_0_mse: 0.04365 |  0:04:25s\n",
      "epoch 27 | loss: 0.0203  | val_0_mse: 0.0199  |  0:04:35s\n",
      "epoch 28 | loss: 0.02389 | val_0_mse: 0.01255 |  0:04:45s\n",
      "epoch 29 | loss: 0.01633 | val_0_mse: 0.01143 |  0:04:56s\n",
      "epoch 30 | loss: 0.01703 | val_0_mse: 0.0087  |  0:05:06s\n",
      "epoch 31 | loss: 0.01452 | val_0_mse: 0.02069 |  0:05:16s\n",
      "epoch 32 | loss: 0.01518 | val_0_mse: 0.0141  |  0:05:26s\n",
      "epoch 33 | loss: 0.01351 | val_0_mse: 0.00799 |  0:05:36s\n",
      "epoch 34 | loss: 0.01403 | val_0_mse: 0.00994 |  0:05:46s\n",
      "epoch 35 | loss: 0.01587 | val_0_mse: 0.01029 |  0:05:56s\n",
      "epoch 36 | loss: 0.01889 | val_0_mse: 0.01014 |  0:06:06s\n",
      "epoch 37 | loss: 0.01644 | val_0_mse: 0.01188 |  0:06:16s\n",
      "epoch 38 | loss: 0.0159  | val_0_mse: 0.00898 |  0:06:26s\n",
      "epoch 39 | loss: 0.01605 | val_0_mse: 0.04188 |  0:06:37s\n",
      "epoch 40 | loss: 0.01249 | val_0_mse: 0.01323 |  0:06:47s\n",
      "epoch 41 | loss: 0.01168 | val_0_mse: 0.00664 |  0:06:57s\n",
      "epoch 42 | loss: 0.01435 | val_0_mse: 0.01    |  0:07:07s\n",
      "epoch 43 | loss: 0.01668 | val_0_mse: 0.02372 |  0:07:17s\n",
      "epoch 44 | loss: 0.02699 | val_0_mse: 0.01611 |  0:07:27s\n",
      "epoch 45 | loss: 0.02017 | val_0_mse: 0.02921 |  0:07:37s\n",
      "epoch 46 | loss: 0.01601 | val_0_mse: 0.02336 |  0:07:47s\n",
      "epoch 47 | loss: 0.01455 | val_0_mse: 0.02596 |  0:07:57s\n",
      "epoch 48 | loss: 0.01415 | val_0_mse: 0.00972 |  0:08:07s\n",
      "epoch 49 | loss: 0.01488 | val_0_mse: 0.01634 |  0:08:17s\n",
      "epoch 50 | loss: 0.01546 | val_0_mse: 0.02599 |  0:08:27s\n",
      "epoch 51 | loss: 0.0192  | val_0_mse: 0.03158 |  0:08:37s\n",
      "\n",
      "Early stopping occurred at epoch 51 with best_epoch = 41 and best_val_0_mse = 0.00664\n"
     ]
    },
    {
     "name": "stderr",
     "output_type": "stream",
     "text": [
      "/opt/homebrew/Caskroom/miniforge/base/envs/mlp/lib/python3.10/site-packages/pytorch_tabnet/callbacks.py:172: UserWarning: Best weights from best epoch are automatically used!\n",
      "  warnings.warn(wrn_msg)\n"
     ]
    },
    {
     "name": "stdout",
     "output_type": "stream",
     "text": [
      "Model MSE: 0.007129 - Best MSE: 0.005215\n",
      "Model R2 Score: 0.967840 - Best R2 Score: 0.976475\n",
      "\n",
      "Iterations 16/72 - Hyperparameters:  batch_sizes=32, nums_epochs=200, n_d=16, n_a=16, n_step=7, n_indipendent=2, n_shared=3, gamma=1.3, epsilon=1e-08\n"
     ]
    },
    {
     "name": "stderr",
     "output_type": "stream",
     "text": [
      "/opt/homebrew/Caskroom/miniforge/base/envs/mlp/lib/python3.10/site-packages/pytorch_tabnet/abstract_model.py:75: UserWarning: Device used : cpu\n",
      "  warnings.warn(f\"Device used : {self.device}\")\n"
     ]
    },
    {
     "name": "stdout",
     "output_type": "stream",
     "text": [
      "epoch 0  | loss: 1.46883 | val_0_mse: 0.52826 |  0:00:31s\n",
      "epoch 1  | loss: 0.16932 | val_0_mse: 0.23601 |  0:01:01s\n",
      "epoch 2  | loss: 0.14584 | val_0_mse: 0.11229 |  0:01:33s\n",
      "epoch 3  | loss: 0.10042 | val_0_mse: 0.06008 |  0:02:04s\n",
      "epoch 4  | loss: 0.07923 | val_0_mse: 0.08427 |  0:02:35s\n",
      "epoch 5  | loss: 0.08689 | val_0_mse: 0.06031 |  0:03:06s\n",
      "epoch 6  | loss: 0.07675 | val_0_mse: 0.07081 |  0:03:38s\n",
      "epoch 7  | loss: 0.07226 | val_0_mse: 0.05821 |  0:04:09s\n",
      "epoch 8  | loss: 0.06945 | val_0_mse: 0.07766 |  0:04:40s\n",
      "epoch 9  | loss: 0.0624  | val_0_mse: 0.0517  |  0:05:11s\n",
      "epoch 10 | loss: 0.0573  | val_0_mse: 0.0688  |  0:05:42s\n",
      "epoch 11 | loss: 0.05431 | val_0_mse: 0.07239 |  0:06:13s\n",
      "epoch 12 | loss: 0.05618 | val_0_mse: 0.03831 |  0:06:44s\n",
      "epoch 13 | loss: 0.04871 | val_0_mse: 0.0482  |  0:07:15s\n",
      "epoch 14 | loss: 0.04652 | val_0_mse: 0.03199 |  0:07:46s\n",
      "epoch 15 | loss: 0.03903 | val_0_mse: 0.02532 |  0:08:17s\n",
      "epoch 16 | loss: 0.03579 | val_0_mse: 0.02983 |  0:08:48s\n",
      "epoch 17 | loss: 0.03189 | val_0_mse: 0.01829 |  0:09:19s\n",
      "epoch 18 | loss: 0.02755 | val_0_mse: 0.02647 |  0:09:50s\n",
      "epoch 19 | loss: 0.03565 | val_0_mse: 0.0253  |  0:10:21s\n",
      "epoch 20 | loss: 0.03329 | val_0_mse: 0.02727 |  0:10:52s\n",
      "epoch 21 | loss: 0.02613 | val_0_mse: 0.01835 |  0:11:23s\n",
      "epoch 22 | loss: 0.02659 | val_0_mse: 0.02912 |  0:11:54s\n",
      "epoch 23 | loss: 0.02968 | val_0_mse: 0.04115 |  0:12:25s\n",
      "epoch 24 | loss: 0.02537 | val_0_mse: 0.01531 |  0:12:56s\n",
      "epoch 25 | loss: 0.02716 | val_0_mse: 0.01672 |  0:13:27s\n",
      "epoch 26 | loss: 0.02555 | val_0_mse: 0.02279 |  0:13:58s\n",
      "epoch 27 | loss: 0.02218 | val_0_mse: 0.02458 |  0:14:29s\n",
      "epoch 28 | loss: 0.02348 | val_0_mse: 0.07716 |  0:15:01s\n",
      "epoch 29 | loss: 0.02194 | val_0_mse: 0.02254 |  0:15:32s\n",
      "epoch 30 | loss: 0.0213  | val_0_mse: 0.02891 |  0:16:03s\n",
      "epoch 31 | loss: 0.02445 | val_0_mse: 0.015   |  0:16:34s\n",
      "epoch 32 | loss: 0.02127 | val_0_mse: 0.04473 |  0:17:05s\n",
      "epoch 33 | loss: 0.01898 | val_0_mse: 0.01212 |  0:17:36s\n",
      "epoch 34 | loss: 0.01809 | val_0_mse: 0.00821 |  0:18:08s\n",
      "epoch 35 | loss: 0.02148 | val_0_mse: 0.01545 |  0:18:38s\n",
      "epoch 36 | loss: 0.01948 | val_0_mse: 0.07689 |  0:19:09s\n",
      "epoch 37 | loss: 0.02121 | val_0_mse: 0.0108  |  0:19:40s\n",
      "epoch 38 | loss: 0.01779 | val_0_mse: 0.02009 |  0:20:11s\n",
      "epoch 39 | loss: 0.01952 | val_0_mse: 0.02531 |  0:20:42s\n",
      "epoch 40 | loss: 0.02266 | val_0_mse: 0.04419 |  0:21:13s\n",
      "epoch 41 | loss: 0.01941 | val_0_mse: 0.03008 |  0:21:43s\n",
      "epoch 42 | loss: 0.01739 | val_0_mse: 0.02279 |  0:22:14s\n",
      "epoch 43 | loss: 0.01648 | val_0_mse: 0.01036 |  0:22:45s\n",
      "epoch 44 | loss: 0.01805 | val_0_mse: 0.03063 |  0:23:16s\n",
      "\n",
      "Early stopping occurred at epoch 44 with best_epoch = 34 and best_val_0_mse = 0.00821\n"
     ]
    },
    {
     "name": "stderr",
     "output_type": "stream",
     "text": [
      "/opt/homebrew/Caskroom/miniforge/base/envs/mlp/lib/python3.10/site-packages/pytorch_tabnet/callbacks.py:172: UserWarning: Best weights from best epoch are automatically used!\n",
      "  warnings.warn(wrn_msg)\n"
     ]
    },
    {
     "name": "stdout",
     "output_type": "stream",
     "text": [
      "Model MSE: 0.008081 - Best MSE: 0.005215\n",
      "Model R2 Score: 0.963544 - Best R2 Score: 0.976475\n",
      "\n",
      "Iterations 17/72 - Hyperparameters:  batch_sizes=64, nums_epochs=200, n_d=16, n_a=16, n_step=7, n_indipendent=2, n_shared=3, gamma=1.3, epsilon=1e-08\n"
     ]
    },
    {
     "name": "stderr",
     "output_type": "stream",
     "text": [
      "/opt/homebrew/Caskroom/miniforge/base/envs/mlp/lib/python3.10/site-packages/pytorch_tabnet/abstract_model.py:75: UserWarning: Device used : cpu\n",
      "  warnings.warn(f\"Device used : {self.device}\")\n"
     ]
    },
    {
     "name": "stdout",
     "output_type": "stream",
     "text": [
      "epoch 0  | loss: 1.89052 | val_0_mse: 0.25203 |  0:00:17s\n",
      "epoch 1  | loss: 0.21931 | val_0_mse: 0.19828 |  0:00:35s\n",
      "epoch 2  | loss: 0.15153 | val_0_mse: 0.07581 |  0:00:53s\n",
      "epoch 3  | loss: 0.11576 | val_0_mse: 0.13428 |  0:01:11s\n",
      "epoch 4  | loss: 0.10022 | val_0_mse: 0.0888  |  0:01:29s\n",
      "epoch 5  | loss: 0.08201 | val_0_mse: 0.06176 |  0:01:47s\n",
      "epoch 6  | loss: 0.07922 | val_0_mse: 0.06483 |  0:02:05s\n",
      "epoch 7  | loss: 0.06875 | val_0_mse: 0.06366 |  0:02:23s\n",
      "epoch 8  | loss: 0.0792  | val_0_mse: 0.07165 |  0:02:41s\n",
      "epoch 9  | loss: 0.07332 | val_0_mse: 0.06168 |  0:02:59s\n",
      "epoch 10 | loss: 0.07064 | val_0_mse: 0.07558 |  0:03:16s\n",
      "epoch 11 | loss: 0.05924 | val_0_mse: 0.13253 |  0:03:33s\n",
      "epoch 12 | loss: 0.06524 | val_0_mse: 0.06196 |  0:03:50s\n",
      "epoch 13 | loss: 0.06336 | val_0_mse: 0.05746 |  0:04:07s\n",
      "epoch 14 | loss: 0.05782 | val_0_mse: 0.04171 |  0:04:24s\n",
      "epoch 15 | loss: 0.04804 | val_0_mse: 0.04418 |  0:04:41s\n",
      "epoch 16 | loss: 0.04218 | val_0_mse: 0.03027 |  0:04:58s\n",
      "epoch 17 | loss: 0.03983 | val_0_mse: 0.03073 |  0:05:15s\n",
      "epoch 18 | loss: 0.03173 | val_0_mse: 0.0228  |  0:05:32s\n",
      "epoch 19 | loss: 0.03138 | val_0_mse: 0.02927 |  0:05:49s\n",
      "epoch 20 | loss: 0.03182 | val_0_mse: 0.06051 |  0:06:06s\n",
      "epoch 21 | loss: 0.0272  | val_0_mse: 0.01643 |  0:06:23s\n",
      "epoch 22 | loss: 0.02378 | val_0_mse: 0.04491 |  0:06:40s\n",
      "epoch 23 | loss: 0.02368 | val_0_mse: 0.02163 |  0:06:57s\n",
      "epoch 24 | loss: 0.02233 | val_0_mse: 0.01702 |  0:07:14s\n",
      "epoch 25 | loss: 0.02158 | val_0_mse: 0.02422 |  0:07:31s\n",
      "epoch 26 | loss: 0.0243  | val_0_mse: 0.01084 |  0:07:48s\n",
      "epoch 27 | loss: 0.02249 | val_0_mse: 0.01821 |  0:08:05s\n",
      "epoch 28 | loss: 0.02015 | val_0_mse: 0.00934 |  0:08:22s\n",
      "epoch 29 | loss: 0.01755 | val_0_mse: 0.01605 |  0:08:39s\n",
      "epoch 30 | loss: 0.02395 | val_0_mse: 0.16689 |  0:08:56s\n",
      "epoch 31 | loss: 0.01797 | val_0_mse: 0.03488 |  0:09:13s\n",
      "epoch 32 | loss: 0.01593 | val_0_mse: 0.01619 |  0:09:30s\n",
      "epoch 33 | loss: 0.01651 | val_0_mse: 0.02555 |  0:09:47s\n",
      "epoch 34 | loss: 0.01553 | val_0_mse: 0.0108  |  0:10:04s\n",
      "epoch 35 | loss: 0.0192  | val_0_mse: 0.00836 |  0:10:21s\n",
      "epoch 36 | loss: 0.01598 | val_0_mse: 0.00866 |  0:10:38s\n",
      "epoch 37 | loss: 0.01811 | val_0_mse: 0.02041 |  0:10:55s\n",
      "epoch 38 | loss: 0.01755 | val_0_mse: 0.0091  |  0:11:12s\n",
      "epoch 39 | loss: 0.01865 | val_0_mse: 0.03745 |  0:11:29s\n",
      "epoch 40 | loss: 0.01879 | val_0_mse: 0.01206 |  0:11:46s\n",
      "epoch 41 | loss: 0.01832 | val_0_mse: 0.01597 |  0:12:02s\n",
      "epoch 42 | loss: 0.01357 | val_0_mse: 0.01053 |  0:12:19s\n",
      "epoch 43 | loss: 0.02006 | val_0_mse: 0.03987 |  0:12:36s\n",
      "epoch 44 | loss: 0.01563 | val_0_mse: 0.01342 |  0:12:53s\n",
      "epoch 45 | loss: 0.01219 | val_0_mse: 0.00717 |  0:13:10s\n",
      "epoch 46 | loss: 0.01455 | val_0_mse: 0.00865 |  0:13:27s\n",
      "epoch 47 | loss: 0.01392 | val_0_mse: 0.00718 |  0:13:44s\n",
      "epoch 48 | loss: 0.01499 | val_0_mse: 0.01256 |  0:14:01s\n",
      "epoch 49 | loss: 0.01507 | val_0_mse: 0.00637 |  0:14:17s\n",
      "epoch 50 | loss: 0.01355 | val_0_mse: 0.01581 |  0:14:34s\n",
      "epoch 51 | loss: 0.01297 | val_0_mse: 0.00836 |  0:14:51s\n",
      "epoch 52 | loss: 0.01384 | val_0_mse: 0.00907 |  0:15:09s\n",
      "epoch 53 | loss: 0.01888 | val_0_mse: 0.00685 |  0:15:25s\n",
      "epoch 54 | loss: 0.0165  | val_0_mse: 0.01185 |  0:15:42s\n",
      "epoch 55 | loss: 0.01405 | val_0_mse: 0.01868 |  0:15:59s\n",
      "epoch 56 | loss: 0.01456 | val_0_mse: 0.00775 |  0:16:16s\n",
      "epoch 57 | loss: 0.01514 | val_0_mse: 0.00871 |  0:16:33s\n",
      "epoch 58 | loss: 0.01449 | val_0_mse: 0.00626 |  0:16:50s\n",
      "epoch 59 | loss: 0.01427 | val_0_mse: 0.01053 |  0:17:07s\n",
      "epoch 60 | loss: 0.01337 | val_0_mse: 0.01028 |  0:17:24s\n",
      "epoch 61 | loss: 0.01351 | val_0_mse: 0.01776 |  0:17:41s\n",
      "epoch 62 | loss: 0.0171  | val_0_mse: 0.02288 |  0:17:58s\n",
      "epoch 63 | loss: 0.01468 | val_0_mse: 0.00633 |  0:18:15s\n",
      "epoch 64 | loss: 0.01144 | val_0_mse: 0.02342 |  0:18:32s\n",
      "epoch 65 | loss: 0.01409 | val_0_mse: 0.0069  |  0:18:49s\n",
      "epoch 66 | loss: 0.01809 | val_0_mse: 0.04481 |  0:19:06s\n",
      "epoch 67 | loss: 0.01602 | val_0_mse: 0.0161  |  0:19:23s\n",
      "epoch 68 | loss: 0.01283 | val_0_mse: 0.00889 |  0:19:40s\n",
      "\n",
      "Early stopping occurred at epoch 68 with best_epoch = 58 and best_val_0_mse = 0.00626\n"
     ]
    },
    {
     "name": "stderr",
     "output_type": "stream",
     "text": [
      "/opt/homebrew/Caskroom/miniforge/base/envs/mlp/lib/python3.10/site-packages/pytorch_tabnet/callbacks.py:172: UserWarning: Best weights from best epoch are automatically used!\n",
      "  warnings.warn(wrn_msg)\n"
     ]
    },
    {
     "name": "stdout",
     "output_type": "stream",
     "text": [
      "Model MSE: 0.006646 - Best MSE: 0.005215\n",
      "Model R2 Score: 0.970018 - Best R2 Score: 0.976475\n",
      "\n",
      "Iterations 18/72 - Hyperparameters:  batch_sizes=128, nums_epochs=200, n_d=16, n_a=16, n_step=7, n_indipendent=2, n_shared=3, gamma=1.3, epsilon=1e-08\n"
     ]
    },
    {
     "name": "stderr",
     "output_type": "stream",
     "text": [
      "/opt/homebrew/Caskroom/miniforge/base/envs/mlp/lib/python3.10/site-packages/pytorch_tabnet/abstract_model.py:75: UserWarning: Device used : cpu\n",
      "  warnings.warn(f\"Device used : {self.device}\")\n"
     ]
    },
    {
     "name": "stdout",
     "output_type": "stream",
     "text": [
      "epoch 0  | loss: 2.59417 | val_0_mse: 0.50761 |  0:00:10s\n",
      "epoch 1  | loss: 0.69847 | val_0_mse: 0.18381 |  0:00:22s\n",
      "epoch 2  | loss: 0.23715 | val_0_mse: 0.30488 |  0:00:33s\n",
      "epoch 3  | loss: 0.1538  | val_0_mse: 0.13812 |  0:00:46s\n",
      "epoch 4  | loss: 0.12917 | val_0_mse: 0.09532 |  0:00:57s\n",
      "epoch 5  | loss: 0.10993 | val_0_mse: 0.07416 |  0:01:08s\n",
      "epoch 6  | loss: 0.08698 | val_0_mse: 0.08308 |  0:01:18s\n",
      "epoch 7  | loss: 0.07897 | val_0_mse: 0.08261 |  0:01:28s\n",
      "epoch 8  | loss: 0.07809 | val_0_mse: 0.06861 |  0:01:38s\n",
      "epoch 9  | loss: 0.08068 | val_0_mse: 0.07816 |  0:01:50s\n",
      "epoch 10 | loss: 0.06893 | val_0_mse: 0.06391 |  0:02:00s\n",
      "epoch 11 | loss: 0.05964 | val_0_mse: 0.05734 |  0:02:11s\n",
      "epoch 12 | loss: 0.04964 | val_0_mse: 0.04541 |  0:02:21s\n",
      "epoch 13 | loss: 0.04359 | val_0_mse: 0.04066 |  0:02:31s\n",
      "epoch 14 | loss: 0.0428  | val_0_mse: 0.04026 |  0:02:41s\n",
      "epoch 15 | loss: 0.04055 | val_0_mse: 0.03489 |  0:02:52s\n",
      "epoch 16 | loss: 0.03115 | val_0_mse: 0.02912 |  0:03:03s\n",
      "epoch 17 | loss: 0.03013 | val_0_mse: 0.01771 |  0:03:14s\n",
      "epoch 18 | loss: 0.04048 | val_0_mse: 0.02128 |  0:03:25s\n",
      "epoch 19 | loss: 0.02968 | val_0_mse: 0.034   |  0:03:36s\n",
      "epoch 20 | loss: 0.03539 | val_0_mse: 0.02072 |  0:03:47s\n",
      "epoch 21 | loss: 0.02428 | val_0_mse: 0.01497 |  0:03:57s\n",
      "epoch 22 | loss: 0.02195 | val_0_mse: 0.01343 |  0:04:08s\n",
      "epoch 23 | loss: 0.01922 | val_0_mse: 0.01206 |  0:04:18s\n",
      "epoch 24 | loss: 0.01847 | val_0_mse: 0.01325 |  0:04:28s\n",
      "epoch 25 | loss: 0.01948 | val_0_mse: 0.01226 |  0:04:38s\n",
      "epoch 26 | loss: 0.01967 | val_0_mse: 0.01171 |  0:04:49s\n",
      "epoch 27 | loss: 0.01981 | val_0_mse: 0.01171 |  0:04:59s\n",
      "epoch 28 | loss: 0.01625 | val_0_mse: 0.02269 |  0:05:09s\n",
      "epoch 29 | loss: 0.01558 | val_0_mse: 0.01125 |  0:05:21s\n",
      "epoch 30 | loss: 0.01446 | val_0_mse: 0.015   |  0:05:31s\n",
      "epoch 31 | loss: 0.01404 | val_0_mse: 0.02516 |  0:05:41s\n",
      "epoch 32 | loss: 0.01526 | val_0_mse: 0.01108 |  0:05:51s\n",
      "epoch 33 | loss: 0.01326 | val_0_mse: 0.01025 |  0:06:01s\n",
      "epoch 34 | loss: 0.01191 | val_0_mse: 0.0154  |  0:06:11s\n",
      "epoch 35 | loss: 0.01199 | val_0_mse: 0.01619 |  0:06:22s\n",
      "epoch 36 | loss: 0.01295 | val_0_mse: 0.01854 |  0:06:32s\n",
      "epoch 37 | loss: 0.01187 | val_0_mse: 0.00953 |  0:06:42s\n",
      "epoch 38 | loss: 0.01254 | val_0_mse: 0.00954 |  0:06:52s\n",
      "epoch 39 | loss: 0.01319 | val_0_mse: 0.01029 |  0:07:02s\n",
      "epoch 40 | loss: 0.01184 | val_0_mse: 0.02101 |  0:07:12s\n",
      "epoch 41 | loss: 0.01151 | val_0_mse: 0.00738 |  0:07:22s\n",
      "epoch 42 | loss: 0.00994 | val_0_mse: 0.01055 |  0:07:32s\n",
      "epoch 43 | loss: 0.01196 | val_0_mse: 0.00778 |  0:07:43s\n",
      "epoch 44 | loss: 0.01151 | val_0_mse: 0.01902 |  0:07:53s\n",
      "epoch 45 | loss: 0.01246 | val_0_mse: 0.01028 |  0:08:03s\n",
      "epoch 46 | loss: 0.01013 | val_0_mse: 0.01012 |  0:08:13s\n",
      "epoch 47 | loss: 0.01641 | val_0_mse: 0.01177 |  0:08:23s\n",
      "epoch 48 | loss: 0.01049 | val_0_mse: 0.00885 |  0:08:33s\n",
      "epoch 49 | loss: 0.01816 | val_0_mse: 0.07116 |  0:08:43s\n",
      "epoch 50 | loss: 0.01749 | val_0_mse: 0.02199 |  0:08:53s\n",
      "epoch 51 | loss: 0.01541 | val_0_mse: 0.01705 |  0:09:04s\n",
      "\n",
      "Early stopping occurred at epoch 51 with best_epoch = 41 and best_val_0_mse = 0.00738\n"
     ]
    },
    {
     "name": "stderr",
     "output_type": "stream",
     "text": [
      "/opt/homebrew/Caskroom/miniforge/base/envs/mlp/lib/python3.10/site-packages/pytorch_tabnet/callbacks.py:172: UserWarning: Best weights from best epoch are automatically used!\n",
      "  warnings.warn(wrn_msg)\n"
     ]
    },
    {
     "name": "stdout",
     "output_type": "stream",
     "text": [
      "Model MSE: 0.006488 - Best MSE: 0.005215\n",
      "Model R2 Score: 0.970733 - Best R2 Score: 0.976475\n",
      "\n",
      "Iterations 19/72 - Hyperparameters:  batch_sizes=32, nums_epochs=200, n_d=16, n_a=16, n_step=7, n_indipendent=3, n_shared=2, gamma=1.3, epsilon=1e-08\n"
     ]
    },
    {
     "name": "stderr",
     "output_type": "stream",
     "text": [
      "/opt/homebrew/Caskroom/miniforge/base/envs/mlp/lib/python3.10/site-packages/pytorch_tabnet/abstract_model.py:75: UserWarning: Device used : cpu\n",
      "  warnings.warn(f\"Device used : {self.device}\")\n"
     ]
    },
    {
     "name": "stdout",
     "output_type": "stream",
     "text": [
      "epoch 0  | loss: 0.81309 | val_0_mse: 0.12021 |  0:00:30s\n",
      "epoch 1  | loss: 0.12349 | val_0_mse: 0.07199 |  0:01:01s\n",
      "epoch 2  | loss: 0.10574 | val_0_mse: 0.16697 |  0:01:32s\n",
      "epoch 3  | loss: 0.09596 | val_0_mse: 0.09816 |  0:02:03s\n",
      "epoch 4  | loss: 0.07883 | val_0_mse: 0.05383 |  0:02:34s\n",
      "epoch 5  | loss: 0.07184 | val_0_mse: 0.05237 |  0:03:04s\n",
      "epoch 6  | loss: 0.06513 | val_0_mse: 0.04728 |  0:03:35s\n",
      "epoch 7  | loss: 0.06301 | val_0_mse: 0.03805 |  0:04:06s\n",
      "epoch 8  | loss: 0.05847 | val_0_mse: 0.05282 |  0:04:37s\n",
      "epoch 9  | loss: 0.05165 | val_0_mse: 0.03874 |  0:05:08s\n",
      "epoch 10 | loss: 0.03613 | val_0_mse: 0.04118 |  0:05:39s\n",
      "epoch 11 | loss: 0.04433 | val_0_mse: 0.0306  |  0:06:11s\n",
      "epoch 12 | loss: 0.05145 | val_0_mse: 0.02061 |  0:06:42s\n",
      "epoch 13 | loss: 0.04393 | val_0_mse: 0.01837 |  0:07:13s\n",
      "epoch 14 | loss: 0.03051 | val_0_mse: 0.03431 |  0:07:44s\n",
      "epoch 15 | loss: 0.034   | val_0_mse: 0.01669 |  0:08:15s\n",
      "epoch 16 | loss: 0.03138 | val_0_mse: 0.11073 |  0:08:45s\n",
      "epoch 17 | loss: 0.02801 | val_0_mse: 0.01894 |  0:09:16s\n",
      "epoch 18 | loss: 0.03325 | val_0_mse: 0.01945 |  0:09:47s\n",
      "epoch 19 | loss: 0.03156 | val_0_mse: 0.01925 |  0:10:18s\n",
      "epoch 20 | loss: 0.03033 | val_0_mse: 0.0162  |  0:10:49s\n",
      "epoch 21 | loss: 0.02421 | val_0_mse: 0.00806 |  0:11:19s\n",
      "epoch 22 | loss: 0.0272  | val_0_mse: 0.01996 |  0:11:50s\n",
      "epoch 23 | loss: 0.02247 | val_0_mse: 0.04426 |  0:12:21s\n",
      "epoch 24 | loss: 0.02442 | val_0_mse: 0.02567 |  0:12:52s\n",
      "epoch 25 | loss: 0.02323 | val_0_mse: 0.02371 |  0:13:23s\n",
      "epoch 26 | loss: 0.02321 | val_0_mse: 0.02529 |  0:13:54s\n",
      "epoch 27 | loss: 0.0256  | val_0_mse: 0.03575 |  0:14:25s\n",
      "epoch 28 | loss: 0.02191 | val_0_mse: 0.00786 |  0:14:56s\n",
      "epoch 29 | loss: 0.0192  | val_0_mse: 0.01362 |  0:15:26s\n",
      "epoch 30 | loss: 0.02546 | val_0_mse: 0.01584 |  0:15:57s\n",
      "epoch 31 | loss: 0.02517 | val_0_mse: 0.02883 |  0:16:28s\n",
      "epoch 32 | loss: 0.0204  | val_0_mse: 0.04463 |  0:16:59s\n",
      "epoch 33 | loss: 0.02565 | val_0_mse: 0.01955 |  0:17:30s\n",
      "epoch 34 | loss: 0.02366 | val_0_mse: 0.02014 |  0:18:01s\n",
      "epoch 35 | loss: 0.02263 | val_0_mse: 0.01905 |  0:18:32s\n",
      "epoch 36 | loss: 0.02148 | val_0_mse: 0.05092 |  0:19:03s\n",
      "epoch 37 | loss: 0.02303 | val_0_mse: 0.01841 |  0:19:33s\n",
      "epoch 38 | loss: 0.01874 | val_0_mse: 0.00922 |  0:20:04s\n",
      "\n",
      "Early stopping occurred at epoch 38 with best_epoch = 28 and best_val_0_mse = 0.00786\n"
     ]
    },
    {
     "name": "stderr",
     "output_type": "stream",
     "text": [
      "/opt/homebrew/Caskroom/miniforge/base/envs/mlp/lib/python3.10/site-packages/pytorch_tabnet/callbacks.py:172: UserWarning: Best weights from best epoch are automatically used!\n",
      "  warnings.warn(wrn_msg)\n"
     ]
    },
    {
     "name": "stdout",
     "output_type": "stream",
     "text": [
      "Model MSE: 0.010023 - Best MSE: 0.005215\n",
      "Model R2 Score: 0.954784 - Best R2 Score: 0.976475\n",
      "\n",
      "Iterations 20/72 - Hyperparameters:  batch_sizes=64, nums_epochs=200, n_d=16, n_a=16, n_step=7, n_indipendent=3, n_shared=2, gamma=1.3, epsilon=1e-08\n"
     ]
    },
    {
     "name": "stderr",
     "output_type": "stream",
     "text": [
      "/opt/homebrew/Caskroom/miniforge/base/envs/mlp/lib/python3.10/site-packages/pytorch_tabnet/abstract_model.py:75: UserWarning: Device used : cpu\n",
      "  warnings.warn(f\"Device used : {self.device}\")\n"
     ]
    },
    {
     "name": "stdout",
     "output_type": "stream",
     "text": [
      "epoch 0  | loss: 1.39398 | val_0_mse: 0.67688 |  0:00:17s\n",
      "epoch 1  | loss: 0.20397 | val_0_mse: 0.12653 |  0:00:34s\n",
      "epoch 2  | loss: 0.12128 | val_0_mse: 0.09648 |  0:00:51s\n",
      "epoch 3  | loss: 0.10494 | val_0_mse: 0.07841 |  0:01:08s\n",
      "epoch 4  | loss: 0.09736 | val_0_mse: 0.07639 |  0:01:25s\n",
      "epoch 5  | loss: 0.086   | val_0_mse: 0.06519 |  0:01:43s\n",
      "epoch 6  | loss: 0.09059 | val_0_mse: 0.05649 |  0:02:00s\n",
      "epoch 7  | loss: 0.05777 | val_0_mse: 0.04694 |  0:02:17s\n",
      "epoch 8  | loss: 0.05511 | val_0_mse: 0.03867 |  0:02:34s\n",
      "epoch 9  | loss: 0.05864 | val_0_mse: 0.04257 |  0:02:51s\n",
      "epoch 10 | loss: 0.04433 | val_0_mse: 0.03889 |  0:03:08s\n",
      "epoch 11 | loss: 0.0506  | val_0_mse: 0.07788 |  0:03:25s\n",
      "epoch 12 | loss: 0.03993 | val_0_mse: 0.06327 |  0:03:42s\n",
      "epoch 13 | loss: 0.05461 | val_0_mse: 0.03652 |  0:03:59s\n",
      "epoch 14 | loss: 0.03444 | val_0_mse: 0.01541 |  0:04:17s\n",
      "epoch 15 | loss: 0.03323 | val_0_mse: 0.02241 |  0:04:34s\n",
      "epoch 16 | loss: 0.03134 | val_0_mse: 0.01135 |  0:04:51s\n",
      "epoch 17 | loss: 0.02673 | val_0_mse: 0.01126 |  0:05:08s\n",
      "epoch 18 | loss: 0.02831 | val_0_mse: 0.04327 |  0:05:25s\n",
      "epoch 19 | loss: 0.02276 | val_0_mse: 0.02093 |  0:05:42s\n",
      "epoch 20 | loss: 0.02547 | val_0_mse: 0.0323  |  0:05:59s\n",
      "epoch 21 | loss: 0.02541 | val_0_mse: 0.02693 |  0:06:16s\n",
      "epoch 22 | loss: 0.02181 | val_0_mse: 0.01282 |  0:06:33s\n",
      "epoch 23 | loss: 0.02404 | val_0_mse: 0.01239 |  0:06:50s\n",
      "epoch 24 | loss: 0.02323 | val_0_mse: 0.0192  |  0:07:07s\n",
      "epoch 25 | loss: 0.02217 | val_0_mse: 0.01547 |  0:07:24s\n",
      "epoch 26 | loss: 0.02191 | val_0_mse: 0.01519 |  0:07:41s\n",
      "epoch 27 | loss: 0.01943 | val_0_mse: 0.04076 |  0:07:58s\n",
      "\n",
      "Early stopping occurred at epoch 27 with best_epoch = 17 and best_val_0_mse = 0.01126\n"
     ]
    },
    {
     "name": "stderr",
     "output_type": "stream",
     "text": [
      "/opt/homebrew/Caskroom/miniforge/base/envs/mlp/lib/python3.10/site-packages/pytorch_tabnet/callbacks.py:172: UserWarning: Best weights from best epoch are automatically used!\n",
      "  warnings.warn(wrn_msg)\n"
     ]
    },
    {
     "name": "stdout",
     "output_type": "stream",
     "text": [
      "Model MSE: 0.011778 - Best MSE: 0.005215\n",
      "Model R2 Score: 0.946866 - Best R2 Score: 0.976475\n",
      "\n",
      "Iterations 21/72 - Hyperparameters:  batch_sizes=128, nums_epochs=200, n_d=16, n_a=16, n_step=7, n_indipendent=3, n_shared=2, gamma=1.3, epsilon=1e-08\n"
     ]
    },
    {
     "name": "stderr",
     "output_type": "stream",
     "text": [
      "/opt/homebrew/Caskroom/miniforge/base/envs/mlp/lib/python3.10/site-packages/pytorch_tabnet/abstract_model.py:75: UserWarning: Device used : cpu\n",
      "  warnings.warn(f\"Device used : {self.device}\")\n"
     ]
    },
    {
     "name": "stdout",
     "output_type": "stream",
     "text": [
      "epoch 0  | loss: 1.97965 | val_0_mse: 0.61757 |  0:00:10s\n",
      "epoch 1  | loss: 0.40068 | val_0_mse: 0.28953 |  0:00:20s\n",
      "epoch 2  | loss: 0.18928 | val_0_mse: 0.13878 |  0:00:30s\n",
      "epoch 3  | loss: 0.12585 | val_0_mse: 0.09089 |  0:00:40s\n",
      "epoch 4  | loss: 0.10651 | val_0_mse: 0.08234 |  0:00:50s\n",
      "epoch 5  | loss: 0.08782 | val_0_mse: 0.07783 |  0:01:00s\n",
      "epoch 6  | loss: 0.08568 | val_0_mse: 0.09571 |  0:01:10s\n",
      "epoch 7  | loss: 0.0748  | val_0_mse: 0.08866 |  0:01:21s\n",
      "epoch 8  | loss: 0.07096 | val_0_mse: 0.06154 |  0:01:31s\n",
      "epoch 9  | loss: 0.06496 | val_0_mse: 0.08406 |  0:01:41s\n",
      "epoch 10 | loss: 0.07175 | val_0_mse: 0.06707 |  0:01:51s\n",
      "epoch 11 | loss: 0.0721  | val_0_mse: 0.08411 |  0:02:01s\n",
      "epoch 12 | loss: 0.0828  | val_0_mse: 0.07073 |  0:02:12s\n",
      "epoch 13 | loss: 0.0789  | val_0_mse: 0.06294 |  0:02:22s\n",
      "epoch 14 | loss: 0.06521 | val_0_mse: 0.06292 |  0:02:32s\n",
      "epoch 15 | loss: 0.06366 | val_0_mse: 0.05383 |  0:02:42s\n",
      "epoch 16 | loss: 0.06649 | val_0_mse: 0.05692 |  0:02:52s\n",
      "epoch 17 | loss: 0.06205 | val_0_mse: 0.06822 |  0:03:02s\n",
      "epoch 18 | loss: 0.05988 | val_0_mse: 0.06965 |  0:03:12s\n",
      "epoch 19 | loss: 0.05056 | val_0_mse: 0.05589 |  0:03:22s\n",
      "epoch 20 | loss: 0.05178 | val_0_mse: 0.06793 |  0:03:32s\n",
      "epoch 21 | loss: 0.0542  | val_0_mse: 0.05934 |  0:03:42s\n",
      "epoch 22 | loss: 0.05626 | val_0_mse: 0.05613 |  0:03:52s\n",
      "epoch 23 | loss: 0.05326 | val_0_mse: 0.05323 |  0:04:03s\n",
      "epoch 24 | loss: 0.04953 | val_0_mse: 0.07346 |  0:04:13s\n",
      "epoch 25 | loss: 0.05354 | val_0_mse: 0.07519 |  0:04:23s\n",
      "epoch 26 | loss: 0.06299 | val_0_mse: 0.04449 |  0:04:33s\n",
      "epoch 27 | loss: 0.04706 | val_0_mse: 0.05538 |  0:04:43s\n",
      "epoch 28 | loss: 0.04809 | val_0_mse: 0.04878 |  0:04:53s\n",
      "epoch 29 | loss: 0.05198 | val_0_mse: 0.04912 |  0:05:03s\n",
      "epoch 30 | loss: 0.04935 | val_0_mse: 0.0578  |  0:05:13s\n",
      "epoch 31 | loss: 0.05004 | val_0_mse: 0.04873 |  0:05:23s\n",
      "epoch 32 | loss: 0.05335 | val_0_mse: 0.05695 |  0:05:33s\n",
      "epoch 33 | loss: 0.049   | val_0_mse: 0.04333 |  0:05:44s\n",
      "epoch 34 | loss: 0.04443 | val_0_mse: 0.04683 |  0:05:54s\n",
      "epoch 35 | loss: 0.04209 | val_0_mse: 0.04156 |  0:06:04s\n",
      "epoch 36 | loss: 0.03988 | val_0_mse: 0.05523 |  0:06:14s\n",
      "epoch 37 | loss: 0.04399 | val_0_mse: 0.03575 |  0:06:24s\n",
      "epoch 38 | loss: 0.03988 | val_0_mse: 0.04615 |  0:06:34s\n",
      "epoch 39 | loss: 0.04136 | val_0_mse: 0.03351 |  0:06:44s\n",
      "epoch 40 | loss: 0.03542 | val_0_mse: 0.02735 |  0:06:54s\n",
      "epoch 41 | loss: 0.02838 | val_0_mse: 0.03496 |  0:07:04s\n",
      "epoch 42 | loss: 0.02432 | val_0_mse: 0.02422 |  0:07:15s\n",
      "epoch 43 | loss: 0.02274 | val_0_mse: 0.01774 |  0:07:25s\n",
      "epoch 44 | loss: 0.02757 | val_0_mse: 0.03336 |  0:07:35s\n",
      "epoch 45 | loss: 0.01881 | val_0_mse: 0.01534 |  0:07:45s\n",
      "epoch 46 | loss: 0.02116 | val_0_mse: 0.01444 |  0:07:55s\n",
      "epoch 47 | loss: 0.01713 | val_0_mse: 0.01349 |  0:08:05s\n",
      "epoch 48 | loss: 0.02024 | val_0_mse: 0.01127 |  0:08:15s\n",
      "epoch 49 | loss: 0.01882 | val_0_mse: 0.01474 |  0:08:25s\n",
      "epoch 50 | loss: 0.01681 | val_0_mse: 0.0112  |  0:08:36s\n",
      "epoch 51 | loss: 0.0205  | val_0_mse: 0.0194  |  0:08:46s\n",
      "epoch 52 | loss: 0.01647 | val_0_mse: 0.01171 |  0:08:56s\n",
      "epoch 53 | loss: 0.01342 | val_0_mse: 0.0103  |  0:09:06s\n",
      "epoch 54 | loss: 0.0175  | val_0_mse: 0.00957 |  0:09:16s\n",
      "epoch 55 | loss: 0.02142 | val_0_mse: 0.02459 |  0:09:26s\n",
      "epoch 56 | loss: 0.01394 | val_0_mse: 0.01016 |  0:09:36s\n",
      "epoch 57 | loss: 0.01701 | val_0_mse: 0.01837 |  0:09:47s\n",
      "epoch 58 | loss: 0.01638 | val_0_mse: 0.01085 |  0:09:57s\n",
      "epoch 59 | loss: 0.01255 | val_0_mse: 0.00946 |  0:10:07s\n",
      "epoch 60 | loss: 0.01393 | val_0_mse: 0.01138 |  0:10:17s\n",
      "epoch 61 | loss: 0.01451 | val_0_mse: 0.01054 |  0:10:27s\n",
      "epoch 62 | loss: 0.01233 | val_0_mse: 0.01202 |  0:10:38s\n",
      "epoch 63 | loss: 0.01557 | val_0_mse: 0.02318 |  0:10:48s\n",
      "epoch 64 | loss: 0.01824 | val_0_mse: 0.03541 |  0:10:58s\n",
      "epoch 65 | loss: 0.01514 | val_0_mse: 0.02347 |  0:11:08s\n",
      "epoch 66 | loss: 0.01314 | val_0_mse: 0.01934 |  0:11:18s\n",
      "epoch 67 | loss: 0.01351 | val_0_mse: 0.01197 |  0:11:28s\n",
      "epoch 68 | loss: 0.01636 | val_0_mse: 0.00891 |  0:11:39s\n",
      "epoch 69 | loss: 0.01097 | val_0_mse: 0.00641 |  0:11:49s\n",
      "epoch 70 | loss: 0.01064 | val_0_mse: 0.00989 |  0:11:59s\n",
      "epoch 71 | loss: 0.01209 | val_0_mse: 0.00874 |  0:12:09s\n",
      "epoch 72 | loss: 0.01893 | val_0_mse: 0.02307 |  0:12:19s\n",
      "epoch 73 | loss: 0.01118 | val_0_mse: 0.00856 |  0:12:29s\n",
      "epoch 74 | loss: 0.00974 | val_0_mse: 0.02315 |  0:12:39s\n",
      "epoch 75 | loss: 0.00938 | val_0_mse: 0.01199 |  0:12:49s\n",
      "epoch 76 | loss: 0.01117 | val_0_mse: 0.01136 |  0:13:00s\n",
      "epoch 77 | loss: 0.01012 | val_0_mse: 0.04165 |  0:13:10s\n",
      "epoch 78 | loss: 0.0116  | val_0_mse: 0.00852 |  0:13:20s\n",
      "epoch 79 | loss: 0.00932 | val_0_mse: 0.00705 |  0:13:30s\n",
      "\n",
      "Early stopping occurred at epoch 79 with best_epoch = 69 and best_val_0_mse = 0.00641\n"
     ]
    },
    {
     "name": "stderr",
     "output_type": "stream",
     "text": [
      "/opt/homebrew/Caskroom/miniforge/base/envs/mlp/lib/python3.10/site-packages/pytorch_tabnet/callbacks.py:172: UserWarning: Best weights from best epoch are automatically used!\n",
      "  warnings.warn(wrn_msg)\n"
     ]
    },
    {
     "name": "stdout",
     "output_type": "stream",
     "text": [
      "Model MSE: 0.006152 - Best MSE: 0.005215\n",
      "Model R2 Score: 0.972247 - Best R2 Score: 0.976475\n",
      "\n",
      "Iterations 22/72 - Hyperparameters:  batch_sizes=32, nums_epochs=200, n_d=16, n_a=16, n_step=7, n_indipendent=3, n_shared=3, gamma=1.3, epsilon=1e-08\n"
     ]
    },
    {
     "name": "stderr",
     "output_type": "stream",
     "text": [
      "/opt/homebrew/Caskroom/miniforge/base/envs/mlp/lib/python3.10/site-packages/pytorch_tabnet/abstract_model.py:75: UserWarning: Device used : cpu\n",
      "  warnings.warn(f\"Device used : {self.device}\")\n"
     ]
    },
    {
     "name": "stdout",
     "output_type": "stream",
     "text": [
      "epoch 0  | loss: 1.10105 | val_0_mse: 0.19532 |  0:00:32s\n",
      "epoch 1  | loss: 0.14562 | val_0_mse: 0.06341 |  0:01:05s\n",
      "epoch 2  | loss: 0.10294 | val_0_mse: 0.06093 |  0:01:38s\n",
      "epoch 3  | loss: 0.08454 | val_0_mse: 0.06853 |  0:02:10s\n",
      "epoch 4  | loss: 0.08002 | val_0_mse: 0.05187 |  0:02:43s\n",
      "epoch 5  | loss: 0.07568 | val_0_mse: 0.13052 |  0:03:16s\n",
      "epoch 6  | loss: 0.07387 | val_0_mse: 0.04917 |  0:03:49s\n",
      "epoch 7  | loss: 0.07358 | val_0_mse: 0.0531  |  0:04:22s\n",
      "epoch 8  | loss: 0.07037 | val_0_mse: 0.05277 |  0:04:55s\n",
      "epoch 9  | loss: 0.0729  | val_0_mse: 0.04892 |  0:05:28s\n",
      "epoch 10 | loss: 0.06892 | val_0_mse: 0.05267 |  0:06:00s\n",
      "epoch 11 | loss: 0.06518 | val_0_mse: 0.05181 |  0:06:33s\n",
      "epoch 12 | loss: 0.06363 | val_0_mse: 0.0576  |  0:07:06s\n",
      "epoch 13 | loss: 0.06762 | val_0_mse: 0.06079 |  0:07:39s\n",
      "epoch 14 | loss: 0.06449 | val_0_mse: 0.04485 |  0:08:12s\n",
      "epoch 15 | loss: 0.06096 | val_0_mse: 0.0458  |  0:08:45s\n",
      "epoch 16 | loss: 0.05807 | val_0_mse: 0.04076 |  0:09:18s\n",
      "epoch 17 | loss: 0.05194 | val_0_mse: 0.03966 |  0:09:50s\n",
      "epoch 18 | loss: 0.05008 | val_0_mse: 0.04062 |  0:10:23s\n",
      "epoch 19 | loss: 0.04452 | val_0_mse: 0.11492 |  0:10:56s\n",
      "epoch 20 | loss: 0.04831 | val_0_mse: 0.03559 |  0:11:29s\n",
      "epoch 21 | loss: 0.0388  | val_0_mse: 0.02102 |  0:12:01s\n",
      "epoch 22 | loss: 0.03522 | val_0_mse: 0.01721 |  0:12:34s\n",
      "epoch 23 | loss: 0.03425 | val_0_mse: 0.035   |  0:13:07s\n",
      "epoch 24 | loss: 0.03958 | val_0_mse: 0.12615 |  0:13:40s\n",
      "epoch 25 | loss: 0.03216 | val_0_mse: 0.04311 |  0:14:13s\n",
      "epoch 26 | loss: 0.03007 | val_0_mse: 0.02323 |  0:14:45s\n",
      "epoch 27 | loss: 0.03225 | val_0_mse: 0.02441 |  0:15:18s\n",
      "epoch 28 | loss: 0.02526 | val_0_mse: 0.02144 |  0:15:56s\n",
      "epoch 29 | loss: 0.02885 | val_0_mse: 0.02266 |  0:16:29s\n",
      "epoch 30 | loss: 0.02574 | val_0_mse: 0.09879 |  0:17:01s\n",
      "epoch 31 | loss: 0.02724 | val_0_mse: 0.0373  |  0:17:34s\n",
      "epoch 32 | loss: 0.02559 | val_0_mse: 0.0232  |  0:18:08s\n",
      "\n",
      "Early stopping occurred at epoch 32 with best_epoch = 22 and best_val_0_mse = 0.01721\n"
     ]
    },
    {
     "name": "stderr",
     "output_type": "stream",
     "text": [
      "/opt/homebrew/Caskroom/miniforge/base/envs/mlp/lib/python3.10/site-packages/pytorch_tabnet/callbacks.py:172: UserWarning: Best weights from best epoch are automatically used!\n",
      "  warnings.warn(wrn_msg)\n"
     ]
    },
    {
     "name": "stdout",
     "output_type": "stream",
     "text": [
      "Model MSE: 0.017711 - Best MSE: 0.005215\n",
      "Model R2 Score: 0.920098 - Best R2 Score: 0.976475\n",
      "\n",
      "Iterations 23/72 - Hyperparameters:  batch_sizes=64, nums_epochs=200, n_d=16, n_a=16, n_step=7, n_indipendent=3, n_shared=3, gamma=1.3, epsilon=1e-08\n"
     ]
    },
    {
     "name": "stderr",
     "output_type": "stream",
     "text": [
      "/opt/homebrew/Caskroom/miniforge/base/envs/mlp/lib/python3.10/site-packages/pytorch_tabnet/abstract_model.py:75: UserWarning: Device used : cpu\n",
      "  warnings.warn(f\"Device used : {self.device}\")\n"
     ]
    },
    {
     "name": "stdout",
     "output_type": "stream",
     "text": [
      "epoch 0  | loss: 1.70053 | val_0_mse: 0.93874 |  0:00:18s\n",
      "epoch 1  | loss: 0.18792 | val_0_mse: 0.18649 |  0:00:35s\n",
      "epoch 2  | loss: 0.11163 | val_0_mse: 0.07144 |  0:00:53s\n",
      "epoch 3  | loss: 0.08331 | val_0_mse: 0.06373 |  0:01:10s\n",
      "epoch 4  | loss: 0.08638 | val_0_mse: 0.06425 |  0:01:28s\n",
      "epoch 5  | loss: 0.0748  | val_0_mse: 0.07804 |  0:01:46s\n",
      "epoch 6  | loss: 0.07265 | val_0_mse: 0.0635  |  0:02:03s\n",
      "epoch 7  | loss: 0.05546 | val_0_mse: 0.03874 |  0:02:21s\n",
      "epoch 8  | loss: 0.0416  | val_0_mse: 0.02743 |  0:02:38s\n",
      "epoch 9  | loss: 0.03737 | val_0_mse: 0.03213 |  0:02:56s\n",
      "epoch 10 | loss: 0.037   | val_0_mse: 0.02462 |  0:03:13s\n",
      "epoch 11 | loss: 0.03148 | val_0_mse: 0.02433 |  0:03:31s\n",
      "epoch 12 | loss: 0.03476 | val_0_mse: 0.01736 |  0:03:49s\n",
      "epoch 13 | loss: 0.02451 | val_0_mse: 0.04336 |  0:04:07s\n",
      "epoch 14 | loss: 0.0345  | val_0_mse: 0.02029 |  0:04:24s\n",
      "epoch 15 | loss: 0.02391 | val_0_mse: 0.02525 |  0:04:42s\n",
      "epoch 16 | loss: 0.02474 | val_0_mse: 0.02502 |  0:05:00s\n",
      "epoch 17 | loss: 0.02576 | val_0_mse: 0.01254 |  0:05:17s\n",
      "epoch 18 | loss: 0.02612 | val_0_mse: 0.0408  |  0:05:35s\n",
      "epoch 19 | loss: 0.02697 | val_0_mse: 0.01427 |  0:05:52s\n",
      "epoch 20 | loss: 0.01862 | val_0_mse: 0.01055 |  0:06:10s\n",
      "epoch 21 | loss: 0.02363 | val_0_mse: 0.00889 |  0:06:28s\n",
      "epoch 22 | loss: 0.01699 | val_0_mse: 0.01833 |  0:06:45s\n",
      "epoch 23 | loss: 0.02327 | val_0_mse: 0.02203 |  0:07:03s\n",
      "epoch 24 | loss: 0.02373 | val_0_mse: 0.02728 |  0:07:21s\n",
      "epoch 25 | loss: 0.01717 | val_0_mse: 0.02544 |  0:07:38s\n",
      "epoch 26 | loss: 0.02137 | val_0_mse: 0.01126 |  0:07:56s\n",
      "epoch 27 | loss: 0.02598 | val_0_mse: 0.08204 |  0:08:14s\n",
      "epoch 28 | loss: 0.02151 | val_0_mse: 0.00794 |  0:08:31s\n",
      "epoch 29 | loss: 0.0287  | val_0_mse: 0.03094 |  0:08:49s\n",
      "epoch 30 | loss: 0.02237 | val_0_mse: 0.03411 |  0:09:06s\n",
      "epoch 31 | loss: 0.02441 | val_0_mse: 0.10181 |  0:09:24s\n",
      "epoch 32 | loss: 0.01938 | val_0_mse: 0.00931 |  0:09:42s\n",
      "epoch 33 | loss: 0.01753 | val_0_mse: 0.04634 |  0:09:59s\n",
      "epoch 34 | loss: 0.02002 | val_0_mse: 0.0679  |  0:10:17s\n",
      "epoch 35 | loss: 0.01915 | val_0_mse: 0.04605 |  0:10:34s\n",
      "epoch 36 | loss: 0.01753 | val_0_mse: 0.01309 |  0:10:52s\n",
      "epoch 37 | loss: 0.01502 | val_0_mse: 0.01803 |  0:11:09s\n",
      "epoch 38 | loss: 0.02191 | val_0_mse: 0.01693 |  0:11:27s\n",
      "\n",
      "Early stopping occurred at epoch 38 with best_epoch = 28 and best_val_0_mse = 0.00794\n"
     ]
    },
    {
     "name": "stderr",
     "output_type": "stream",
     "text": [
      "/opt/homebrew/Caskroom/miniforge/base/envs/mlp/lib/python3.10/site-packages/pytorch_tabnet/callbacks.py:172: UserWarning: Best weights from best epoch are automatically used!\n",
      "  warnings.warn(wrn_msg)\n"
     ]
    },
    {
     "name": "stdout",
     "output_type": "stream",
     "text": [
      "Model MSE: 0.008043 - Best MSE: 0.005215\n",
      "Model R2 Score: 0.963714 - Best R2 Score: 0.976475\n",
      "\n",
      "Iterations 24/72 - Hyperparameters:  batch_sizes=128, nums_epochs=200, n_d=16, n_a=16, n_step=7, n_indipendent=3, n_shared=3, gamma=1.3, epsilon=1e-08\n"
     ]
    },
    {
     "name": "stderr",
     "output_type": "stream",
     "text": [
      "/opt/homebrew/Caskroom/miniforge/base/envs/mlp/lib/python3.10/site-packages/pytorch_tabnet/abstract_model.py:75: UserWarning: Device used : cpu\n",
      "  warnings.warn(f\"Device used : {self.device}\")\n"
     ]
    },
    {
     "name": "stdout",
     "output_type": "stream",
     "text": [
      "epoch 0  | loss: 2.32806 | val_0_mse: 0.42496 |  0:00:10s\n",
      "epoch 1  | loss: 0.45085 | val_0_mse: 0.37315 |  0:00:20s\n",
      "epoch 2  | loss: 0.20061 | val_0_mse: 0.27149 |  0:00:30s\n",
      "epoch 3  | loss: 0.10592 | val_0_mse: 0.12557 |  0:00:40s\n",
      "epoch 4  | loss: 0.11841 | val_0_mse: 0.1208  |  0:00:51s\n",
      "epoch 5  | loss: 0.11519 | val_0_mse: 0.13723 |  0:01:01s\n",
      "epoch 6  | loss: 0.09571 | val_0_mse: 0.07372 |  0:01:11s\n",
      "epoch 7  | loss: 0.08305 | val_0_mse: 0.06721 |  0:01:21s\n",
      "epoch 8  | loss: 0.0833  | val_0_mse: 0.07135 |  0:01:32s\n",
      "epoch 9  | loss: 0.08188 | val_0_mse: 0.0662  |  0:01:42s\n",
      "epoch 10 | loss: 0.08529 | val_0_mse: 0.06557 |  0:01:52s\n",
      "epoch 11 | loss: 0.07724 | val_0_mse: 0.06201 |  0:02:03s\n",
      "epoch 12 | loss: 0.07498 | val_0_mse: 0.05897 |  0:02:13s\n",
      "epoch 13 | loss: 0.06614 | val_0_mse: 0.05879 |  0:02:23s\n",
      "epoch 14 | loss: 0.07632 | val_0_mse: 0.06281 |  0:02:33s\n",
      "epoch 15 | loss: 0.06331 | val_0_mse: 0.05159 |  0:02:43s\n",
      "epoch 16 | loss: 0.06857 | val_0_mse: 0.0656  |  0:02:54s\n",
      "epoch 17 | loss: 0.06104 | val_0_mse: 0.04832 |  0:03:04s\n",
      "epoch 18 | loss: 0.05846 | val_0_mse: 0.11768 |  0:03:14s\n",
      "epoch 19 | loss: 0.05617 | val_0_mse: 0.07543 |  0:03:24s\n",
      "epoch 20 | loss: 0.05651 | val_0_mse: 0.12898 |  0:03:35s\n",
      "epoch 21 | loss: 0.0701  | val_0_mse: 0.0391  |  0:03:45s\n",
      "epoch 22 | loss: 0.05477 | val_0_mse: 0.04682 |  0:03:55s\n",
      "epoch 23 | loss: 0.05054 | val_0_mse: 0.05776 |  0:04:05s\n",
      "epoch 24 | loss: 0.06284 | val_0_mse: 0.05565 |  0:04:16s\n",
      "epoch 25 | loss: 0.05649 | val_0_mse: 0.0839  |  0:04:26s\n",
      "epoch 26 | loss: 0.06049 | val_0_mse: 0.04861 |  0:04:36s\n",
      "epoch 27 | loss: 0.05447 | val_0_mse: 0.04282 |  0:04:46s\n",
      "epoch 28 | loss: 0.04618 | val_0_mse: 0.03837 |  0:04:57s\n",
      "epoch 29 | loss: 0.05039 | val_0_mse: 0.06575 |  0:05:07s\n",
      "epoch 30 | loss: 0.0458  | val_0_mse: 0.03656 |  0:05:17s\n",
      "epoch 31 | loss: 0.04569 | val_0_mse: 0.03353 |  0:05:27s\n",
      "epoch 32 | loss: 0.04107 | val_0_mse: 0.03909 |  0:05:38s\n",
      "epoch 33 | loss: 0.04465 | val_0_mse: 0.029   |  0:05:48s\n",
      "epoch 34 | loss: 0.04002 | val_0_mse: 0.04179 |  0:05:58s\n",
      "epoch 35 | loss: 0.04174 | val_0_mse: 0.05094 |  0:06:09s\n",
      "epoch 36 | loss: 0.04244 | val_0_mse: 0.05155 |  0:06:19s\n",
      "epoch 37 | loss: 0.03675 | val_0_mse: 0.08605 |  0:06:29s\n",
      "epoch 38 | loss: 0.03947 | val_0_mse: 0.0276  |  0:06:39s\n",
      "epoch 39 | loss: 0.03237 | val_0_mse: 0.08304 |  0:06:50s\n",
      "epoch 40 | loss: 0.03197 | val_0_mse: 0.03    |  0:07:00s\n",
      "epoch 41 | loss: 0.03284 | val_0_mse: 0.02582 |  0:07:11s\n",
      "epoch 42 | loss: 0.03055 | val_0_mse: 0.02415 |  0:07:22s\n",
      "epoch 43 | loss: 0.03258 | val_0_mse: 0.07988 |  0:07:33s\n",
      "epoch 44 | loss: 0.03081 | val_0_mse: 0.02054 |  0:07:44s\n",
      "epoch 45 | loss: 0.02722 | val_0_mse: 0.03802 |  0:07:54s\n",
      "epoch 46 | loss: 0.02213 | val_0_mse: 0.01866 |  0:08:05s\n",
      "epoch 47 | loss: 0.02152 | val_0_mse: 0.02285 |  0:08:16s\n",
      "epoch 48 | loss: 0.02258 | val_0_mse: 0.02615 |  0:08:27s\n",
      "epoch 49 | loss: 0.01818 | val_0_mse: 0.01264 |  0:08:37s\n",
      "epoch 50 | loss: 0.01913 | val_0_mse: 0.02189 |  0:08:48s\n",
      "epoch 51 | loss: 0.02167 | val_0_mse: 0.01524 |  0:08:59s\n",
      "epoch 52 | loss: 0.02261 | val_0_mse: 0.02016 |  0:09:09s\n",
      "epoch 53 | loss: 0.0194  | val_0_mse: 0.02244 |  0:09:20s\n",
      "epoch 54 | loss: 0.01697 | val_0_mse: 0.01859 |  0:09:31s\n",
      "epoch 55 | loss: 0.01676 | val_0_mse: 0.08811 |  0:09:42s\n",
      "epoch 56 | loss: 0.01795 | val_0_mse: 0.02583 |  0:09:52s\n",
      "epoch 57 | loss: 0.0182  | val_0_mse: 0.01038 |  0:10:03s\n",
      "epoch 58 | loss: 0.01685 | val_0_mse: 0.00996 |  0:10:14s\n",
      "epoch 59 | loss: 0.01719 | val_0_mse: 0.01011 |  0:10:24s\n",
      "epoch 60 | loss: 0.01714 | val_0_mse: 0.01327 |  0:10:35s\n",
      "epoch 61 | loss: 0.01381 | val_0_mse: 0.00932 |  0:10:46s\n",
      "epoch 62 | loss: 0.01955 | val_0_mse: 0.01474 |  0:10:57s\n",
      "epoch 63 | loss: 0.01516 | val_0_mse: 0.0129  |  0:11:08s\n",
      "epoch 64 | loss: 0.01469 | val_0_mse: 0.01408 |  0:11:18s\n",
      "epoch 65 | loss: 0.01541 | val_0_mse: 0.0322  |  0:11:29s\n",
      "epoch 66 | loss: 0.03026 | val_0_mse: 0.03123 |  0:11:40s\n",
      "epoch 67 | loss: 0.02286 | val_0_mse: 0.01747 |  0:11:51s\n",
      "epoch 68 | loss: 0.01742 | val_0_mse: 0.0194  |  0:12:01s\n",
      "epoch 69 | loss: 0.01548 | val_0_mse: 0.01099 |  0:12:12s\n",
      "epoch 70 | loss: 0.01177 | val_0_mse: 0.01618 |  0:12:23s\n",
      "epoch 71 | loss: 0.01767 | val_0_mse: 0.03    |  0:12:34s\n",
      "\n",
      "Early stopping occurred at epoch 71 with best_epoch = 61 and best_val_0_mse = 0.00932\n"
     ]
    },
    {
     "name": "stderr",
     "output_type": "stream",
     "text": [
      "/opt/homebrew/Caskroom/miniforge/base/envs/mlp/lib/python3.10/site-packages/pytorch_tabnet/callbacks.py:172: UserWarning: Best weights from best epoch are automatically used!\n",
      "  warnings.warn(wrn_msg)\n"
     ]
    },
    {
     "name": "stdout",
     "output_type": "stream",
     "text": [
      "Model MSE: 0.009475 - Best MSE: 0.005215\n",
      "Model R2 Score: 0.957256 - Best R2 Score: 0.976475\n",
      "\n",
      "Iterations 25/72 - Hyperparameters:  batch_sizes=32, nums_epochs=200, n_d=32, n_a=32, n_step=6, n_indipendent=2, n_shared=2, gamma=1.3, epsilon=1e-08\n"
     ]
    },
    {
     "name": "stderr",
     "output_type": "stream",
     "text": [
      "/opt/homebrew/Caskroom/miniforge/base/envs/mlp/lib/python3.10/site-packages/pytorch_tabnet/abstract_model.py:75: UserWarning: Device used : cpu\n",
      "  warnings.warn(f\"Device used : {self.device}\")\n"
     ]
    },
    {
     "name": "stdout",
     "output_type": "stream",
     "text": [
      "epoch 0  | loss: 1.22295 | val_0_mse: 0.11954 |  0:00:26s\n",
      "epoch 1  | loss: 0.13803 | val_0_mse: 0.0883  |  0:00:52s\n",
      "epoch 2  | loss: 0.11258 | val_0_mse: 0.07523 |  0:01:19s\n",
      "epoch 3  | loss: 0.10371 | val_0_mse: 0.07892 |  0:01:45s\n",
      "epoch 4  | loss: 0.0778  | val_0_mse: 0.05688 |  0:02:12s\n",
      "epoch 5  | loss: 0.07927 | val_0_mse: 0.05832 |  0:02:38s\n",
      "epoch 6  | loss: 0.07308 | val_0_mse: 0.05112 |  0:03:04s\n",
      "epoch 7  | loss: 0.06536 | val_0_mse: 0.03837 |  0:03:30s\n",
      "epoch 8  | loss: 0.05095 | val_0_mse: 0.02612 |  0:03:57s\n",
      "epoch 9  | loss: 0.04325 | val_0_mse: 0.02914 |  0:04:23s\n",
      "epoch 10 | loss: 0.03915 | val_0_mse: 0.02288 |  0:04:49s\n",
      "epoch 11 | loss: 0.03079 | val_0_mse: 0.01773 |  0:05:15s\n",
      "epoch 12 | loss: 0.02763 | val_0_mse: 0.05077 |  0:05:42s\n",
      "epoch 13 | loss: 0.03388 | val_0_mse: 0.0231  |  0:06:08s\n",
      "epoch 14 | loss: 0.02786 | val_0_mse: 0.04806 |  0:06:35s\n",
      "epoch 15 | loss: 0.02969 | val_0_mse: 0.02465 |  0:07:01s\n",
      "epoch 16 | loss: 0.02563 | val_0_mse: 0.00981 |  0:07:27s\n",
      "epoch 17 | loss: 0.02874 | val_0_mse: 0.01601 |  0:07:54s\n",
      "epoch 18 | loss: 0.02763 | val_0_mse: 0.01152 |  0:08:20s\n",
      "epoch 19 | loss: 0.02659 | val_0_mse: 0.00993 |  0:08:46s\n",
      "epoch 20 | loss: 0.02823 | val_0_mse: 0.05381 |  0:09:12s\n",
      "epoch 21 | loss: 0.025   | val_0_mse: 0.02856 |  0:09:38s\n",
      "epoch 22 | loss: 0.02338 | val_0_mse: 0.02817 |  0:10:05s\n",
      "epoch 23 | loss: 0.02665 | val_0_mse: 0.13685 |  0:10:31s\n",
      "epoch 24 | loss: 0.0242  | val_0_mse: 0.0223  |  0:10:58s\n",
      "epoch 25 | loss: 0.02665 | val_0_mse: 0.0169  |  0:11:24s\n",
      "epoch 26 | loss: 0.02242 | val_0_mse: 0.05808 |  0:11:50s\n",
      "\n",
      "Early stopping occurred at epoch 26 with best_epoch = 16 and best_val_0_mse = 0.00981\n"
     ]
    },
    {
     "name": "stderr",
     "output_type": "stream",
     "text": [
      "/opt/homebrew/Caskroom/miniforge/base/envs/mlp/lib/python3.10/site-packages/pytorch_tabnet/callbacks.py:172: UserWarning: Best weights from best epoch are automatically used!\n",
      "  warnings.warn(wrn_msg)\n"
     ]
    },
    {
     "name": "stdout",
     "output_type": "stream",
     "text": [
      "Model MSE: 0.009061 - Best MSE: 0.005215\n",
      "Model R2 Score: 0.959121 - Best R2 Score: 0.976475\n",
      "\n",
      "Iterations 26/72 - Hyperparameters:  batch_sizes=64, nums_epochs=200, n_d=32, n_a=32, n_step=6, n_indipendent=2, n_shared=2, gamma=1.3, epsilon=1e-08\n"
     ]
    },
    {
     "name": "stderr",
     "output_type": "stream",
     "text": [
      "/opt/homebrew/Caskroom/miniforge/base/envs/mlp/lib/python3.10/site-packages/pytorch_tabnet/abstract_model.py:75: UserWarning: Device used : cpu\n",
      "  warnings.warn(f\"Device used : {self.device}\")\n"
     ]
    },
    {
     "name": "stdout",
     "output_type": "stream",
     "text": [
      "epoch 0  | loss: 1.49669 | val_0_mse: 0.16941 |  0:00:16s\n",
      "epoch 1  | loss: 0.17869 | val_0_mse: 0.109   |  0:00:33s\n",
      "epoch 2  | loss: 0.12258 | val_0_mse: 0.07039 |  0:00:50s\n",
      "epoch 3  | loss: 0.09677 | val_0_mse: 0.14684 |  0:01:07s\n",
      "epoch 4  | loss: 0.08842 | val_0_mse: 0.06791 |  0:01:24s\n",
      "epoch 5  | loss: 0.07194 | val_0_mse: 0.06506 |  0:01:41s\n",
      "epoch 6  | loss: 0.06811 | val_0_mse: 0.05707 |  0:01:58s\n",
      "epoch 7  | loss: 0.0565  | val_0_mse: 0.13225 |  0:02:15s\n",
      "epoch 8  | loss: 0.04448 | val_0_mse: 0.05724 |  0:02:32s\n",
      "epoch 9  | loss: 0.0378  | val_0_mse: 0.02034 |  0:02:49s\n",
      "epoch 10 | loss: 0.03372 | val_0_mse: 0.01676 |  0:03:06s\n",
      "epoch 11 | loss: 0.02382 | val_0_mse: 0.01769 |  0:03:23s\n",
      "epoch 12 | loss: 0.02441 | val_0_mse: 0.01902 |  0:03:40s\n",
      "epoch 13 | loss: 0.02357 | val_0_mse: 0.01696 |  0:03:57s\n",
      "epoch 14 | loss: 0.01629 | val_0_mse: 0.01655 |  0:04:14s\n",
      "epoch 15 | loss: 0.0172  | val_0_mse: 0.02695 |  0:04:31s\n",
      "epoch 16 | loss: 0.02035 | val_0_mse: 0.00941 |  0:04:48s\n",
      "epoch 17 | loss: 0.01773 | val_0_mse: 0.00756 |  0:05:05s\n",
      "epoch 18 | loss: 0.02015 | val_0_mse: 0.03164 |  0:05:22s\n",
      "epoch 19 | loss: 0.01849 | val_0_mse: 0.0131  |  0:05:39s\n",
      "epoch 20 | loss: 0.01819 | val_0_mse: 0.01827 |  0:05:56s\n",
      "epoch 21 | loss: 0.01914 | val_0_mse: 0.00792 |  0:06:13s\n",
      "epoch 22 | loss: 0.01715 | val_0_mse: 0.01382 |  0:06:29s\n",
      "epoch 23 | loss: 0.01542 | val_0_mse: 0.02176 |  0:06:46s\n",
      "epoch 24 | loss: 0.01436 | val_0_mse: 0.03453 |  0:07:03s\n",
      "epoch 25 | loss: 0.01703 | val_0_mse: 0.00661 |  0:07:20s\n",
      "epoch 26 | loss: 0.01283 | val_0_mse: 0.01788 |  0:07:37s\n",
      "epoch 27 | loss: 0.01797 | val_0_mse: 0.03567 |  0:07:54s\n",
      "epoch 28 | loss: 0.01739 | val_0_mse: 0.0304  |  0:08:11s\n",
      "epoch 29 | loss: 0.01628 | val_0_mse: 0.00646 |  0:08:28s\n",
      "epoch 30 | loss: 0.01858 | val_0_mse: 0.03923 |  0:08:45s\n",
      "epoch 31 | loss: 0.01497 | val_0_mse: 0.02011 |  0:09:02s\n",
      "epoch 32 | loss: 0.01288 | val_0_mse: 0.01126 |  0:09:19s\n",
      "epoch 33 | loss: 0.01228 | val_0_mse: 0.02903 |  0:09:36s\n",
      "epoch 34 | loss: 0.01374 | val_0_mse: 0.00633 |  0:09:53s\n",
      "epoch 35 | loss: 0.01439 | val_0_mse: 0.01815 |  0:10:10s\n",
      "epoch 36 | loss: 0.01394 | val_0_mse: 0.01996 |  0:10:27s\n",
      "epoch 37 | loss: 0.01513 | val_0_mse: 0.00812 |  0:10:43s\n",
      "epoch 38 | loss: 0.01466 | val_0_mse: 0.02259 |  0:11:00s\n",
      "epoch 39 | loss: 0.01337 | val_0_mse: 0.00862 |  0:11:18s\n",
      "epoch 40 | loss: 0.01274 | val_0_mse: 0.01052 |  0:11:34s\n",
      "epoch 41 | loss: 0.01159 | val_0_mse: 0.00948 |  0:11:51s\n",
      "epoch 42 | loss: 0.01825 | val_0_mse: 0.01475 |  0:12:08s\n",
      "epoch 43 | loss: 0.01363 | val_0_mse: 0.02382 |  0:12:25s\n",
      "epoch 44 | loss: 0.01474 | val_0_mse: 0.07124 |  0:12:42s\n",
      "\n",
      "Early stopping occurred at epoch 44 with best_epoch = 34 and best_val_0_mse = 0.00633\n"
     ]
    },
    {
     "name": "stderr",
     "output_type": "stream",
     "text": [
      "/opt/homebrew/Caskroom/miniforge/base/envs/mlp/lib/python3.10/site-packages/pytorch_tabnet/callbacks.py:172: UserWarning: Best weights from best epoch are automatically used!\n",
      "  warnings.warn(wrn_msg)\n"
     ]
    },
    {
     "name": "stdout",
     "output_type": "stream",
     "text": [
      "Model MSE: 0.006810 - Best MSE: 0.005215\n",
      "Model R2 Score: 0.969278 - Best R2 Score: 0.976475\n",
      "\n",
      "Iterations 27/72 - Hyperparameters:  batch_sizes=128, nums_epochs=200, n_d=32, n_a=32, n_step=6, n_indipendent=2, n_shared=2, gamma=1.3, epsilon=1e-08\n"
     ]
    },
    {
     "name": "stderr",
     "output_type": "stream",
     "text": [
      "/opt/homebrew/Caskroom/miniforge/base/envs/mlp/lib/python3.10/site-packages/pytorch_tabnet/abstract_model.py:75: UserWarning: Device used : cpu\n",
      "  warnings.warn(f\"Device used : {self.device}\")\n"
     ]
    },
    {
     "name": "stdout",
     "output_type": "stream",
     "text": [
      "epoch 0  | loss: 2.05534 | val_0_mse: 0.35982 |  0:00:10s\n",
      "epoch 1  | loss: 0.29693 | val_0_mse: 0.33213 |  0:00:20s\n",
      "epoch 2  | loss: 0.10997 | val_0_mse: 0.15132 |  0:00:30s\n",
      "epoch 3  | loss: 0.10132 | val_0_mse: 0.17957 |  0:00:40s\n",
      "epoch 4  | loss: 0.07688 | val_0_mse: 0.14274 |  0:00:50s\n",
      "epoch 5  | loss: 0.07196 | val_0_mse: 0.0974  |  0:01:00s\n",
      "epoch 6  | loss: 0.07988 | val_0_mse: 0.05406 |  0:01:10s\n",
      "epoch 7  | loss: 0.06848 | val_0_mse: 0.05873 |  0:01:20s\n",
      "epoch 8  | loss: 0.06879 | val_0_mse: 0.07751 |  0:01:30s\n",
      "epoch 9  | loss: 0.0748  | val_0_mse: 0.07117 |  0:01:40s\n",
      "epoch 10 | loss: 0.0641  | val_0_mse: 0.04794 |  0:01:50s\n",
      "epoch 11 | loss: 0.05675 | val_0_mse: 0.07138 |  0:01:59s\n",
      "epoch 12 | loss: 0.05591 | val_0_mse: 0.04861 |  0:02:09s\n",
      "epoch 13 | loss: 0.05056 | val_0_mse: 0.04819 |  0:02:19s\n",
      "epoch 14 | loss: 0.05114 | val_0_mse: 0.05789 |  0:02:29s\n",
      "epoch 15 | loss: 0.05035 | val_0_mse: 0.03278 |  0:02:39s\n",
      "epoch 16 | loss: 0.04269 | val_0_mse: 0.03557 |  0:02:49s\n",
      "epoch 17 | loss: 0.04234 | val_0_mse: 0.04633 |  0:03:00s\n",
      "epoch 18 | loss: 0.04066 | val_0_mse: 0.03176 |  0:03:10s\n",
      "epoch 19 | loss: 0.03576 | val_0_mse: 0.03122 |  0:03:20s\n",
      "epoch 20 | loss: 0.03764 | val_0_mse: 0.03671 |  0:03:30s\n",
      "epoch 21 | loss: 0.03583 | val_0_mse: 0.02016 |  0:03:40s\n",
      "epoch 22 | loss: 0.02711 | val_0_mse: 0.02466 |  0:03:50s\n",
      "epoch 23 | loss: 0.02712 | val_0_mse: 0.04128 |  0:04:00s\n",
      "epoch 24 | loss: 0.0292  | val_0_mse: 0.04841 |  0:04:10s\n",
      "epoch 25 | loss: 0.03473 | val_0_mse: 0.0226  |  0:04:19s\n",
      "epoch 26 | loss: 0.02803 | val_0_mse: 0.02224 |  0:04:30s\n",
      "epoch 27 | loss: 0.02079 | val_0_mse: 0.03745 |  0:04:40s\n",
      "epoch 28 | loss: 0.01886 | val_0_mse: 0.0204  |  0:04:50s\n",
      "epoch 29 | loss: 0.02119 | val_0_mse: 0.02149 |  0:04:59s\n",
      "epoch 30 | loss: 0.02213 | val_0_mse: 0.01339 |  0:05:09s\n",
      "epoch 31 | loss: 0.01666 | val_0_mse: 0.01666 |  0:05:19s\n",
      "epoch 32 | loss: 0.0196  | val_0_mse: 0.01161 |  0:05:30s\n",
      "epoch 33 | loss: 0.01703 | val_0_mse: 0.01537 |  0:05:41s\n",
      "epoch 34 | loss: 0.01682 | val_0_mse: 0.00924 |  0:05:51s\n",
      "epoch 35 | loss: 0.01232 | val_0_mse: 0.00957 |  0:06:01s\n",
      "epoch 36 | loss: 0.01353 | val_0_mse: 0.00769 |  0:06:11s\n",
      "epoch 37 | loss: 0.01309 | val_0_mse: 0.02762 |  0:06:21s\n",
      "epoch 38 | loss: 0.0153  | val_0_mse: 0.01429 |  0:06:31s\n",
      "epoch 39 | loss: 0.0215  | val_0_mse: 0.03581 |  0:06:41s\n",
      "epoch 40 | loss: 0.02398 | val_0_mse: 0.02337 |  0:06:51s\n",
      "epoch 41 | loss: 0.01892 | val_0_mse: 0.01102 |  0:07:01s\n",
      "epoch 42 | loss: 0.01511 | val_0_mse: 0.01568 |  0:07:11s\n",
      "epoch 43 | loss: 0.01428 | val_0_mse: 0.00884 |  0:07:22s\n",
      "epoch 44 | loss: 0.02084 | val_0_mse: 0.01678 |  0:07:32s\n",
      "epoch 45 | loss: 0.01294 | val_0_mse: 0.01543 |  0:07:42s\n",
      "epoch 46 | loss: 0.018   | val_0_mse: 0.00927 |  0:07:52s\n",
      "\n",
      "Early stopping occurred at epoch 46 with best_epoch = 36 and best_val_0_mse = 0.00769\n"
     ]
    },
    {
     "name": "stderr",
     "output_type": "stream",
     "text": [
      "/opt/homebrew/Caskroom/miniforge/base/envs/mlp/lib/python3.10/site-packages/pytorch_tabnet/callbacks.py:172: UserWarning: Best weights from best epoch are automatically used!\n",
      "  warnings.warn(wrn_msg)\n"
     ]
    },
    {
     "name": "stdout",
     "output_type": "stream",
     "text": [
      "Model MSE: 0.007415 - Best MSE: 0.005215\n",
      "Model R2 Score: 0.966547 - Best R2 Score: 0.976475\n",
      "\n",
      "Iterations 28/72 - Hyperparameters:  batch_sizes=32, nums_epochs=200, n_d=32, n_a=32, n_step=6, n_indipendent=2, n_shared=3, gamma=1.3, epsilon=1e-08\n"
     ]
    },
    {
     "name": "stderr",
     "output_type": "stream",
     "text": [
      "/opt/homebrew/Caskroom/miniforge/base/envs/mlp/lib/python3.10/site-packages/pytorch_tabnet/abstract_model.py:75: UserWarning: Device used : cpu\n",
      "  warnings.warn(f\"Device used : {self.device}\")\n"
     ]
    },
    {
     "name": "stdout",
     "output_type": "stream",
     "text": [
      "epoch 0  | loss: 0.95407 | val_0_mse: 0.21419 |  0:00:28s\n",
      "epoch 1  | loss: 0.13748 | val_0_mse: 0.09964 |  0:00:56s\n",
      "epoch 2  | loss: 0.11645 | val_0_mse: 0.06606 |  0:01:25s\n",
      "epoch 3  | loss: 0.08379 | val_0_mse: 0.07568 |  0:01:53s\n",
      "epoch 4  | loss: 0.07811 | val_0_mse: 0.16364 |  0:02:21s\n",
      "epoch 5  | loss: 0.07906 | val_0_mse: 0.04546 |  0:02:50s\n",
      "epoch 6  | loss: 0.08106 | val_0_mse: 0.04397 |  0:03:18s\n",
      "epoch 7  | loss: 0.06105 | val_0_mse: 0.05192 |  0:03:46s\n",
      "epoch 8  | loss: 0.05204 | val_0_mse: 0.08211 |  0:04:15s\n",
      "epoch 9  | loss: 0.04383 | val_0_mse: 0.02755 |  0:04:43s\n",
      "epoch 10 | loss: 0.03929 | val_0_mse: 0.04199 |  0:05:11s\n",
      "epoch 11 | loss: 0.0307  | val_0_mse: 0.01243 |  0:05:40s\n",
      "epoch 12 | loss: 0.0307  | val_0_mse: 0.00974 |  0:06:08s\n",
      "epoch 13 | loss: 0.02662 | val_0_mse: 0.00938 |  0:06:36s\n",
      "epoch 14 | loss: 0.02858 | val_0_mse: 0.01691 |  0:07:05s\n",
      "epoch 15 | loss: 0.02277 | val_0_mse: 0.02829 |  0:07:33s\n",
      "epoch 16 | loss: 0.02509 | val_0_mse: 0.01318 |  0:08:01s\n",
      "epoch 17 | loss: 0.02417 | val_0_mse: 0.03317 |  0:08:30s\n",
      "epoch 18 | loss: 0.02182 | val_0_mse: 0.01104 |  0:08:58s\n",
      "epoch 19 | loss: 0.02196 | val_0_mse: 0.02196 |  0:09:27s\n",
      "epoch 20 | loss: 0.02627 | val_0_mse: 0.0321  |  0:09:55s\n",
      "epoch 21 | loss: 0.02457 | val_0_mse: 0.02548 |  0:10:23s\n",
      "epoch 22 | loss: 0.02694 | val_0_mse: 0.01593 |  0:10:52s\n",
      "epoch 23 | loss: 0.02338 | val_0_mse: 0.01185 |  0:11:20s\n",
      "\n",
      "Early stopping occurred at epoch 23 with best_epoch = 13 and best_val_0_mse = 0.00938\n"
     ]
    },
    {
     "name": "stderr",
     "output_type": "stream",
     "text": [
      "/opt/homebrew/Caskroom/miniforge/base/envs/mlp/lib/python3.10/site-packages/pytorch_tabnet/callbacks.py:172: UserWarning: Best weights from best epoch are automatically used!\n",
      "  warnings.warn(wrn_msg)\n"
     ]
    },
    {
     "name": "stdout",
     "output_type": "stream",
     "text": [
      "Model MSE: 0.009838 - Best MSE: 0.005215\n",
      "Model R2 Score: 0.955619 - Best R2 Score: 0.976475\n",
      "\n",
      "Iterations 29/72 - Hyperparameters:  batch_sizes=64, nums_epochs=200, n_d=32, n_a=32, n_step=6, n_indipendent=2, n_shared=3, gamma=1.3, epsilon=1e-08\n"
     ]
    },
    {
     "name": "stderr",
     "output_type": "stream",
     "text": [
      "/opt/homebrew/Caskroom/miniforge/base/envs/mlp/lib/python3.10/site-packages/pytorch_tabnet/abstract_model.py:75: UserWarning: Device used : cpu\n",
      "  warnings.warn(f\"Device used : {self.device}\")\n"
     ]
    },
    {
     "name": "stdout",
     "output_type": "stream",
     "text": [
      "epoch 0  | loss: 1.23796 | val_0_mse: 0.20087 |  0:00:18s\n",
      "epoch 1  | loss: 0.23985 | val_0_mse: 0.3316  |  0:00:37s\n",
      "epoch 2  | loss: 0.14663 | val_0_mse: 0.08308 |  0:00:55s\n",
      "epoch 3  | loss: 0.10808 | val_0_mse: 0.09107 |  0:01:14s\n",
      "epoch 4  | loss: 0.0795  | val_0_mse: 0.12349 |  0:01:32s\n",
      "epoch 5  | loss: 0.08098 | val_0_mse: 0.06715 |  0:01:51s\n",
      "epoch 6  | loss: 0.07504 | val_0_mse: 0.05465 |  0:02:09s\n",
      "epoch 7  | loss: 0.07033 | val_0_mse: 0.06278 |  0:02:28s\n",
      "epoch 8  | loss: 0.06138 | val_0_mse: 0.05463 |  0:02:46s\n",
      "epoch 9  | loss: 0.06077 | val_0_mse: 0.06529 |  0:03:05s\n",
      "epoch 10 | loss: 0.05415 | val_0_mse: 0.05016 |  0:03:24s\n",
      "epoch 11 | loss: 0.05242 | val_0_mse: 0.0821  |  0:03:42s\n",
      "epoch 12 | loss: 0.05098 | val_0_mse: 0.05081 |  0:04:00s\n",
      "epoch 13 | loss: 0.05076 | val_0_mse: 0.03413 |  0:04:19s\n",
      "epoch 14 | loss: 0.06004 | val_0_mse: 0.04005 |  0:04:37s\n",
      "epoch 15 | loss: 0.04401 | val_0_mse: 0.03776 |  0:04:56s\n",
      "epoch 16 | loss: 0.044   | val_0_mse: 0.02736 |  0:05:15s\n",
      "epoch 17 | loss: 0.03192 | val_0_mse: 0.0382  |  0:05:33s\n",
      "epoch 18 | loss: 0.04233 | val_0_mse: 0.04662 |  0:05:52s\n",
      "epoch 19 | loss: 0.04371 | val_0_mse: 0.05176 |  0:06:10s\n",
      "epoch 20 | loss: 0.03143 | val_0_mse: 0.02075 |  0:06:29s\n",
      "epoch 21 | loss: 0.02875 | val_0_mse: 0.01562 |  0:06:47s\n",
      "epoch 22 | loss: 0.02357 | val_0_mse: 0.01664 |  0:07:06s\n",
      "epoch 23 | loss: 0.02594 | val_0_mse: 0.0245  |  0:07:24s\n",
      "epoch 24 | loss: 0.02508 | val_0_mse: 0.01204 |  0:07:43s\n",
      "epoch 25 | loss: 0.02642 | val_0_mse: 0.01093 |  0:08:02s\n",
      "epoch 26 | loss: 0.01974 | val_0_mse: 0.03484 |  0:08:20s\n",
      "epoch 27 | loss: 0.01912 | val_0_mse: 0.01688 |  0:08:39s\n",
      "epoch 28 | loss: 0.01777 | val_0_mse: 0.01765 |  0:08:57s\n",
      "epoch 29 | loss: 0.02188 | val_0_mse: 0.01329 |  0:09:16s\n",
      "epoch 30 | loss: 0.01908 | val_0_mse: 0.00924 |  0:09:35s\n",
      "epoch 31 | loss: 0.01908 | val_0_mse: 0.0101  |  0:09:54s\n",
      "epoch 32 | loss: 0.02766 | val_0_mse: 0.12591 |  0:10:12s\n",
      "epoch 33 | loss: 0.02975 | val_0_mse: 0.01668 |  0:10:31s\n",
      "epoch 34 | loss: 0.02371 | val_0_mse: 0.02185 |  0:10:50s\n",
      "epoch 35 | loss: 0.02324 | val_0_mse: 0.03284 |  0:11:08s\n",
      "epoch 36 | loss: 0.01986 | val_0_mse: 0.14233 |  0:11:27s\n",
      "epoch 37 | loss: 0.02248 | val_0_mse: 0.06662 |  0:11:46s\n",
      "epoch 38 | loss: 0.02333 | val_0_mse: 0.23265 |  0:12:04s\n",
      "epoch 39 | loss: 0.02561 | val_0_mse: 0.01527 |  0:12:23s\n",
      "epoch 40 | loss: 0.02081 | val_0_mse: 0.01337 |  0:12:41s\n",
      "\n",
      "Early stopping occurred at epoch 40 with best_epoch = 30 and best_val_0_mse = 0.00924\n"
     ]
    },
    {
     "name": "stderr",
     "output_type": "stream",
     "text": [
      "/opt/homebrew/Caskroom/miniforge/base/envs/mlp/lib/python3.10/site-packages/pytorch_tabnet/callbacks.py:172: UserWarning: Best weights from best epoch are automatically used!\n",
      "  warnings.warn(wrn_msg)\n"
     ]
    },
    {
     "name": "stdout",
     "output_type": "stream",
     "text": [
      "Model MSE: 0.009263 - Best MSE: 0.005215\n",
      "Model R2 Score: 0.958213 - Best R2 Score: 0.976475\n",
      "\n",
      "Iterations 30/72 - Hyperparameters:  batch_sizes=128, nums_epochs=200, n_d=32, n_a=32, n_step=6, n_indipendent=2, n_shared=3, gamma=1.3, epsilon=1e-08\n"
     ]
    },
    {
     "name": "stderr",
     "output_type": "stream",
     "text": [
      "/opt/homebrew/Caskroom/miniforge/base/envs/mlp/lib/python3.10/site-packages/pytorch_tabnet/abstract_model.py:75: UserWarning: Device used : cpu\n",
      "  warnings.warn(f\"Device used : {self.device}\")\n"
     ]
    },
    {
     "name": "stdout",
     "output_type": "stream",
     "text": [
      "epoch 0  | loss: 2.29938 | val_0_mse: 0.63859 |  0:00:10s\n",
      "epoch 1  | loss: 0.36451 | val_0_mse: 0.12539 |  0:00:21s\n",
      "epoch 2  | loss: 0.12258 | val_0_mse: 0.1695  |  0:00:32s\n",
      "epoch 3  | loss: 0.09769 | val_0_mse: 0.14462 |  0:00:43s\n",
      "epoch 4  | loss: 0.08605 | val_0_mse: 0.07606 |  0:00:53s\n",
      "epoch 5  | loss: 0.0867  | val_0_mse: 0.0707  |  0:01:04s\n",
      "epoch 6  | loss: 0.0801  | val_0_mse: 0.06885 |  0:01:15s\n",
      "epoch 7  | loss: 0.07379 | val_0_mse: 0.06228 |  0:01:26s\n",
      "epoch 8  | loss: 0.07323 | val_0_mse: 0.08618 |  0:01:37s\n",
      "epoch 9  | loss: 0.07282 | val_0_mse: 0.06656 |  0:01:47s\n",
      "epoch 10 | loss: 0.07414 | val_0_mse: 0.06011 |  0:01:58s\n",
      "epoch 11 | loss: 0.06198 | val_0_mse: 0.04958 |  0:02:09s\n",
      "epoch 12 | loss: 0.05823 | val_0_mse: 0.06213 |  0:02:20s\n",
      "epoch 13 | loss: 0.0595  | val_0_mse: 0.04888 |  0:02:31s\n",
      "epoch 14 | loss: 0.05676 | val_0_mse: 0.06419 |  0:02:42s\n",
      "epoch 15 | loss: 0.05231 | val_0_mse: 0.04323 |  0:02:52s\n",
      "epoch 16 | loss: 0.05214 | val_0_mse: 0.05265 |  0:03:03s\n",
      "epoch 17 | loss: 0.05143 | val_0_mse: 0.03941 |  0:03:14s\n",
      "epoch 18 | loss: 0.0444  | val_0_mse: 0.03446 |  0:03:24s\n",
      "epoch 19 | loss: 0.04063 | val_0_mse: 0.04877 |  0:03:35s\n",
      "epoch 20 | loss: 0.03905 | val_0_mse: 0.02755 |  0:03:46s\n",
      "epoch 21 | loss: 0.03501 | val_0_mse: 0.06439 |  0:03:57s\n",
      "epoch 22 | loss: 0.045   | val_0_mse: 0.03118 |  0:04:07s\n",
      "epoch 23 | loss: 0.03417 | val_0_mse: 0.01856 |  0:04:18s\n",
      "epoch 24 | loss: 0.03175 | val_0_mse: 0.03457 |  0:04:28s\n",
      "epoch 25 | loss: 0.02717 | val_0_mse: 0.02778 |  0:04:38s\n",
      "epoch 26 | loss: 0.02209 | val_0_mse: 0.01321 |  0:04:49s\n",
      "epoch 27 | loss: 0.01787 | val_0_mse: 0.02259 |  0:04:59s\n",
      "epoch 28 | loss: 0.01921 | val_0_mse: 0.0115  |  0:05:10s\n",
      "epoch 29 | loss: 0.02379 | val_0_mse: 0.01516 |  0:05:21s\n",
      "epoch 30 | loss: 0.0195  | val_0_mse: 0.02816 |  0:05:32s\n",
      "epoch 31 | loss: 0.01611 | val_0_mse: 0.0223  |  0:05:42s\n",
      "epoch 32 | loss: 0.01538 | val_0_mse: 0.00995 |  0:05:53s\n",
      "epoch 33 | loss: 0.02043 | val_0_mse: 0.01692 |  0:06:04s\n",
      "epoch 34 | loss: 0.01701 | val_0_mse: 0.00964 |  0:06:15s\n",
      "epoch 35 | loss: 0.01475 | val_0_mse: 0.01265 |  0:06:25s\n",
      "epoch 36 | loss: 0.01937 | val_0_mse: 0.01923 |  0:06:36s\n",
      "epoch 37 | loss: 0.01951 | val_0_mse: 0.02748 |  0:06:47s\n",
      "epoch 38 | loss: 0.02589 | val_0_mse: 0.05201 |  0:06:58s\n",
      "epoch 39 | loss: 0.018   | val_0_mse: 0.01581 |  0:07:08s\n",
      "epoch 40 | loss: 0.01498 | val_0_mse: 0.01262 |  0:07:19s\n",
      "epoch 41 | loss: 0.0135  | val_0_mse: 0.01365 |  0:07:30s\n",
      "epoch 42 | loss: 0.01559 | val_0_mse: 0.03516 |  0:07:41s\n",
      "epoch 43 | loss: 0.02064 | val_0_mse: 0.01009 |  0:07:52s\n",
      "epoch 44 | loss: 0.01355 | val_0_mse: 0.00795 |  0:08:02s\n",
      "epoch 45 | loss: 0.01005 | val_0_mse: 0.01898 |  0:08:13s\n",
      "epoch 46 | loss: 0.01206 | val_0_mse: 0.0109  |  0:08:24s\n",
      "epoch 47 | loss: 0.01218 | val_0_mse: 0.00866 |  0:08:35s\n",
      "epoch 48 | loss: 0.01394 | val_0_mse: 0.0083  |  0:08:45s\n",
      "epoch 49 | loss: 0.01225 | val_0_mse: 0.01544 |  0:08:56s\n",
      "epoch 50 | loss: 0.01104 | val_0_mse: 0.01074 |  0:09:07s\n",
      "epoch 51 | loss: 0.01255 | val_0_mse: 0.00829 |  0:09:18s\n",
      "epoch 52 | loss: 0.01398 | val_0_mse: 0.01005 |  0:09:28s\n",
      "epoch 53 | loss: 0.00928 | val_0_mse: 0.01414 |  0:09:39s\n",
      "epoch 54 | loss: 0.01175 | val_0_mse: 0.01566 |  0:09:50s\n",
      "\n",
      "Early stopping occurred at epoch 54 with best_epoch = 44 and best_val_0_mse = 0.00795\n"
     ]
    },
    {
     "name": "stderr",
     "output_type": "stream",
     "text": [
      "/opt/homebrew/Caskroom/miniforge/base/envs/mlp/lib/python3.10/site-packages/pytorch_tabnet/callbacks.py:172: UserWarning: Best weights from best epoch are automatically used!\n",
      "  warnings.warn(wrn_msg)\n"
     ]
    },
    {
     "name": "stdout",
     "output_type": "stream",
     "text": [
      "Model MSE: 0.008701 - Best MSE: 0.005215\n",
      "Model R2 Score: 0.960747 - Best R2 Score: 0.976475\n",
      "\n",
      "Iterations 31/72 - Hyperparameters:  batch_sizes=32, nums_epochs=200, n_d=32, n_a=32, n_step=6, n_indipendent=3, n_shared=2, gamma=1.3, epsilon=1e-08\n"
     ]
    },
    {
     "name": "stderr",
     "output_type": "stream",
     "text": [
      "/opt/homebrew/Caskroom/miniforge/base/envs/mlp/lib/python3.10/site-packages/pytorch_tabnet/abstract_model.py:75: UserWarning: Device used : cpu\n",
      "  warnings.warn(f\"Device used : {self.device}\")\n"
     ]
    },
    {
     "name": "stdout",
     "output_type": "stream",
     "text": [
      "epoch 0  | loss: 0.8619  | val_0_mse: 0.14786 |  0:00:28s\n",
      "epoch 1  | loss: 0.1474  | val_0_mse: 0.10509 |  0:00:56s\n",
      "epoch 2  | loss: 0.12169 | val_0_mse: 0.07887 |  0:01:24s\n",
      "epoch 3  | loss: 0.1211  | val_0_mse: 0.11436 |  0:01:53s\n",
      "epoch 4  | loss: 0.09927 | val_0_mse: 0.10127 |  0:02:21s\n",
      "epoch 5  | loss: 0.07925 | val_0_mse: 0.04609 |  0:02:50s\n",
      "epoch 6  | loss: 0.07346 | val_0_mse: 0.10298 |  0:03:17s\n",
      "epoch 7  | loss: 0.09114 | val_0_mse: 0.07706 |  0:03:45s\n",
      "epoch 8  | loss: 0.07777 | val_0_mse: 0.09167 |  0:04:14s\n",
      "epoch 9  | loss: 0.07618 | val_0_mse: 0.05073 |  0:04:42s\n",
      "epoch 10 | loss: 0.07345 | val_0_mse: 0.07059 |  0:05:10s\n",
      "epoch 11 | loss: 0.06758 | val_0_mse: 0.04795 |  0:05:38s\n",
      "epoch 12 | loss: 0.06498 | val_0_mse: 0.04326 |  0:06:06s\n",
      "epoch 13 | loss: 0.05579 | val_0_mse: 0.03515 |  0:06:34s\n",
      "epoch 14 | loss: 0.04279 | val_0_mse: 0.02524 |  0:07:02s\n",
      "epoch 15 | loss: 0.03349 | val_0_mse: 0.04216 |  0:07:30s\n",
      "epoch 16 | loss: 0.03135 | val_0_mse: 0.03244 |  0:07:59s\n",
      "epoch 17 | loss: 0.02697 | val_0_mse: 0.04294 |  0:08:27s\n",
      "epoch 18 | loss: 0.02615 | val_0_mse: 0.01964 |  0:08:55s\n",
      "epoch 19 | loss: 0.02271 | val_0_mse: 0.01062 |  0:09:23s\n",
      "epoch 20 | loss: 0.02584 | val_0_mse: 0.01597 |  0:09:51s\n",
      "epoch 21 | loss: 0.02401 | val_0_mse: 0.00951 |  0:10:19s\n",
      "epoch 22 | loss: 0.02287 | val_0_mse: 0.01717 |  0:10:48s\n",
      "epoch 23 | loss: 0.02322 | val_0_mse: 0.03777 |  0:11:16s\n",
      "epoch 24 | loss: 0.02308 | val_0_mse: 0.01659 |  0:11:44s\n",
      "epoch 25 | loss: 0.02043 | val_0_mse: 0.02016 |  0:12:12s\n",
      "epoch 26 | loss: 0.0218  | val_0_mse: 0.01898 |  0:12:40s\n",
      "epoch 27 | loss: 0.01953 | val_0_mse: 0.01311 |  0:13:08s\n",
      "epoch 28 | loss: 0.02121 | val_0_mse: 0.01606 |  0:13:36s\n",
      "epoch 29 | loss: 0.02114 | val_0_mse: 0.01599 |  0:14:05s\n",
      "epoch 30 | loss: 0.02127 | val_0_mse: 0.02919 |  0:14:33s\n",
      "epoch 31 | loss: 0.02097 | val_0_mse: 0.0204  |  0:15:01s\n",
      "\n",
      "Early stopping occurred at epoch 31 with best_epoch = 21 and best_val_0_mse = 0.00951\n"
     ]
    },
    {
     "name": "stderr",
     "output_type": "stream",
     "text": [
      "/opt/homebrew/Caskroom/miniforge/base/envs/mlp/lib/python3.10/site-packages/pytorch_tabnet/callbacks.py:172: UserWarning: Best weights from best epoch are automatically used!\n",
      "  warnings.warn(wrn_msg)\n"
     ]
    },
    {
     "name": "stdout",
     "output_type": "stream",
     "text": [
      "Model MSE: 0.008436 - Best MSE: 0.005215\n",
      "Model R2 Score: 0.961943 - Best R2 Score: 0.976475\n",
      "\n",
      "Iterations 32/72 - Hyperparameters:  batch_sizes=64, nums_epochs=200, n_d=32, n_a=32, n_step=6, n_indipendent=3, n_shared=2, gamma=1.3, epsilon=1e-08\n"
     ]
    },
    {
     "name": "stderr",
     "output_type": "stream",
     "text": [
      "/opt/homebrew/Caskroom/miniforge/base/envs/mlp/lib/python3.10/site-packages/pytorch_tabnet/abstract_model.py:75: UserWarning: Device used : cpu\n",
      "  warnings.warn(f\"Device used : {self.device}\")\n"
     ]
    },
    {
     "name": "stdout",
     "output_type": "stream",
     "text": [
      "epoch 0  | loss: 1.11408 | val_0_mse: 0.59787 |  0:00:17s\n",
      "epoch 1  | loss: 0.18668 | val_0_mse: 0.13425 |  0:00:35s\n",
      "epoch 2  | loss: 0.12096 | val_0_mse: 0.10364 |  0:00:53s\n",
      "epoch 3  | loss: 0.09836 | val_0_mse: 0.06804 |  0:01:11s\n",
      "epoch 4  | loss: 0.09214 | val_0_mse: 0.07321 |  0:01:28s\n",
      "epoch 5  | loss: 0.09594 | val_0_mse: 0.06043 |  0:01:46s\n",
      "epoch 6  | loss: 0.06745 | val_0_mse: 0.06559 |  0:02:04s\n",
      "epoch 7  | loss: 0.06928 | val_0_mse: 0.11222 |  0:02:22s\n",
      "epoch 8  | loss: 0.06272 | val_0_mse: 0.04059 |  0:02:40s\n",
      "epoch 9  | loss: 0.05561 | val_0_mse: 0.04576 |  0:02:57s\n",
      "epoch 10 | loss: 0.05892 | val_0_mse: 0.04026 |  0:03:15s\n",
      "epoch 11 | loss: 0.04797 | val_0_mse: 0.0389  |  0:03:33s\n",
      "epoch 12 | loss: 0.04532 | val_0_mse: 0.03059 |  0:03:51s\n",
      "epoch 13 | loss: 0.03962 | val_0_mse: 0.03494 |  0:04:08s\n",
      "epoch 14 | loss: 0.03892 | val_0_mse: 0.03446 |  0:04:26s\n",
      "epoch 15 | loss: 0.03736 | val_0_mse: 0.05804 |  0:04:44s\n",
      "epoch 16 | loss: 0.03257 | val_0_mse: 0.10248 |  0:05:02s\n",
      "epoch 17 | loss: 0.02707 | val_0_mse: 0.02619 |  0:05:20s\n",
      "epoch 18 | loss: 0.02388 | val_0_mse: 0.02419 |  0:05:37s\n",
      "epoch 19 | loss: 0.02487 | val_0_mse: 0.05669 |  0:05:55s\n",
      "epoch 20 | loss: 0.02231 | val_0_mse: 0.01383 |  0:06:13s\n",
      "epoch 21 | loss: 0.02832 | val_0_mse: 0.02199 |  0:06:31s\n",
      "epoch 22 | loss: 0.02104 | val_0_mse: 0.0127  |  0:06:49s\n",
      "epoch 23 | loss: 0.01892 | val_0_mse: 0.02664 |  0:07:06s\n",
      "epoch 24 | loss: 0.0231  | val_0_mse: 0.02372 |  0:07:24s\n",
      "epoch 25 | loss: 0.01835 | val_0_mse: 0.02657 |  0:07:42s\n",
      "epoch 26 | loss: 0.01955 | val_0_mse: 0.01111 |  0:08:00s\n",
      "epoch 27 | loss: 0.01676 | val_0_mse: 0.00956 |  0:08:18s\n",
      "epoch 28 | loss: 0.01924 | val_0_mse: 0.0182  |  0:08:36s\n",
      "epoch 29 | loss: 0.02139 | val_0_mse: 0.01018 |  0:08:54s\n",
      "epoch 30 | loss: 0.02197 | val_0_mse: 0.01907 |  0:09:16s\n",
      "epoch 31 | loss: 0.0182  | val_0_mse: 0.01802 |  0:09:34s\n",
      "epoch 32 | loss: 0.02129 | val_0_mse: 0.04967 |  0:09:52s\n",
      "epoch 33 | loss: 0.01913 | val_0_mse: 0.01242 |  0:10:10s\n",
      "epoch 34 | loss: 0.01767 | val_0_mse: 0.04355 |  0:10:27s\n",
      "epoch 35 | loss: 0.018   | val_0_mse: 0.01559 |  0:10:45s\n",
      "epoch 36 | loss: 0.01702 | val_0_mse: 0.08589 |  0:11:03s\n",
      "epoch 37 | loss: 0.02243 | val_0_mse: 0.01526 |  0:11:21s\n",
      "\n",
      "Early stopping occurred at epoch 37 with best_epoch = 27 and best_val_0_mse = 0.00956\n"
     ]
    },
    {
     "name": "stderr",
     "output_type": "stream",
     "text": [
      "/opt/homebrew/Caskroom/miniforge/base/envs/mlp/lib/python3.10/site-packages/pytorch_tabnet/callbacks.py:172: UserWarning: Best weights from best epoch are automatically used!\n",
      "  warnings.warn(wrn_msg)\n"
     ]
    },
    {
     "name": "stdout",
     "output_type": "stream",
     "text": [
      "Model MSE: 0.009064 - Best MSE: 0.005215\n",
      "Model R2 Score: 0.959110 - Best R2 Score: 0.976475\n",
      "\n",
      "Iterations 33/72 - Hyperparameters:  batch_sizes=128, nums_epochs=200, n_d=32, n_a=32, n_step=6, n_indipendent=3, n_shared=2, gamma=1.3, epsilon=1e-08\n"
     ]
    },
    {
     "name": "stderr",
     "output_type": "stream",
     "text": [
      "/opt/homebrew/Caskroom/miniforge/base/envs/mlp/lib/python3.10/site-packages/pytorch_tabnet/abstract_model.py:75: UserWarning: Device used : cpu\n",
      "  warnings.warn(f\"Device used : {self.device}\")\n"
     ]
    },
    {
     "name": "stdout",
     "output_type": "stream",
     "text": [
      "epoch 0  | loss: 1.93943 | val_0_mse: 1.1461  |  0:00:10s\n",
      "epoch 1  | loss: 0.24361 | val_0_mse: 0.35156 |  0:00:20s\n",
      "epoch 2  | loss: 0.1147  | val_0_mse: 0.20798 |  0:00:31s\n",
      "epoch 3  | loss: 0.08919 | val_0_mse: 0.19677 |  0:00:41s\n",
      "epoch 4  | loss: 0.09031 | val_0_mse: 0.0688  |  0:00:52s\n",
      "epoch 5  | loss: 0.0794  | val_0_mse: 0.0883  |  0:01:03s\n",
      "epoch 6  | loss: 0.07741 | val_0_mse: 0.07474 |  0:01:13s\n",
      "epoch 7  | loss: 0.07443 | val_0_mse: 0.0648  |  0:01:24s\n",
      "epoch 8  | loss: 0.07678 | val_0_mse: 0.06582 |  0:01:35s\n",
      "epoch 9  | loss: 0.0644  | val_0_mse: 0.13192 |  0:01:46s\n",
      "epoch 10 | loss: 0.08111 | val_0_mse: 0.06954 |  0:01:56s\n",
      "epoch 11 | loss: 0.06513 | val_0_mse: 0.05569 |  0:02:07s\n",
      "epoch 12 | loss: 0.05803 | val_0_mse: 0.06276 |  0:02:18s\n",
      "epoch 13 | loss: 0.05538 | val_0_mse: 0.04772 |  0:02:28s\n",
      "epoch 14 | loss: 0.05606 | val_0_mse: 0.04851 |  0:02:39s\n",
      "epoch 15 | loss: 0.05104 | val_0_mse: 0.06161 |  0:02:50s\n",
      "epoch 16 | loss: 0.04977 | val_0_mse: 0.04593 |  0:03:01s\n",
      "epoch 17 | loss: 0.04768 | val_0_mse: 0.04519 |  0:03:12s\n",
      "epoch 18 | loss: 0.04431 | val_0_mse: 0.04031 |  0:03:22s\n",
      "epoch 19 | loss: 0.04642 | val_0_mse: 0.04333 |  0:03:33s\n",
      "epoch 20 | loss: 0.0413  | val_0_mse: 0.03815 |  0:03:44s\n",
      "epoch 21 | loss: 0.04688 | val_0_mse: 0.04346 |  0:03:55s\n",
      "epoch 22 | loss: 0.04487 | val_0_mse: 0.04056 |  0:04:05s\n",
      "epoch 23 | loss: 0.04253 | val_0_mse: 0.04387 |  0:04:16s\n",
      "epoch 24 | loss: 0.03615 | val_0_mse: 0.04069 |  0:04:27s\n",
      "epoch 25 | loss: 0.04461 | val_0_mse: 0.0545  |  0:04:38s\n",
      "epoch 26 | loss: 0.04177 | val_0_mse: 0.03221 |  0:04:48s\n",
      "epoch 27 | loss: 0.03896 | val_0_mse: 0.0314  |  0:04:59s\n",
      "epoch 28 | loss: 0.03651 | val_0_mse: 0.05252 |  0:05:10s\n",
      "epoch 29 | loss: 0.0343  | val_0_mse: 0.03498 |  0:05:21s\n",
      "epoch 30 | loss: 0.0307  | val_0_mse: 0.03505 |  0:05:32s\n",
      "epoch 31 | loss: 0.03027 | val_0_mse: 0.02105 |  0:05:42s\n",
      "epoch 32 | loss: 0.0332  | val_0_mse: 0.04223 |  0:05:53s\n",
      "epoch 33 | loss: 0.02817 | val_0_mse: 0.02587 |  0:06:04s\n",
      "epoch 34 | loss: 0.02428 | val_0_mse: 0.02193 |  0:06:15s\n",
      "epoch 35 | loss: 0.02386 | val_0_mse: 0.01934 |  0:06:25s\n",
      "epoch 36 | loss: 0.02352 | val_0_mse: 0.06566 |  0:06:36s\n",
      "epoch 37 | loss: 0.02292 | val_0_mse: 0.01952 |  0:06:47s\n",
      "epoch 38 | loss: 0.02219 | val_0_mse: 0.03098 |  0:06:58s\n",
      "epoch 39 | loss: 0.01983 | val_0_mse: 0.01409 |  0:07:09s\n",
      "epoch 40 | loss: 0.0252  | val_0_mse: 0.03757 |  0:07:20s\n",
      "epoch 41 | loss: 0.02183 | val_0_mse: 0.03456 |  0:07:30s\n",
      "epoch 42 | loss: 0.01834 | val_0_mse: 0.01886 |  0:07:41s\n",
      "epoch 43 | loss: 0.01803 | val_0_mse: 0.01839 |  0:07:52s\n",
      "epoch 44 | loss: 0.01639 | val_0_mse: 0.01113 |  0:08:02s\n",
      "epoch 45 | loss: 0.01314 | val_0_mse: 0.01147 |  0:08:13s\n",
      "epoch 46 | loss: 0.01523 | val_0_mse: 0.00905 |  0:08:24s\n",
      "epoch 47 | loss: 0.01307 | val_0_mse: 0.01185 |  0:08:34s\n",
      "epoch 48 | loss: 0.01336 | val_0_mse: 0.01346 |  0:08:45s\n",
      "epoch 49 | loss: 0.01272 | val_0_mse: 0.01736 |  0:08:56s\n",
      "epoch 50 | loss: 0.0147  | val_0_mse: 0.00964 |  0:09:06s\n",
      "epoch 51 | loss: 0.01268 | val_0_mse: 0.03351 |  0:09:17s\n",
      "epoch 52 | loss: 0.01888 | val_0_mse: 0.01004 |  0:09:28s\n",
      "epoch 53 | loss: 0.01647 | val_0_mse: 0.02    |  0:09:38s\n",
      "epoch 54 | loss: 0.01434 | val_0_mse: 0.01084 |  0:09:49s\n",
      "epoch 55 | loss: 0.0145  | val_0_mse: 0.01721 |  0:10:00s\n",
      "epoch 56 | loss: 0.01396 | val_0_mse: 0.00831 |  0:10:11s\n",
      "epoch 57 | loss: 0.01277 | val_0_mse: 0.00946 |  0:10:22s\n",
      "epoch 58 | loss: 0.01365 | val_0_mse: 0.00751 |  0:10:32s\n",
      "epoch 59 | loss: 0.01456 | val_0_mse: 0.01027 |  0:10:43s\n",
      "epoch 60 | loss: 0.01241 | val_0_mse: 0.00854 |  0:10:54s\n",
      "epoch 61 | loss: 0.01514 | val_0_mse: 0.00688 |  0:11:05s\n",
      "epoch 62 | loss: 0.01102 | val_0_mse: 0.00975 |  0:11:15s\n",
      "epoch 63 | loss: 0.01072 | val_0_mse: 0.00965 |  0:11:26s\n",
      "epoch 64 | loss: 0.01233 | val_0_mse: 0.00899 |  0:11:37s\n",
      "epoch 65 | loss: 0.01431 | val_0_mse: 0.01063 |  0:11:48s\n",
      "epoch 66 | loss: 0.0121  | val_0_mse: 0.01418 |  0:11:58s\n",
      "epoch 67 | loss: 0.00991 | val_0_mse: 0.01363 |  0:12:09s\n",
      "epoch 68 | loss: 0.01091 | val_0_mse: 0.00566 |  0:12:20s\n",
      "epoch 69 | loss: 0.01278 | val_0_mse: 0.00792 |  0:12:31s\n",
      "epoch 70 | loss: 0.01258 | val_0_mse: 0.04508 |  0:12:41s\n",
      "epoch 71 | loss: 0.01483 | val_0_mse: 0.01096 |  0:12:52s\n",
      "epoch 72 | loss: 0.01052 | val_0_mse: 0.00595 |  0:13:03s\n",
      "epoch 73 | loss: 0.00844 | val_0_mse: 0.01253 |  0:13:14s\n",
      "epoch 74 | loss: 0.0091  | val_0_mse: 0.01056 |  0:13:25s\n",
      "epoch 75 | loss: 0.00922 | val_0_mse: 0.00662 |  0:13:35s\n",
      "epoch 76 | loss: 0.01073 | val_0_mse: 0.01144 |  0:13:46s\n",
      "epoch 77 | loss: 0.01039 | val_0_mse: 0.17088 |  0:13:57s\n",
      "epoch 78 | loss: 0.00919 | val_0_mse: 0.00932 |  0:14:08s\n",
      "\n",
      "Early stopping occurred at epoch 78 with best_epoch = 68 and best_val_0_mse = 0.00566\n"
     ]
    },
    {
     "name": "stderr",
     "output_type": "stream",
     "text": [
      "/opt/homebrew/Caskroom/miniforge/base/envs/mlp/lib/python3.10/site-packages/pytorch_tabnet/callbacks.py:172: UserWarning: Best weights from best epoch are automatically used!\n",
      "  warnings.warn(wrn_msg)\n"
     ]
    },
    {
     "name": "stdout",
     "output_type": "stream",
     "text": [
      "Model MSE: 0.005920 - Best MSE: 0.005215\n",
      "Model R2 Score: 0.973292 - Best R2 Score: 0.976475\n",
      "\n",
      "Iterations 34/72 - Hyperparameters:  batch_sizes=32, nums_epochs=200, n_d=32, n_a=32, n_step=6, n_indipendent=3, n_shared=3, gamma=1.3, epsilon=1e-08\n"
     ]
    },
    {
     "name": "stderr",
     "output_type": "stream",
     "text": [
      "/opt/homebrew/Caskroom/miniforge/base/envs/mlp/lib/python3.10/site-packages/pytorch_tabnet/abstract_model.py:75: UserWarning: Device used : cpu\n",
      "  warnings.warn(f\"Device used : {self.device}\")\n"
     ]
    },
    {
     "name": "stdout",
     "output_type": "stream",
     "text": [
      "epoch 0  | loss: 0.82267 | val_0_mse: 0.13859 |  0:00:30s\n",
      "epoch 1  | loss: 0.13653 | val_0_mse: 0.11405 |  0:01:02s\n",
      "epoch 2  | loss: 0.1479  | val_0_mse: 0.08296 |  0:01:32s\n",
      "epoch 3  | loss: 0.08361 | val_0_mse: 0.09567 |  0:02:03s\n",
      "epoch 4  | loss: 0.07207 | val_0_mse: 0.0424  |  0:02:34s\n",
      "epoch 5  | loss: 0.05901 | val_0_mse: 0.08033 |  0:03:05s\n",
      "epoch 6  | loss: 0.04871 | val_0_mse: 0.04303 |  0:03:36s\n",
      "epoch 7  | loss: 0.03869 | val_0_mse: 0.02539 |  0:04:07s\n",
      "epoch 8  | loss: 0.03383 | val_0_mse: 0.0274  |  0:04:38s\n",
      "epoch 9  | loss: 0.03411 | val_0_mse: 0.02808 |  0:05:08s\n",
      "epoch 10 | loss: 0.02994 | val_0_mse: 0.06057 |  0:05:39s\n",
      "epoch 11 | loss: 0.02819 | val_0_mse: 0.03753 |  0:06:10s\n",
      "epoch 12 | loss: 0.02715 | val_0_mse: 0.02456 |  0:06:41s\n",
      "epoch 13 | loss: 0.03106 | val_0_mse: 0.04793 |  0:07:12s\n",
      "epoch 14 | loss: 0.02425 | val_0_mse: 0.00977 |  0:07:43s\n",
      "epoch 15 | loss: 0.0272  | val_0_mse: 0.02858 |  0:08:14s\n",
      "epoch 16 | loss: 0.02555 | val_0_mse: 0.01618 |  0:08:44s\n",
      "epoch 17 | loss: 0.02516 | val_0_mse: 0.01483 |  0:09:15s\n",
      "epoch 18 | loss: 0.02311 | val_0_mse: 0.03716 |  0:09:46s\n",
      "epoch 19 | loss: 0.02358 | val_0_mse: 0.03241 |  0:10:17s\n",
      "epoch 20 | loss: 0.0254  | val_0_mse: 0.04234 |  0:10:47s\n",
      "epoch 21 | loss: 0.02072 | val_0_mse: 0.01674 |  0:11:18s\n",
      "epoch 22 | loss: 0.01984 | val_0_mse: 0.01968 |  0:11:49s\n",
      "epoch 23 | loss: 0.02304 | val_0_mse: 0.00667 |  0:12:20s\n",
      "epoch 24 | loss: 0.02896 | val_0_mse: 0.01148 |  0:12:51s\n",
      "epoch 25 | loss: 0.01762 | val_0_mse: 0.03122 |  0:13:22s\n",
      "epoch 26 | loss: 0.02543 | val_0_mse: 0.02614 |  0:13:52s\n",
      "epoch 27 | loss: 0.02099 | val_0_mse: 0.00844 |  0:14:23s\n",
      "epoch 28 | loss: 0.01849 | val_0_mse: 0.02387 |  0:14:54s\n",
      "epoch 29 | loss: 0.02308 | val_0_mse: 0.01694 |  0:15:25s\n",
      "epoch 30 | loss: 0.02101 | val_0_mse: 0.00832 |  0:15:56s\n",
      "epoch 31 | loss: 0.02635 | val_0_mse: 0.12831 |  0:16:27s\n",
      "epoch 32 | loss: 0.02159 | val_0_mse: 0.01942 |  0:16:58s\n",
      "epoch 33 | loss: 0.02305 | val_0_mse: 0.01362 |  0:17:29s\n",
      "\n",
      "Early stopping occurred at epoch 33 with best_epoch = 23 and best_val_0_mse = 0.00667\n"
     ]
    },
    {
     "name": "stderr",
     "output_type": "stream",
     "text": [
      "/opt/homebrew/Caskroom/miniforge/base/envs/mlp/lib/python3.10/site-packages/pytorch_tabnet/callbacks.py:172: UserWarning: Best weights from best epoch are automatically used!\n",
      "  warnings.warn(wrn_msg)\n"
     ]
    },
    {
     "name": "stdout",
     "output_type": "stream",
     "text": [
      "Model MSE: 0.006307 - Best MSE: 0.005215\n",
      "Model R2 Score: 0.971549 - Best R2 Score: 0.976475\n",
      "\n",
      "Iterations 35/72 - Hyperparameters:  batch_sizes=64, nums_epochs=200, n_d=32, n_a=32, n_step=6, n_indipendent=3, n_shared=3, gamma=1.3, epsilon=1e-08\n"
     ]
    },
    {
     "name": "stderr",
     "output_type": "stream",
     "text": [
      "/opt/homebrew/Caskroom/miniforge/base/envs/mlp/lib/python3.10/site-packages/pytorch_tabnet/abstract_model.py:75: UserWarning: Device used : cpu\n",
      "  warnings.warn(f\"Device used : {self.device}\")\n"
     ]
    },
    {
     "name": "stdout",
     "output_type": "stream",
     "text": [
      "epoch 0  | loss: 1.29272 | val_0_mse: 0.44348 |  0:00:20s\n",
      "epoch 1  | loss: 0.1801  | val_0_mse: 0.33466 |  0:00:40s\n",
      "epoch 2  | loss: 0.14008 | val_0_mse: 0.10862 |  0:01:00s\n",
      "epoch 3  | loss: 0.1266  | val_0_mse: 0.10812 |  0:01:20s\n",
      "epoch 4  | loss: 0.09105 | val_0_mse: 0.08644 |  0:01:40s\n",
      "epoch 5  | loss: 0.06752 | val_0_mse: 0.09369 |  0:01:59s\n",
      "epoch 6  | loss: 0.06107 | val_0_mse: 0.05141 |  0:02:19s\n",
      "epoch 7  | loss: 0.04443 | val_0_mse: 0.09273 |  0:02:39s\n",
      "epoch 8  | loss: 0.04078 | val_0_mse: 0.03542 |  0:02:59s\n",
      "epoch 9  | loss: 0.04208 | val_0_mse: 0.04325 |  0:03:19s\n",
      "epoch 10 | loss: 0.03673 | val_0_mse: 0.02381 |  0:03:39s\n",
      "epoch 11 | loss: 0.03249 | val_0_mse: 0.01927 |  0:03:59s\n",
      "epoch 12 | loss: 0.02662 | val_0_mse: 0.05278 |  0:04:18s\n",
      "epoch 13 | loss: 0.02342 | val_0_mse: 0.0257  |  0:04:38s\n",
      "epoch 14 | loss: 0.02006 | val_0_mse: 0.01882 |  0:04:58s\n",
      "epoch 15 | loss: 0.02118 | val_0_mse: 0.04182 |  0:05:18s\n",
      "epoch 16 | loss: 0.01907 | val_0_mse: 0.02947 |  0:05:38s\n",
      "epoch 17 | loss: 0.02066 | val_0_mse: 0.02102 |  0:05:58s\n",
      "epoch 18 | loss: 0.02246 | val_0_mse: 0.0475  |  0:06:18s\n",
      "epoch 19 | loss: 0.02201 | val_0_mse: 0.03181 |  0:06:38s\n",
      "epoch 20 | loss: 0.01801 | val_0_mse: 0.01111 |  0:06:58s\n",
      "epoch 21 | loss: 0.0201  | val_0_mse: 0.0393  |  0:07:18s\n",
      "epoch 22 | loss: 0.02072 | val_0_mse: 0.06502 |  0:07:38s\n",
      "epoch 23 | loss: 0.02899 | val_0_mse: 0.03146 |  0:07:58s\n",
      "epoch 24 | loss: 0.02548 | val_0_mse: 0.03464 |  0:08:18s\n",
      "epoch 25 | loss: 0.01984 | val_0_mse: 0.00858 |  0:08:37s\n",
      "epoch 26 | loss: 0.01829 | val_0_mse: 0.01996 |  0:08:58s\n",
      "epoch 27 | loss: 0.02013 | val_0_mse: 0.02334 |  0:09:18s\n",
      "epoch 28 | loss: 0.02029 | val_0_mse: 0.03728 |  0:09:38s\n",
      "epoch 29 | loss: 0.01718 | val_0_mse: 0.01427 |  0:09:57s\n",
      "epoch 30 | loss: 0.01797 | val_0_mse: 0.01933 |  0:10:17s\n",
      "epoch 31 | loss: 0.02153 | val_0_mse: 0.01595 |  0:10:37s\n",
      "epoch 32 | loss: 0.01822 | val_0_mse: 0.01713 |  0:10:57s\n",
      "epoch 33 | loss: 0.01819 | val_0_mse: 0.04673 |  0:11:17s\n",
      "epoch 34 | loss: 0.01327 | val_0_mse: 0.01546 |  0:11:37s\n",
      "epoch 35 | loss: 0.01616 | val_0_mse: 0.01942 |  0:11:57s\n",
      "\n",
      "Early stopping occurred at epoch 35 with best_epoch = 25 and best_val_0_mse = 0.00858\n"
     ]
    },
    {
     "name": "stderr",
     "output_type": "stream",
     "text": [
      "/opt/homebrew/Caskroom/miniforge/base/envs/mlp/lib/python3.10/site-packages/pytorch_tabnet/callbacks.py:172: UserWarning: Best weights from best epoch are automatically used!\n",
      "  warnings.warn(wrn_msg)\n"
     ]
    },
    {
     "name": "stdout",
     "output_type": "stream",
     "text": [
      "Model MSE: 0.009359 - Best MSE: 0.005215\n",
      "Model R2 Score: 0.957779 - Best R2 Score: 0.976475\n",
      "\n",
      "Iterations 36/72 - Hyperparameters:  batch_sizes=128, nums_epochs=200, n_d=32, n_a=32, n_step=6, n_indipendent=3, n_shared=3, gamma=1.3, epsilon=1e-08\n"
     ]
    },
    {
     "name": "stderr",
     "output_type": "stream",
     "text": [
      "/opt/homebrew/Caskroom/miniforge/base/envs/mlp/lib/python3.10/site-packages/pytorch_tabnet/abstract_model.py:75: UserWarning: Device used : cpu\n",
      "  warnings.warn(f\"Device used : {self.device}\")\n"
     ]
    },
    {
     "name": "stdout",
     "output_type": "stream",
     "text": [
      "epoch 0  | loss: 2.19016 | val_0_mse: 0.84064 |  0:00:11s\n",
      "epoch 1  | loss: 0.28198 | val_0_mse: 0.47903 |  0:00:23s\n",
      "epoch 2  | loss: 0.14544 | val_0_mse: 0.12322 |  0:00:35s\n",
      "epoch 3  | loss: 0.10678 | val_0_mse: 0.10851 |  0:00:46s\n",
      "epoch 4  | loss: 0.11916 | val_0_mse: 0.08177 |  0:00:58s\n",
      "epoch 5  | loss: 0.0832  | val_0_mse: 0.07251 |  0:01:10s\n",
      "epoch 6  | loss: 0.0751  | val_0_mse: 0.09711 |  0:01:21s\n",
      "epoch 7  | loss: 0.06497 | val_0_mse: 0.06367 |  0:01:34s\n",
      "epoch 8  | loss: 0.05508 | val_0_mse: 0.15773 |  0:01:45s\n",
      "epoch 9  | loss: 0.05233 | val_0_mse: 0.03591 |  0:01:57s\n",
      "epoch 10 | loss: 0.04949 | val_0_mse: 0.05001 |  0:02:09s\n",
      "epoch 11 | loss: 0.0476  | val_0_mse: 0.03578 |  0:02:20s\n",
      "epoch 12 | loss: 0.03818 | val_0_mse: 0.0297  |  0:02:32s\n",
      "epoch 13 | loss: 0.03866 | val_0_mse: 0.03402 |  0:02:44s\n",
      "epoch 14 | loss: 0.05383 | val_0_mse: 0.03903 |  0:02:56s\n",
      "epoch 15 | loss: 0.03601 | val_0_mse: 0.06718 |  0:03:07s\n",
      "epoch 16 | loss: 0.03825 | val_0_mse: 0.02739 |  0:03:19s\n",
      "epoch 17 | loss: 0.03357 | val_0_mse: 0.03611 |  0:03:31s\n",
      "epoch 18 | loss: 0.02563 | val_0_mse: 0.03186 |  0:03:42s\n",
      "epoch 19 | loss: 0.02914 | val_0_mse: 0.01538 |  0:03:54s\n",
      "epoch 20 | loss: 0.0218  | val_0_mse: 0.01529 |  0:04:06s\n",
      "epoch 21 | loss: 0.02195 | val_0_mse: 0.01217 |  0:04:17s\n",
      "epoch 22 | loss: 0.01786 | val_0_mse: 0.05119 |  0:04:28s\n",
      "epoch 23 | loss: 0.02677 | val_0_mse: 0.00969 |  0:04:40s\n",
      "epoch 24 | loss: 0.01871 | val_0_mse: 0.02616 |  0:04:51s\n",
      "epoch 25 | loss: 0.02127 | val_0_mse: 0.03843 |  0:05:02s\n",
      "epoch 26 | loss: 0.01564 | val_0_mse: 0.0316  |  0:05:13s\n",
      "epoch 27 | loss: 0.01373 | val_0_mse: 0.05052 |  0:05:25s\n",
      "epoch 28 | loss: 0.02257 | val_0_mse: 0.0096  |  0:05:36s\n",
      "epoch 29 | loss: 0.02053 | val_0_mse: 0.00808 |  0:05:47s\n",
      "epoch 30 | loss: 0.01674 | val_0_mse: 0.0103  |  0:05:58s\n",
      "epoch 31 | loss: 0.01378 | val_0_mse: 0.02178 |  0:06:10s\n",
      "epoch 32 | loss: 0.01756 | val_0_mse: 0.00733 |  0:06:21s\n",
      "epoch 33 | loss: 0.01253 | val_0_mse: 0.01751 |  0:06:32s\n",
      "epoch 34 | loss: 0.01417 | val_0_mse: 0.01458 |  0:06:43s\n",
      "epoch 35 | loss: 0.01601 | val_0_mse: 0.01897 |  0:06:54s\n",
      "epoch 36 | loss: 0.01653 | val_0_mse: 0.01265 |  0:07:05s\n",
      "epoch 37 | loss: 0.01631 | val_0_mse: 0.01509 |  0:07:17s\n",
      "epoch 38 | loss: 0.01414 | val_0_mse: 0.01014 |  0:07:28s\n",
      "epoch 39 | loss: 0.01142 | val_0_mse: 0.02615 |  0:07:39s\n",
      "epoch 40 | loss: 0.01407 | val_0_mse: 0.01101 |  0:07:50s\n",
      "epoch 41 | loss: 0.01293 | val_0_mse: 0.0094  |  0:08:01s\n",
      "epoch 42 | loss: 0.02135 | val_0_mse: 0.01107 |  0:08:12s\n",
      "\n",
      "Early stopping occurred at epoch 42 with best_epoch = 32 and best_val_0_mse = 0.00733\n"
     ]
    },
    {
     "name": "stderr",
     "output_type": "stream",
     "text": [
      "/opt/homebrew/Caskroom/miniforge/base/envs/mlp/lib/python3.10/site-packages/pytorch_tabnet/callbacks.py:172: UserWarning: Best weights from best epoch are automatically used!\n",
      "  warnings.warn(wrn_msg)\n"
     ]
    },
    {
     "name": "stdout",
     "output_type": "stream",
     "text": [
      "Model MSE: 0.007224 - Best MSE: 0.005215\n",
      "Model R2 Score: 0.967409 - Best R2 Score: 0.976475\n",
      "\n",
      "Iterations 37/72 - Hyperparameters:  batch_sizes=32, nums_epochs=200, n_d=32, n_a=32, n_step=7, n_indipendent=2, n_shared=2, gamma=1.3, epsilon=1e-08\n"
     ]
    },
    {
     "name": "stderr",
     "output_type": "stream",
     "text": [
      "/opt/homebrew/Caskroom/miniforge/base/envs/mlp/lib/python3.10/site-packages/pytorch_tabnet/abstract_model.py:75: UserWarning: Device used : cpu\n",
      "  warnings.warn(f\"Device used : {self.device}\")\n"
     ]
    },
    {
     "name": "stdout",
     "output_type": "stream",
     "text": [
      "epoch 0  | loss: 1.15295 | val_0_mse: 0.13369 |  0:00:30s\n",
      "epoch 1  | loss: 0.12247 | val_0_mse: 0.10354 |  0:01:01s\n",
      "epoch 2  | loss: 0.08914 | val_0_mse: 0.1369  |  0:01:31s\n",
      "epoch 3  | loss: 0.09119 | val_0_mse: 0.09202 |  0:02:01s\n",
      "epoch 4  | loss: 0.09944 | val_0_mse: 0.06157 |  0:02:31s\n",
      "epoch 5  | loss: 0.07124 | val_0_mse: 0.07267 |  0:03:01s\n",
      "epoch 6  | loss: 0.06569 | val_0_mse: 0.05261 |  0:03:31s\n",
      "epoch 7  | loss: 0.05896 | val_0_mse: 0.03887 |  0:04:02s\n",
      "epoch 8  | loss: 0.05169 | val_0_mse: 0.04737 |  0:04:32s\n",
      "epoch 9  | loss: 0.04457 | val_0_mse: 0.02918 |  0:05:02s\n",
      "epoch 10 | loss: 0.04575 | val_0_mse: 0.0634  |  0:05:32s\n",
      "epoch 11 | loss: 0.05388 | val_0_mse: 0.04098 |  0:06:03s\n",
      "epoch 12 | loss: 0.04073 | val_0_mse: 0.02571 |  0:06:33s\n",
      "epoch 13 | loss: 0.04483 | val_0_mse: 0.02676 |  0:07:03s\n",
      "epoch 14 | loss: 0.03022 | val_0_mse: 0.0287  |  0:07:33s\n",
      "epoch 15 | loss: 0.02707 | val_0_mse: 0.0919  |  0:08:04s\n",
      "epoch 16 | loss: 0.03266 | val_0_mse: 0.0275  |  0:08:34s\n",
      "epoch 17 | loss: 0.03096 | val_0_mse: 0.01835 |  0:09:04s\n",
      "epoch 18 | loss: 0.02752 | val_0_mse: 0.05506 |  0:09:35s\n",
      "epoch 19 | loss: 0.02502 | val_0_mse: 0.02341 |  0:10:08s\n",
      "epoch 20 | loss: 0.02564 | val_0_mse: 0.06914 |  0:10:38s\n",
      "epoch 21 | loss: 0.02416 | val_0_mse: 0.05162 |  0:11:09s\n",
      "epoch 22 | loss: 0.02377 | val_0_mse: 0.01476 |  0:11:39s\n",
      "epoch 23 | loss: 0.02374 | val_0_mse: 0.01752 |  0:12:09s\n",
      "epoch 24 | loss: 0.02368 | val_0_mse: 0.00933 |  0:12:39s\n",
      "epoch 25 | loss: 0.02493 | val_0_mse: 0.03674 |  0:13:10s\n",
      "epoch 26 | loss: 0.02574 | val_0_mse: 0.02686 |  0:13:40s\n",
      "epoch 27 | loss: 0.0267  | val_0_mse: 0.04793 |  0:14:10s\n",
      "epoch 28 | loss: 0.02899 | val_0_mse: 0.01331 |  0:14:40s\n",
      "epoch 29 | loss: 0.0241  | val_0_mse: 0.01791 |  0:15:11s\n",
      "epoch 30 | loss: 0.02492 | val_0_mse: 0.01638 |  0:15:41s\n",
      "epoch 31 | loss: 0.02259 | val_0_mse: 0.01128 |  0:16:11s\n",
      "epoch 32 | loss: 0.02193 | val_0_mse: 0.02062 |  0:16:41s\n",
      "epoch 33 | loss: 0.02573 | val_0_mse: 0.01905 |  0:17:11s\n",
      "epoch 34 | loss: 0.02343 | val_0_mse: 0.05646 |  0:17:42s\n",
      "\n",
      "Early stopping occurred at epoch 34 with best_epoch = 24 and best_val_0_mse = 0.00933\n"
     ]
    },
    {
     "name": "stderr",
     "output_type": "stream",
     "text": [
      "/opt/homebrew/Caskroom/miniforge/base/envs/mlp/lib/python3.10/site-packages/pytorch_tabnet/callbacks.py:172: UserWarning: Best weights from best epoch are automatically used!\n",
      "  warnings.warn(wrn_msg)\n"
     ]
    },
    {
     "name": "stdout",
     "output_type": "stream",
     "text": [
      "Model MSE: 0.009659 - Best MSE: 0.005215\n",
      "Model R2 Score: 0.956427 - Best R2 Score: 0.976475\n",
      "\n",
      "Iterations 38/72 - Hyperparameters:  batch_sizes=64, nums_epochs=200, n_d=32, n_a=32, n_step=7, n_indipendent=2, n_shared=2, gamma=1.3, epsilon=1e-08\n"
     ]
    },
    {
     "name": "stderr",
     "output_type": "stream",
     "text": [
      "/opt/homebrew/Caskroom/miniforge/base/envs/mlp/lib/python3.10/site-packages/pytorch_tabnet/abstract_model.py:75: UserWarning: Device used : cpu\n",
      "  warnings.warn(f\"Device used : {self.device}\")\n"
     ]
    },
    {
     "name": "stdout",
     "output_type": "stream",
     "text": [
      "epoch 0  | loss: 1.75098 | val_0_mse: 0.40001 |  0:00:19s\n",
      "epoch 1  | loss: 0.17063 | val_0_mse: 0.08413 |  0:00:38s\n",
      "epoch 2  | loss: 0.09399 | val_0_mse: 0.06804 |  0:00:57s\n",
      "epoch 3  | loss: 0.08729 | val_0_mse: 0.09445 |  0:01:16s\n",
      "epoch 4  | loss: 0.09268 | val_0_mse: 0.07446 |  0:01:35s\n",
      "epoch 5  | loss: 0.07823 | val_0_mse: 0.07205 |  0:01:54s\n",
      "epoch 6  | loss: 0.07169 | val_0_mse: 0.05754 |  0:02:13s\n",
      "epoch 7  | loss: 0.06966 | val_0_mse: 0.05272 |  0:02:32s\n",
      "epoch 8  | loss: 0.06099 | val_0_mse: 0.08621 |  0:02:51s\n",
      "epoch 9  | loss: 0.04567 | val_0_mse: 0.04102 |  0:03:10s\n",
      "epoch 10 | loss: 0.04583 | val_0_mse: 0.05549 |  0:03:30s\n",
      "epoch 11 | loss: 0.04837 | val_0_mse: 0.03691 |  0:03:49s\n",
      "epoch 12 | loss: 0.03393 | val_0_mse: 0.05921 |  0:04:08s\n",
      "epoch 13 | loss: 0.03754 | val_0_mse: 0.03279 |  0:04:27s\n",
      "epoch 14 | loss: 0.02991 | val_0_mse: 0.02881 |  0:04:46s\n",
      "epoch 15 | loss: 0.02774 | val_0_mse: 0.02554 |  0:05:06s\n",
      "epoch 16 | loss: 0.03174 | val_0_mse: 0.02181 |  0:05:25s\n",
      "epoch 17 | loss: 0.0348  | val_0_mse: 0.0236  |  0:05:44s\n",
      "epoch 18 | loss: 0.02528 | val_0_mse: 0.02942 |  0:06:03s\n",
      "epoch 19 | loss: 0.02451 | val_0_mse: 0.03677 |  0:06:22s\n",
      "epoch 20 | loss: 0.02584 | val_0_mse: 0.01901 |  0:06:41s\n",
      "epoch 21 | loss: 0.02504 | val_0_mse: 0.07363 |  0:07:00s\n",
      "epoch 22 | loss: 0.02324 | val_0_mse: 0.01037 |  0:07:19s\n",
      "epoch 23 | loss: 0.02606 | val_0_mse: 0.02196 |  0:07:39s\n",
      "epoch 24 | loss: 0.01948 | val_0_mse: 0.011   |  0:07:58s\n",
      "epoch 25 | loss: 0.02589 | val_0_mse: 0.06092 |  0:08:17s\n",
      "epoch 26 | loss: 0.02973 | val_0_mse: 0.01984 |  0:08:36s\n",
      "epoch 27 | loss: 0.02941 | val_0_mse: 0.02305 |  0:08:55s\n",
      "epoch 28 | loss: 0.02248 | val_0_mse: 0.02381 |  0:09:15s\n",
      "epoch 29 | loss: 0.01923 | val_0_mse: 0.00997 |  0:09:34s\n",
      "epoch 30 | loss: 0.01543 | val_0_mse: 0.00915 |  0:09:53s\n",
      "epoch 31 | loss: 0.0182  | val_0_mse: 0.03029 |  0:10:12s\n",
      "epoch 32 | loss: 0.02168 | val_0_mse: 0.04588 |  0:10:31s\n",
      "epoch 33 | loss: 0.02006 | val_0_mse: 0.01344 |  0:10:51s\n",
      "epoch 34 | loss: 0.01956 | val_0_mse: 0.02724 |  0:11:10s\n",
      "epoch 35 | loss: 0.01937 | val_0_mse: 0.01663 |  0:11:29s\n",
      "epoch 36 | loss: 0.0188  | val_0_mse: 0.01105 |  0:11:49s\n",
      "epoch 37 | loss: 0.01537 | val_0_mse: 0.01012 |  0:12:08s\n",
      "epoch 38 | loss: 0.01782 | val_0_mse: 0.00848 |  0:12:28s\n",
      "epoch 39 | loss: 0.01536 | val_0_mse: 0.01019 |  0:12:47s\n",
      "epoch 40 | loss: 0.01708 | val_0_mse: 0.03396 |  0:13:06s\n",
      "epoch 41 | loss: 0.01453 | val_0_mse: 0.01844 |  0:13:25s\n",
      "epoch 42 | loss: 0.01874 | val_0_mse: 0.00977 |  0:13:45s\n",
      "epoch 43 | loss: 0.01228 | val_0_mse: 0.01234 |  0:14:04s\n",
      "epoch 44 | loss: 0.01265 | val_0_mse: 0.01269 |  0:14:23s\n",
      "epoch 45 | loss: 0.0145  | val_0_mse: 0.00756 |  0:14:43s\n",
      "epoch 46 | loss: 0.01261 | val_0_mse: 0.01954 |  0:15:02s\n",
      "epoch 47 | loss: 0.01656 | val_0_mse: 0.01444 |  0:15:21s\n",
      "epoch 48 | loss: 0.01237 | val_0_mse: 0.012   |  0:15:40s\n",
      "epoch 49 | loss: 0.01955 | val_0_mse: 0.02026 |  0:16:00s\n",
      "epoch 50 | loss: 0.01399 | val_0_mse: 0.01329 |  0:16:19s\n",
      "epoch 51 | loss: 0.01405 | val_0_mse: 0.01328 |  0:16:38s\n",
      "epoch 52 | loss: 0.02003 | val_0_mse: 0.04267 |  0:16:57s\n",
      "epoch 53 | loss: 0.01424 | val_0_mse: 0.02436 |  0:17:16s\n",
      "epoch 54 | loss: 0.01731 | val_0_mse: 0.01085 |  0:17:35s\n",
      "epoch 55 | loss: 0.01504 | val_0_mse: 0.01179 |  0:17:54s\n",
      "\n",
      "Early stopping occurred at epoch 55 with best_epoch = 45 and best_val_0_mse = 0.00756\n"
     ]
    },
    {
     "name": "stderr",
     "output_type": "stream",
     "text": [
      "/opt/homebrew/Caskroom/miniforge/base/envs/mlp/lib/python3.10/site-packages/pytorch_tabnet/callbacks.py:172: UserWarning: Best weights from best epoch are automatically used!\n",
      "  warnings.warn(wrn_msg)\n"
     ]
    },
    {
     "name": "stdout",
     "output_type": "stream",
     "text": [
      "Model MSE: 0.007135 - Best MSE: 0.005215\n",
      "Model R2 Score: 0.967810 - Best R2 Score: 0.976475\n",
      "\n",
      "Iterations 39/72 - Hyperparameters:  batch_sizes=128, nums_epochs=200, n_d=32, n_a=32, n_step=7, n_indipendent=2, n_shared=2, gamma=1.3, epsilon=1e-08\n"
     ]
    },
    {
     "name": "stderr",
     "output_type": "stream",
     "text": [
      "/opt/homebrew/Caskroom/miniforge/base/envs/mlp/lib/python3.10/site-packages/pytorch_tabnet/abstract_model.py:75: UserWarning: Device used : cpu\n",
      "  warnings.warn(f\"Device used : {self.device}\")\n"
     ]
    },
    {
     "name": "stdout",
     "output_type": "stream",
     "text": [
      "epoch 0  | loss: 3.01985 | val_0_mse: 0.23005 |  0:00:11s\n",
      "epoch 1  | loss: 0.7015  | val_0_mse: 0.14935 |  0:00:22s\n",
      "epoch 2  | loss: 0.18605 | val_0_mse: 0.40244 |  0:00:33s\n",
      "epoch 3  | loss: 0.12515 | val_0_mse: 0.10359 |  0:00:45s\n",
      "epoch 4  | loss: 0.12046 | val_0_mse: 0.09442 |  0:00:56s\n",
      "epoch 5  | loss: 0.08966 | val_0_mse: 0.07089 |  0:01:07s\n",
      "epoch 6  | loss: 0.06861 | val_0_mse: 0.079   |  0:01:18s\n",
      "epoch 7  | loss: 0.07674 | val_0_mse: 0.04828 |  0:01:29s\n",
      "epoch 8  | loss: 0.05685 | val_0_mse: 0.04888 |  0:01:40s\n",
      "epoch 9  | loss: 0.04902 | val_0_mse: 0.053   |  0:01:51s\n",
      "epoch 10 | loss: 0.06032 | val_0_mse: 0.0466  |  0:02:02s\n",
      "epoch 11 | loss: 0.05844 | val_0_mse: 0.0419  |  0:02:14s\n",
      "epoch 12 | loss: 0.04772 | val_0_mse: 0.04264 |  0:02:25s\n",
      "epoch 13 | loss: 0.04622 | val_0_mse: 0.04883 |  0:02:36s\n",
      "epoch 14 | loss: 0.0484  | val_0_mse: 0.05711 |  0:02:47s\n",
      "epoch 15 | loss: 0.04593 | val_0_mse: 0.03165 |  0:02:58s\n",
      "epoch 16 | loss: 0.03752 | val_0_mse: 0.02848 |  0:03:09s\n",
      "epoch 17 | loss: 0.03758 | val_0_mse: 0.02422 |  0:03:21s\n",
      "epoch 18 | loss: 0.03102 | val_0_mse: 0.05955 |  0:03:32s\n",
      "epoch 19 | loss: 0.02936 | val_0_mse: 0.02588 |  0:03:43s\n",
      "epoch 20 | loss: 0.02697 | val_0_mse: 0.02423 |  0:03:54s\n",
      "epoch 21 | loss: 0.02688 | val_0_mse: 0.03903 |  0:04:05s\n",
      "epoch 22 | loss: 0.02929 | val_0_mse: 0.02101 |  0:04:16s\n",
      "epoch 23 | loss: 0.02318 | val_0_mse: 0.01635 |  0:04:27s\n",
      "epoch 24 | loss: 0.02097 | val_0_mse: 0.02918 |  0:04:38s\n",
      "epoch 25 | loss: 0.02104 | val_0_mse: 0.0155  |  0:04:49s\n",
      "epoch 26 | loss: 0.02415 | val_0_mse: 0.01849 |  0:05:01s\n",
      "epoch 27 | loss: 0.02195 | val_0_mse: 0.02367 |  0:05:12s\n",
      "epoch 28 | loss: 0.02117 | val_0_mse: 0.0311  |  0:05:23s\n",
      "epoch 29 | loss: 0.02964 | val_0_mse: 0.03083 |  0:05:34s\n",
      "epoch 30 | loss: 0.01919 | val_0_mse: 0.01322 |  0:05:45s\n",
      "epoch 31 | loss: 0.01804 | val_0_mse: 0.01316 |  0:05:56s\n",
      "epoch 32 | loss: 0.01632 | val_0_mse: 0.01241 |  0:06:07s\n",
      "epoch 33 | loss: 0.02113 | val_0_mse: 0.01268 |  0:06:18s\n",
      "epoch 34 | loss: 0.01326 | val_0_mse: 0.00975 |  0:06:29s\n",
      "epoch 35 | loss: 0.0121  | val_0_mse: 0.01677 |  0:06:40s\n",
      "epoch 36 | loss: 0.01517 | val_0_mse: 0.00833 |  0:06:52s\n",
      "epoch 37 | loss: 0.0127  | val_0_mse: 0.01012 |  0:07:03s\n",
      "epoch 38 | loss: 0.01323 | val_0_mse: 0.01101 |  0:07:14s\n",
      "epoch 39 | loss: 0.01322 | val_0_mse: 0.00878 |  0:07:25s\n",
      "epoch 40 | loss: 0.01273 | val_0_mse: 0.01323 |  0:07:36s\n",
      "epoch 41 | loss: 0.01287 | val_0_mse: 0.01327 |  0:07:48s\n",
      "epoch 42 | loss: 0.01137 | val_0_mse: 0.01143 |  0:07:59s\n",
      "epoch 43 | loss: 0.00917 | val_0_mse: 0.01264 |  0:08:10s\n",
      "epoch 44 | loss: 0.01433 | val_0_mse: 0.00945 |  0:08:21s\n",
      "epoch 45 | loss: 0.01515 | val_0_mse: 0.02829 |  0:08:32s\n",
      "epoch 46 | loss: 0.01637 | val_0_mse: 0.0123  |  0:08:44s\n",
      "\n",
      "Early stopping occurred at epoch 46 with best_epoch = 36 and best_val_0_mse = 0.00833\n"
     ]
    },
    {
     "name": "stderr",
     "output_type": "stream",
     "text": [
      "/opt/homebrew/Caskroom/miniforge/base/envs/mlp/lib/python3.10/site-packages/pytorch_tabnet/callbacks.py:172: UserWarning: Best weights from best epoch are automatically used!\n",
      "  warnings.warn(wrn_msg)\n"
     ]
    },
    {
     "name": "stdout",
     "output_type": "stream",
     "text": [
      "Model MSE: 0.008053 - Best MSE: 0.005215\n",
      "Model R2 Score: 0.963671 - Best R2 Score: 0.976475\n",
      "\n",
      "Iterations 40/72 - Hyperparameters:  batch_sizes=32, nums_epochs=200, n_d=32, n_a=32, n_step=7, n_indipendent=2, n_shared=3, gamma=1.3, epsilon=1e-08\n"
     ]
    },
    {
     "name": "stderr",
     "output_type": "stream",
     "text": [
      "/opt/homebrew/Caskroom/miniforge/base/envs/mlp/lib/python3.10/site-packages/pytorch_tabnet/abstract_model.py:75: UserWarning: Device used : cpu\n",
      "  warnings.warn(f\"Device used : {self.device}\")\n"
     ]
    },
    {
     "name": "stdout",
     "output_type": "stream",
     "text": [
      "epoch 0  | loss: 1.00967 | val_0_mse: 0.22041 |  0:00:32s\n",
      "epoch 1  | loss: 0.18324 | val_0_mse: 0.11488 |  0:01:05s\n",
      "epoch 2  | loss: 0.13087 | val_0_mse: 0.09863 |  0:01:37s\n",
      "epoch 3  | loss: 0.10936 | val_0_mse: 0.07127 |  0:02:10s\n",
      "epoch 4  | loss: 0.08289 | val_0_mse: 0.09482 |  0:02:42s\n",
      "epoch 5  | loss: 0.06669 | val_0_mse: 0.04702 |  0:03:15s\n",
      "epoch 6  | loss: 0.04274 | val_0_mse: 0.06516 |  0:03:47s\n",
      "epoch 7  | loss: 0.03446 | val_0_mse: 0.04357 |  0:04:20s\n",
      "epoch 8  | loss: 0.03787 | val_0_mse: 0.01641 |  0:04:52s\n",
      "epoch 9  | loss: 0.03086 | val_0_mse: 0.02027 |  0:05:25s\n",
      "epoch 10 | loss: 0.02871 | val_0_mse: 0.02097 |  0:05:57s\n",
      "epoch 11 | loss: 0.02977 | val_0_mse: 0.0211  |  0:06:30s\n",
      "epoch 12 | loss: 0.02581 | val_0_mse: 0.02497 |  0:07:02s\n",
      "epoch 13 | loss: 0.02591 | val_0_mse: 0.01493 |  0:07:34s\n",
      "epoch 14 | loss: 0.02838 | val_0_mse: 0.01482 |  0:08:07s\n",
      "epoch 15 | loss: 0.02666 | val_0_mse: 0.01174 |  0:08:39s\n",
      "epoch 16 | loss: 0.02764 | val_0_mse: 0.02143 |  0:09:12s\n",
      "epoch 17 | loss: 0.02977 | val_0_mse: 0.014   |  0:09:44s\n",
      "epoch 18 | loss: 0.02394 | val_0_mse: 0.04564 |  0:10:17s\n",
      "epoch 19 | loss: 0.02575 | val_0_mse: 0.01047 |  0:10:50s\n",
      "epoch 20 | loss: 0.02155 | val_0_mse: 0.01333 |  0:11:22s\n",
      "epoch 21 | loss: 0.01902 | val_0_mse: 0.01472 |  0:11:54s\n",
      "epoch 22 | loss: 0.02429 | val_0_mse: 0.01345 |  0:12:27s\n",
      "epoch 23 | loss: 0.02283 | val_0_mse: 0.03312 |  0:12:59s\n",
      "epoch 24 | loss: 0.02312 | val_0_mse: 0.03065 |  0:13:32s\n",
      "epoch 25 | loss: 0.02248 | val_0_mse: 0.02906 |  0:14:04s\n",
      "epoch 26 | loss: 0.02226 | val_0_mse: 0.03354 |  0:14:37s\n",
      "epoch 27 | loss: 0.02087 | val_0_mse: 0.17292 |  0:15:09s\n",
      "epoch 28 | loss: 0.02143 | val_0_mse: 0.02588 |  0:15:41s\n",
      "epoch 29 | loss: 0.0215  | val_0_mse: 0.00828 |  0:16:14s\n",
      "epoch 30 | loss: 0.0265  | val_0_mse: 0.04249 |  0:16:46s\n",
      "epoch 31 | loss: 0.02351 | val_0_mse: 0.06073 |  0:17:19s\n",
      "epoch 32 | loss: 0.02202 | val_0_mse: 0.03741 |  0:17:51s\n",
      "epoch 33 | loss: 0.02264 | val_0_mse: 0.59647 |  0:18:24s\n",
      "epoch 34 | loss: 0.02487 | val_0_mse: 0.01169 |  0:18:56s\n",
      "epoch 35 | loss: 0.02019 | val_0_mse: 0.01549 |  0:19:28s\n",
      "epoch 36 | loss: 0.02064 | val_0_mse: 0.02102 |  0:20:01s\n",
      "epoch 37 | loss: 0.02034 | val_0_mse: 0.01287 |  0:20:34s\n",
      "epoch 38 | loss: 0.02117 | val_0_mse: 0.01202 |  0:21:06s\n",
      "epoch 39 | loss: 0.01986 | val_0_mse: 0.01847 |  0:21:39s\n",
      "\n",
      "Early stopping occurred at epoch 39 with best_epoch = 29 and best_val_0_mse = 0.00828\n"
     ]
    },
    {
     "name": "stderr",
     "output_type": "stream",
     "text": [
      "/opt/homebrew/Caskroom/miniforge/base/envs/mlp/lib/python3.10/site-packages/pytorch_tabnet/callbacks.py:172: UserWarning: Best weights from best epoch are automatically used!\n",
      "  warnings.warn(wrn_msg)\n"
     ]
    },
    {
     "name": "stdout",
     "output_type": "stream",
     "text": [
      "Model MSE: 0.025449 - Best MSE: 0.005215\n",
      "Model R2 Score: 0.885192 - Best R2 Score: 0.976475\n",
      "\n",
      "Iterations 41/72 - Hyperparameters:  batch_sizes=64, nums_epochs=200, n_d=32, n_a=32, n_step=7, n_indipendent=2, n_shared=3, gamma=1.3, epsilon=1e-08\n"
     ]
    },
    {
     "name": "stderr",
     "output_type": "stream",
     "text": [
      "/opt/homebrew/Caskroom/miniforge/base/envs/mlp/lib/python3.10/site-packages/pytorch_tabnet/abstract_model.py:75: UserWarning: Device used : cpu\n",
      "  warnings.warn(f\"Device used : {self.device}\")\n"
     ]
    },
    {
     "name": "stdout",
     "output_type": "stream",
     "text": [
      "epoch 0  | loss: 1.68362 | val_0_mse: 0.737   |  0:00:20s\n",
      "epoch 1  | loss: 0.17964 | val_0_mse: 0.1964  |  0:00:40s\n",
      "epoch 2  | loss: 0.10166 | val_0_mse: 0.07088 |  0:01:01s\n",
      "epoch 3  | loss: 0.07939 | val_0_mse: 0.07579 |  0:01:22s\n",
      "epoch 4  | loss: 0.07954 | val_0_mse: 0.09904 |  0:01:43s\n",
      "epoch 5  | loss: 0.06582 | val_0_mse: 0.04663 |  0:02:03s\n",
      "epoch 6  | loss: 0.06466 | val_0_mse: 0.05219 |  0:02:23s\n",
      "epoch 7  | loss: 0.05246 | val_0_mse: 0.06013 |  0:02:43s\n",
      "epoch 8  | loss: 0.05023 | val_0_mse: 0.06346 |  0:03:04s\n",
      "epoch 9  | loss: 0.04492 | val_0_mse: 0.04652 |  0:03:24s\n",
      "epoch 10 | loss: 0.03964 | val_0_mse: 0.02867 |  0:03:44s\n",
      "epoch 11 | loss: 0.04127 | val_0_mse: 0.03196 |  0:04:04s\n",
      "epoch 12 | loss: 0.03299 | val_0_mse: 0.02977 |  0:04:25s\n",
      "epoch 13 | loss: 0.03577 | val_0_mse: 0.03265 |  0:04:45s\n",
      "epoch 14 | loss: 0.03035 | val_0_mse: 0.01954 |  0:05:05s\n",
      "epoch 15 | loss: 0.02989 | val_0_mse: 0.04847 |  0:05:25s\n",
      "epoch 16 | loss: 0.03765 | val_0_mse: 0.03508 |  0:05:46s\n",
      "epoch 17 | loss: 0.03549 | val_0_mse: 0.04601 |  0:06:06s\n",
      "epoch 18 | loss: 0.03493 | val_0_mse: 0.02408 |  0:06:27s\n",
      "epoch 19 | loss: 0.03104 | val_0_mse: 0.01558 |  0:06:47s\n",
      "epoch 20 | loss: 0.0204  | val_0_mse: 0.0221  |  0:07:07s\n",
      "epoch 21 | loss: 0.02442 | val_0_mse: 0.01548 |  0:07:27s\n",
      "epoch 22 | loss: 0.02019 | val_0_mse: 0.01419 |  0:07:48s\n",
      "epoch 23 | loss: 0.01813 | val_0_mse: 0.02494 |  0:08:08s\n",
      "epoch 24 | loss: 0.01911 | val_0_mse: 0.01938 |  0:08:28s\n",
      "epoch 25 | loss: 0.0165  | val_0_mse: 0.01568 |  0:08:48s\n",
      "epoch 26 | loss: 0.01692 | val_0_mse: 0.02499 |  0:09:08s\n",
      "epoch 27 | loss: 0.01826 | val_0_mse: 0.00944 |  0:09:28s\n",
      "epoch 28 | loss: 0.01619 | val_0_mse: 0.00915 |  0:09:49s\n",
      "epoch 29 | loss: 0.01496 | val_0_mse: 0.00785 |  0:10:09s\n",
      "epoch 30 | loss: 0.01542 | val_0_mse: 0.00933 |  0:10:29s\n",
      "epoch 31 | loss: 0.01406 | val_0_mse: 0.0156  |  0:10:49s\n",
      "epoch 32 | loss: 0.01477 | val_0_mse: 0.01504 |  0:11:10s\n",
      "epoch 33 | loss: 0.01555 | val_0_mse: 0.03638 |  0:11:30s\n",
      "epoch 34 | loss: 0.01636 | val_0_mse: 0.01115 |  0:11:50s\n",
      "epoch 35 | loss: 0.01315 | val_0_mse: 0.00618 |  0:12:10s\n",
      "epoch 36 | loss: 0.01356 | val_0_mse: 0.00565 |  0:12:30s\n",
      "epoch 37 | loss: 0.01771 | val_0_mse: 0.01286 |  0:12:50s\n",
      "epoch 38 | loss: 0.01478 | val_0_mse: 0.00854 |  0:13:10s\n",
      "epoch 39 | loss: 0.01641 | val_0_mse: 0.00815 |  0:13:31s\n",
      "epoch 40 | loss: 0.01123 | val_0_mse: 0.02456 |  0:13:51s\n",
      "epoch 41 | loss: 0.01287 | val_0_mse: 0.03595 |  0:14:11s\n",
      "epoch 42 | loss: 0.0132  | val_0_mse: 0.00947 |  0:14:31s\n",
      "epoch 43 | loss: 0.01653 | val_0_mse: 0.00744 |  0:14:52s\n",
      "epoch 44 | loss: 0.01183 | val_0_mse: 0.01527 |  0:15:12s\n",
      "epoch 45 | loss: 0.013   | val_0_mse: 0.01524 |  0:15:32s\n",
      "epoch 46 | loss: 0.01393 | val_0_mse: 0.01266 |  0:15:52s\n",
      "\n",
      "Early stopping occurred at epoch 46 with best_epoch = 36 and best_val_0_mse = 0.00565\n"
     ]
    },
    {
     "name": "stderr",
     "output_type": "stream",
     "text": [
      "/opt/homebrew/Caskroom/miniforge/base/envs/mlp/lib/python3.10/site-packages/pytorch_tabnet/callbacks.py:172: UserWarning: Best weights from best epoch are automatically used!\n",
      "  warnings.warn(wrn_msg)\n"
     ]
    },
    {
     "name": "stdout",
     "output_type": "stream",
     "text": [
      "Model MSE: 0.006010 - Best MSE: 0.005215\n",
      "Model R2 Score: 0.972886 - Best R2 Score: 0.976475\n",
      "\n",
      "Iterations 42/72 - Hyperparameters:  batch_sizes=128, nums_epochs=200, n_d=32, n_a=32, n_step=7, n_indipendent=2, n_shared=3, gamma=1.3, epsilon=1e-08\n"
     ]
    },
    {
     "name": "stderr",
     "output_type": "stream",
     "text": [
      "/opt/homebrew/Caskroom/miniforge/base/envs/mlp/lib/python3.10/site-packages/pytorch_tabnet/abstract_model.py:75: UserWarning: Device used : cpu\n",
      "  warnings.warn(f\"Device used : {self.device}\")\n"
     ]
    },
    {
     "name": "stdout",
     "output_type": "stream",
     "text": [
      "epoch 0  | loss: 2.66555 | val_0_mse: 0.77233 |  0:00:12s\n",
      "epoch 1  | loss: 0.39575 | val_0_mse: 0.20523 |  0:00:24s\n",
      "epoch 2  | loss: 0.19748 | val_0_mse: 0.16293 |  0:00:36s\n",
      "epoch 3  | loss: 0.14796 | val_0_mse: 0.0859  |  0:00:48s\n",
      "epoch 4  | loss: 0.10047 | val_0_mse: 0.14517 |  0:01:00s\n",
      "epoch 5  | loss: 0.08479 | val_0_mse: 0.06616 |  0:01:12s\n",
      "epoch 6  | loss: 0.07374 | val_0_mse: 0.06174 |  0:01:24s\n",
      "epoch 7  | loss: 0.07291 | val_0_mse: 0.11176 |  0:01:36s\n",
      "epoch 8  | loss: 0.07257 | val_0_mse: 0.08206 |  0:01:48s\n",
      "epoch 9  | loss: 0.07093 | val_0_mse: 0.07107 |  0:02:00s\n",
      "epoch 10 | loss: 0.05874 | val_0_mse: 0.07777 |  0:02:12s\n",
      "epoch 11 | loss: 0.07028 | val_0_mse: 0.05625 |  0:02:24s\n",
      "epoch 12 | loss: 0.0566  | val_0_mse: 0.04846 |  0:02:36s\n",
      "epoch 13 | loss: 0.05412 | val_0_mse: 0.05808 |  0:02:48s\n",
      "epoch 14 | loss: 0.0619  | val_0_mse: 0.03826 |  0:03:00s\n",
      "epoch 15 | loss: 0.05048 | val_0_mse: 0.05477 |  0:03:12s\n",
      "epoch 16 | loss: 0.04889 | val_0_mse: 0.03233 |  0:03:24s\n",
      "epoch 17 | loss: 0.04251 | val_0_mse: 0.03718 |  0:03:36s\n",
      "epoch 18 | loss: 0.04311 | val_0_mse: 0.03229 |  0:03:49s\n",
      "epoch 19 | loss: 0.04145 | val_0_mse: 0.02921 |  0:04:01s\n",
      "epoch 20 | loss: 0.03938 | val_0_mse: 0.03217 |  0:04:13s\n",
      "epoch 21 | loss: 0.03802 | val_0_mse: 0.03448 |  0:04:26s\n",
      "epoch 22 | loss: 0.03713 | val_0_mse: 0.0259  |  0:04:39s\n",
      "epoch 23 | loss: 0.04502 | val_0_mse: 0.0413  |  0:04:51s\n",
      "epoch 24 | loss: 0.04094 | val_0_mse: 0.04225 |  0:05:03s\n",
      "epoch 25 | loss: 0.0412  | val_0_mse: 0.02528 |  0:05:15s\n",
      "epoch 26 | loss: 0.03955 | val_0_mse: 0.05429 |  0:05:27s\n",
      "epoch 27 | loss: 0.03779 | val_0_mse: 0.02426 |  0:05:39s\n",
      "epoch 28 | loss: 0.03473 | val_0_mse: 0.02706 |  0:05:52s\n",
      "epoch 29 | loss: 0.03454 | val_0_mse: 0.02231 |  0:06:04s\n",
      "epoch 30 | loss: 0.02964 | val_0_mse: 0.02027 |  0:06:16s\n",
      "epoch 31 | loss: 0.03016 | val_0_mse: 0.02568 |  0:06:28s\n",
      "epoch 32 | loss: 0.03483 | val_0_mse: 0.02808 |  0:06:40s\n",
      "epoch 33 | loss: 0.03321 | val_0_mse: 0.02408 |  0:06:52s\n",
      "epoch 34 | loss: 0.02744 | val_0_mse: 0.02642 |  0:07:05s\n",
      "epoch 35 | loss: 0.02521 | val_0_mse: 0.01969 |  0:07:17s\n",
      "epoch 36 | loss: 0.02815 | val_0_mse: 0.02018 |  0:07:29s\n",
      "epoch 37 | loss: 0.02892 | val_0_mse: 0.04604 |  0:07:41s\n",
      "epoch 38 | loss: 0.0349  | val_0_mse: 0.03217 |  0:07:53s\n",
      "epoch 39 | loss: 0.03047 | val_0_mse: 0.0382  |  0:08:06s\n",
      "epoch 40 | loss: 0.02839 | val_0_mse: 0.03763 |  0:08:18s\n",
      "epoch 41 | loss: 0.02566 | val_0_mse: 0.02196 |  0:08:30s\n",
      "epoch 42 | loss: 0.02686 | val_0_mse: 0.02176 |  0:08:42s\n",
      "epoch 43 | loss: 0.02282 | val_0_mse: 0.01546 |  0:08:54s\n",
      "epoch 44 | loss: 0.01858 | val_0_mse: 0.01917 |  0:09:07s\n",
      "epoch 45 | loss: 0.02306 | val_0_mse: 0.02823 |  0:09:19s\n",
      "epoch 46 | loss: 0.02906 | val_0_mse: 0.02187 |  0:09:31s\n",
      "epoch 47 | loss: 0.02407 | val_0_mse: 0.02254 |  0:09:43s\n",
      "epoch 48 | loss: 0.02516 | val_0_mse: 0.06528 |  0:09:55s\n",
      "epoch 49 | loss: 0.02399 | val_0_mse: 0.02096 |  0:10:07s\n",
      "epoch 50 | loss: 0.02567 | val_0_mse: 0.01351 |  0:10:19s\n",
      "epoch 51 | loss: 0.01905 | val_0_mse: 0.02347 |  0:10:31s\n",
      "epoch 52 | loss: 0.01606 | val_0_mse: 0.01027 |  0:10:44s\n",
      "epoch 53 | loss: 0.01717 | val_0_mse: 0.01527 |  0:10:56s\n",
      "epoch 54 | loss: 0.0168  | val_0_mse: 0.02101 |  0:11:08s\n",
      "epoch 55 | loss: 0.01349 | val_0_mse: 0.00896 |  0:11:20s\n",
      "epoch 56 | loss: 0.02297 | val_0_mse: 0.05358 |  0:11:33s\n",
      "epoch 57 | loss: 0.01544 | val_0_mse: 0.01562 |  0:11:45s\n",
      "epoch 58 | loss: 0.01415 | val_0_mse: 0.00977 |  0:11:57s\n",
      "epoch 59 | loss: 0.01523 | val_0_mse: 0.00853 |  0:12:09s\n",
      "epoch 60 | loss: 0.01332 | val_0_mse: 0.00711 |  0:12:21s\n",
      "epoch 61 | loss: 0.01106 | val_0_mse: 0.00857 |  0:12:33s\n",
      "epoch 62 | loss: 0.01607 | val_0_mse: 0.01069 |  0:12:45s\n",
      "epoch 63 | loss: 0.01343 | val_0_mse: 0.01098 |  0:12:57s\n",
      "epoch 64 | loss: 0.01432 | val_0_mse: 0.02625 |  0:13:09s\n",
      "epoch 65 | loss: 0.01229 | val_0_mse: 0.02423 |  0:13:22s\n",
      "epoch 66 | loss: 0.01637 | val_0_mse: 0.02318 |  0:13:34s\n",
      "epoch 67 | loss: 0.01224 | val_0_mse: 0.01147 |  0:13:46s\n",
      "epoch 68 | loss: 0.01352 | val_0_mse: 0.01124 |  0:13:58s\n",
      "epoch 69 | loss: 0.0131  | val_0_mse: 0.01557 |  0:14:10s\n",
      "epoch 70 | loss: 0.01234 | val_0_mse: 0.00696 |  0:14:22s\n",
      "epoch 71 | loss: 0.01615 | val_0_mse: 0.08219 |  0:14:35s\n",
      "epoch 72 | loss: 0.01445 | val_0_mse: 0.02979 |  0:14:47s\n",
      "epoch 73 | loss: 0.01894 | val_0_mse: 0.01189 |  0:14:59s\n",
      "epoch 74 | loss: 0.01642 | val_0_mse: 0.00972 |  0:15:11s\n",
      "epoch 75 | loss: 0.0123  | val_0_mse: 0.01031 |  0:15:24s\n",
      "epoch 76 | loss: 0.01649 | val_0_mse: 0.07675 |  0:15:36s\n",
      "epoch 77 | loss: 0.02253 | val_0_mse: 0.01637 |  0:15:48s\n",
      "epoch 78 | loss: 0.01614 | val_0_mse: 0.01438 |  0:16:00s\n",
      "epoch 79 | loss: 0.01086 | val_0_mse: 0.00829 |  0:16:12s\n",
      "epoch 80 | loss: 0.01149 | val_0_mse: 0.00786 |  0:16:25s\n",
      "\n",
      "Early stopping occurred at epoch 80 with best_epoch = 70 and best_val_0_mse = 0.00696\n"
     ]
    },
    {
     "name": "stderr",
     "output_type": "stream",
     "text": [
      "/opt/homebrew/Caskroom/miniforge/base/envs/mlp/lib/python3.10/site-packages/pytorch_tabnet/callbacks.py:172: UserWarning: Best weights from best epoch are automatically used!\n",
      "  warnings.warn(wrn_msg)\n"
     ]
    },
    {
     "name": "stdout",
     "output_type": "stream",
     "text": [
      "Model MSE: 0.006680 - Best MSE: 0.005215\n",
      "Model R2 Score: 0.969863 - Best R2 Score: 0.976475\n",
      "\n",
      "Iterations 43/72 - Hyperparameters:  batch_sizes=32, nums_epochs=200, n_d=32, n_a=32, n_step=7, n_indipendent=3, n_shared=2, gamma=1.3, epsilon=1e-08\n"
     ]
    },
    {
     "name": "stderr",
     "output_type": "stream",
     "text": [
      "/opt/homebrew/Caskroom/miniforge/base/envs/mlp/lib/python3.10/site-packages/pytorch_tabnet/abstract_model.py:75: UserWarning: Device used : cpu\n",
      "  warnings.warn(f\"Device used : {self.device}\")\n"
     ]
    },
    {
     "name": "stdout",
     "output_type": "stream",
     "text": [
      "epoch 0  | loss: 1.68362 | val_0_mse: 0.59699 |  0:00:32s\n",
      "epoch 1  | loss: 0.16598 | val_0_mse: 0.09284 |  0:01:05s\n",
      "epoch 2  | loss: 0.11531 | val_0_mse: 0.07064 |  0:01:38s\n",
      "epoch 3  | loss: 0.0921  | val_0_mse: 0.06948 |  0:02:10s\n",
      "epoch 4  | loss: 0.07301 | val_0_mse: 0.0753  |  0:02:43s\n",
      "epoch 5  | loss: 0.07233 | val_0_mse: 0.05353 |  0:03:15s\n",
      "epoch 6  | loss: 0.06543 | val_0_mse: 0.03751 |  0:03:48s\n",
      "epoch 7  | loss: 0.05134 | val_0_mse: 0.0372  |  0:04:20s\n",
      "epoch 8  | loss: 0.04976 | val_0_mse: 0.03871 |  0:04:53s\n",
      "epoch 9  | loss: 0.03892 | val_0_mse: 0.02173 |  0:05:26s\n",
      "epoch 10 | loss: 0.03117 | val_0_mse: 0.04208 |  0:05:58s\n",
      "epoch 11 | loss: 0.0328  | val_0_mse: 0.09165 |  0:06:31s\n",
      "epoch 12 | loss: 0.0413  | val_0_mse: 0.04861 |  0:07:04s\n",
      "epoch 13 | loss: 0.03009 | val_0_mse: 0.0224  |  0:07:36s\n",
      "epoch 14 | loss: 0.02849 | val_0_mse: 0.04058 |  0:08:09s\n",
      "epoch 15 | loss: 0.02737 | val_0_mse: 0.02924 |  0:08:41s\n",
      "epoch 16 | loss: 0.02835 | val_0_mse: 0.07217 |  0:09:14s\n",
      "epoch 17 | loss: 0.03667 | val_0_mse: 0.03963 |  0:09:46s\n",
      "epoch 18 | loss: 0.02719 | val_0_mse: 0.13219 |  0:10:19s\n",
      "epoch 19 | loss: 0.0286  | val_0_mse: 0.01559 |  0:10:52s\n",
      "epoch 20 | loss: 0.0276  | val_0_mse: 0.02128 |  0:11:24s\n",
      "epoch 21 | loss: 0.02865 | val_0_mse: 0.36012 |  0:11:57s\n",
      "epoch 22 | loss: 0.024   | val_0_mse: 0.05362 |  0:12:29s\n",
      "epoch 23 | loss: 0.02908 | val_0_mse: 0.01534 |  0:13:02s\n",
      "epoch 24 | loss: 0.02422 | val_0_mse: 0.01286 |  0:13:35s\n",
      "epoch 25 | loss: 0.02157 | val_0_mse: 0.02284 |  0:14:07s\n",
      "epoch 26 | loss: 0.02554 | val_0_mse: 0.01562 |  0:14:40s\n",
      "epoch 27 | loss: 0.02147 | val_0_mse: 0.00984 |  0:15:12s\n",
      "epoch 28 | loss: 0.02128 | val_0_mse: 0.01678 |  0:15:45s\n",
      "epoch 29 | loss: 0.02426 | val_0_mse: 0.03096 |  0:16:18s\n",
      "epoch 30 | loss: 0.02254 | val_0_mse: 0.05189 |  0:16:51s\n",
      "epoch 31 | loss: 0.01996 | val_0_mse: 0.01442 |  0:17:23s\n",
      "epoch 32 | loss: 0.02021 | val_0_mse: 0.02399 |  0:17:56s\n",
      "epoch 33 | loss: 0.01849 | val_0_mse: 0.04693 |  0:18:29s\n",
      "epoch 34 | loss: 0.01841 | val_0_mse: 0.01222 |  0:19:02s\n",
      "epoch 35 | loss: 0.01774 | val_0_mse: 0.00998 |  0:19:34s\n",
      "epoch 36 | loss: 0.02038 | val_0_mse: 0.01712 |  0:20:07s\n",
      "epoch 37 | loss: 0.01514 | val_0_mse: 0.00972 |  0:20:40s\n",
      "epoch 38 | loss: 0.02203 | val_0_mse: 0.01047 |  0:21:12s\n",
      "epoch 39 | loss: 0.01595 | val_0_mse: 0.01447 |  0:21:45s\n",
      "epoch 40 | loss: 0.01641 | val_0_mse: 0.23591 |  0:22:17s\n",
      "epoch 41 | loss: 0.01942 | val_0_mse: 0.05183 |  0:22:50s\n",
      "epoch 42 | loss: 0.01776 | val_0_mse: 0.04496 |  0:23:25s\n",
      "epoch 43 | loss: 0.01839 | val_0_mse: 0.01916 |  0:23:58s\n",
      "epoch 44 | loss: 0.0217  | val_0_mse: 0.01754 |  0:24:30s\n",
      "epoch 45 | loss: 0.01776 | val_0_mse: 0.01727 |  0:25:03s\n",
      "epoch 46 | loss: 0.01667 | val_0_mse: 0.0206  |  0:25:35s\n",
      "epoch 47 | loss: 0.01511 | val_0_mse: 0.00861 |  0:26:09s\n",
      "epoch 48 | loss: 0.0159  | val_0_mse: 0.02802 |  0:26:41s\n",
      "epoch 49 | loss: 0.01672 | val_0_mse: 0.0242  |  0:27:14s\n",
      "epoch 50 | loss: 0.01787 | val_0_mse: 0.01037 |  0:27:46s\n",
      "epoch 51 | loss: 0.01397 | val_0_mse: 0.01592 |  0:28:19s\n",
      "epoch 52 | loss: 0.01458 | val_0_mse: 0.01914 |  0:28:52s\n",
      "epoch 53 | loss: 0.01549 | val_0_mse: 0.01538 |  0:29:24s\n",
      "epoch 54 | loss: 0.01416 | val_0_mse: 0.04242 |  0:29:57s\n",
      "epoch 55 | loss: 0.01432 | val_0_mse: 0.015   |  0:30:30s\n",
      "epoch 56 | loss: 0.01523 | val_0_mse: 0.02597 |  0:31:02s\n",
      "epoch 57 | loss: 0.01514 | val_0_mse: 0.01516 |  0:31:35s\n",
      "\n",
      "Early stopping occurred at epoch 57 with best_epoch = 47 and best_val_0_mse = 0.00861\n"
     ]
    },
    {
     "name": "stderr",
     "output_type": "stream",
     "text": [
      "/opt/homebrew/Caskroom/miniforge/base/envs/mlp/lib/python3.10/site-packages/pytorch_tabnet/callbacks.py:172: UserWarning: Best weights from best epoch are automatically used!\n",
      "  warnings.warn(wrn_msg)\n"
     ]
    },
    {
     "name": "stdout",
     "output_type": "stream",
     "text": [
      "Model MSE: 0.009060 - Best MSE: 0.005215\n",
      "Model R2 Score: 0.959128 - Best R2 Score: 0.976475\n",
      "\n",
      "Iterations 44/72 - Hyperparameters:  batch_sizes=64, nums_epochs=200, n_d=32, n_a=32, n_step=7, n_indipendent=3, n_shared=2, gamma=1.3, epsilon=1e-08\n"
     ]
    },
    {
     "name": "stderr",
     "output_type": "stream",
     "text": [
      "/opt/homebrew/Caskroom/miniforge/base/envs/mlp/lib/python3.10/site-packages/pytorch_tabnet/abstract_model.py:75: UserWarning: Device used : cpu\n",
      "  warnings.warn(f\"Device used : {self.device}\")\n"
     ]
    },
    {
     "name": "stdout",
     "output_type": "stream",
     "text": [
      "epoch 0  | loss: 3.12358 | val_0_mse: 0.55232 |  0:00:20s\n",
      "epoch 1  | loss: 0.2223  | val_0_mse: 0.13427 |  0:00:41s\n",
      "epoch 2  | loss: 0.10714 | val_0_mse: 0.13255 |  0:01:01s\n",
      "epoch 3  | loss: 0.09454 | val_0_mse: 0.07004 |  0:01:22s\n",
      "epoch 4  | loss: 0.07368 | val_0_mse: 0.1077  |  0:01:43s\n",
      "epoch 5  | loss: 0.06682 | val_0_mse: 0.04196 |  0:02:03s\n",
      "epoch 6  | loss: 0.05104 | val_0_mse: 0.04247 |  0:02:24s\n",
      "epoch 7  | loss: 0.05131 | val_0_mse: 0.03239 |  0:02:44s\n",
      "epoch 8  | loss: 0.04724 | val_0_mse: 0.0534  |  0:03:05s\n",
      "epoch 9  | loss: 0.03932 | val_0_mse: 0.04547 |  0:03:26s\n",
      "epoch 10 | loss: 0.03221 | val_0_mse: 0.02184 |  0:03:46s\n",
      "epoch 11 | loss: 0.03118 | val_0_mse: 0.01656 |  0:04:07s\n",
      "epoch 12 | loss: 0.03251 | val_0_mse: 0.03973 |  0:04:27s\n",
      "epoch 13 | loss: 0.02663 | val_0_mse: 0.02053 |  0:04:48s\n",
      "epoch 14 | loss: 0.02935 | val_0_mse: 0.03337 |  0:05:09s\n",
      "epoch 15 | loss: 0.02868 | val_0_mse: 0.02239 |  0:05:29s\n",
      "epoch 16 | loss: 0.02296 | val_0_mse: 0.043   |  0:05:50s\n",
      "epoch 17 | loss: 0.01992 | val_0_mse: 0.01135 |  0:06:11s\n",
      "epoch 18 | loss: 0.01715 | val_0_mse: 0.02007 |  0:06:32s\n",
      "epoch 19 | loss: 0.02021 | val_0_mse: 0.01606 |  0:06:52s\n",
      "epoch 20 | loss: 0.01973 | val_0_mse: 0.00712 |  0:07:13s\n",
      "epoch 21 | loss: 0.01674 | val_0_mse: 0.04477 |  0:07:34s\n",
      "epoch 22 | loss: 0.01972 | val_0_mse: 0.05637 |  0:07:54s\n",
      "epoch 23 | loss: 0.02006 | val_0_mse: 0.01322 |  0:08:15s\n",
      "epoch 24 | loss: 0.01604 | val_0_mse: 0.01016 |  0:08:36s\n",
      "epoch 25 | loss: 0.02029 | val_0_mse: 0.02921 |  0:08:56s\n",
      "epoch 26 | loss: 0.02065 | val_0_mse: 0.0162  |  0:09:17s\n",
      "epoch 27 | loss: 0.01836 | val_0_mse: 0.02701 |  0:09:38s\n",
      "epoch 28 | loss: 0.01842 | val_0_mse: 0.01285 |  0:09:58s\n",
      "epoch 29 | loss: 0.0213  | val_0_mse: 0.01676 |  0:10:19s\n",
      "epoch 30 | loss: 0.01769 | val_0_mse: 0.00753 |  0:10:40s\n",
      "\n",
      "Early stopping occurred at epoch 30 with best_epoch = 20 and best_val_0_mse = 0.00712\n"
     ]
    },
    {
     "name": "stderr",
     "output_type": "stream",
     "text": [
      "/opt/homebrew/Caskroom/miniforge/base/envs/mlp/lib/python3.10/site-packages/pytorch_tabnet/callbacks.py:172: UserWarning: Best weights from best epoch are automatically used!\n",
      "  warnings.warn(wrn_msg)\n"
     ]
    },
    {
     "name": "stdout",
     "output_type": "stream",
     "text": [
      "Model MSE: 0.006737 - Best MSE: 0.005215\n",
      "Model R2 Score: 0.969606 - Best R2 Score: 0.976475\n",
      "\n",
      "Iterations 45/72 - Hyperparameters:  batch_sizes=128, nums_epochs=200, n_d=32, n_a=32, n_step=7, n_indipendent=3, n_shared=2, gamma=1.3, epsilon=1e-08\n"
     ]
    },
    {
     "name": "stderr",
     "output_type": "stream",
     "text": [
      "/opt/homebrew/Caskroom/miniforge/base/envs/mlp/lib/python3.10/site-packages/pytorch_tabnet/abstract_model.py:75: UserWarning: Device used : cpu\n",
      "  warnings.warn(f\"Device used : {self.device}\")\n"
     ]
    },
    {
     "name": "stdout",
     "output_type": "stream",
     "text": [
      "epoch 0  | loss: 5.03951 | val_0_mse: 1.36178 |  0:00:11s\n",
      "epoch 1  | loss: 0.4289  | val_0_mse: 0.19501 |  0:00:23s\n",
      "epoch 2  | loss: 0.14438 | val_0_mse: 0.11709 |  0:00:35s\n",
      "epoch 3  | loss: 0.10237 | val_0_mse: 0.08424 |  0:00:47s\n",
      "epoch 4  | loss: 0.07358 | val_0_mse: 0.06453 |  0:00:59s\n",
      "epoch 5  | loss: 0.07341 | val_0_mse: 0.06729 |  0:01:11s\n",
      "epoch 6  | loss: 0.06433 | val_0_mse: 0.05268 |  0:01:22s\n",
      "epoch 7  | loss: 0.05916 | val_0_mse: 0.04668 |  0:01:34s\n",
      "epoch 8  | loss: 0.05629 | val_0_mse: 0.04388 |  0:01:46s\n",
      "epoch 9  | loss: 0.0516  | val_0_mse: 0.07033 |  0:01:58s\n",
      "epoch 10 | loss: 0.04553 | val_0_mse: 0.06329 |  0:02:10s\n",
      "epoch 11 | loss: 0.04227 | val_0_mse: 0.02904 |  0:02:22s\n",
      "epoch 12 | loss: 0.0438  | val_0_mse: 0.02524 |  0:02:34s\n",
      "epoch 13 | loss: 0.04618 | val_0_mse: 0.02918 |  0:02:46s\n",
      "epoch 14 | loss: 0.03396 | val_0_mse: 0.03587 |  0:02:58s\n",
      "epoch 15 | loss: 0.03067 | val_0_mse: 0.02723 |  0:03:10s\n",
      "epoch 16 | loss: 0.03092 | val_0_mse: 0.03587 |  0:03:22s\n",
      "epoch 17 | loss: 0.03763 | val_0_mse: 0.02339 |  0:03:33s\n",
      "epoch 18 | loss: 0.02632 | val_0_mse: 0.01909 |  0:03:45s\n",
      "epoch 19 | loss: 0.02746 | val_0_mse: 0.02546 |  0:03:57s\n",
      "epoch 20 | loss: 0.02448 | val_0_mse: 0.02643 |  0:04:09s\n",
      "epoch 21 | loss: 0.03504 | val_0_mse: 0.03635 |  0:04:21s\n",
      "epoch 22 | loss: 0.02608 | val_0_mse: 0.01681 |  0:04:33s\n",
      "epoch 23 | loss: 0.02179 | val_0_mse: 0.01944 |  0:04:45s\n",
      "epoch 24 | loss: 0.01851 | val_0_mse: 0.01834 |  0:04:57s\n",
      "epoch 25 | loss: 0.02491 | val_0_mse: 0.0175  |  0:05:09s\n",
      "epoch 26 | loss: 0.02057 | val_0_mse: 0.01512 |  0:05:21s\n",
      "epoch 27 | loss: 0.01756 | val_0_mse: 0.01371 |  0:05:33s\n",
      "epoch 28 | loss: 0.01434 | val_0_mse: 0.01119 |  0:05:45s\n",
      "epoch 29 | loss: 0.01833 | val_0_mse: 0.02053 |  0:05:57s\n",
      "epoch 30 | loss: 0.01625 | val_0_mse: 0.01097 |  0:06:09s\n",
      "epoch 31 | loss: 0.02082 | val_0_mse: 0.04435 |  0:06:21s\n",
      "epoch 32 | loss: 0.02976 | val_0_mse: 0.02075 |  0:06:33s\n",
      "epoch 33 | loss: 0.01793 | val_0_mse: 0.02739 |  0:06:45s\n",
      "epoch 34 | loss: 0.01396 | val_0_mse: 0.01053 |  0:06:57s\n",
      "epoch 35 | loss: 0.01511 | val_0_mse: 0.01195 |  0:07:09s\n",
      "epoch 36 | loss: 0.01737 | val_0_mse: 0.02837 |  0:07:21s\n",
      "epoch 37 | loss: 0.01859 | val_0_mse: 0.01809 |  0:07:33s\n",
      "epoch 38 | loss: 0.01444 | val_0_mse: 0.02438 |  0:07:45s\n",
      "epoch 39 | loss: 0.01678 | val_0_mse: 0.01605 |  0:07:57s\n",
      "epoch 40 | loss: 0.01474 | val_0_mse: 0.0089  |  0:08:09s\n",
      "epoch 41 | loss: 0.01714 | val_0_mse: 0.00916 |  0:08:20s\n",
      "epoch 42 | loss: 0.01731 | val_0_mse: 0.00963 |  0:08:32s\n",
      "epoch 43 | loss: 0.01352 | val_0_mse: 0.0073  |  0:08:44s\n",
      "epoch 44 | loss: 0.01608 | val_0_mse: 0.00877 |  0:08:56s\n",
      "epoch 45 | loss: 0.01489 | val_0_mse: 0.01821 |  0:09:09s\n",
      "epoch 46 | loss: 0.00963 | val_0_mse: 0.00876 |  0:09:21s\n",
      "epoch 47 | loss: 0.01495 | val_0_mse: 0.00779 |  0:09:33s\n",
      "epoch 48 | loss: 0.01046 | val_0_mse: 0.00566 |  0:09:45s\n",
      "epoch 49 | loss: 0.01089 | val_0_mse: 0.01746 |  0:09:57s\n",
      "epoch 50 | loss: 0.01079 | val_0_mse: 0.01274 |  0:10:09s\n",
      "epoch 51 | loss: 0.0119  | val_0_mse: 0.00982 |  0:10:21s\n",
      "epoch 52 | loss: 0.01318 | val_0_mse: 0.00974 |  0:10:33s\n",
      "epoch 53 | loss: 0.01313 | val_0_mse: 0.01271 |  0:10:45s\n",
      "epoch 54 | loss: 0.01159 | val_0_mse: 0.00593 |  0:10:57s\n",
      "epoch 55 | loss: 0.00966 | val_0_mse: 0.00676 |  0:11:08s\n",
      "epoch 56 | loss: 0.01034 | val_0_mse: 0.00826 |  0:11:20s\n",
      "epoch 57 | loss: 0.01136 | val_0_mse: 0.0131  |  0:11:32s\n",
      "epoch 58 | loss: 0.00807 | val_0_mse: 0.00651 |  0:11:44s\n",
      "\n",
      "Early stopping occurred at epoch 58 with best_epoch = 48 and best_val_0_mse = 0.00566\n"
     ]
    },
    {
     "name": "stderr",
     "output_type": "stream",
     "text": [
      "/opt/homebrew/Caskroom/miniforge/base/envs/mlp/lib/python3.10/site-packages/pytorch_tabnet/callbacks.py:172: UserWarning: Best weights from best epoch are automatically used!\n",
      "  warnings.warn(wrn_msg)\n"
     ]
    },
    {
     "name": "stdout",
     "output_type": "stream",
     "text": [
      "Model MSE: 0.005931 - Best MSE: 0.005215\n",
      "Model R2 Score: 0.973244 - Best R2 Score: 0.976475\n",
      "\n",
      "Iterations 46/72 - Hyperparameters:  batch_sizes=32, nums_epochs=200, n_d=32, n_a=32, n_step=7, n_indipendent=3, n_shared=3, gamma=1.3, epsilon=1e-08\n"
     ]
    },
    {
     "name": "stderr",
     "output_type": "stream",
     "text": [
      "/opt/homebrew/Caskroom/miniforge/base/envs/mlp/lib/python3.10/site-packages/pytorch_tabnet/abstract_model.py:75: UserWarning: Device used : cpu\n",
      "  warnings.warn(f\"Device used : {self.device}\")\n"
     ]
    },
    {
     "name": "stdout",
     "output_type": "stream",
     "text": [
      "epoch 0  | loss: 1.24676 | val_0_mse: 0.18346 |  0:00:34s\n",
      "epoch 1  | loss: 0.19045 | val_0_mse: 0.16576 |  0:01:08s\n",
      "epoch 2  | loss: 0.16076 | val_0_mse: 0.16796 |  0:01:42s\n",
      "epoch 3  | loss: 0.14978 | val_0_mse: 0.13614 |  0:02:16s\n",
      "epoch 4  | loss: 0.1419  | val_0_mse: 0.09909 |  0:02:51s\n",
      "epoch 5  | loss: 0.11517 | val_0_mse: 0.09517 |  0:03:25s\n",
      "epoch 6  | loss: 0.10858 | val_0_mse: 0.09934 |  0:03:59s\n",
      "epoch 7  | loss: 0.09941 | val_0_mse: 0.08392 |  0:04:33s\n",
      "epoch 8  | loss: 0.07869 | val_0_mse: 0.05895 |  0:05:08s\n",
      "epoch 9  | loss: 0.05853 | val_0_mse: 0.04537 |  0:05:42s\n",
      "epoch 10 | loss: 0.04579 | val_0_mse: 0.04131 |  0:06:16s\n",
      "epoch 11 | loss: 0.0368  | val_0_mse: 0.0417  |  0:06:50s\n",
      "epoch 12 | loss: 0.03003 | val_0_mse: 0.03079 |  0:07:24s\n",
      "epoch 13 | loss: 0.02737 | val_0_mse: 0.03051 |  0:07:58s\n",
      "epoch 14 | loss: 0.03067 | val_0_mse: 0.05065 |  0:08:33s\n",
      "epoch 15 | loss: 0.02971 | val_0_mse: 0.01508 |  0:09:07s\n",
      "epoch 16 | loss: 0.02601 | val_0_mse: 0.00894 |  0:09:41s\n",
      "epoch 17 | loss: 0.02345 | val_0_mse: 0.01642 |  0:10:15s\n",
      "epoch 18 | loss: 0.0242  | val_0_mse: 0.02804 |  0:10:50s\n",
      "epoch 19 | loss: 0.02371 | val_0_mse: 0.01016 |  0:11:24s\n",
      "epoch 20 | loss: 0.02749 | val_0_mse: 0.04282 |  0:11:59s\n",
      "epoch 21 | loss: 0.02247 | val_0_mse: 0.01958 |  0:12:33s\n",
      "epoch 22 | loss: 0.02616 | val_0_mse: 0.02005 |  0:13:07s\n",
      "epoch 23 | loss: 0.02297 | val_0_mse: 0.00672 |  0:13:42s\n",
      "epoch 24 | loss: 0.02263 | val_0_mse: 0.02802 |  0:14:16s\n",
      "epoch 25 | loss: 0.02365 | val_0_mse: 0.00736 |  0:14:50s\n",
      "epoch 26 | loss: 0.02309 | val_0_mse: 0.01528 |  0:15:24s\n",
      "epoch 27 | loss: 0.02076 | val_0_mse: 0.01472 |  0:15:58s\n",
      "epoch 28 | loss: 0.02201 | val_0_mse: 0.00966 |  0:16:32s\n",
      "epoch 29 | loss: 0.02073 | val_0_mse: 0.01247 |  0:17:07s\n",
      "epoch 30 | loss: 0.02081 | val_0_mse: 0.01863 |  0:17:41s\n",
      "epoch 31 | loss: 0.02451 | val_0_mse: 0.0171  |  0:18:15s\n",
      "epoch 32 | loss: 0.02662 | val_0_mse: 0.02184 |  0:18:50s\n",
      "epoch 33 | loss: 0.02026 | val_0_mse: 0.0276  |  0:19:24s\n",
      "\n",
      "Early stopping occurred at epoch 33 with best_epoch = 23 and best_val_0_mse = 0.00672\n"
     ]
    },
    {
     "name": "stderr",
     "output_type": "stream",
     "text": [
      "/opt/homebrew/Caskroom/miniforge/base/envs/mlp/lib/python3.10/site-packages/pytorch_tabnet/callbacks.py:172: UserWarning: Best weights from best epoch are automatically used!\n",
      "  warnings.warn(wrn_msg)\n"
     ]
    },
    {
     "name": "stdout",
     "output_type": "stream",
     "text": [
      "Model MSE: 0.007826 - Best MSE: 0.005215\n",
      "Model R2 Score: 0.964694 - Best R2 Score: 0.976475\n",
      "\n",
      "Iterations 47/72 - Hyperparameters:  batch_sizes=64, nums_epochs=200, n_d=32, n_a=32, n_step=7, n_indipendent=3, n_shared=3, gamma=1.3, epsilon=1e-08\n"
     ]
    },
    {
     "name": "stderr",
     "output_type": "stream",
     "text": [
      "/opt/homebrew/Caskroom/miniforge/base/envs/mlp/lib/python3.10/site-packages/pytorch_tabnet/abstract_model.py:75: UserWarning: Device used : cpu\n",
      "  warnings.warn(f\"Device used : {self.device}\")\n"
     ]
    },
    {
     "name": "stdout",
     "output_type": "stream",
     "text": [
      "epoch 0  | loss: 1.58563 | val_0_mse: 0.64097 |  0:00:22s\n",
      "epoch 1  | loss: 0.17908 | val_0_mse: 0.13233 |  0:00:44s\n",
      "epoch 2  | loss: 0.13652 | val_0_mse: 0.11435 |  0:01:06s\n",
      "epoch 3  | loss: 0.11128 | val_0_mse: 0.09611 |  0:01:28s\n",
      "epoch 4  | loss: 0.09399 | val_0_mse: 0.09747 |  0:01:51s\n",
      "epoch 5  | loss: 0.08038 | val_0_mse: 0.05105 |  0:02:13s\n",
      "epoch 6  | loss: 0.06689 | val_0_mse: 0.05665 |  0:02:35s\n",
      "epoch 7  | loss: 0.05969 | val_0_mse: 0.04104 |  0:02:58s\n",
      "epoch 8  | loss: 0.04518 | val_0_mse: 0.0293  |  0:03:20s\n",
      "epoch 9  | loss: 0.05349 | val_0_mse: 0.03004 |  0:03:43s\n",
      "epoch 10 | loss: 0.03189 | val_0_mse: 0.01763 |  0:04:05s\n",
      "epoch 11 | loss: 0.03308 | val_0_mse: 0.02055 |  0:04:28s\n",
      "epoch 12 | loss: 0.02657 | val_0_mse: 0.01944 |  0:04:50s\n",
      "epoch 13 | loss: 0.02954 | val_0_mse: 0.02273 |  0:05:12s\n",
      "epoch 14 | loss: 0.03115 | val_0_mse: 0.07323 |  0:05:34s\n",
      "epoch 15 | loss: 0.04941 | val_0_mse: 0.03467 |  0:05:57s\n",
      "epoch 16 | loss: 0.03203 | val_0_mse: 0.08105 |  0:06:19s\n",
      "epoch 17 | loss: 0.03214 | val_0_mse: 0.0521  |  0:06:42s\n",
      "epoch 18 | loss: 0.02678 | val_0_mse: 0.02187 |  0:07:04s\n",
      "epoch 19 | loss: 0.02203 | val_0_mse: 0.01824 |  0:07:26s\n",
      "epoch 20 | loss: 0.02499 | val_0_mse: 0.01249 |  0:07:48s\n",
      "epoch 21 | loss: 0.02104 | val_0_mse: 0.02023 |  0:08:10s\n",
      "epoch 22 | loss: 0.02344 | val_0_mse: 0.03115 |  0:08:33s\n",
      "epoch 23 | loss: 0.02157 | val_0_mse: 0.04351 |  0:08:55s\n",
      "epoch 24 | loss: 0.0195  | val_0_mse: 0.00976 |  0:09:18s\n",
      "epoch 25 | loss: 0.02095 | val_0_mse: 0.01424 |  0:09:40s\n",
      "epoch 26 | loss: 0.01968 | val_0_mse: 0.00754 |  0:10:02s\n",
      "epoch 27 | loss: 0.01891 | val_0_mse: 0.01133 |  0:10:24s\n",
      "epoch 28 | loss: 0.01771 | val_0_mse: 0.01716 |  0:10:47s\n",
      "epoch 29 | loss: 0.01897 | val_0_mse: 0.01649 |  0:11:09s\n",
      "epoch 30 | loss: 0.01622 | val_0_mse: 0.01341 |  0:11:31s\n",
      "epoch 31 | loss: 0.01914 | val_0_mse: 0.01094 |  0:11:53s\n",
      "epoch 32 | loss: 0.01858 | val_0_mse: 0.01584 |  0:12:18s\n",
      "epoch 33 | loss: 0.01634 | val_0_mse: 0.01292 |  0:12:40s\n",
      "epoch 34 | loss: 0.01349 | val_0_mse: 0.01431 |  0:13:02s\n",
      "epoch 35 | loss: 0.01571 | val_0_mse: 0.01827 |  0:13:25s\n",
      "epoch 36 | loss: 0.01722 | val_0_mse: 0.0091  |  0:13:47s\n",
      "\n",
      "Early stopping occurred at epoch 36 with best_epoch = 26 and best_val_0_mse = 0.00754\n"
     ]
    },
    {
     "name": "stderr",
     "output_type": "stream",
     "text": [
      "/opt/homebrew/Caskroom/miniforge/base/envs/mlp/lib/python3.10/site-packages/pytorch_tabnet/callbacks.py:172: UserWarning: Best weights from best epoch are automatically used!\n",
      "  warnings.warn(wrn_msg)\n"
     ]
    },
    {
     "name": "stdout",
     "output_type": "stream",
     "text": [
      "Model MSE: 0.007721 - Best MSE: 0.005215\n",
      "Model R2 Score: 0.965169 - Best R2 Score: 0.976475\n",
      "\n",
      "Iterations 48/72 - Hyperparameters:  batch_sizes=128, nums_epochs=200, n_d=32, n_a=32, n_step=7, n_indipendent=3, n_shared=3, gamma=1.3, epsilon=1e-08\n"
     ]
    },
    {
     "name": "stderr",
     "output_type": "stream",
     "text": [
      "/opt/homebrew/Caskroom/miniforge/base/envs/mlp/lib/python3.10/site-packages/pytorch_tabnet/abstract_model.py:75: UserWarning: Device used : cpu\n",
      "  warnings.warn(f\"Device used : {self.device}\")\n"
     ]
    },
    {
     "name": "stdout",
     "output_type": "stream",
     "text": [
      "epoch 0  | loss: 2.16812 | val_0_mse: 0.47568 |  0:00:12s\n",
      "epoch 1  | loss: 0.42462 | val_0_mse: 0.16866 |  0:00:25s\n",
      "epoch 2  | loss: 0.20216 | val_0_mse: 0.21907 |  0:00:38s\n",
      "epoch 3  | loss: 0.14838 | val_0_mse: 0.15785 |  0:00:51s\n",
      "epoch 4  | loss: 0.1199  | val_0_mse: 0.19266 |  0:01:04s\n",
      "epoch 5  | loss: 0.11388 | val_0_mse: 0.11422 |  0:01:17s\n",
      "epoch 6  | loss: 0.0953  | val_0_mse: 0.08699 |  0:01:30s\n",
      "epoch 7  | loss: 0.08253 | val_0_mse: 0.11162 |  0:01:43s\n",
      "epoch 8  | loss: 0.08327 | val_0_mse: 0.07278 |  0:01:56s\n",
      "epoch 9  | loss: 0.07601 | val_0_mse: 0.06115 |  0:02:09s\n",
      "epoch 10 | loss: 0.06295 | val_0_mse: 0.05096 |  0:02:21s\n",
      "epoch 11 | loss: 0.06466 | val_0_mse: 0.08955 |  0:02:34s\n",
      "epoch 12 | loss: 0.05041 | val_0_mse: 0.06569 |  0:02:47s\n",
      "epoch 13 | loss: 0.05389 | val_0_mse: 0.0588  |  0:03:00s\n",
      "epoch 14 | loss: 0.04546 | val_0_mse: 0.04093 |  0:03:13s\n",
      "epoch 15 | loss: 0.04242 | val_0_mse: 0.03081 |  0:03:26s\n",
      "epoch 16 | loss: 0.03046 | val_0_mse: 0.02351 |  0:03:39s\n",
      "epoch 17 | loss: 0.0481  | val_0_mse: 0.02524 |  0:03:52s\n",
      "epoch 18 | loss: 0.03192 | val_0_mse: 0.02769 |  0:04:05s\n",
      "epoch 19 | loss: 0.03548 | val_0_mse: 0.10331 |  0:04:18s\n",
      "epoch 20 | loss: 0.04861 | val_0_mse: 0.06457 |  0:04:31s\n",
      "epoch 21 | loss: 0.03782 | val_0_mse: 0.03354 |  0:04:44s\n",
      "epoch 22 | loss: 0.02719 | val_0_mse: 0.02432 |  0:04:57s\n",
      "epoch 23 | loss: 0.02705 | val_0_mse: 0.01611 |  0:05:10s\n",
      "epoch 24 | loss: 0.01989 | val_0_mse: 0.02088 |  0:05:23s\n",
      "epoch 25 | loss: 0.02919 | val_0_mse: 0.01316 |  0:05:35s\n",
      "epoch 26 | loss: 0.01861 | val_0_mse: 0.01252 |  0:05:48s\n",
      "epoch 27 | loss: 0.01922 | val_0_mse: 0.02762 |  0:06:01s\n",
      "epoch 28 | loss: 0.01448 | val_0_mse: 0.0181  |  0:06:14s\n",
      "epoch 29 | loss: 0.01908 | val_0_mse: 0.00772 |  0:06:27s\n",
      "epoch 30 | loss: 0.01273 | val_0_mse: 0.02829 |  0:06:40s\n",
      "epoch 31 | loss: 0.01508 | val_0_mse: 0.01557 |  0:06:53s\n",
      "epoch 32 | loss: 0.01755 | val_0_mse: 0.02015 |  0:07:06s\n",
      "epoch 33 | loss: 0.01344 | val_0_mse: 0.0075  |  0:07:19s\n",
      "epoch 34 | loss: 0.01372 | val_0_mse: 0.01022 |  0:07:32s\n",
      "epoch 35 | loss: 0.01261 | val_0_mse: 0.0167  |  0:07:45s\n",
      "epoch 36 | loss: 0.01041 | val_0_mse: 0.01386 |  0:07:58s\n",
      "epoch 37 | loss: 0.01156 | val_0_mse: 0.00957 |  0:08:11s\n",
      "epoch 38 | loss: 0.01381 | val_0_mse: 0.00623 |  0:08:24s\n",
      "epoch 39 | loss: 0.01319 | val_0_mse: 0.00742 |  0:08:37s\n",
      "epoch 40 | loss: 0.01275 | val_0_mse: 0.02212 |  0:08:50s\n",
      "epoch 41 | loss: 0.01185 | val_0_mse: 0.00927 |  0:09:03s\n",
      "epoch 42 | loss: 0.01188 | val_0_mse: 0.00758 |  0:09:16s\n",
      "epoch 43 | loss: 0.01224 | val_0_mse: 0.00709 |  0:09:29s\n",
      "epoch 44 | loss: 0.01193 | val_0_mse: 0.00747 |  0:09:42s\n",
      "epoch 45 | loss: 0.01267 | val_0_mse: 0.00942 |  0:09:54s\n",
      "epoch 46 | loss: 0.01558 | val_0_mse: 0.01328 |  0:10:07s\n",
      "epoch 47 | loss: 0.01139 | val_0_mse: 0.03299 |  0:10:20s\n",
      "epoch 48 | loss: 0.01223 | val_0_mse: 0.01678 |  0:10:33s\n",
      "\n",
      "Early stopping occurred at epoch 48 with best_epoch = 38 and best_val_0_mse = 0.00623\n"
     ]
    },
    {
     "name": "stderr",
     "output_type": "stream",
     "text": [
      "/opt/homebrew/Caskroom/miniforge/base/envs/mlp/lib/python3.10/site-packages/pytorch_tabnet/callbacks.py:172: UserWarning: Best weights from best epoch are automatically used!\n",
      "  warnings.warn(wrn_msg)\n"
     ]
    },
    {
     "name": "stdout",
     "output_type": "stream",
     "text": [
      "Model MSE: 0.006626 - Best MSE: 0.005215\n",
      "Model R2 Score: 0.970109 - Best R2 Score: 0.976475\n",
      "\n",
      "Iterations 49/72 - Hyperparameters:  batch_sizes=32, nums_epochs=200, n_d=64, n_a=64, n_step=6, n_indipendent=2, n_shared=2, gamma=1.3, epsilon=1e-08\n"
     ]
    },
    {
     "name": "stderr",
     "output_type": "stream",
     "text": [
      "/opt/homebrew/Caskroom/miniforge/base/envs/mlp/lib/python3.10/site-packages/pytorch_tabnet/abstract_model.py:75: UserWarning: Device used : cpu\n",
      "  warnings.warn(f\"Device used : {self.device}\")\n"
     ]
    },
    {
     "name": "stdout",
     "output_type": "stream",
     "text": [
      "epoch 0  | loss: 0.85746 | val_0_mse: 0.16002 |  0:00:32s\n",
      "epoch 1  | loss: 0.16732 | val_0_mse: 0.15978 |  0:01:04s\n",
      "epoch 2  | loss: 0.11809 | val_0_mse: 0.08583 |  0:01:36s\n",
      "epoch 3  | loss: 0.0773  | val_0_mse: 0.05987 |  0:02:07s\n",
      "epoch 4  | loss: 0.05471 | val_0_mse: 0.02424 |  0:02:39s\n",
      "epoch 5  | loss: 0.04593 | val_0_mse: 0.03573 |  0:03:11s\n",
      "epoch 6  | loss: 0.03525 | val_0_mse: 0.04037 |  0:03:43s\n",
      "epoch 7  | loss: 0.04115 | val_0_mse: 0.07643 |  0:04:15s\n",
      "epoch 8  | loss: 0.05897 | val_0_mse: 0.06642 |  0:04:47s\n",
      "epoch 9  | loss: 0.03979 | val_0_mse: 0.02048 |  0:05:19s\n",
      "epoch 10 | loss: 0.02556 | val_0_mse: 0.0232  |  0:05:50s\n",
      "epoch 11 | loss: 0.02871 | val_0_mse: 0.02579 |  0:06:22s\n",
      "epoch 12 | loss: 0.02899 | val_0_mse: 0.01727 |  0:06:54s\n",
      "epoch 13 | loss: 0.02654 | val_0_mse: 0.01847 |  0:07:26s\n",
      "epoch 14 | loss: 0.02806 | val_0_mse: 0.01278 |  0:07:58s\n",
      "epoch 15 | loss: 0.0278  | val_0_mse: 0.01256 |  0:08:30s\n",
      "epoch 16 | loss: 0.02638 | val_0_mse: 0.0342  |  0:09:03s\n",
      "epoch 17 | loss: 0.02957 | val_0_mse: 0.07137 |  0:09:36s\n",
      "epoch 18 | loss: 0.02534 | val_0_mse: 0.03938 |  0:10:09s\n",
      "epoch 19 | loss: 0.02172 | val_0_mse: 0.02259 |  0:10:43s\n",
      "epoch 20 | loss: 0.02141 | val_0_mse: 0.01654 |  0:11:16s\n",
      "epoch 21 | loss: 0.02283 | val_0_mse: 0.01096 |  0:11:49s\n",
      "epoch 22 | loss: 0.02252 | val_0_mse: 0.01097 |  0:12:21s\n",
      "epoch 23 | loss: 0.02271 | val_0_mse: 0.01546 |  0:12:53s\n",
      "epoch 24 | loss: 0.02233 | val_0_mse: 0.01377 |  0:13:25s\n",
      "epoch 25 | loss: 0.02402 | val_0_mse: 0.0066  |  0:13:57s\n",
      "epoch 26 | loss: 0.0227  | val_0_mse: 0.02482 |  0:14:30s\n",
      "epoch 27 | loss: 0.02246 | val_0_mse: 0.03867 |  0:15:03s\n",
      "epoch 28 | loss: 0.02546 | val_0_mse: 0.06151 |  0:15:36s\n",
      "epoch 29 | loss: 0.02364 | val_0_mse: 0.02352 |  0:16:09s\n",
      "epoch 30 | loss: 0.022   | val_0_mse: 0.01515 |  0:16:42s\n",
      "epoch 31 | loss: 0.02385 | val_0_mse: 0.0207  |  0:17:15s\n",
      "epoch 32 | loss: 0.02751 | val_0_mse: 0.04316 |  0:17:48s\n",
      "epoch 33 | loss: 0.02373 | val_0_mse: 0.01985 |  0:18:21s\n",
      "epoch 34 | loss: 0.02131 | val_0_mse: 0.01026 |  0:18:53s\n",
      "epoch 35 | loss: 0.02223 | val_0_mse: 0.03058 |  0:19:26s\n",
      "\n",
      "Early stopping occurred at epoch 35 with best_epoch = 25 and best_val_0_mse = 0.0066\n"
     ]
    },
    {
     "name": "stderr",
     "output_type": "stream",
     "text": [
      "/opt/homebrew/Caskroom/miniforge/base/envs/mlp/lib/python3.10/site-packages/pytorch_tabnet/callbacks.py:172: UserWarning: Best weights from best epoch are automatically used!\n",
      "  warnings.warn(wrn_msg)\n"
     ]
    },
    {
     "name": "stdout",
     "output_type": "stream",
     "text": [
      "Model MSE: 0.007234 - Best MSE: 0.005215\n",
      "Model R2 Score: 0.967365 - Best R2 Score: 0.976475\n",
      "\n",
      "Iterations 50/72 - Hyperparameters:  batch_sizes=64, nums_epochs=200, n_d=64, n_a=64, n_step=6, n_indipendent=2, n_shared=2, gamma=1.3, epsilon=1e-08\n"
     ]
    },
    {
     "name": "stderr",
     "output_type": "stream",
     "text": [
      "/opt/homebrew/Caskroom/miniforge/base/envs/mlp/lib/python3.10/site-packages/pytorch_tabnet/abstract_model.py:75: UserWarning: Device used : cpu\n",
      "  warnings.warn(f\"Device used : {self.device}\")\n"
     ]
    },
    {
     "name": "stdout",
     "output_type": "stream",
     "text": [
      "epoch 0  | loss: 1.51458 | val_0_mse: 0.34597 |  0:00:18s\n",
      "epoch 1  | loss: 0.16711 | val_0_mse: 0.17095 |  0:00:36s\n",
      "epoch 2  | loss: 0.1281  | val_0_mse: 0.09891 |  0:00:55s\n",
      "epoch 3  | loss: 0.09835 | val_0_mse: 0.1697  |  0:01:14s\n",
      "epoch 4  | loss: 0.10913 | val_0_mse: 0.11704 |  0:01:32s\n",
      "epoch 5  | loss: 0.08779 | val_0_mse: 0.05576 |  0:01:51s\n",
      "epoch 6  | loss: 0.05582 | val_0_mse: 0.06456 |  0:02:09s\n",
      "epoch 7  | loss: 0.06181 | val_0_mse: 0.07162 |  0:02:28s\n",
      "epoch 8  | loss: 0.04512 | val_0_mse: 0.03913 |  0:02:46s\n",
      "epoch 9  | loss: 0.05583 | val_0_mse: 0.04565 |  0:03:05s\n",
      "epoch 10 | loss: 0.03524 | val_0_mse: 0.02124 |  0:03:23s\n",
      "epoch 11 | loss: 0.03579 | val_0_mse: 0.04268 |  0:03:41s\n",
      "epoch 12 | loss: 0.02255 | val_0_mse: 0.01419 |  0:04:00s\n",
      "epoch 13 | loss: 0.03076 | val_0_mse: 0.03709 |  0:04:18s\n",
      "epoch 14 | loss: 0.03186 | val_0_mse: 0.03269 |  0:04:37s\n",
      "epoch 15 | loss: 0.02968 | val_0_mse: 0.01077 |  0:04:55s\n",
      "epoch 16 | loss: 0.02085 | val_0_mse: 0.01354 |  0:05:14s\n",
      "epoch 17 | loss: 0.02697 | val_0_mse: 0.01622 |  0:05:32s\n",
      "epoch 18 | loss: 0.01994 | val_0_mse: 0.01492 |  0:05:50s\n",
      "epoch 19 | loss: 0.02091 | val_0_mse: 0.02587 |  0:06:09s\n",
      "epoch 20 | loss: 0.01712 | val_0_mse: 0.03109 |  0:06:27s\n",
      "epoch 21 | loss: 0.01772 | val_0_mse: 0.00711 |  0:06:46s\n",
      "epoch 22 | loss: 0.01802 | val_0_mse: 0.0082  |  0:07:04s\n",
      "epoch 23 | loss: 0.02111 | val_0_mse: 0.01637 |  0:07:23s\n",
      "epoch 24 | loss: 0.01906 | val_0_mse: 0.01713 |  0:07:41s\n",
      "epoch 25 | loss: 0.01635 | val_0_mse: 0.02801 |  0:07:59s\n",
      "epoch 26 | loss: 0.01957 | val_0_mse: 0.02931 |  0:08:18s\n",
      "epoch 27 | loss: 0.01586 | val_0_mse: 0.01216 |  0:08:36s\n",
      "epoch 28 | loss: 0.01609 | val_0_mse: 0.01524 |  0:08:55s\n",
      "epoch 29 | loss: 0.0168  | val_0_mse: 0.01553 |  0:09:13s\n",
      "epoch 30 | loss: 0.01851 | val_0_mse: 0.03067 |  0:09:31s\n",
      "epoch 31 | loss: 0.01709 | val_0_mse: 0.01868 |  0:09:50s\n",
      "\n",
      "Early stopping occurred at epoch 31 with best_epoch = 21 and best_val_0_mse = 0.00711\n"
     ]
    },
    {
     "name": "stderr",
     "output_type": "stream",
     "text": [
      "/opt/homebrew/Caskroom/miniforge/base/envs/mlp/lib/python3.10/site-packages/pytorch_tabnet/callbacks.py:172: UserWarning: Best weights from best epoch are automatically used!\n",
      "  warnings.warn(wrn_msg)\n"
     ]
    },
    {
     "name": "stdout",
     "output_type": "stream",
     "text": [
      "Model MSE: 0.007418 - Best MSE: 0.005215\n",
      "Model R2 Score: 0.966536 - Best R2 Score: 0.976475\n",
      "\n",
      "Iterations 51/72 - Hyperparameters:  batch_sizes=128, nums_epochs=200, n_d=64, n_a=64, n_step=6, n_indipendent=2, n_shared=2, gamma=1.3, epsilon=1e-08\n"
     ]
    },
    {
     "name": "stderr",
     "output_type": "stream",
     "text": [
      "/opt/homebrew/Caskroom/miniforge/base/envs/mlp/lib/python3.10/site-packages/pytorch_tabnet/abstract_model.py:75: UserWarning: Device used : cpu\n",
      "  warnings.warn(f\"Device used : {self.device}\")\n"
     ]
    },
    {
     "name": "stdout",
     "output_type": "stream",
     "text": [
      "epoch 0  | loss: 1.97742 | val_0_mse: 0.61192 |  0:00:10s\n",
      "epoch 1  | loss: 0.3884  | val_0_mse: 0.2047  |  0:00:21s\n",
      "epoch 2  | loss: 0.13506 | val_0_mse: 0.11962 |  0:00:31s\n",
      "epoch 3  | loss: 0.09588 | val_0_mse: 0.1094  |  0:00:42s\n",
      "epoch 4  | loss: 0.10005 | val_0_mse: 0.08879 |  0:00:52s\n",
      "epoch 5  | loss: 0.07366 | val_0_mse: 0.07766 |  0:01:03s\n",
      "epoch 6  | loss: 0.06343 | val_0_mse: 0.04659 |  0:01:14s\n",
      "epoch 7  | loss: 0.05511 | val_0_mse: 0.04399 |  0:01:24s\n",
      "epoch 8  | loss: 0.06739 | val_0_mse: 0.07351 |  0:01:35s\n",
      "epoch 9  | loss: 0.05492 | val_0_mse: 0.0435  |  0:01:46s\n",
      "epoch 10 | loss: 0.04803 | val_0_mse: 0.05651 |  0:01:56s\n",
      "epoch 11 | loss: 0.05144 | val_0_mse: 0.05809 |  0:02:07s\n",
      "epoch 12 | loss: 0.05266 | val_0_mse: 0.04698 |  0:02:17s\n",
      "epoch 13 | loss: 0.04728 | val_0_mse: 0.06353 |  0:02:28s\n",
      "epoch 14 | loss: 0.04564 | val_0_mse: 0.03764 |  0:02:39s\n",
      "epoch 15 | loss: 0.04795 | val_0_mse: 0.06586 |  0:02:50s\n",
      "epoch 16 | loss: 0.04013 | val_0_mse: 0.05199 |  0:03:00s\n",
      "epoch 17 | loss: 0.04479 | val_0_mse: 0.04159 |  0:03:11s\n",
      "epoch 18 | loss: 0.03451 | val_0_mse: 0.06362 |  0:03:22s\n",
      "epoch 19 | loss: 0.03008 | val_0_mse: 0.02694 |  0:03:32s\n",
      "epoch 20 | loss: 0.02966 | val_0_mse: 0.02892 |  0:03:43s\n",
      "epoch 21 | loss: 0.02514 | val_0_mse: 0.02642 |  0:03:54s\n",
      "epoch 22 | loss: 0.02962 | val_0_mse: 0.0296  |  0:04:04s\n",
      "epoch 23 | loss: 0.02411 | val_0_mse: 0.03758 |  0:04:15s\n",
      "epoch 24 | loss: 0.02728 | val_0_mse: 0.03602 |  0:04:26s\n",
      "epoch 25 | loss: 0.0251  | val_0_mse: 0.01195 |  0:04:36s\n",
      "epoch 26 | loss: 0.02635 | val_0_mse: 0.02869 |  0:04:47s\n",
      "epoch 27 | loss: 0.02004 | val_0_mse: 0.02154 |  0:04:57s\n",
      "epoch 28 | loss: 0.02043 | val_0_mse: 0.02296 |  0:05:07s\n",
      "epoch 29 | loss: 0.03402 | val_0_mse: 0.01631 |  0:05:18s\n",
      "epoch 30 | loss: 0.01697 | val_0_mse: 0.03181 |  0:05:28s\n",
      "epoch 31 | loss: 0.0171  | val_0_mse: 0.01799 |  0:05:39s\n",
      "epoch 32 | loss: 0.02015 | val_0_mse: 0.00782 |  0:05:49s\n",
      "epoch 33 | loss: 0.01235 | val_0_mse: 0.02971 |  0:06:00s\n",
      "epoch 34 | loss: 0.01773 | val_0_mse: 0.01256 |  0:06:10s\n",
      "epoch 35 | loss: 0.01157 | val_0_mse: 0.0107  |  0:06:21s\n",
      "epoch 36 | loss: 0.01464 | val_0_mse: 0.01317 |  0:06:32s\n",
      "epoch 37 | loss: 0.0171  | val_0_mse: 0.0155  |  0:06:42s\n",
      "epoch 38 | loss: 0.01853 | val_0_mse: 0.00965 |  0:06:53s\n",
      "epoch 39 | loss: 0.01205 | val_0_mse: 0.01326 |  0:07:04s\n",
      "epoch 40 | loss: 0.01158 | val_0_mse: 0.01223 |  0:07:14s\n",
      "epoch 41 | loss: 0.01257 | val_0_mse: 0.01097 |  0:07:25s\n",
      "epoch 42 | loss: 0.00966 | val_0_mse: 0.01718 |  0:07:36s\n",
      "\n",
      "Early stopping occurred at epoch 42 with best_epoch = 32 and best_val_0_mse = 0.00782\n"
     ]
    },
    {
     "name": "stderr",
     "output_type": "stream",
     "text": [
      "/opt/homebrew/Caskroom/miniforge/base/envs/mlp/lib/python3.10/site-packages/pytorch_tabnet/callbacks.py:172: UserWarning: Best weights from best epoch are automatically used!\n",
      "  warnings.warn(wrn_msg)\n"
     ]
    },
    {
     "name": "stdout",
     "output_type": "stream",
     "text": [
      "Model MSE: 0.008319 - Best MSE: 0.005215\n",
      "Model R2 Score: 0.962471 - Best R2 Score: 0.976475\n",
      "\n",
      "Iterations 52/72 - Hyperparameters:  batch_sizes=32, nums_epochs=200, n_d=64, n_a=64, n_step=6, n_indipendent=2, n_shared=3, gamma=1.3, epsilon=1e-08\n"
     ]
    },
    {
     "name": "stderr",
     "output_type": "stream",
     "text": [
      "/opt/homebrew/Caskroom/miniforge/base/envs/mlp/lib/python3.10/site-packages/pytorch_tabnet/abstract_model.py:75: UserWarning: Device used : cpu\n",
      "  warnings.warn(f\"Device used : {self.device}\")\n"
     ]
    },
    {
     "name": "stdout",
     "output_type": "stream",
     "text": [
      "epoch 0  | loss: 1.29893 | val_0_mse: 0.20555 |  0:00:35s\n",
      "epoch 1  | loss: 0.16203 | val_0_mse: 0.08227 |  0:01:10s\n",
      "epoch 2  | loss: 0.09957 | val_0_mse: 0.057   |  0:01:46s\n",
      "epoch 3  | loss: 0.08729 | val_0_mse: 0.05739 |  0:02:21s\n",
      "epoch 4  | loss: 0.08069 | val_0_mse: 0.0703  |  0:02:56s\n",
      "epoch 5  | loss: 0.08149 | val_0_mse: 0.06034 |  0:03:32s\n",
      "epoch 6  | loss: 0.07815 | val_0_mse: 0.07979 |  0:04:07s\n",
      "epoch 7  | loss: 0.07755 | val_0_mse: 0.05958 |  0:04:42s\n",
      "epoch 8  | loss: 0.07641 | val_0_mse: 0.05612 |  0:05:17s\n",
      "epoch 9  | loss: 0.06956 | val_0_mse: 0.05517 |  0:05:52s\n",
      "epoch 10 | loss: 0.07146 | val_0_mse: 0.07951 |  0:06:27s\n",
      "epoch 11 | loss: 0.06811 | val_0_mse: 0.0656  |  0:07:03s\n",
      "epoch 12 | loss: 0.06215 | val_0_mse: 0.06315 |  0:07:38s\n",
      "epoch 13 | loss: 0.05603 | val_0_mse: 0.04951 |  0:08:13s\n",
      "epoch 14 | loss: 0.04249 | val_0_mse: 0.02325 |  0:08:49s\n",
      "epoch 15 | loss: 0.03743 | val_0_mse: 0.03435 |  0:09:24s\n",
      "epoch 16 | loss: 0.03638 | val_0_mse: 0.04622 |  0:10:00s\n",
      "epoch 17 | loss: 0.03385 | val_0_mse: 0.01739 |  0:10:35s\n",
      "epoch 18 | loss: 0.0293  | val_0_mse: 0.02153 |  0:11:10s\n",
      "epoch 19 | loss: 0.02767 | val_0_mse: 0.05713 |  0:11:46s\n",
      "epoch 20 | loss: 0.03195 | val_0_mse: 0.04333 |  0:12:21s\n",
      "epoch 21 | loss: 0.02671 | val_0_mse: 0.01923 |  0:12:56s\n",
      "epoch 22 | loss: 0.0268  | val_0_mse: 0.01889 |  0:13:32s\n",
      "epoch 23 | loss: 0.03079 | val_0_mse: 0.01559 |  0:14:12s\n",
      "epoch 24 | loss: 0.02228 | val_0_mse: 0.02297 |  0:14:47s\n",
      "epoch 25 | loss: 0.02423 | val_0_mse: 0.05704 |  0:15:23s\n",
      "epoch 26 | loss: 0.02347 | val_0_mse: 0.03938 |  0:15:58s\n",
      "epoch 27 | loss: 0.02446 | val_0_mse: 0.01416 |  0:16:34s\n",
      "epoch 28 | loss: 0.02721 | val_0_mse: 0.04296 |  0:17:10s\n",
      "epoch 29 | loss: 0.02095 | val_0_mse: 0.02976 |  0:17:45s\n",
      "epoch 30 | loss: 0.02087 | val_0_mse: 0.01818 |  0:18:21s\n",
      "epoch 31 | loss: 0.02209 | val_0_mse: 0.05984 |  0:18:57s\n",
      "epoch 32 | loss: 0.0215  | val_0_mse: 0.00965 |  0:19:32s\n",
      "epoch 33 | loss: 0.02338 | val_0_mse: 0.01796 |  0:20:07s\n",
      "epoch 34 | loss: 0.02379 | val_0_mse: 0.02301 |  0:20:43s\n",
      "epoch 35 | loss: 0.02144 | val_0_mse: 0.04648 |  0:21:18s\n",
      "epoch 36 | loss: 0.01843 | val_0_mse: 0.0094  |  0:21:53s\n",
      "epoch 37 | loss: 0.01777 | val_0_mse: 0.0104  |  0:22:28s\n",
      "epoch 38 | loss: 0.02457 | val_0_mse: 0.0111  |  0:23:03s\n",
      "epoch 39 | loss: 0.02075 | val_0_mse: 0.05112 |  0:23:39s\n",
      "epoch 40 | loss: 0.02319 | val_0_mse: 0.01225 |  0:24:14s\n",
      "epoch 41 | loss: 0.02221 | val_0_mse: 0.03489 |  0:24:49s\n",
      "epoch 42 | loss: 0.02179 | val_0_mse: 0.02812 |  0:25:24s\n",
      "epoch 43 | loss: 0.02271 | val_0_mse: 0.01338 |  0:25:59s\n",
      "epoch 44 | loss: 0.01989 | val_0_mse: 0.01206 |  0:26:34s\n",
      "epoch 45 | loss: 0.02175 | val_0_mse: 0.0159  |  0:27:09s\n",
      "epoch 46 | loss: 0.02015 | val_0_mse: 0.01639 |  0:27:44s\n",
      "\n",
      "Early stopping occurred at epoch 46 with best_epoch = 36 and best_val_0_mse = 0.0094\n"
     ]
    },
    {
     "name": "stderr",
     "output_type": "stream",
     "text": [
      "/opt/homebrew/Caskroom/miniforge/base/envs/mlp/lib/python3.10/site-packages/pytorch_tabnet/callbacks.py:172: UserWarning: Best weights from best epoch are automatically used!\n",
      "  warnings.warn(wrn_msg)\n"
     ]
    },
    {
     "name": "stdout",
     "output_type": "stream",
     "text": [
      "Model MSE: 0.010134 - Best MSE: 0.005215\n",
      "Model R2 Score: 0.954283 - Best R2 Score: 0.976475\n",
      "\n",
      "Iterations 53/72 - Hyperparameters:  batch_sizes=64, nums_epochs=200, n_d=64, n_a=64, n_step=6, n_indipendent=2, n_shared=3, gamma=1.3, epsilon=1e-08\n"
     ]
    },
    {
     "name": "stderr",
     "output_type": "stream",
     "text": [
      "/opt/homebrew/Caskroom/miniforge/base/envs/mlp/lib/python3.10/site-packages/pytorch_tabnet/abstract_model.py:75: UserWarning: Device used : cpu\n",
      "  warnings.warn(f\"Device used : {self.device}\")\n"
     ]
    },
    {
     "name": "stdout",
     "output_type": "stream",
     "text": [
      "epoch 0  | loss: 1.61384 | val_0_mse: 0.6202  |  0:00:20s\n",
      "epoch 1  | loss: 0.19404 | val_0_mse: 0.14939 |  0:00:41s\n",
      "epoch 2  | loss: 0.13376 | val_0_mse: 0.22811 |  0:01:01s\n",
      "epoch 3  | loss: 0.10882 | val_0_mse: 0.08154 |  0:01:22s\n",
      "epoch 4  | loss: 0.0983  | val_0_mse: 0.09835 |  0:01:42s\n",
      "epoch 5  | loss: 0.07406 | val_0_mse: 0.07469 |  0:02:03s\n",
      "epoch 6  | loss: 0.07194 | val_0_mse: 0.04878 |  0:02:24s\n",
      "epoch 7  | loss: 0.06285 | val_0_mse: 0.08645 |  0:02:47s\n",
      "epoch 8  | loss: 0.05628 | val_0_mse: 0.04695 |  0:03:08s\n",
      "epoch 9  | loss: 0.05221 | val_0_mse: 0.0367  |  0:03:28s\n",
      "epoch 10 | loss: 0.04697 | val_0_mse: 0.02481 |  0:03:48s\n",
      "epoch 11 | loss: 0.03395 | val_0_mse: 0.04486 |  0:04:09s\n",
      "epoch 12 | loss: 0.04162 | val_0_mse: 0.02086 |  0:04:29s\n",
      "epoch 13 | loss: 0.03263 | val_0_mse: 0.04592 |  0:04:49s\n",
      "epoch 14 | loss: 0.03996 | val_0_mse: 0.03285 |  0:05:10s\n",
      "epoch 15 | loss: 0.03935 | val_0_mse: 0.04085 |  0:05:30s\n",
      "epoch 16 | loss: 0.03277 | val_0_mse: 0.03734 |  0:05:51s\n",
      "epoch 17 | loss: 0.03272 | val_0_mse: 0.02204 |  0:06:11s\n",
      "epoch 18 | loss: 0.0268  | val_0_mse: 0.02117 |  0:06:32s\n",
      "epoch 19 | loss: 0.02509 | val_0_mse: 0.00991 |  0:06:52s\n",
      "epoch 20 | loss: 0.0208  | val_0_mse: 0.00957 |  0:07:13s\n",
      "epoch 21 | loss: 0.01946 | val_0_mse: 0.02978 |  0:07:33s\n",
      "epoch 22 | loss: 0.02094 | val_0_mse: 0.01136 |  0:07:54s\n",
      "epoch 23 | loss: 0.02045 | val_0_mse: 0.01902 |  0:08:14s\n",
      "epoch 24 | loss: 0.01751 | val_0_mse: 0.00913 |  0:08:35s\n",
      "epoch 25 | loss: 0.01537 | val_0_mse: 0.01156 |  0:08:55s\n",
      "epoch 26 | loss: 0.01737 | val_0_mse: 0.01879 |  0:09:16s\n",
      "epoch 27 | loss: 0.01746 | val_0_mse: 0.00732 |  0:09:36s\n",
      "epoch 28 | loss: 0.01516 | val_0_mse: 0.03532 |  0:09:57s\n",
      "epoch 29 | loss: 0.01919 | val_0_mse: 0.01894 |  0:10:17s\n",
      "epoch 30 | loss: 0.01899 | val_0_mse: 0.01036 |  0:10:38s\n",
      "epoch 31 | loss: 0.01776 | val_0_mse: 0.01552 |  0:10:58s\n",
      "epoch 32 | loss: 0.02557 | val_0_mse: 0.02415 |  0:11:19s\n",
      "epoch 33 | loss: 0.01673 | val_0_mse: 0.02735 |  0:11:39s\n",
      "epoch 34 | loss: 0.02194 | val_0_mse: 0.1138  |  0:11:59s\n",
      "epoch 35 | loss: 0.02243 | val_0_mse: 0.011   |  0:12:20s\n",
      "epoch 36 | loss: 0.01675 | val_0_mse: 0.01893 |  0:12:41s\n",
      "epoch 37 | loss: 0.01359 | val_0_mse: 0.01292 |  0:13:01s\n",
      "\n",
      "Early stopping occurred at epoch 37 with best_epoch = 27 and best_val_0_mse = 0.00732\n"
     ]
    },
    {
     "name": "stderr",
     "output_type": "stream",
     "text": [
      "/opt/homebrew/Caskroom/miniforge/base/envs/mlp/lib/python3.10/site-packages/pytorch_tabnet/callbacks.py:172: UserWarning: Best weights from best epoch are automatically used!\n",
      "  warnings.warn(wrn_msg)\n"
     ]
    },
    {
     "name": "stdout",
     "output_type": "stream",
     "text": [
      "Model MSE: 0.007532 - Best MSE: 0.005215\n",
      "Model R2 Score: 0.966023 - Best R2 Score: 0.976475\n",
      "\n",
      "Iterations 54/72 - Hyperparameters:  batch_sizes=128, nums_epochs=200, n_d=64, n_a=64, n_step=6, n_indipendent=2, n_shared=3, gamma=1.3, epsilon=1e-08\n"
     ]
    },
    {
     "name": "stderr",
     "output_type": "stream",
     "text": [
      "/opt/homebrew/Caskroom/miniforge/base/envs/mlp/lib/python3.10/site-packages/pytorch_tabnet/abstract_model.py:75: UserWarning: Device used : cpu\n",
      "  warnings.warn(f\"Device used : {self.device}\")\n"
     ]
    },
    {
     "name": "stdout",
     "output_type": "stream",
     "text": [
      "epoch 0  | loss: 3.1864  | val_0_mse: 1.00536 |  0:00:11s\n",
      "epoch 1  | loss: 0.51794 | val_0_mse: 0.46997 |  0:00:22s\n",
      "epoch 2  | loss: 0.15011 | val_0_mse: 0.17174 |  0:00:34s\n",
      "epoch 3  | loss: 0.11627 | val_0_mse: 0.12361 |  0:00:46s\n",
      "epoch 4  | loss: 0.09006 | val_0_mse: 0.07286 |  0:00:57s\n",
      "epoch 5  | loss: 0.08923 | val_0_mse: 0.06782 |  0:01:09s\n",
      "epoch 6  | loss: 0.08152 | val_0_mse: 0.05852 |  0:01:20s\n",
      "epoch 7  | loss: 0.06201 | val_0_mse: 0.04838 |  0:01:32s\n",
      "epoch 8  | loss: 0.05441 | val_0_mse: 0.04527 |  0:01:44s\n",
      "epoch 9  | loss: 0.04959 | val_0_mse: 0.04455 |  0:01:55s\n",
      "epoch 10 | loss: 0.05673 | val_0_mse: 0.05272 |  0:02:07s\n",
      "epoch 11 | loss: 0.0423  | val_0_mse: 0.06014 |  0:02:19s\n",
      "epoch 12 | loss: 0.04131 | val_0_mse: 0.0282  |  0:02:30s\n",
      "epoch 13 | loss: 0.03663 | val_0_mse: 0.0395  |  0:02:42s\n",
      "epoch 14 | loss: 0.0395  | val_0_mse: 0.04395 |  0:02:53s\n",
      "epoch 15 | loss: 0.04795 | val_0_mse: 0.0437  |  0:03:05s\n",
      "epoch 16 | loss: 0.03722 | val_0_mse: 0.02761 |  0:03:17s\n",
      "epoch 17 | loss: 0.0353  | val_0_mse: 0.02114 |  0:03:28s\n",
      "epoch 18 | loss: 0.02566 | val_0_mse: 0.02404 |  0:03:40s\n",
      "epoch 19 | loss: 0.03134 | val_0_mse: 0.02788 |  0:03:52s\n",
      "epoch 20 | loss: 0.02228 | val_0_mse: 0.02396 |  0:04:03s\n",
      "epoch 21 | loss: 0.02364 | val_0_mse: 0.02487 |  0:04:15s\n",
      "epoch 22 | loss: 0.01643 | val_0_mse: 0.0142  |  0:04:27s\n",
      "epoch 23 | loss: 0.01779 | val_0_mse: 0.01331 |  0:04:38s\n",
      "epoch 24 | loss: 0.01728 | val_0_mse: 0.01166 |  0:04:50s\n",
      "epoch 25 | loss: 0.01561 | val_0_mse: 0.0115  |  0:05:01s\n",
      "epoch 26 | loss: 0.01754 | val_0_mse: 0.04713 |  0:05:13s\n",
      "epoch 27 | loss: 0.01853 | val_0_mse: 0.02122 |  0:05:25s\n",
      "epoch 28 | loss: 0.01871 | val_0_mse: 0.01294 |  0:05:36s\n",
      "epoch 29 | loss: 0.01924 | val_0_mse: 0.04287 |  0:05:48s\n",
      "epoch 30 | loss: 0.0184  | val_0_mse: 0.02556 |  0:05:59s\n",
      "epoch 31 | loss: 0.01638 | val_0_mse: 0.00985 |  0:06:11s\n",
      "epoch 32 | loss: 0.01834 | val_0_mse: 0.01962 |  0:06:22s\n",
      "epoch 33 | loss: 0.01382 | val_0_mse: 0.0087  |  0:06:34s\n",
      "epoch 34 | loss: 0.02237 | val_0_mse: 0.01667 |  0:06:46s\n",
      "epoch 35 | loss: 0.01484 | val_0_mse: 0.01035 |  0:06:57s\n",
      "epoch 36 | loss: 0.01181 | val_0_mse: 0.00866 |  0:07:09s\n",
      "epoch 37 | loss: 0.01856 | val_0_mse: 0.01009 |  0:07:21s\n",
      "epoch 38 | loss: 0.0119  | val_0_mse: 0.01087 |  0:07:32s\n",
      "epoch 39 | loss: 0.01147 | val_0_mse: 0.00719 |  0:07:44s\n",
      "epoch 40 | loss: 0.01346 | val_0_mse: 0.00884 |  0:07:55s\n",
      "epoch 41 | loss: 0.01061 | val_0_mse: 0.00664 |  0:08:07s\n",
      "epoch 42 | loss: 0.0115  | val_0_mse: 0.0085  |  0:08:19s\n",
      "epoch 43 | loss: 0.01052 | val_0_mse: 0.00686 |  0:08:30s\n",
      "epoch 44 | loss: 0.01018 | val_0_mse: 0.01156 |  0:08:42s\n",
      "epoch 45 | loss: 0.01196 | val_0_mse: 0.01446 |  0:08:53s\n",
      "epoch 46 | loss: 0.01495 | val_0_mse: 0.01562 |  0:09:05s\n",
      "epoch 47 | loss: 0.02159 | val_0_mse: 0.01009 |  0:09:17s\n",
      "epoch 48 | loss: 0.01521 | val_0_mse: 0.00856 |  0:09:28s\n",
      "epoch 49 | loss: 0.00979 | val_0_mse: 0.00695 |  0:09:40s\n",
      "epoch 50 | loss: 0.01319 | val_0_mse: 0.01227 |  0:09:51s\n",
      "epoch 51 | loss: 0.01041 | val_0_mse: 0.01017 |  0:10:03s\n",
      "\n",
      "Early stopping occurred at epoch 51 with best_epoch = 41 and best_val_0_mse = 0.00664\n"
     ]
    },
    {
     "name": "stderr",
     "output_type": "stream",
     "text": [
      "/opt/homebrew/Caskroom/miniforge/base/envs/mlp/lib/python3.10/site-packages/pytorch_tabnet/callbacks.py:172: UserWarning: Best weights from best epoch are automatically used!\n",
      "  warnings.warn(wrn_msg)\n"
     ]
    },
    {
     "name": "stdout",
     "output_type": "stream",
     "text": [
      "Model MSE: 0.006923 - Best MSE: 0.005215\n",
      "Model R2 Score: 0.968766 - Best R2 Score: 0.976475\n",
      "\n",
      "Iterations 55/72 - Hyperparameters:  batch_sizes=32, nums_epochs=200, n_d=64, n_a=64, n_step=6, n_indipendent=3, n_shared=2, gamma=1.3, epsilon=1e-08\n"
     ]
    },
    {
     "name": "stderr",
     "output_type": "stream",
     "text": [
      "/opt/homebrew/Caskroom/miniforge/base/envs/mlp/lib/python3.10/site-packages/pytorch_tabnet/abstract_model.py:75: UserWarning: Device used : cpu\n",
      "  warnings.warn(f\"Device used : {self.device}\")\n"
     ]
    },
    {
     "name": "stdout",
     "output_type": "stream",
     "text": [
      "epoch 0  | loss: 1.39678 | val_0_mse: 0.25417 |  0:00:35s\n",
      "epoch 1  | loss: 0.15564 | val_0_mse: 0.10086 |  0:01:11s\n",
      "epoch 2  | loss: 0.11082 | val_0_mse: 0.08766 |  0:01:47s\n",
      "epoch 3  | loss: 0.09323 | val_0_mse: 0.07026 |  0:02:23s\n",
      "epoch 4  | loss: 0.07608 | val_0_mse: 0.11076 |  0:02:58s\n",
      "epoch 5  | loss: 0.07337 | val_0_mse: 0.05346 |  0:03:34s\n",
      "epoch 6  | loss: 0.05226 | val_0_mse: 0.04813 |  0:04:10s\n",
      "epoch 7  | loss: 0.03947 | val_0_mse: 0.06076 |  0:04:45s\n",
      "epoch 8  | loss: 0.03739 | val_0_mse: 0.02161 |  0:05:21s\n",
      "epoch 9  | loss: 0.03557 | val_0_mse: 0.02356 |  0:05:57s\n",
      "epoch 10 | loss: 0.03464 | val_0_mse: 0.01443 |  0:06:33s\n",
      "epoch 11 | loss: 0.02909 | val_0_mse: 0.01866 |  0:07:08s\n",
      "epoch 12 | loss: 0.03521 | val_0_mse: 0.01036 |  0:07:44s\n",
      "epoch 13 | loss: 0.02804 | val_0_mse: 0.04988 |  0:08:20s\n",
      "epoch 14 | loss: 0.02883 | val_0_mse: 0.01958 |  0:08:56s\n",
      "epoch 15 | loss: 0.02955 | val_0_mse: 0.04648 |  0:09:32s\n",
      "epoch 16 | loss: 0.03264 | val_0_mse: 0.02113 |  0:10:08s\n",
      "epoch 17 | loss: 0.02566 | val_0_mse: 0.03381 |  0:10:43s\n",
      "epoch 18 | loss: 0.02571 | val_0_mse: 0.03058 |  0:11:19s\n",
      "epoch 19 | loss: 0.02584 | val_0_mse: 0.02108 |  0:11:55s\n",
      "epoch 20 | loss: 0.02594 | val_0_mse: 0.01005 |  0:12:30s\n",
      "epoch 21 | loss: 0.02802 | val_0_mse: 0.01785 |  0:13:06s\n",
      "epoch 22 | loss: 0.02733 | val_0_mse: 0.03765 |  0:13:41s\n",
      "epoch 23 | loss: 0.02665 | val_0_mse: 0.03793 |  0:14:17s\n",
      "epoch 24 | loss: 0.02965 | val_0_mse: 0.01694 |  0:14:53s\n",
      "epoch 25 | loss: 0.01903 | val_0_mse: 0.00907 |  0:15:29s\n",
      "epoch 26 | loss: 0.02281 | val_0_mse: 0.08954 |  0:16:04s\n",
      "epoch 27 | loss: 0.02365 | val_0_mse: 0.01967 |  0:16:40s\n",
      "epoch 28 | loss: 0.02267 | val_0_mse: 0.0329  |  0:17:18s\n",
      "epoch 29 | loss: 0.02194 | val_0_mse: 0.10508 |  0:17:54s\n",
      "epoch 30 | loss: 0.02267 | val_0_mse: 0.01577 |  0:18:30s\n",
      "epoch 31 | loss: 0.02089 | val_0_mse: 0.02072 |  0:19:06s\n",
      "epoch 32 | loss: 0.02285 | val_0_mse: 0.01782 |  0:19:42s\n",
      "epoch 33 | loss: 0.0231  | val_0_mse: 0.01172 |  0:20:18s\n",
      "epoch 34 | loss: 0.02097 | val_0_mse: 0.01834 |  0:20:53s\n",
      "epoch 35 | loss: 0.02069 | val_0_mse: 0.05057 |  0:21:29s\n",
      "\n",
      "Early stopping occurred at epoch 35 with best_epoch = 25 and best_val_0_mse = 0.00907\n"
     ]
    },
    {
     "name": "stderr",
     "output_type": "stream",
     "text": [
      "/opt/homebrew/Caskroom/miniforge/base/envs/mlp/lib/python3.10/site-packages/pytorch_tabnet/callbacks.py:172: UserWarning: Best weights from best epoch are automatically used!\n",
      "  warnings.warn(wrn_msg)\n"
     ]
    },
    {
     "name": "stdout",
     "output_type": "stream",
     "text": [
      "Model MSE: 0.010279 - Best MSE: 0.005215\n",
      "Model R2 Score: 0.953630 - Best R2 Score: 0.976475\n",
      "\n",
      "Iterations 56/72 - Hyperparameters:  batch_sizes=64, nums_epochs=200, n_d=64, n_a=64, n_step=6, n_indipendent=3, n_shared=2, gamma=1.3, epsilon=1e-08\n"
     ]
    },
    {
     "name": "stderr",
     "output_type": "stream",
     "text": [
      "/opt/homebrew/Caskroom/miniforge/base/envs/mlp/lib/python3.10/site-packages/pytorch_tabnet/abstract_model.py:75: UserWarning: Device used : cpu\n",
      "  warnings.warn(f\"Device used : {self.device}\")\n"
     ]
    },
    {
     "name": "stdout",
     "output_type": "stream",
     "text": [
      "epoch 0  | loss: 1.74387 | val_0_mse: 0.46287 |  0:00:19s\n",
      "epoch 1  | loss: 0.19179 | val_0_mse: 0.18331 |  0:00:40s\n",
      "epoch 2  | loss: 0.12211 | val_0_mse: 0.07625 |  0:00:59s\n",
      "epoch 3  | loss: 0.08453 | val_0_mse: 0.0829  |  0:01:19s\n",
      "epoch 4  | loss: 0.0756  | val_0_mse: 0.07284 |  0:01:39s\n",
      "epoch 5  | loss: 0.06493 | val_0_mse: 0.05438 |  0:01:58s\n",
      "epoch 6  | loss: 0.05653 | val_0_mse: 0.04676 |  0:02:18s\n",
      "epoch 7  | loss: 0.05097 | val_0_mse: 0.04004 |  0:02:38s\n",
      "epoch 8  | loss: 0.04958 | val_0_mse: 0.05621 |  0:02:57s\n",
      "epoch 9  | loss: 0.03683 | val_0_mse: 0.01965 |  0:03:17s\n",
      "epoch 10 | loss: 0.03892 | val_0_mse: 0.03551 |  0:03:37s\n",
      "epoch 11 | loss: 0.03637 | val_0_mse: 0.03049 |  0:03:56s\n",
      "epoch 12 | loss: 0.02969 | val_0_mse: 0.01816 |  0:04:16s\n",
      "epoch 13 | loss: 0.02366 | val_0_mse: 0.05102 |  0:04:36s\n",
      "epoch 14 | loss: 0.02221 | val_0_mse: 0.01019 |  0:04:56s\n",
      "epoch 15 | loss: 0.02558 | val_0_mse: 0.02819 |  0:05:15s\n",
      "epoch 16 | loss: 0.02205 | val_0_mse: 0.02207 |  0:05:35s\n",
      "epoch 17 | loss: 0.01608 | val_0_mse: 0.03768 |  0:05:55s\n",
      "epoch 18 | loss: 0.01873 | val_0_mse: 0.0112  |  0:06:14s\n",
      "epoch 19 | loss: 0.01887 | val_0_mse: 0.01435 |  0:06:34s\n",
      "epoch 20 | loss: 0.02425 | val_0_mse: 0.05023 |  0:06:54s\n",
      "epoch 21 | loss: 0.02269 | val_0_mse: 0.06893 |  0:07:13s\n",
      "epoch 22 | loss: 0.02221 | val_0_mse: 0.02363 |  0:07:33s\n",
      "epoch 23 | loss: 0.02444 | val_0_mse: 0.16957 |  0:07:53s\n",
      "epoch 24 | loss: 0.02634 | val_0_mse: 0.00913 |  0:08:12s\n",
      "epoch 25 | loss: 0.01915 | val_0_mse: 0.0164  |  0:08:32s\n",
      "epoch 26 | loss: 0.02104 | val_0_mse: 0.01583 |  0:08:52s\n",
      "epoch 27 | loss: 0.02085 | val_0_mse: 0.03949 |  0:09:11s\n",
      "epoch 28 | loss: 0.01602 | val_0_mse: 0.0146  |  0:09:31s\n",
      "epoch 29 | loss: 0.01661 | val_0_mse: 0.02062 |  0:09:51s\n",
      "epoch 30 | loss: 0.01827 | val_0_mse: 0.01099 |  0:10:10s\n",
      "epoch 31 | loss: 0.01602 | val_0_mse: 0.02075 |  0:10:30s\n",
      "epoch 32 | loss: 0.0157  | val_0_mse: 0.01483 |  0:10:50s\n",
      "epoch 33 | loss: 0.01534 | val_0_mse: 0.01554 |  0:11:10s\n",
      "epoch 34 | loss: 0.01797 | val_0_mse: 0.03293 |  0:11:29s\n",
      "\n",
      "Early stopping occurred at epoch 34 with best_epoch = 24 and best_val_0_mse = 0.00913\n"
     ]
    },
    {
     "name": "stderr",
     "output_type": "stream",
     "text": [
      "/opt/homebrew/Caskroom/miniforge/base/envs/mlp/lib/python3.10/site-packages/pytorch_tabnet/callbacks.py:172: UserWarning: Best weights from best epoch are automatically used!\n",
      "  warnings.warn(wrn_msg)\n"
     ]
    },
    {
     "name": "stdout",
     "output_type": "stream",
     "text": [
      "Model MSE: 0.008701 - Best MSE: 0.005215\n",
      "Model R2 Score: 0.960749 - Best R2 Score: 0.976475\n",
      "\n",
      "Iterations 57/72 - Hyperparameters:  batch_sizes=128, nums_epochs=200, n_d=64, n_a=64, n_step=6, n_indipendent=3, n_shared=2, gamma=1.3, epsilon=1e-08\n"
     ]
    },
    {
     "name": "stderr",
     "output_type": "stream",
     "text": [
      "/opt/homebrew/Caskroom/miniforge/base/envs/mlp/lib/python3.10/site-packages/pytorch_tabnet/abstract_model.py:75: UserWarning: Device used : cpu\n",
      "  warnings.warn(f\"Device used : {self.device}\")\n"
     ]
    },
    {
     "name": "stdout",
     "output_type": "stream",
     "text": [
      "epoch 0  | loss: 2.50414 | val_0_mse: 0.7902  |  0:00:11s\n",
      "epoch 1  | loss: 0.32148 | val_0_mse: 0.17836 |  0:00:23s\n",
      "epoch 2  | loss: 0.20216 | val_0_mse: 0.20049 |  0:00:34s\n",
      "epoch 3  | loss: 0.1406  | val_0_mse: 0.16017 |  0:00:46s\n",
      "epoch 4  | loss: 0.10276 | val_0_mse: 0.09266 |  0:00:57s\n",
      "epoch 5  | loss: 0.08022 | val_0_mse: 0.06607 |  0:01:09s\n",
      "epoch 6  | loss: 0.08237 | val_0_mse: 0.04866 |  0:01:20s\n",
      "epoch 7  | loss: 0.07959 | val_0_mse: 0.06565 |  0:01:32s\n",
      "epoch 8  | loss: 0.06983 | val_0_mse: 0.04972 |  0:01:43s\n",
      "epoch 9  | loss: 0.06537 | val_0_mse: 0.05905 |  0:01:55s\n",
      "epoch 10 | loss: 0.06792 | val_0_mse: 0.05737 |  0:02:06s\n",
      "epoch 11 | loss: 0.05192 | val_0_mse: 0.0442  |  0:02:18s\n",
      "epoch 12 | loss: 0.05304 | val_0_mse: 0.04054 |  0:02:30s\n",
      "epoch 13 | loss: 0.04405 | val_0_mse: 0.03601 |  0:02:41s\n",
      "epoch 14 | loss: 0.03752 | val_0_mse: 0.04671 |  0:02:53s\n",
      "epoch 15 | loss: 0.0394  | val_0_mse: 0.03025 |  0:03:04s\n",
      "epoch 16 | loss: 0.03318 | val_0_mse: 0.02973 |  0:03:16s\n",
      "epoch 17 | loss: 0.027   | val_0_mse: 0.0358  |  0:03:27s\n",
      "epoch 18 | loss: 0.03314 | val_0_mse: 0.02448 |  0:03:39s\n",
      "epoch 19 | loss: 0.03143 | val_0_mse: 0.02361 |  0:03:51s\n",
      "epoch 20 | loss: 0.02954 | val_0_mse: 0.02691 |  0:04:02s\n",
      "epoch 21 | loss: 0.02612 | val_0_mse: 0.07381 |  0:04:14s\n",
      "epoch 22 | loss: 0.02509 | val_0_mse: 0.03182 |  0:04:25s\n",
      "epoch 23 | loss: 0.0265  | val_0_mse: 0.01922 |  0:04:36s\n",
      "epoch 24 | loss: 0.02254 | val_0_mse: 0.01627 |  0:04:48s\n",
      "epoch 25 | loss: 0.01833 | val_0_mse: 0.01705 |  0:05:00s\n",
      "epoch 26 | loss: 0.01862 | val_0_mse: 0.02543 |  0:05:11s\n",
      "epoch 27 | loss: 0.02585 | val_0_mse: 0.01556 |  0:05:22s\n",
      "epoch 28 | loss: 0.0137  | val_0_mse: 0.02652 |  0:05:34s\n",
      "epoch 29 | loss: 0.02051 | val_0_mse: 0.01324 |  0:05:45s\n",
      "epoch 30 | loss: 0.01654 | val_0_mse: 0.02618 |  0:05:57s\n",
      "epoch 31 | loss: 0.01491 | val_0_mse: 0.00669 |  0:06:08s\n",
      "epoch 32 | loss: 0.0135  | val_0_mse: 0.03956 |  0:06:20s\n",
      "epoch 33 | loss: 0.01473 | val_0_mse: 0.01004 |  0:06:31s\n",
      "epoch 34 | loss: 0.01374 | val_0_mse: 0.00781 |  0:06:42s\n",
      "epoch 35 | loss: 0.01113 | val_0_mse: 0.01076 |  0:06:53s\n",
      "epoch 36 | loss: 0.01652 | val_0_mse: 0.07544 |  0:07:04s\n",
      "epoch 37 | loss: 0.01931 | val_0_mse: 0.00822 |  0:07:15s\n",
      "epoch 38 | loss: 0.01094 | val_0_mse: 0.0106  |  0:07:27s\n",
      "epoch 39 | loss: 0.01288 | val_0_mse: 0.00813 |  0:07:38s\n",
      "epoch 40 | loss: 0.01042 | val_0_mse: 0.01007 |  0:07:49s\n",
      "epoch 41 | loss: 0.02304 | val_0_mse: 0.03399 |  0:08:00s\n",
      "\n",
      "Early stopping occurred at epoch 41 with best_epoch = 31 and best_val_0_mse = 0.00669\n"
     ]
    },
    {
     "name": "stderr",
     "output_type": "stream",
     "text": [
      "/opt/homebrew/Caskroom/miniforge/base/envs/mlp/lib/python3.10/site-packages/pytorch_tabnet/callbacks.py:172: UserWarning: Best weights from best epoch are automatically used!\n",
      "  warnings.warn(wrn_msg)\n"
     ]
    },
    {
     "name": "stdout",
     "output_type": "stream",
     "text": [
      "Model MSE: 0.006776 - Best MSE: 0.005215\n",
      "Model R2 Score: 0.969434 - Best R2 Score: 0.976475\n",
      "\n",
      "Iterations 58/72 - Hyperparameters:  batch_sizes=32, nums_epochs=200, n_d=64, n_a=64, n_step=6, n_indipendent=3, n_shared=3, gamma=1.3, epsilon=1e-08\n"
     ]
    },
    {
     "name": "stderr",
     "output_type": "stream",
     "text": [
      "/opt/homebrew/Caskroom/miniforge/base/envs/mlp/lib/python3.10/site-packages/pytorch_tabnet/abstract_model.py:75: UserWarning: Device used : cpu\n",
      "  warnings.warn(f\"Device used : {self.device}\")\n"
     ]
    },
    {
     "name": "stdout",
     "output_type": "stream",
     "text": [
      "epoch 0  | loss: 1.07294 | val_0_mse: 0.13942 |  0:00:40s\n",
      "epoch 1  | loss: 0.18004 | val_0_mse: 0.12171 |  0:01:20s\n",
      "epoch 2  | loss: 0.12097 | val_0_mse: 0.11171 |  0:02:00s\n",
      "epoch 3  | loss: 0.11679 | val_0_mse: 0.05597 |  0:02:40s\n",
      "epoch 4  | loss: 0.07561 | val_0_mse: 0.0561  |  0:03:20s\n",
      "epoch 5  | loss: 0.06867 | val_0_mse: 0.05754 |  0:04:01s\n",
      "epoch 6  | loss: 0.04712 | val_0_mse: 0.03778 |  0:04:41s\n",
      "epoch 7  | loss: 0.04636 | val_0_mse: 0.05331 |  0:05:20s\n",
      "epoch 8  | loss: 0.04333 | val_0_mse: 0.11386 |  0:05:59s\n",
      "epoch 9  | loss: 0.03984 | val_0_mse: 0.02112 |  0:06:38s\n",
      "epoch 10 | loss: 0.03113 | val_0_mse: 0.0304  |  0:07:19s\n",
      "epoch 11 | loss: 0.03283 | val_0_mse: 0.01262 |  0:07:59s\n",
      "epoch 12 | loss: 0.0279  | val_0_mse: 0.02035 |  0:08:39s\n",
      "epoch 13 | loss: 0.02852 | val_0_mse: 0.02013 |  0:09:19s\n",
      "epoch 14 | loss: 0.02562 | val_0_mse: 0.01388 |  0:10:00s\n",
      "epoch 15 | loss: 0.02546 | val_0_mse: 0.0215  |  0:10:40s\n",
      "epoch 16 | loss: 0.03278 | val_0_mse: 0.0434  |  0:11:21s\n",
      "epoch 17 | loss: 0.02216 | val_0_mse: 0.02948 |  0:12:01s\n",
      "epoch 18 | loss: 0.02416 | val_0_mse: 0.01436 |  0:12:41s\n",
      "epoch 19 | loss: 0.02409 | val_0_mse: 0.03834 |  0:13:21s\n",
      "epoch 20 | loss: 0.02154 | val_0_mse: 0.01747 |  0:14:02s\n",
      "epoch 21 | loss: 0.02311 | val_0_mse: 0.01433 |  0:14:42s\n",
      "\n",
      "Early stopping occurred at epoch 21 with best_epoch = 11 and best_val_0_mse = 0.01262\n"
     ]
    },
    {
     "name": "stderr",
     "output_type": "stream",
     "text": [
      "/opt/homebrew/Caskroom/miniforge/base/envs/mlp/lib/python3.10/site-packages/pytorch_tabnet/callbacks.py:172: UserWarning: Best weights from best epoch are automatically used!\n",
      "  warnings.warn(wrn_msg)\n"
     ]
    },
    {
     "name": "stdout",
     "output_type": "stream",
     "text": [
      "Model MSE: 0.011387 - Best MSE: 0.005215\n",
      "Model R2 Score: 0.948630 - Best R2 Score: 0.976475\n",
      "\n",
      "Iterations 59/72 - Hyperparameters:  batch_sizes=64, nums_epochs=200, n_d=64, n_a=64, n_step=6, n_indipendent=3, n_shared=3, gamma=1.3, epsilon=1e-08\n"
     ]
    },
    {
     "name": "stderr",
     "output_type": "stream",
     "text": [
      "/opt/homebrew/Caskroom/miniforge/base/envs/mlp/lib/python3.10/site-packages/pytorch_tabnet/abstract_model.py:75: UserWarning: Device used : cpu\n",
      "  warnings.warn(f\"Device used : {self.device}\")\n"
     ]
    },
    {
     "name": "stdout",
     "output_type": "stream",
     "text": [
      "epoch 0  | loss: 1.59439 | val_0_mse: 0.2719  |  0:00:22s\n",
      "epoch 1  | loss: 0.195   | val_0_mse: 0.23079 |  0:00:45s\n",
      "epoch 2  | loss: 0.14795 | val_0_mse: 0.12669 |  0:01:08s\n",
      "epoch 3  | loss: 0.1441  | val_0_mse: 0.14623 |  0:01:30s\n",
      "epoch 4  | loss: 0.10367 | val_0_mse: 0.10745 |  0:01:53s\n",
      "epoch 5  | loss: 0.1065  | val_0_mse: 0.08802 |  0:02:15s\n",
      "epoch 6  | loss: 0.10335 | val_0_mse: 0.07791 |  0:02:37s\n",
      "epoch 7  | loss: 0.08528 | val_0_mse: 0.07497 |  0:03:00s\n",
      "epoch 8  | loss: 0.09359 | val_0_mse: 0.09272 |  0:03:22s\n",
      "epoch 9  | loss: 0.09105 | val_0_mse: 0.11134 |  0:03:45s\n",
      "epoch 10 | loss: 0.07591 | val_0_mse: 0.05189 |  0:04:07s\n",
      "epoch 11 | loss: 0.07112 | val_0_mse: 0.0513  |  0:04:29s\n",
      "epoch 12 | loss: 0.04996 | val_0_mse: 0.03005 |  0:04:52s\n",
      "epoch 13 | loss: 0.03805 | val_0_mse: 0.03663 |  0:05:14s\n",
      "epoch 14 | loss: 0.03489 | val_0_mse: 0.01853 |  0:05:36s\n",
      "epoch 15 | loss: 0.03125 | val_0_mse: 0.0236  |  0:05:58s\n",
      "epoch 16 | loss: 0.02513 | val_0_mse: 0.01346 |  0:06:20s\n",
      "epoch 17 | loss: 0.02276 | val_0_mse: 0.02048 |  0:06:42s\n",
      "epoch 18 | loss: 0.01863 | val_0_mse: 0.01776 |  0:07:05s\n",
      "epoch 19 | loss: 0.02014 | val_0_mse: 0.03056 |  0:07:27s\n",
      "epoch 20 | loss: 0.02085 | val_0_mse: 0.03297 |  0:07:49s\n",
      "epoch 21 | loss: 0.02002 | val_0_mse: 0.01001 |  0:08:11s\n",
      "epoch 22 | loss: 0.01566 | val_0_mse: 0.00919 |  0:08:33s\n",
      "epoch 23 | loss: 0.0162  | val_0_mse: 0.00907 |  0:08:55s\n",
      "epoch 24 | loss: 0.01914 | val_0_mse: 0.01751 |  0:09:18s\n",
      "epoch 25 | loss: 0.0147  | val_0_mse: 0.02269 |  0:09:40s\n",
      "epoch 26 | loss: 0.01615 | val_0_mse: 0.01124 |  0:10:02s\n",
      "epoch 27 | loss: 0.01773 | val_0_mse: 0.0317  |  0:10:25s\n",
      "epoch 28 | loss: 0.01829 | val_0_mse: 0.01327 |  0:10:47s\n",
      "epoch 29 | loss: 0.01732 | val_0_mse: 0.01039 |  0:11:10s\n",
      "epoch 30 | loss: 0.01558 | val_0_mse: 0.02983 |  0:11:32s\n",
      "epoch 31 | loss: 0.01349 | val_0_mse: 0.01034 |  0:11:54s\n",
      "epoch 32 | loss: 0.02077 | val_0_mse: 0.00765 |  0:12:20s\n",
      "epoch 33 | loss: 0.01435 | val_0_mse: 0.01164 |  0:12:44s\n",
      "epoch 34 | loss: 0.01415 | val_0_mse: 0.02668 |  0:13:09s\n",
      "epoch 35 | loss: 0.01662 | val_0_mse: 0.02845 |  0:13:33s\n",
      "epoch 36 | loss: 0.01484 | val_0_mse: 0.01286 |  0:13:57s\n",
      "epoch 37 | loss: 0.01461 | val_0_mse: 0.01105 |  0:14:21s\n",
      "epoch 38 | loss: 0.01415 | val_0_mse: 0.01084 |  0:14:45s\n",
      "epoch 39 | loss: 0.01397 | val_0_mse: 0.01776 |  0:15:09s\n",
      "epoch 40 | loss: 0.01143 | val_0_mse: 0.00874 |  0:15:33s\n",
      "epoch 41 | loss: 0.01233 | val_0_mse: 0.01193 |  0:15:58s\n",
      "epoch 42 | loss: 0.01405 | val_0_mse: 0.01055 |  0:16:22s\n",
      "\n",
      "Early stopping occurred at epoch 42 with best_epoch = 32 and best_val_0_mse = 0.00765\n"
     ]
    },
    {
     "name": "stderr",
     "output_type": "stream",
     "text": [
      "/opt/homebrew/Caskroom/miniforge/base/envs/mlp/lib/python3.10/site-packages/pytorch_tabnet/callbacks.py:172: UserWarning: Best weights from best epoch are automatically used!\n",
      "  warnings.warn(wrn_msg)\n"
     ]
    },
    {
     "name": "stdout",
     "output_type": "stream",
     "text": [
      "Model MSE: 0.007541 - Best MSE: 0.005215\n",
      "Model R2 Score: 0.965982 - Best R2 Score: 0.976475\n",
      "\n",
      "Iterations 60/72 - Hyperparameters:  batch_sizes=128, nums_epochs=200, n_d=64, n_a=64, n_step=6, n_indipendent=3, n_shared=3, gamma=1.3, epsilon=1e-08\n"
     ]
    },
    {
     "name": "stderr",
     "output_type": "stream",
     "text": [
      "/opt/homebrew/Caskroom/miniforge/base/envs/mlp/lib/python3.10/site-packages/pytorch_tabnet/abstract_model.py:75: UserWarning: Device used : cpu\n",
      "  warnings.warn(f\"Device used : {self.device}\")\n"
     ]
    },
    {
     "name": "stdout",
     "output_type": "stream",
     "text": [
      "epoch 0  | loss: 2.1322  | val_0_mse: 1.13127 |  0:00:13s\n",
      "epoch 1  | loss: 0.33277 | val_0_mse: 0.18001 |  0:00:26s\n",
      "epoch 2  | loss: 0.13331 | val_0_mse: 0.12124 |  0:00:40s\n",
      "epoch 3  | loss: 0.09147 | val_0_mse: 0.07759 |  0:00:55s\n",
      "epoch 4  | loss: 0.09055 | val_0_mse: 0.0794  |  0:01:08s\n",
      "epoch 5  | loss: 0.06959 | val_0_mse: 0.06796 |  0:01:21s\n",
      "epoch 6  | loss: 0.08426 | val_0_mse: 0.08473 |  0:01:34s\n",
      "epoch 7  | loss: 0.06675 | val_0_mse: 0.04478 |  0:01:47s\n",
      "epoch 8  | loss: 0.06593 | val_0_mse: 0.03978 |  0:01:59s\n",
      "epoch 9  | loss: 0.04592 | val_0_mse: 0.03603 |  0:02:12s\n",
      "epoch 10 | loss: 0.04024 | val_0_mse: 0.02951 |  0:02:25s\n",
      "epoch 11 | loss: 0.03446 | val_0_mse: 0.02387 |  0:02:38s\n",
      "epoch 12 | loss: 0.03312 | val_0_mse: 0.02838 |  0:02:51s\n",
      "epoch 13 | loss: 0.03077 | val_0_mse: 0.03053 |  0:03:03s\n",
      "epoch 14 | loss: 0.02344 | val_0_mse: 0.01743 |  0:03:16s\n",
      "epoch 15 | loss: 0.0201  | val_0_mse: 0.02181 |  0:03:29s\n",
      "epoch 16 | loss: 0.02567 | val_0_mse: 0.0201  |  0:03:42s\n",
      "epoch 17 | loss: 0.02899 | val_0_mse: 0.02    |  0:03:55s\n",
      "epoch 18 | loss: 0.01965 | val_0_mse: 0.03835 |  0:04:08s\n",
      "epoch 19 | loss: 0.01943 | val_0_mse: 0.01066 |  0:04:21s\n",
      "epoch 20 | loss: 0.02032 | val_0_mse: 0.00998 |  0:04:33s\n",
      "epoch 21 | loss: 0.0179  | val_0_mse: 0.00849 |  0:04:46s\n",
      "epoch 22 | loss: 0.01643 | val_0_mse: 0.02423 |  0:04:59s\n",
      "epoch 23 | loss: 0.02285 | val_0_mse: 0.00957 |  0:05:12s\n",
      "epoch 24 | loss: 0.0185  | val_0_mse: 0.02337 |  0:05:24s\n",
      "epoch 25 | loss: 0.0164  | val_0_mse: 0.00919 |  0:05:37s\n",
      "epoch 26 | loss: 0.01849 | val_0_mse: 0.01411 |  0:05:50s\n",
      "epoch 27 | loss: 0.01573 | val_0_mse: 0.05192 |  0:06:03s\n",
      "epoch 28 | loss: 0.01778 | val_0_mse: 0.01171 |  0:06:15s\n",
      "epoch 29 | loss: 0.01568 | val_0_mse: 0.05121 |  0:06:29s\n",
      "epoch 30 | loss: 0.0159  | val_0_mse: 0.02206 |  0:06:41s\n",
      "epoch 31 | loss: 0.01562 | val_0_mse: 0.0101  |  0:06:54s\n",
      "\n",
      "Early stopping occurred at epoch 31 with best_epoch = 21 and best_val_0_mse = 0.00849\n"
     ]
    },
    {
     "name": "stderr",
     "output_type": "stream",
     "text": [
      "/opt/homebrew/Caskroom/miniforge/base/envs/mlp/lib/python3.10/site-packages/pytorch_tabnet/callbacks.py:172: UserWarning: Best weights from best epoch are automatically used!\n",
      "  warnings.warn(wrn_msg)\n"
     ]
    },
    {
     "name": "stdout",
     "output_type": "stream",
     "text": [
      "Model MSE: 0.008551 - Best MSE: 0.005215\n",
      "Model R2 Score: 0.961424 - Best R2 Score: 0.976475\n",
      "\n",
      "Iterations 61/72 - Hyperparameters:  batch_sizes=32, nums_epochs=200, n_d=64, n_a=64, n_step=7, n_indipendent=2, n_shared=2, gamma=1.3, epsilon=1e-08\n"
     ]
    },
    {
     "name": "stderr",
     "output_type": "stream",
     "text": [
      "/opt/homebrew/Caskroom/miniforge/base/envs/mlp/lib/python3.10/site-packages/pytorch_tabnet/abstract_model.py:75: UserWarning: Device used : cpu\n",
      "  warnings.warn(f\"Device used : {self.device}\")\n"
     ]
    },
    {
     "name": "stdout",
     "output_type": "stream",
     "text": [
      "epoch 0  | loss: 2.103   | val_0_mse: 0.1597  |  0:00:40s\n",
      "epoch 1  | loss: 0.17662 | val_0_mse: 0.10236 |  0:01:20s\n",
      "epoch 2  | loss: 0.11748 | val_0_mse: 0.10673 |  0:02:00s\n",
      "epoch 3  | loss: 0.10928 | val_0_mse: 0.11156 |  0:02:39s\n",
      "epoch 4  | loss: 0.10472 | val_0_mse: 0.08559 |  0:03:19s\n",
      "epoch 5  | loss: 0.08344 | val_0_mse: 0.06586 |  0:03:59s\n",
      "epoch 6  | loss: 0.06434 | val_0_mse: 0.03686 |  0:04:38s\n",
      "epoch 7  | loss: 0.04327 | val_0_mse: 0.07173 |  0:05:17s\n",
      "epoch 8  | loss: 0.03663 | val_0_mse: 0.03127 |  0:05:57s\n",
      "epoch 9  | loss: 0.03552 | val_0_mse: 0.02713 |  0:06:40s\n",
      "epoch 10 | loss: 0.03192 | val_0_mse: 0.02549 |  0:07:19s\n",
      "epoch 11 | loss: 0.02973 | val_0_mse: 0.02381 |  0:08:00s\n",
      "epoch 12 | loss: 0.03161 | val_0_mse: 0.03215 |  0:08:38s\n",
      "epoch 13 | loss: 0.02706 | val_0_mse: 0.02898 |  0:09:17s\n",
      "epoch 14 | loss: 0.03576 | val_0_mse: 0.02846 |  0:09:56s\n",
      "epoch 15 | loss: 0.03308 | val_0_mse: 0.01915 |  0:10:36s\n",
      "epoch 16 | loss: 0.02653 | val_0_mse: 0.02409 |  0:11:15s\n",
      "epoch 17 | loss: 0.02643 | val_0_mse: 0.03038 |  0:11:55s\n",
      "epoch 18 | loss: 0.02372 | val_0_mse: 0.01588 |  0:12:34s\n",
      "epoch 19 | loss: 0.02435 | val_0_mse: 0.01408 |  0:13:14s\n",
      "epoch 20 | loss: 0.02788 | val_0_mse: 0.01941 |  0:13:54s\n",
      "epoch 21 | loss: 0.02497 | val_0_mse: 0.03158 |  0:14:33s\n",
      "epoch 22 | loss: 0.02087 | val_0_mse: 0.01558 |  0:15:13s\n",
      "epoch 23 | loss: 0.02976 | val_0_mse: 0.01858 |  0:15:52s\n",
      "epoch 24 | loss: 0.0252  | val_0_mse: 0.01753 |  0:16:32s\n",
      "epoch 25 | loss: 0.02813 | val_0_mse: 0.01664 |  0:17:11s\n",
      "epoch 26 | loss: 0.02211 | val_0_mse: 0.01828 |  0:17:51s\n",
      "epoch 27 | loss: 0.02609 | val_0_mse: 0.01609 |  0:18:30s\n",
      "epoch 28 | loss: 0.02174 | val_0_mse: 0.01193 |  0:19:10s\n",
      "epoch 29 | loss: 0.02223 | val_0_mse: 0.01161 |  0:19:47s\n",
      "epoch 30 | loss: 0.02484 | val_0_mse: 0.01112 |  0:20:25s\n",
      "epoch 31 | loss: 0.02263 | val_0_mse: 0.02024 |  0:21:06s\n",
      "epoch 32 | loss: 0.02272 | val_0_mse: 0.00863 |  0:21:46s\n",
      "epoch 33 | loss: 0.02059 | val_0_mse: 0.05015 |  0:22:25s\n",
      "epoch 34 | loss: 0.02391 | val_0_mse: 0.01944 |  0:23:04s\n",
      "epoch 35 | loss: 0.01752 | val_0_mse: 0.02501 |  0:23:43s\n",
      "epoch 36 | loss: 0.0169  | val_0_mse: 0.03515 |  0:24:21s\n",
      "epoch 37 | loss: 0.02164 | val_0_mse: 0.0313  |  0:25:00s\n",
      "epoch 38 | loss: 0.0204  | val_0_mse: 0.01922 |  0:25:39s\n",
      "epoch 39 | loss: 0.01879 | val_0_mse: 0.04724 |  0:26:18s\n",
      "epoch 40 | loss: 0.01796 | val_0_mse: 0.02704 |  0:26:57s\n",
      "epoch 41 | loss: 0.02104 | val_0_mse: 0.0235  |  0:27:36s\n",
      "epoch 42 | loss: 0.01863 | val_0_mse: 0.01559 |  0:28:15s\n",
      "\n",
      "Early stopping occurred at epoch 42 with best_epoch = 32 and best_val_0_mse = 0.00863\n"
     ]
    },
    {
     "name": "stderr",
     "output_type": "stream",
     "text": [
      "/opt/homebrew/Caskroom/miniforge/base/envs/mlp/lib/python3.10/site-packages/pytorch_tabnet/callbacks.py:172: UserWarning: Best weights from best epoch are automatically used!\n",
      "  warnings.warn(wrn_msg)\n"
     ]
    },
    {
     "name": "stdout",
     "output_type": "stream",
     "text": [
      "Model MSE: 0.009653 - Best MSE: 0.005215\n",
      "Model R2 Score: 0.956452 - Best R2 Score: 0.976475\n",
      "\n",
      "Iterations 62/72 - Hyperparameters:  batch_sizes=64, nums_epochs=200, n_d=64, n_a=64, n_step=7, n_indipendent=2, n_shared=2, gamma=1.3, epsilon=1e-08\n"
     ]
    },
    {
     "name": "stderr",
     "output_type": "stream",
     "text": [
      "/opt/homebrew/Caskroom/miniforge/base/envs/mlp/lib/python3.10/site-packages/pytorch_tabnet/abstract_model.py:75: UserWarning: Device used : cpu\n",
      "  warnings.warn(f\"Device used : {self.device}\")\n"
     ]
    },
    {
     "name": "stdout",
     "output_type": "stream",
     "text": [
      "epoch 0  | loss: 3.91614 | val_0_mse: 0.55414 |  0:00:21s\n",
      "epoch 1  | loss: 0.22969 | val_0_mse: 0.21108 |  0:00:43s\n",
      "epoch 2  | loss: 0.14898 | val_0_mse: 0.10924 |  0:01:04s\n",
      "epoch 3  | loss: 0.13908 | val_0_mse: 0.1193  |  0:01:26s\n",
      "epoch 4  | loss: 0.11439 | val_0_mse: 0.0775  |  0:01:48s\n",
      "epoch 5  | loss: 0.09007 | val_0_mse: 0.104   |  0:02:09s\n",
      "epoch 6  | loss: 0.07947 | val_0_mse: 0.07089 |  0:02:32s\n",
      "epoch 7  | loss: 0.07529 | val_0_mse: 0.07567 |  0:02:53s\n",
      "epoch 8  | loss: 0.06678 | val_0_mse: 0.05419 |  0:03:15s\n",
      "epoch 9  | loss: 0.06906 | val_0_mse: 0.06265 |  0:03:36s\n",
      "epoch 10 | loss: 0.06977 | val_0_mse: 0.06641 |  0:03:57s\n",
      "epoch 11 | loss: 0.05661 | val_0_mse: 0.04269 |  0:04:18s\n",
      "epoch 12 | loss: 0.05211 | val_0_mse: 0.04682 |  0:04:39s\n",
      "epoch 13 | loss: 0.04565 | val_0_mse: 0.03192 |  0:05:00s\n",
      "epoch 14 | loss: 0.03756 | val_0_mse: 0.06639 |  0:05:22s\n",
      "epoch 15 | loss: 0.02986 | val_0_mse: 0.03344 |  0:05:43s\n",
      "epoch 16 | loss: 0.02819 | val_0_mse: 0.0245  |  0:06:06s\n",
      "epoch 17 | loss: 0.03041 | val_0_mse: 0.03137 |  0:06:27s\n",
      "epoch 18 | loss: 0.02222 | val_0_mse: 0.03873 |  0:06:48s\n",
      "epoch 19 | loss: 0.02177 | val_0_mse: 0.03331 |  0:07:10s\n",
      "epoch 20 | loss: 0.02114 | val_0_mse: 0.00904 |  0:07:31s\n",
      "epoch 21 | loss: 0.02394 | val_0_mse: 0.03929 |  0:07:52s\n",
      "epoch 22 | loss: 0.03787 | val_0_mse: 0.02433 |  0:08:13s\n",
      "epoch 23 | loss: 0.03452 | val_0_mse: 0.11917 |  0:08:34s\n",
      "epoch 24 | loss: 0.03671 | val_0_mse: 0.04943 |  0:08:54s\n",
      "epoch 25 | loss: 0.02854 | val_0_mse: 0.04249 |  0:09:15s\n",
      "epoch 26 | loss: 0.02325 | val_0_mse: 0.02478 |  0:09:36s\n",
      "epoch 27 | loss: 0.02864 | val_0_mse: 0.1045  |  0:09:57s\n",
      "epoch 28 | loss: 0.01893 | val_0_mse: 0.01378 |  0:10:18s\n",
      "epoch 29 | loss: 0.02135 | val_0_mse: 0.0168  |  0:10:39s\n",
      "epoch 30 | loss: 0.0197  | val_0_mse: 0.04854 |  0:10:59s\n",
      "\n",
      "Early stopping occurred at epoch 30 with best_epoch = 20 and best_val_0_mse = 0.00904\n"
     ]
    },
    {
     "name": "stderr",
     "output_type": "stream",
     "text": [
      "/opt/homebrew/Caskroom/miniforge/base/envs/mlp/lib/python3.10/site-packages/pytorch_tabnet/callbacks.py:172: UserWarning: Best weights from best epoch are automatically used!\n",
      "  warnings.warn(wrn_msg)\n"
     ]
    },
    {
     "name": "stdout",
     "output_type": "stream",
     "text": [
      "Model MSE: 0.008729 - Best MSE: 0.005215\n",
      "Model R2 Score: 0.960619 - Best R2 Score: 0.976475\n",
      "\n",
      "Iterations 63/72 - Hyperparameters:  batch_sizes=128, nums_epochs=200, n_d=64, n_a=64, n_step=7, n_indipendent=2, n_shared=2, gamma=1.3, epsilon=1e-08\n"
     ]
    },
    {
     "name": "stderr",
     "output_type": "stream",
     "text": [
      "/opt/homebrew/Caskroom/miniforge/base/envs/mlp/lib/python3.10/site-packages/pytorch_tabnet/abstract_model.py:75: UserWarning: Device used : cpu\n",
      "  warnings.warn(f\"Device used : {self.device}\")\n"
     ]
    },
    {
     "name": "stdout",
     "output_type": "stream",
     "text": [
      "epoch 0  | loss: 4.79959 | val_0_mse: 1.44364 |  0:00:11s\n",
      "epoch 1  | loss: 0.73125 | val_0_mse: 0.30791 |  0:00:23s\n",
      "epoch 2  | loss: 0.23626 | val_0_mse: 0.3487  |  0:00:35s\n",
      "epoch 3  | loss: 0.13129 | val_0_mse: 0.17736 |  0:00:47s\n",
      "epoch 4  | loss: 0.10056 | val_0_mse: 0.07856 |  0:00:58s\n",
      "epoch 5  | loss: 0.08087 | val_0_mse: 0.14809 |  0:01:09s\n",
      "epoch 6  | loss: 0.08267 | val_0_mse: 0.0772  |  0:01:21s\n",
      "epoch 7  | loss: 0.07431 | val_0_mse: 0.05763 |  0:01:32s\n",
      "epoch 8  | loss: 0.07249 | val_0_mse: 0.06688 |  0:01:43s\n",
      "epoch 9  | loss: 0.06985 | val_0_mse: 0.07159 |  0:01:55s\n",
      "epoch 10 | loss: 0.06632 | val_0_mse: 0.05995 |  0:02:06s\n",
      "epoch 11 | loss: 0.0582  | val_0_mse: 0.054   |  0:02:17s\n",
      "epoch 12 | loss: 0.05891 | val_0_mse: 0.04819 |  0:02:28s\n",
      "epoch 13 | loss: 0.05971 | val_0_mse: 0.04442 |  0:02:40s\n",
      "epoch 14 | loss: 0.05868 | val_0_mse: 0.06631 |  0:02:51s\n",
      "epoch 15 | loss: 0.04645 | val_0_mse: 0.04593 |  0:03:02s\n",
      "epoch 16 | loss: 0.04802 | val_0_mse: 0.03977 |  0:03:13s\n",
      "epoch 17 | loss: 0.04479 | val_0_mse: 0.04136 |  0:03:24s\n",
      "epoch 18 | loss: 0.04085 | val_0_mse: 0.03257 |  0:03:35s\n",
      "epoch 19 | loss: 0.0408  | val_0_mse: 0.03132 |  0:03:47s\n",
      "epoch 20 | loss: 0.03445 | val_0_mse: 0.031   |  0:03:58s\n",
      "epoch 21 | loss: 0.03631 | val_0_mse: 0.0595  |  0:04:09s\n",
      "epoch 22 | loss: 0.03525 | val_0_mse: 0.02741 |  0:04:20s\n",
      "epoch 23 | loss: 0.02822 | val_0_mse: 0.0213  |  0:04:31s\n",
      "epoch 24 | loss: 0.02489 | val_0_mse: 0.02268 |  0:04:42s\n",
      "epoch 25 | loss: 0.0238  | val_0_mse: 0.02556 |  0:04:54s\n",
      "epoch 26 | loss: 0.02297 | val_0_mse: 0.01657 |  0:05:05s\n",
      "epoch 27 | loss: 0.022   | val_0_mse: 0.01667 |  0:05:15s\n",
      "epoch 28 | loss: 0.02973 | val_0_mse: 0.01315 |  0:05:27s\n",
      "epoch 29 | loss: 0.01889 | val_0_mse: 0.01576 |  0:05:38s\n",
      "epoch 30 | loss: 0.02317 | val_0_mse: 0.02581 |  0:05:49s\n",
      "epoch 31 | loss: 0.02419 | val_0_mse: 0.01123 |  0:06:00s\n",
      "epoch 32 | loss: 0.02084 | val_0_mse: 0.01349 |  0:06:11s\n",
      "epoch 33 | loss: 0.01684 | val_0_mse: 0.01405 |  0:06:22s\n",
      "epoch 34 | loss: 0.01801 | val_0_mse: 0.01834 |  0:06:33s\n",
      "epoch 35 | loss: 0.021   | val_0_mse: 0.01664 |  0:06:45s\n",
      "epoch 36 | loss: 0.01822 | val_0_mse: 0.0139  |  0:06:56s\n",
      "epoch 37 | loss: 0.01616 | val_0_mse: 0.00974 |  0:07:07s\n",
      "epoch 38 | loss: 0.01706 | val_0_mse: 0.0102  |  0:07:18s\n",
      "epoch 39 | loss: 0.01633 | val_0_mse: 0.01948 |  0:07:30s\n",
      "epoch 40 | loss: 0.01701 | val_0_mse: 0.0188  |  0:07:41s\n",
      "epoch 41 | loss: 0.01554 | val_0_mse: 0.01009 |  0:07:52s\n",
      "epoch 42 | loss: 0.01847 | val_0_mse: 0.00996 |  0:08:04s\n",
      "epoch 43 | loss: 0.01484 | val_0_mse: 0.00971 |  0:08:15s\n",
      "epoch 44 | loss: 0.01383 | val_0_mse: 0.02739 |  0:08:26s\n",
      "epoch 45 | loss: 0.01734 | val_0_mse: 0.02727 |  0:08:37s\n",
      "epoch 46 | loss: 0.01888 | val_0_mse: 0.0104  |  0:08:48s\n",
      "epoch 47 | loss: 0.01635 | val_0_mse: 0.00792 |  0:08:59s\n",
      "epoch 48 | loss: 0.01179 | val_0_mse: 0.00769 |  0:09:11s\n",
      "epoch 49 | loss: 0.01096 | val_0_mse: 0.00722 |  0:09:22s\n",
      "epoch 50 | loss: 0.01241 | val_0_mse: 0.01073 |  0:09:33s\n",
      "epoch 51 | loss: 0.01175 | val_0_mse: 0.00837 |  0:09:44s\n",
      "epoch 52 | loss: 0.01089 | val_0_mse: 0.01146 |  0:09:55s\n",
      "epoch 53 | loss: 0.01199 | val_0_mse: 0.0163  |  0:10:06s\n",
      "epoch 54 | loss: 0.01696 | val_0_mse: 0.00917 |  0:10:17s\n",
      "epoch 55 | loss: 0.0146  | val_0_mse: 0.00868 |  0:10:28s\n",
      "epoch 56 | loss: 0.01444 | val_0_mse: 0.03439 |  0:10:40s\n",
      "epoch 57 | loss: 0.0135  | val_0_mse: 0.01105 |  0:10:51s\n",
      "epoch 58 | loss: 0.01445 | val_0_mse: 0.00813 |  0:11:02s\n",
      "epoch 59 | loss: 0.01532 | val_0_mse: 0.00765 |  0:11:13s\n",
      "\n",
      "Early stopping occurred at epoch 59 with best_epoch = 49 and best_val_0_mse = 0.00722\n"
     ]
    },
    {
     "name": "stderr",
     "output_type": "stream",
     "text": [
      "/opt/homebrew/Caskroom/miniforge/base/envs/mlp/lib/python3.10/site-packages/pytorch_tabnet/callbacks.py:172: UserWarning: Best weights from best epoch are automatically used!\n",
      "  warnings.warn(wrn_msg)\n"
     ]
    },
    {
     "name": "stdout",
     "output_type": "stream",
     "text": [
      "Model MSE: 0.007367 - Best MSE: 0.005215\n",
      "Model R2 Score: 0.966767 - Best R2 Score: 0.976475\n",
      "\n",
      "Iterations 64/72 - Hyperparameters:  batch_sizes=32, nums_epochs=200, n_d=64, n_a=64, n_step=7, n_indipendent=2, n_shared=3, gamma=1.3, epsilon=1e-08\n"
     ]
    },
    {
     "name": "stderr",
     "output_type": "stream",
     "text": [
      "/opt/homebrew/Caskroom/miniforge/base/envs/mlp/lib/python3.10/site-packages/pytorch_tabnet/abstract_model.py:75: UserWarning: Device used : cpu\n",
      "  warnings.warn(f\"Device used : {self.device}\")\n"
     ]
    },
    {
     "name": "stdout",
     "output_type": "stream",
     "text": [
      "epoch 0  | loss: 1.90741 | val_0_mse: 0.32806 |  0:00:43s\n",
      "epoch 1  | loss: 0.19172 | val_0_mse: 0.17942 |  0:01:26s\n",
      "epoch 2  | loss: 0.13118 | val_0_mse: 0.11941 |  0:02:09s\n",
      "epoch 3  | loss: 0.11021 | val_0_mse: 0.07407 |  0:02:52s\n",
      "epoch 4  | loss: 0.0761  | val_0_mse: 0.05515 |  0:03:35s\n",
      "epoch 5  | loss: 0.06057 | val_0_mse: 0.03752 |  0:04:18s\n",
      "epoch 6  | loss: 0.05483 | val_0_mse: 0.04774 |  0:05:01s\n",
      "epoch 7  | loss: 0.04688 | val_0_mse: 0.02502 |  0:05:43s\n",
      "epoch 8  | loss: 0.03868 | val_0_mse: 0.03208 |  0:06:29s\n",
      "epoch 9  | loss: 0.03924 | val_0_mse: 0.0149  |  0:07:12s\n",
      "epoch 10 | loss: 0.03332 | val_0_mse: 0.05211 |  0:07:54s\n",
      "epoch 11 | loss: 0.02937 | val_0_mse: 0.02647 |  0:08:37s\n",
      "epoch 12 | loss: 0.0305  | val_0_mse: 0.04426 |  0:09:20s\n",
      "epoch 13 | loss: 0.02459 | val_0_mse: 0.02038 |  0:10:03s\n",
      "epoch 14 | loss: 0.02549 | val_0_mse: 0.01442 |  0:10:46s\n",
      "epoch 15 | loss: 0.02841 | val_0_mse: 0.09618 |  0:11:29s\n",
      "epoch 16 | loss: 0.02855 | val_0_mse: 0.03851 |  0:12:13s\n",
      "epoch 17 | loss: 0.02226 | val_0_mse: 0.01723 |  0:12:56s\n",
      "epoch 18 | loss: 0.02307 | val_0_mse: 0.02673 |  0:13:39s\n",
      "epoch 19 | loss: 0.0241  | val_0_mse: 0.00884 |  0:14:21s\n",
      "epoch 20 | loss: 0.02092 | val_0_mse: 0.01515 |  0:15:01s\n",
      "epoch 21 | loss: 0.02966 | val_0_mse: 0.0468  |  0:15:41s\n",
      "epoch 22 | loss: 0.02496 | val_0_mse: 0.05407 |  0:16:21s\n",
      "epoch 23 | loss: 0.0335  | val_0_mse: 0.01169 |  0:17:01s\n",
      "epoch 24 | loss: 0.02341 | val_0_mse: 0.02733 |  0:17:41s\n",
      "epoch 25 | loss: 0.02037 | val_0_mse: 0.01188 |  0:18:21s\n",
      "epoch 26 | loss: 0.02159 | val_0_mse: 0.02373 |  0:19:02s\n",
      "epoch 27 | loss: 0.02133 | val_0_mse: 0.04171 |  0:19:42s\n",
      "epoch 28 | loss: 0.02089 | val_0_mse: 0.01134 |  0:20:22s\n",
      "epoch 29 | loss: 0.02581 | val_0_mse: 0.01699 |  0:21:02s\n",
      "\n",
      "Early stopping occurred at epoch 29 with best_epoch = 19 and best_val_0_mse = 0.00884\n"
     ]
    },
    {
     "name": "stderr",
     "output_type": "stream",
     "text": [
      "/opt/homebrew/Caskroom/miniforge/base/envs/mlp/lib/python3.10/site-packages/pytorch_tabnet/callbacks.py:172: UserWarning: Best weights from best epoch are automatically used!\n",
      "  warnings.warn(wrn_msg)\n"
     ]
    },
    {
     "name": "stdout",
     "output_type": "stream",
     "text": [
      "Model MSE: 0.013239 - Best MSE: 0.005215\n",
      "Model R2 Score: 0.940277 - Best R2 Score: 0.976475\n",
      "\n",
      "Iterations 65/72 - Hyperparameters:  batch_sizes=64, nums_epochs=200, n_d=64, n_a=64, n_step=7, n_indipendent=2, n_shared=3, gamma=1.3, epsilon=1e-08\n"
     ]
    },
    {
     "name": "stderr",
     "output_type": "stream",
     "text": [
      "/opt/homebrew/Caskroom/miniforge/base/envs/mlp/lib/python3.10/site-packages/pytorch_tabnet/abstract_model.py:75: UserWarning: Device used : cpu\n",
      "  warnings.warn(f\"Device used : {self.device}\")\n"
     ]
    },
    {
     "name": "stdout",
     "output_type": "stream",
     "text": [
      "epoch 0  | loss: 1.8127  | val_0_mse: 0.2526  |  0:00:23s\n",
      "epoch 1  | loss: 0.27351 | val_0_mse: 0.15066 |  0:00:46s\n",
      "epoch 2  | loss: 0.13884 | val_0_mse: 0.08256 |  0:01:09s\n",
      "epoch 3  | loss: 0.11017 | val_0_mse: 0.11061 |  0:01:32s\n",
      "epoch 4  | loss: 0.09134 | val_0_mse: 0.05358 |  0:01:55s\n",
      "epoch 5  | loss: 0.06826 | val_0_mse: 0.04356 |  0:02:18s\n",
      "epoch 6  | loss: 0.05092 | val_0_mse: 0.03268 |  0:02:41s\n",
      "epoch 7  | loss: 0.05028 | val_0_mse: 0.03741 |  0:03:05s\n",
      "epoch 8  | loss: 0.03618 | val_0_mse: 0.01886 |  0:03:28s\n",
      "epoch 9  | loss: 0.03881 | val_0_mse: 0.025   |  0:03:52s\n",
      "epoch 10 | loss: 0.02986 | val_0_mse: 0.03529 |  0:04:15s\n",
      "epoch 11 | loss: 0.02601 | val_0_mse: 0.06261 |  0:04:39s\n",
      "epoch 12 | loss: 0.02875 | val_0_mse: 0.01304 |  0:05:02s\n",
      "epoch 13 | loss: 0.02049 | val_0_mse: 0.02996 |  0:05:25s\n",
      "epoch 14 | loss: 0.0205  | val_0_mse: 0.01099 |  0:05:49s\n",
      "epoch 15 | loss: 0.01996 | val_0_mse: 0.01426 |  0:06:12s\n",
      "epoch 16 | loss: 0.01944 | val_0_mse: 0.01462 |  0:06:35s\n",
      "epoch 17 | loss: 0.01724 | val_0_mse: 0.01446 |  0:06:59s\n",
      "epoch 18 | loss: 0.02559 | val_0_mse: 0.05002 |  0:07:22s\n",
      "epoch 19 | loss: 0.02201 | val_0_mse: 0.03714 |  0:07:45s\n",
      "epoch 20 | loss: 0.01668 | val_0_mse: 0.01022 |  0:08:09s\n",
      "epoch 21 | loss: 0.01619 | val_0_mse: 0.01076 |  0:08:32s\n",
      "epoch 22 | loss: 0.01886 | val_0_mse: 0.02086 |  0:08:56s\n",
      "epoch 23 | loss: 0.02264 | val_0_mse: 0.00693 |  0:09:19s\n",
      "epoch 24 | loss: 0.01838 | val_0_mse: 0.00736 |  0:09:42s\n",
      "epoch 25 | loss: 0.01608 | val_0_mse: 0.01296 |  0:10:06s\n",
      "epoch 26 | loss: 0.01776 | val_0_mse: 0.01064 |  0:10:29s\n",
      "epoch 27 | loss: 0.01391 | val_0_mse: 0.00686 |  0:10:52s\n",
      "epoch 28 | loss: 0.01366 | val_0_mse: 0.01826 |  0:11:16s\n",
      "epoch 29 | loss: 0.01634 | val_0_mse: 0.02877 |  0:11:39s\n",
      "epoch 30 | loss: 0.01717 | val_0_mse: 0.01024 |  0:12:02s\n",
      "epoch 31 | loss: 0.01453 | val_0_mse: 0.01003 |  0:12:26s\n",
      "epoch 32 | loss: 0.02089 | val_0_mse: 0.01855 |  0:12:49s\n",
      "epoch 33 | loss: 0.01753 | val_0_mse: 0.00848 |  0:13:12s\n",
      "epoch 34 | loss: 0.01796 | val_0_mse: 0.02299 |  0:13:36s\n",
      "epoch 35 | loss: 0.02515 | val_0_mse: 0.1775  |  0:13:59s\n",
      "epoch 36 | loss: 0.01826 | val_0_mse: 0.00781 |  0:14:23s\n",
      "epoch 37 | loss: 0.01526 | val_0_mse: 0.01268 |  0:14:46s\n",
      "\n",
      "Early stopping occurred at epoch 37 with best_epoch = 27 and best_val_0_mse = 0.00686\n"
     ]
    },
    {
     "name": "stderr",
     "output_type": "stream",
     "text": [
      "/opt/homebrew/Caskroom/miniforge/base/envs/mlp/lib/python3.10/site-packages/pytorch_tabnet/callbacks.py:172: UserWarning: Best weights from best epoch are automatically used!\n",
      "  warnings.warn(wrn_msg)\n"
     ]
    },
    {
     "name": "stdout",
     "output_type": "stream",
     "text": [
      "Model MSE: 0.006618 - Best MSE: 0.005215\n",
      "Model R2 Score: 0.970146 - Best R2 Score: 0.976475\n",
      "\n",
      "Iterations 66/72 - Hyperparameters:  batch_sizes=128, nums_epochs=200, n_d=64, n_a=64, n_step=7, n_indipendent=2, n_shared=3, gamma=1.3, epsilon=1e-08\n"
     ]
    },
    {
     "name": "stderr",
     "output_type": "stream",
     "text": [
      "/opt/homebrew/Caskroom/miniforge/base/envs/mlp/lib/python3.10/site-packages/pytorch_tabnet/abstract_model.py:75: UserWarning: Device used : cpu\n",
      "  warnings.warn(f\"Device used : {self.device}\")\n"
     ]
    },
    {
     "name": "stdout",
     "output_type": "stream",
     "text": [
      "epoch 0  | loss: 2.44692 | val_0_mse: 1.35661 |  0:00:13s\n",
      "epoch 1  | loss: 0.67191 | val_0_mse: 0.2572  |  0:00:27s\n",
      "epoch 2  | loss: 0.21685 | val_0_mse: 0.32083 |  0:00:40s\n",
      "epoch 3  | loss: 0.15023 | val_0_mse: 0.12313 |  0:00:54s\n",
      "epoch 4  | loss: 0.12676 | val_0_mse: 0.09913 |  0:01:07s\n",
      "epoch 5  | loss: 0.10917 | val_0_mse: 0.09515 |  0:01:21s\n",
      "epoch 6  | loss: 0.0995  | val_0_mse: 0.08059 |  0:01:34s\n",
      "epoch 7  | loss: 0.08851 | val_0_mse: 0.07461 |  0:01:47s\n",
      "epoch 8  | loss: 0.09305 | val_0_mse: 0.07781 |  0:02:01s\n",
      "epoch 9  | loss: 0.08255 | val_0_mse: 0.04983 |  0:02:14s\n",
      "epoch 10 | loss: 0.05672 | val_0_mse: 0.0567  |  0:02:27s\n",
      "epoch 11 | loss: 0.05361 | val_0_mse: 0.05868 |  0:02:40s\n",
      "epoch 12 | loss: 0.0387  | val_0_mse: 0.0362  |  0:02:54s\n",
      "epoch 13 | loss: 0.03975 | val_0_mse: 0.02437 |  0:03:07s\n",
      "epoch 14 | loss: 0.03599 | val_0_mse: 0.03584 |  0:03:20s\n",
      "epoch 15 | loss: 0.03211 | val_0_mse: 0.03838 |  0:03:34s\n",
      "epoch 16 | loss: 0.02919 | val_0_mse: 0.02208 |  0:03:47s\n",
      "epoch 17 | loss: 0.02712 | val_0_mse: 0.02882 |  0:04:00s\n",
      "epoch 18 | loss: 0.03225 | val_0_mse: 0.02284 |  0:04:14s\n",
      "epoch 19 | loss: 0.03121 | val_0_mse: 0.0332  |  0:04:27s\n",
      "epoch 20 | loss: 0.02751 | val_0_mse: 0.01895 |  0:04:40s\n",
      "epoch 21 | loss: 0.02747 | val_0_mse: 0.02994 |  0:04:53s\n",
      "epoch 22 | loss: 0.02112 | val_0_mse: 0.01228 |  0:05:07s\n",
      "epoch 23 | loss: 0.04193 | val_0_mse: 0.01509 |  0:05:20s\n",
      "epoch 24 | loss: 0.02174 | val_0_mse: 0.02933 |  0:05:33s\n",
      "epoch 25 | loss: 0.02322 | val_0_mse: 0.01478 |  0:05:47s\n",
      "epoch 26 | loss: 0.02154 | val_0_mse: 0.03826 |  0:06:01s\n",
      "epoch 27 | loss: 0.02508 | val_0_mse: 0.01354 |  0:06:14s\n",
      "epoch 28 | loss: 0.01755 | val_0_mse: 0.01265 |  0:06:27s\n",
      "epoch 29 | loss: 0.01708 | val_0_mse: 0.02139 |  0:06:41s\n",
      "epoch 30 | loss: 0.02435 | val_0_mse: 0.04066 |  0:06:54s\n",
      "epoch 31 | loss: 0.02247 | val_0_mse: 0.02188 |  0:07:07s\n",
      "epoch 32 | loss: 0.01997 | val_0_mse: 0.01069 |  0:07:21s\n",
      "epoch 33 | loss: 0.01548 | val_0_mse: 0.02947 |  0:07:35s\n",
      "epoch 34 | loss: 0.0162  | val_0_mse: 0.01425 |  0:07:48s\n",
      "epoch 35 | loss: 0.0167  | val_0_mse: 0.03834 |  0:08:02s\n",
      "epoch 36 | loss: 0.01339 | val_0_mse: 0.03856 |  0:08:15s\n",
      "epoch 37 | loss: 0.01461 | val_0_mse: 0.00832 |  0:08:28s\n",
      "epoch 38 | loss: 0.02013 | val_0_mse: 0.02181 |  0:08:42s\n",
      "epoch 39 | loss: 0.0146  | val_0_mse: 0.01184 |  0:08:55s\n",
      "epoch 40 | loss: 0.01135 | val_0_mse: 0.01134 |  0:09:09s\n",
      "epoch 41 | loss: 0.01111 | val_0_mse: 0.02602 |  0:09:22s\n",
      "epoch 42 | loss: 0.01918 | val_0_mse: 0.00774 |  0:09:35s\n",
      "epoch 43 | loss: 0.01851 | val_0_mse: 0.06111 |  0:09:48s\n",
      "epoch 44 | loss: 0.02303 | val_0_mse: 0.07372 |  0:10:02s\n",
      "epoch 45 | loss: 0.02323 | val_0_mse: 0.03107 |  0:10:15s\n",
      "epoch 46 | loss: 0.01612 | val_0_mse: 0.01357 |  0:10:28s\n",
      "epoch 47 | loss: 0.01531 | val_0_mse: 0.02359 |  0:10:41s\n",
      "epoch 48 | loss: 0.01616 | val_0_mse: 0.01185 |  0:10:55s\n",
      "epoch 49 | loss: 0.01284 | val_0_mse: 0.01378 |  0:11:08s\n",
      "epoch 50 | loss: 0.01429 | val_0_mse: 0.01038 |  0:11:20s\n",
      "epoch 51 | loss: 0.0141  | val_0_mse: 0.01397 |  0:11:33s\n",
      "epoch 52 | loss: 0.01178 | val_0_mse: 0.01262 |  0:11:46s\n",
      "\n",
      "Early stopping occurred at epoch 52 with best_epoch = 42 and best_val_0_mse = 0.00774\n"
     ]
    },
    {
     "name": "stderr",
     "output_type": "stream",
     "text": [
      "/opt/homebrew/Caskroom/miniforge/base/envs/mlp/lib/python3.10/site-packages/pytorch_tabnet/callbacks.py:172: UserWarning: Best weights from best epoch are automatically used!\n",
      "  warnings.warn(wrn_msg)\n"
     ]
    },
    {
     "name": "stdout",
     "output_type": "stream",
     "text": [
      "Model MSE: 0.007567 - Best MSE: 0.005215\n",
      "Model R2 Score: 0.965861 - Best R2 Score: 0.976475\n",
      "\n",
      "Iterations 67/72 - Hyperparameters:  batch_sizes=32, nums_epochs=200, n_d=64, n_a=64, n_step=7, n_indipendent=3, n_shared=2, gamma=1.3, epsilon=1e-08\n"
     ]
    },
    {
     "name": "stderr",
     "output_type": "stream",
     "text": [
      "/opt/homebrew/Caskroom/miniforge/base/envs/mlp/lib/python3.10/site-packages/pytorch_tabnet/abstract_model.py:75: UserWarning: Device used : cpu\n",
      "  warnings.warn(f\"Device used : {self.device}\")\n"
     ]
    },
    {
     "name": "stdout",
     "output_type": "stream",
     "text": [
      "epoch 0  | loss: 1.77298 | val_0_mse: 0.25754 |  0:00:40s\n",
      "epoch 1  | loss: 0.18401 | val_0_mse: 0.20764 |  0:01:22s\n",
      "epoch 2  | loss: 0.15567 | val_0_mse: 0.27223 |  0:02:03s\n",
      "epoch 3  | loss: 0.11847 | val_0_mse: 0.10983 |  0:02:44s\n",
      "epoch 4  | loss: 0.09079 | val_0_mse: 0.05802 |  0:03:25s\n",
      "epoch 5  | loss: 0.0654  | val_0_mse: 0.09599 |  0:04:07s\n",
      "epoch 6  | loss: 0.05294 | val_0_mse: 0.05448 |  0:04:50s\n",
      "epoch 7  | loss: 0.0475  | val_0_mse: 0.02778 |  0:05:32s\n",
      "epoch 8  | loss: 0.047   | val_0_mse: 0.03586 |  0:06:14s\n",
      "epoch 9  | loss: 0.03586 | val_0_mse: 0.01958 |  0:06:55s\n",
      "epoch 10 | loss: 0.03156 | val_0_mse: 0.01257 |  0:07:37s\n",
      "epoch 11 | loss: 0.03058 | val_0_mse: 0.03572 |  0:08:18s\n",
      "epoch 12 | loss: 0.02756 | val_0_mse: 0.01045 |  0:09:00s\n",
      "epoch 13 | loss: 0.0309  | val_0_mse: 0.0251  |  0:09:42s\n",
      "epoch 14 | loss: 0.02555 | val_0_mse: 0.01317 |  0:10:24s\n",
      "epoch 15 | loss: 0.03091 | val_0_mse: 0.02358 |  0:11:06s\n",
      "epoch 16 | loss: 0.03019 | val_0_mse: 0.03766 |  0:11:49s\n",
      "epoch 17 | loss: 0.03222 | val_0_mse: 0.07113 |  0:12:31s\n",
      "epoch 18 | loss: 0.03023 | val_0_mse: 0.49313 |  0:13:14s\n",
      "epoch 19 | loss: 0.02717 | val_0_mse: 0.05911 |  0:13:57s\n",
      "epoch 20 | loss: 0.02591 | val_0_mse: 0.02139 |  0:14:39s\n",
      "epoch 21 | loss: 0.02441 | val_0_mse: 0.18291 |  0:15:22s\n",
      "epoch 22 | loss: 0.02452 | val_0_mse: 0.02564 |  0:16:04s\n",
      "\n",
      "Early stopping occurred at epoch 22 with best_epoch = 12 and best_val_0_mse = 0.01045\n"
     ]
    },
    {
     "name": "stderr",
     "output_type": "stream",
     "text": [
      "/opt/homebrew/Caskroom/miniforge/base/envs/mlp/lib/python3.10/site-packages/pytorch_tabnet/callbacks.py:172: UserWarning: Best weights from best epoch are automatically used!\n",
      "  warnings.warn(wrn_msg)\n"
     ]
    },
    {
     "name": "stdout",
     "output_type": "stream",
     "text": [
      "Model MSE: 0.010964 - Best MSE: 0.005215\n",
      "Model R2 Score: 0.950536 - Best R2 Score: 0.976475\n",
      "\n",
      "Iterations 68/72 - Hyperparameters:  batch_sizes=64, nums_epochs=200, n_d=64, n_a=64, n_step=7, n_indipendent=3, n_shared=2, gamma=1.3, epsilon=1e-08\n"
     ]
    },
    {
     "name": "stderr",
     "output_type": "stream",
     "text": [
      "/opt/homebrew/Caskroom/miniforge/base/envs/mlp/lib/python3.10/site-packages/pytorch_tabnet/abstract_model.py:75: UserWarning: Device used : cpu\n",
      "  warnings.warn(f\"Device used : {self.device}\")\n"
     ]
    },
    {
     "name": "stdout",
     "output_type": "stream",
     "text": [
      "epoch 0  | loss: 2.58453 | val_0_mse: 0.59958 |  0:00:22s\n",
      "epoch 1  | loss: 0.16917 | val_0_mse: 0.15474 |  0:00:46s\n",
      "epoch 2  | loss: 0.12632 | val_0_mse: 0.13614 |  0:01:08s\n",
      "epoch 3  | loss: 0.09224 | val_0_mse: 0.13348 |  0:01:32s\n",
      "epoch 4  | loss: 0.09113 | val_0_mse: 0.07403 |  0:01:55s\n",
      "epoch 5  | loss: 0.07179 | val_0_mse: 0.08847 |  0:02:17s\n",
      "epoch 6  | loss: 0.07016 | val_0_mse: 0.04936 |  0:02:44s\n",
      "epoch 7  | loss: 0.06486 | val_0_mse: 0.05335 |  0:03:07s\n",
      "epoch 8  | loss: 0.07001 | val_0_mse: 0.05112 |  0:03:30s\n",
      "epoch 9  | loss: 0.05504 | val_0_mse: 0.06151 |  0:03:53s\n",
      "epoch 10 | loss: 0.047   | val_0_mse: 0.03101 |  0:04:16s\n",
      "epoch 11 | loss: 0.04135 | val_0_mse: 0.02473 |  0:04:39s\n",
      "epoch 12 | loss: 0.03135 | val_0_mse: 0.02129 |  0:05:02s\n",
      "epoch 13 | loss: 0.0274  | val_0_mse: 0.01995 |  0:05:25s\n",
      "epoch 14 | loss: 0.02587 | val_0_mse: 0.01352 |  0:05:48s\n",
      "epoch 15 | loss: 0.02296 | val_0_mse: 0.02289 |  0:06:11s\n",
      "epoch 16 | loss: 0.02625 | val_0_mse: 0.03502 |  0:06:34s\n",
      "epoch 17 | loss: 0.01991 | val_0_mse: 0.01433 |  0:06:57s\n",
      "epoch 18 | loss: 0.01833 | val_0_mse: 0.02087 |  0:07:20s\n",
      "epoch 19 | loss: 0.01781 | val_0_mse: 0.0085  |  0:07:43s\n",
      "epoch 20 | loss: 0.02103 | val_0_mse: 0.01974 |  0:08:06s\n",
      "epoch 21 | loss: 0.01895 | val_0_mse: 0.0142  |  0:08:29s\n",
      "epoch 22 | loss: 0.02145 | val_0_mse: 0.01169 |  0:08:52s\n",
      "epoch 23 | loss: 0.01655 | val_0_mse: 0.00635 |  0:09:14s\n",
      "epoch 24 | loss: 0.01507 | val_0_mse: 0.02393 |  0:09:37s\n",
      "epoch 25 | loss: 0.01513 | val_0_mse: 0.01375 |  0:10:00s\n",
      "epoch 26 | loss: 0.01597 | val_0_mse: 0.00891 |  0:10:23s\n",
      "epoch 27 | loss: 0.01601 | val_0_mse: 0.01776 |  0:10:46s\n",
      "epoch 28 | loss: 0.01758 | val_0_mse: 0.01203 |  0:11:09s\n",
      "epoch 29 | loss: 0.01815 | val_0_mse: 0.00925 |  0:11:32s\n",
      "epoch 30 | loss: 0.01462 | val_0_mse: 0.01644 |  0:11:55s\n",
      "epoch 31 | loss: 0.01916 | val_0_mse: 0.02883 |  0:12:18s\n",
      "epoch 32 | loss: 0.02191 | val_0_mse: 0.01689 |  0:12:41s\n",
      "epoch 33 | loss: 0.0164  | val_0_mse: 0.01371 |  0:13:04s\n",
      "\n",
      "Early stopping occurred at epoch 33 with best_epoch = 23 and best_val_0_mse = 0.00635\n"
     ]
    },
    {
     "name": "stderr",
     "output_type": "stream",
     "text": [
      "/opt/homebrew/Caskroom/miniforge/base/envs/mlp/lib/python3.10/site-packages/pytorch_tabnet/callbacks.py:172: UserWarning: Best weights from best epoch are automatically used!\n",
      "  warnings.warn(wrn_msg)\n"
     ]
    },
    {
     "name": "stdout",
     "output_type": "stream",
     "text": [
      "Model MSE: 0.007879 - Best MSE: 0.005215\n",
      "Model R2 Score: 0.964456 - Best R2 Score: 0.976475\n",
      "\n",
      "Iterations 69/72 - Hyperparameters:  batch_sizes=128, nums_epochs=200, n_d=64, n_a=64, n_step=7, n_indipendent=3, n_shared=2, gamma=1.3, epsilon=1e-08\n"
     ]
    },
    {
     "name": "stderr",
     "output_type": "stream",
     "text": [
      "/opt/homebrew/Caskroom/miniforge/base/envs/mlp/lib/python3.10/site-packages/pytorch_tabnet/abstract_model.py:75: UserWarning: Device used : cpu\n",
      "  warnings.warn(f\"Device used : {self.device}\")\n"
     ]
    },
    {
     "name": "stdout",
     "output_type": "stream",
     "text": [
      "epoch 0  | loss: 4.01875 | val_0_mse: 0.88124 |  0:00:13s\n",
      "epoch 1  | loss: 0.91435 | val_0_mse: 0.13829 |  0:00:27s\n",
      "epoch 2  | loss: 0.16375 | val_0_mse: 0.13032 |  0:00:40s\n",
      "epoch 3  | loss: 0.11057 | val_0_mse: 0.09849 |  0:00:53s\n",
      "epoch 4  | loss: 0.09527 | val_0_mse: 0.08185 |  0:01:07s\n",
      "epoch 5  | loss: 0.09095 | val_0_mse: 0.07349 |  0:01:20s\n",
      "epoch 6  | loss: 0.08016 | val_0_mse: 0.08759 |  0:01:33s\n",
      "epoch 7  | loss: 0.07573 | val_0_mse: 0.06502 |  0:01:46s\n",
      "epoch 8  | loss: 0.06923 | val_0_mse: 0.07716 |  0:02:00s\n",
      "epoch 9  | loss: 0.06095 | val_0_mse: 0.06539 |  0:02:13s\n",
      "epoch 10 | loss: 0.05394 | val_0_mse: 0.04541 |  0:02:26s\n",
      "epoch 11 | loss: 0.05343 | val_0_mse: 0.03268 |  0:02:39s\n",
      "epoch 12 | loss: 0.04206 | val_0_mse: 0.03155 |  0:02:53s\n",
      "epoch 13 | loss: 0.03893 | val_0_mse: 0.04635 |  0:03:06s\n",
      "epoch 14 | loss: 0.04483 | val_0_mse: 0.02595 |  0:03:19s\n",
      "epoch 15 | loss: 0.03992 | val_0_mse: 0.02334 |  0:03:32s\n",
      "epoch 16 | loss: 0.02951 | val_0_mse: 0.03394 |  0:03:45s\n",
      "epoch 17 | loss: 0.02915 | val_0_mse: 0.02087 |  0:03:58s\n",
      "epoch 18 | loss: 0.02559 | val_0_mse: 0.04971 |  0:04:12s\n",
      "epoch 19 | loss: 0.02375 | val_0_mse: 0.01534 |  0:04:25s\n",
      "epoch 20 | loss: 0.025   | val_0_mse: 0.01947 |  0:04:38s\n",
      "epoch 21 | loss: 0.02479 | val_0_mse: 0.01843 |  0:04:51s\n",
      "epoch 22 | loss: 0.02115 | val_0_mse: 0.01182 |  0:05:04s\n",
      "epoch 23 | loss: 0.01843 | val_0_mse: 0.02144 |  0:05:18s\n",
      "epoch 24 | loss: 0.019   | val_0_mse: 0.0324  |  0:05:31s\n",
      "epoch 25 | loss: 0.01565 | val_0_mse: 0.01536 |  0:05:44s\n",
      "epoch 26 | loss: 0.01627 | val_0_mse: 0.01076 |  0:05:57s\n",
      "epoch 27 | loss: 0.01899 | val_0_mse: 0.00899 |  0:06:10s\n",
      "epoch 28 | loss: 0.01342 | val_0_mse: 0.03231 |  0:06:23s\n",
      "epoch 29 | loss: 0.01271 | val_0_mse: 0.01259 |  0:06:36s\n",
      "epoch 30 | loss: 0.01714 | val_0_mse: 0.02266 |  0:06:50s\n",
      "epoch 31 | loss: 0.014   | val_0_mse: 0.02253 |  0:07:03s\n",
      "epoch 32 | loss: 0.01381 | val_0_mse: 0.01097 |  0:07:16s\n",
      "epoch 33 | loss: 0.01745 | val_0_mse: 0.01119 |  0:07:29s\n",
      "epoch 34 | loss: 0.01315 | val_0_mse: 0.0154  |  0:07:42s\n",
      "epoch 35 | loss: 0.01484 | val_0_mse: 0.03895 |  0:07:55s\n",
      "epoch 36 | loss: 0.01331 | val_0_mse: 0.01038 |  0:08:08s\n",
      "epoch 37 | loss: 0.01343 | val_0_mse: 0.01015 |  0:08:21s\n",
      "\n",
      "Early stopping occurred at epoch 37 with best_epoch = 27 and best_val_0_mse = 0.00899\n"
     ]
    },
    {
     "name": "stderr",
     "output_type": "stream",
     "text": [
      "/opt/homebrew/Caskroom/miniforge/base/envs/mlp/lib/python3.10/site-packages/pytorch_tabnet/callbacks.py:172: UserWarning: Best weights from best epoch are automatically used!\n",
      "  warnings.warn(wrn_msg)\n"
     ]
    },
    {
     "name": "stdout",
     "output_type": "stream",
     "text": [
      "Model MSE: 0.008705 - Best MSE: 0.005215\n",
      "Model R2 Score: 0.960729 - Best R2 Score: 0.976475\n",
      "\n",
      "Iterations 70/72 - Hyperparameters:  batch_sizes=32, nums_epochs=200, n_d=64, n_a=64, n_step=7, n_indipendent=3, n_shared=3, gamma=1.3, epsilon=1e-08\n"
     ]
    },
    {
     "name": "stderr",
     "output_type": "stream",
     "text": [
      "/opt/homebrew/Caskroom/miniforge/base/envs/mlp/lib/python3.10/site-packages/pytorch_tabnet/abstract_model.py:75: UserWarning: Device used : cpu\n",
      "  warnings.warn(f\"Device used : {self.device}\")\n"
     ]
    },
    {
     "name": "stdout",
     "output_type": "stream",
     "text": [
      "epoch 0  | loss: 1.41139 | val_0_mse: 0.18628 |  0:00:45s\n",
      "epoch 1  | loss: 0.15042 | val_0_mse: 0.10377 |  0:01:31s\n",
      "epoch 2  | loss: 0.11671 | val_0_mse: 0.17041 |  0:02:16s\n",
      "epoch 3  | loss: 0.10865 | val_0_mse: 0.06206 |  0:03:01s\n",
      "epoch 4  | loss: 0.09275 | val_0_mse: 0.06914 |  0:03:47s\n",
      "epoch 5  | loss: 0.07292 | val_0_mse: 0.05704 |  0:04:32s\n",
      "epoch 6  | loss: 0.05495 | val_0_mse: 0.04392 |  0:05:17s\n",
      "epoch 7  | loss: 0.05066 | val_0_mse: 0.09106 |  0:06:03s\n",
      "epoch 8  | loss: 0.04626 | val_0_mse: 0.02738 |  0:06:48s\n",
      "epoch 9  | loss: 0.03795 | val_0_mse: 0.02074 |  0:07:33s\n",
      "epoch 10 | loss: 0.03728 | val_0_mse: 0.01402 |  0:08:18s\n",
      "epoch 11 | loss: 0.03581 | val_0_mse: 0.03932 |  0:09:04s\n",
      "epoch 12 | loss: 0.03779 | val_0_mse: 0.02185 |  0:09:49s\n",
      "epoch 13 | loss: 0.03278 | val_0_mse: 0.02843 |  0:10:34s\n",
      "epoch 14 | loss: 0.03609 | val_0_mse: 0.01787 |  0:11:20s\n",
      "epoch 15 | loss: 0.03028 | val_0_mse: 0.03195 |  0:12:05s\n",
      "epoch 16 | loss: 0.0279  | val_0_mse: 0.03352 |  0:12:50s\n",
      "epoch 17 | loss: 0.03117 | val_0_mse: 0.04679 |  0:13:36s\n",
      "epoch 18 | loss: 0.02586 | val_0_mse: 0.02137 |  0:14:21s\n",
      "epoch 19 | loss: 0.02735 | val_0_mse: 0.17089 |  0:15:06s\n",
      "epoch 20 | loss: 0.02712 | val_0_mse: 0.0342  |  0:15:52s\n",
      "\n",
      "Early stopping occurred at epoch 20 with best_epoch = 10 and best_val_0_mse = 0.01402\n"
     ]
    },
    {
     "name": "stderr",
     "output_type": "stream",
     "text": [
      "/opt/homebrew/Caskroom/miniforge/base/envs/mlp/lib/python3.10/site-packages/pytorch_tabnet/callbacks.py:172: UserWarning: Best weights from best epoch are automatically used!\n",
      "  warnings.warn(wrn_msg)\n"
     ]
    },
    {
     "name": "stdout",
     "output_type": "stream",
     "text": [
      "Model MSE: 0.016069 - Best MSE: 0.005215\n",
      "Model R2 Score: 0.927507 - Best R2 Score: 0.976475\n",
      "\n",
      "Iterations 71/72 - Hyperparameters:  batch_sizes=64, nums_epochs=200, n_d=64, n_a=64, n_step=7, n_indipendent=3, n_shared=3, gamma=1.3, epsilon=1e-08\n"
     ]
    },
    {
     "name": "stderr",
     "output_type": "stream",
     "text": [
      "/opt/homebrew/Caskroom/miniforge/base/envs/mlp/lib/python3.10/site-packages/pytorch_tabnet/abstract_model.py:75: UserWarning: Device used : cpu\n",
      "  warnings.warn(f\"Device used : {self.device}\")\n"
     ]
    },
    {
     "name": "stdout",
     "output_type": "stream",
     "text": [
      "epoch 0  | loss: 2.62147 | val_0_mse: 0.62152 |  0:00:25s\n",
      "epoch 1  | loss: 0.23757 | val_0_mse: 0.27748 |  0:00:50s\n",
      "epoch 2  | loss: 0.14248 | val_0_mse: 0.10218 |  0:01:16s\n",
      "epoch 3  | loss: 0.10953 | val_0_mse: 0.07428 |  0:01:41s\n",
      "epoch 4  | loss: 0.10053 | val_0_mse: 0.08191 |  0:02:06s\n",
      "epoch 5  | loss: 0.0892  | val_0_mse: 0.10308 |  0:02:32s\n",
      "epoch 6  | loss: 0.08836 | val_0_mse: 0.06032 |  0:02:57s\n",
      "epoch 7  | loss: 0.06831 | val_0_mse: 0.05497 |  0:03:22s\n",
      "epoch 8  | loss: 0.06431 | val_0_mse: 0.05722 |  0:03:48s\n",
      "epoch 9  | loss: 0.05141 | val_0_mse: 0.04076 |  0:04:13s\n",
      "epoch 10 | loss: 0.04509 | val_0_mse: 0.04708 |  0:04:38s\n",
      "epoch 11 | loss: 0.03767 | val_0_mse: 0.02658 |  0:05:04s\n",
      "epoch 12 | loss: 0.03649 | val_0_mse: 0.02386 |  0:05:29s\n",
      "epoch 13 | loss: 0.02751 | val_0_mse: 0.04496 |  0:05:54s\n",
      "epoch 14 | loss: 0.0258  | val_0_mse: 0.03175 |  0:06:19s\n",
      "epoch 15 | loss: 0.02653 | val_0_mse: 0.05977 |  0:06:45s\n",
      "epoch 16 | loss: 0.02551 | val_0_mse: 0.01895 |  0:07:10s\n",
      "epoch 17 | loss: 0.0278  | val_0_mse: 0.01573 |  0:07:35s\n",
      "epoch 18 | loss: 0.02395 | val_0_mse: 0.01635 |  0:08:00s\n",
      "epoch 19 | loss: 0.02799 | val_0_mse: 0.01732 |  0:08:25s\n",
      "epoch 20 | loss: 0.02424 | val_0_mse: 0.02381 |  0:08:51s\n",
      "epoch 21 | loss: 0.0202  | val_0_mse: 0.03333 |  0:09:16s\n",
      "epoch 22 | loss: 0.0203  | val_0_mse: 0.01573 |  0:09:41s\n",
      "epoch 23 | loss: 0.02277 | val_0_mse: 0.02157 |  0:10:06s\n",
      "epoch 24 | loss: 0.01949 | val_0_mse: 0.02252 |  0:10:31s\n",
      "epoch 25 | loss: 0.01888 | val_0_mse: 0.03948 |  0:10:56s\n",
      "epoch 26 | loss: 0.01967 | val_0_mse: 0.0205  |  0:11:22s\n",
      "epoch 27 | loss: 0.0215  | val_0_mse: 0.09509 |  0:11:47s\n",
      "\n",
      "Early stopping occurred at epoch 27 with best_epoch = 17 and best_val_0_mse = 0.01573\n"
     ]
    },
    {
     "name": "stderr",
     "output_type": "stream",
     "text": [
      "/opt/homebrew/Caskroom/miniforge/base/envs/mlp/lib/python3.10/site-packages/pytorch_tabnet/callbacks.py:172: UserWarning: Best weights from best epoch are automatically used!\n",
      "  warnings.warn(wrn_msg)\n"
     ]
    },
    {
     "name": "stdout",
     "output_type": "stream",
     "text": [
      "Model MSE: 0.016955 - Best MSE: 0.005215\n",
      "Model R2 Score: 0.923510 - Best R2 Score: 0.976475\n",
      "\n",
      "Iterations 72/72 - Hyperparameters:  batch_sizes=128, nums_epochs=200, n_d=64, n_a=64, n_step=7, n_indipendent=3, n_shared=3, gamma=1.3, epsilon=1e-08\n"
     ]
    },
    {
     "name": "stderr",
     "output_type": "stream",
     "text": [
      "/opt/homebrew/Caskroom/miniforge/base/envs/mlp/lib/python3.10/site-packages/pytorch_tabnet/abstract_model.py:75: UserWarning: Device used : cpu\n",
      "  warnings.warn(f\"Device used : {self.device}\")\n"
     ]
    },
    {
     "name": "stdout",
     "output_type": "stream",
     "text": [
      "epoch 0  | loss: 2.22196 | val_0_mse: 1.27889 |  0:00:14s\n",
      "epoch 1  | loss: 0.45572 | val_0_mse: 0.39651 |  0:00:28s\n",
      "epoch 2  | loss: 0.17542 | val_0_mse: 0.15741 |  0:00:42s\n",
      "epoch 3  | loss: 0.11764 | val_0_mse: 0.11767 |  0:00:57s\n",
      "epoch 4  | loss: 0.10186 | val_0_mse: 0.16902 |  0:01:11s\n",
      "epoch 5  | loss: 0.08264 | val_0_mse: 0.09103 |  0:01:25s\n",
      "epoch 6  | loss: 0.07563 | val_0_mse: 0.05528 |  0:01:39s\n",
      "epoch 7  | loss: 0.06591 | val_0_mse: 0.04954 |  0:01:53s\n",
      "epoch 8  | loss: 0.05665 | val_0_mse: 0.06215 |  0:02:08s\n",
      "epoch 9  | loss: 0.05399 | val_0_mse: 0.0459  |  0:02:22s\n",
      "epoch 10 | loss: 0.05521 | val_0_mse: 0.04569 |  0:02:36s\n",
      "epoch 11 | loss: 0.04153 | val_0_mse: 0.03786 |  0:02:51s\n",
      "epoch 12 | loss: 0.04352 | val_0_mse: 0.04191 |  0:03:05s\n",
      "epoch 13 | loss: 0.03467 | val_0_mse: 0.06188 |  0:03:19s\n",
      "epoch 14 | loss: 0.04315 | val_0_mse: 0.02599 |  0:03:33s\n",
      "epoch 15 | loss: 0.03463 | val_0_mse: 0.02886 |  0:03:47s\n",
      "epoch 16 | loss: 0.02681 | val_0_mse: 0.0516  |  0:04:02s\n",
      "epoch 17 | loss: 0.02902 | val_0_mse: 0.02057 |  0:04:16s\n",
      "epoch 18 | loss: 0.02567 | val_0_mse: 0.0168  |  0:04:30s\n",
      "epoch 19 | loss: 0.02475 | val_0_mse: 0.01405 |  0:04:44s\n",
      "epoch 20 | loss: 0.02724 | val_0_mse: 0.0386  |  0:04:58s\n",
      "epoch 21 | loss: 0.02963 | val_0_mse: 0.01878 |  0:05:12s\n",
      "epoch 22 | loss: 0.0186  | val_0_mse: 0.01275 |  0:05:27s\n",
      "epoch 23 | loss: 0.02128 | val_0_mse: 0.01298 |  0:05:41s\n",
      "epoch 24 | loss: 0.01707 | val_0_mse: 0.01878 |  0:05:55s\n",
      "epoch 25 | loss: 0.02454 | val_0_mse: 0.01145 |  0:06:09s\n",
      "epoch 26 | loss: 0.01371 | val_0_mse: 0.03514 |  0:06:24s\n",
      "epoch 27 | loss: 0.0288  | val_0_mse: 0.02014 |  0:06:38s\n",
      "epoch 28 | loss: 0.02007 | val_0_mse: 0.01876 |  0:06:52s\n",
      "epoch 29 | loss: 0.01722 | val_0_mse: 0.01131 |  0:07:06s\n",
      "epoch 30 | loss: 0.01711 | val_0_mse: 0.02285 |  0:07:20s\n",
      "epoch 31 | loss: 0.01774 | val_0_mse: 0.01615 |  0:07:36s\n",
      "epoch 32 | loss: 0.0182  | val_0_mse: 0.06094 |  0:07:50s\n",
      "epoch 33 | loss: 0.02387 | val_0_mse: 0.02006 |  0:08:04s\n",
      "epoch 34 | loss: 0.01691 | val_0_mse: 0.06865 |  0:08:18s\n",
      "epoch 35 | loss: 0.01855 | val_0_mse: 0.01599 |  0:08:32s\n",
      "epoch 36 | loss: 0.01843 | val_0_mse: 0.01045 |  0:08:46s\n",
      "epoch 37 | loss: 0.02302 | val_0_mse: 0.01329 |  0:09:00s\n",
      "epoch 38 | loss: 0.01566 | val_0_mse: 0.00993 |  0:09:14s\n",
      "epoch 39 | loss: 0.01451 | val_0_mse: 0.01162 |  0:09:27s\n",
      "epoch 40 | loss: 0.01237 | val_0_mse: 0.00747 |  0:09:41s\n",
      "epoch 41 | loss: 0.01192 | val_0_mse: 0.00727 |  0:09:55s\n",
      "epoch 42 | loss: 0.01347 | val_0_mse: 0.00869 |  0:10:08s\n",
      "epoch 43 | loss: 0.01421 | val_0_mse: 0.01025 |  0:10:22s\n",
      "epoch 44 | loss: 0.01617 | val_0_mse: 0.01989 |  0:10:36s\n",
      "epoch 45 | loss: 0.01227 | val_0_mse: 0.00747 |  0:10:50s\n",
      "epoch 46 | loss: 0.01418 | val_0_mse: 0.0294  |  0:11:03s\n",
      "epoch 47 | loss: 0.02006 | val_0_mse: 0.01885 |  0:11:17s\n",
      "epoch 48 | loss: 0.01916 | val_0_mse: 0.073   |  0:11:31s\n",
      "epoch 49 | loss: 0.02033 | val_0_mse: 0.23052 |  0:11:45s\n",
      "epoch 50 | loss: 0.02229 | val_0_mse: 0.02492 |  0:11:58s\n",
      "epoch 51 | loss: 0.01395 | val_0_mse: 0.01652 |  0:12:12s\n",
      "\n",
      "Early stopping occurred at epoch 51 with best_epoch = 41 and best_val_0_mse = 0.00727\n"
     ]
    },
    {
     "name": "stderr",
     "output_type": "stream",
     "text": [
      "/opt/homebrew/Caskroom/miniforge/base/envs/mlp/lib/python3.10/site-packages/pytorch_tabnet/callbacks.py:172: UserWarning: Best weights from best epoch are automatically used!\n",
      "  warnings.warn(wrn_msg)\n"
     ]
    },
    {
     "name": "stdout",
     "output_type": "stream",
     "text": [
      "Model MSE: 0.007998 - Best MSE: 0.005215\n",
      "Model R2 Score: 0.963917 - Best R2 Score: 0.976475\n"
     ]
    }
   ],
   "source": [
    "if os.path.exists('tabularML/training'):\n",
    "    os.system('rm -r tabularML/training')\n",
    "else:\n",
    "    os.makedirs('tabularML/training')\n",
    "\n",
    "current_iter = 0\n",
    "\n",
    "best_mse = float('inf')\n",
    "best_model = None\n",
    "best_n_d = None\n",
    "best_n_a = None\n",
    "best_n_step = None\n",
    "best_n_indipendent = None\n",
    "best_n_shared = None\n",
    "best_gamma = None\n",
    "best_batch_size = None\n",
    "\n",
    "for n_d_a, n_step,n_indipendent,n_shared, gamma, epsilon,nums_epochs, batch_sizes in hyperparameters:\n",
    "    current_iter += 1\n",
    "\n",
    "    print(\"\\nIterations {}/{} - Hyperparameters:  batch_sizes={}, nums_epochs={}, n_d={}, n_a={}, n_step={}, n_indipendent={}, n_shared={}, gamma={}, epsilon={}\".format(\n",
    "        current_iter, n_comb, batch_sizes, nums_epochs, n_d_a, n_d_a, n_step, n_indipendent, n_shared, gamma, epsilon ))\n",
    "\n",
    "    model = get_model(n_d_a, n_step, n_indipendent, n_shared, gamma, epsilon)\n",
    "    \n",
    "    log_name = \"batch_size:\"+str(batch_sizes)+\"n_d:\"+str(n_d_a)+\"n_a:\"+str(n_d_a)+\"n_step:\"+str(n_step)+\"n_indipendent:\"+str(n_indipendent)+\"n_shared:\"+str(n_shared)+\"gamma:\"+str(gamma)+\"epsilon:\"+str(epsilon)\n",
    "    \n",
    "    # start tensorboard\n",
    "    writer = SummaryWriter('tabularML/training/'+log_name)\n",
    "    \n",
    "    # train\n",
    "    model.fit(\n",
    "                X_train=X_train,\n",
    "                y_train=Y_train,\n",
    "                eval_set=[(X_val, Y_val)],\n",
    "                eval_metric=['mse'],\n",
    "                # patience: the number of epochs to wait without improvement in validation loss before early stopping (default 10)\n",
    "                patience=10,\n",
    "                # batch_size: the number of samples per batch (default 1024)\n",
    "                batch_size=batch_sizes,\n",
    "                # virtual_batch_size: the number of samples per virtual batch (default 128)\n",
    "                virtual_batch_size=128,\n",
    "                # num_workers: the number of worker processes to use for data loading (default 0)\n",
    "                num_workers=0,\n",
    "                # drop_last: whether to drop the last incomplete batch if the dataset size is not divisible by the batch size (default False)\n",
    "                drop_last=False,\n",
    "                # max_epochs: the maximum number of epochs to train for (default 100)\n",
    "                max_epochs=nums_epochs,\n",
    "            )\n",
    "    \n",
    "\n",
    "    preds = model.predict(X_test)\n",
    "    mse = mean_squared_error(Y_test, preds)\n",
    "    \n",
    "    writer.add_hparams({'n_d':n_d_a, 'n_a':n_d_a, 'n_step':n_step, 'n_indipendent':n_indipendent, 'n_shared':n_shared, 'gamma':gamma, 'epsilon':epsilon, 'batch_sizes':batch_sizes, 'nums_epochs':nums_epochs }, {'hparam/mse': mse})\n",
    "\n",
    "    if mse < best_mse:\n",
    "        best_mse = mse\n",
    "        best_n_d = n_d_a\n",
    "        best_n_a = n_d_a\n",
    "        best_n_step = n_step\n",
    "        best_n_indipendent = n_indipendent\n",
    "        best_n_shared = n_shared\n",
    "        best_gamma = gamma\n",
    "        best_batch_size = batch_sizes\n",
    "        best_model = copy.deepcopy(model) \n",
    "        \n",
    "    writer.flush()            \n",
    "            \n",
    "    print(\"Model MSE: {:.6f} - Best MSE: {:.6f}\".format(mse, best_mse))\n",
    "    print(\"Model R2 Score: {:.6f} - Best R2 Score: {:.6f}\".format(r2_score(Y_test, preds), r2_score(Y_test, best_model.predict(X_test))))\n"
   ]
  },
  {
   "cell_type": "code",
   "execution_count": 10,
   "metadata": {},
   "outputs": [
    {
     "data": {
      "image/png": "[encoded data removed]",
      "text/plain": [
       "<Figure size 1000x500 with 1 Axes>"
      ]
     },
     "metadata": {},
     "output_type": "display_data"
    }
   ],
   "source": [
    "history = best_model.history\n",
    "\n",
    "sns.set_style(\"darkgrid\")\n",
    "plt.figure(figsize=(10, 5))\n",
    "plt.plot(history['loss'], label='train')\n",
    "plt.plot(history['val_0_mse'], label='validation')\n",
    "plt.ylim(0, 1)\n",
    "plt.title('Loss')\n",
    "plt.ylabel('Loss')\n",
    "plt.xlabel('Epoch')\n",
    "plt.legend(loc='upper right')\n",
    "plt.show()"
   ]
  },
  {
   "cell_type": "code",
   "execution_count": 8,
   "metadata": {},
   "outputs": [
    {
     "data": {
      "image/png": "[encoded data removed]",
      "text/plain": [
       "<Figure size 1000x600 with 1 Axes>"
      ]
     },
     "metadata": {},
     "output_type": "display_data"
    }
   ],
   "source": [
    "sns.set_style('darkgrid')\n",
    "sns.set_context('talk')\n",
    "sns.set_palette('colorblind')\n",
    "plt.figure(figsize=(10, 6))\n",
    "plt.scatter(Y_test, preds, s=1)\n",
    "plt.xlabel('True Values')\n",
    "plt.ylabel('Predictions')\n",
    "plt.title('True Values vs Predictions')\n",
    "plt.show()"
   ]
  },
  {
   "cell_type": "code",
   "execution_count": 9,
   "metadata": {},
   "outputs": [],
   "source": [
    "# Get the training and validation losses\n",
    "train_losses = history['loss']\n",
    "valid_losses = history['val_0_mse']\n",
    "\n",
    "train_array = np.array(train_losses)\n",
    "valid_array = np.array(valid_losses)\n",
    "\n",
    "# create dataframe\n",
    "df = pd.DataFrame({'training loss': train_array, 'validation loss': valid_array})\n",
    "\n",
    "df.to_csv('tabularML/training/loss.csv', index=False, header=True)"
   ]
  }
 ],
 "metadata": {
  "kernelspec": {
   "display_name": "mlp",
   "language": "python",
   "name": "python3"
  },
  "language_info": {
   "codemirror_mode": {
    "name": "ipython",
    "version": 3
   },
   "file_extension": ".py",
   "mimetype": "text/x-python",
   "name": "python",
   "nbconvert_exporter": "python",
   "pygments_lexer": "ipython3",
   "version": "3.10.8"
  },
  "orig_nbformat": 4
 },
 "nbformat": 4,
 "nbformat_minor": 2
}
